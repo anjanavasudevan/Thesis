{
  "nbformat": 4,
  "nbformat_minor": 0,
  "metadata": {
    "colab": {
      "name": "Copy of DDQN Cartpole.ipynb",
      "provenance": []
    },
    "kernelspec": {
      "name": "python3",
      "display_name": "Python 3"
    },
    "language_info": {
      "name": "python"
    },
    "accelerator": "GPU",
    "gpuClass": "standard"
  },
  "cells": [
    {
      "cell_type": "code",
      "source": [
        "!pip un\n",
        "\\\n",
        "\n",
        "install gym"
      ],
      "metadata": {
        "colab": {
          "base_uri": "https://localhost:8080/"
        },
        "id": "yiUHkQqV2H_k",
        "outputId": "4878c639-e941-4be5-c7ea-3db654233c8d"
      },
      "execution_count": null,
      "outputs": [
        {
          "output_type": "stream",
          "name": "stdout",
          "text": [
            "Found existing installation: gym 0.17.3\n",
            "Uninstalling gym-0.17.3:\n",
            "  Would remove:\n",
            "    /usr/local/lib/python3.7/dist-packages/gym-0.17.3.dist-info/*\n",
            "    /usr/local/lib/python3.7/dist-packages/gym/*\n",
            "Proceed (y/n)? n\n"
          ]
        }
      ]
    },
    {
      "cell_type": "code",
      "source": [
        "import torch\n",
        "torch.cuda.is_available()"
      ],
      "metadata": {
        "id": "nUxEYCAnk6Q_",
        "outputId": "659a0d2b-07e0-45ce-e428-ff855e387062",
        "colab": {
          "base_uri": "https://localhost:8080/"
        }
      },
      "execution_count": 1,
      "outputs": [
        {
          "output_type": "execute_result",
          "data": {
            "text/plain": [
              "True"
            ]
          },
          "metadata": {},
          "execution_count": 1
        }
      ]
    },
    {
      "cell_type": "code",
      "source": [
        "!pip install gym"
      ],
      "metadata": {
        "colab": {
          "base_uri": "https://localhost:8080/"
        },
        "id": "hB2708Cs2NEK",
        "outputId": "041ada95-c8d7-4f66-8d6a-43a080fc97fa"
      },
      "execution_count": null,
      "outputs": [
        {
          "output_type": "stream",
          "name": "stdout",
          "text": [
            "Requirement already satisfied: gym in /usr/local/lib/python3.7/dist-packages (0.17.3)\n",
            "Requirement already satisfied: cloudpickle<1.7.0,>=1.2.0 in /usr/local/lib/python3.7/dist-packages (from gym) (1.3.0)\n",
            "Requirement already satisfied: scipy in /usr/local/lib/python3.7/dist-packages (from gym) (1.4.1)\n",
            "Requirement already satisfied: numpy>=1.10.4 in /usr/local/lib/python3.7/dist-packages (from gym) (1.19.5)\n",
            "Requirement already satisfied: pyglet<=1.5.0,>=1.4.0 in /usr/local/lib/python3.7/dist-packages (from gym) (1.5.0)\n",
            "Requirement already satisfied: future in /usr/local/lib/python3.7/dist-packages (from pyglet<=1.5.0,>=1.4.0->gym) (0.16.0)\n"
          ]
        }
      ]
    },
    {
      "cell_type": "code",
      "source": [
        "%%writefile model.py\n",
        "import torch\n",
        "import torch.nn as nn\n",
        "\n",
        "class QNetwork(nn.Module):\n",
        "    def __init__(self, input_dim, output_dim, hidden_dim) -> None:\n",
        "        \"\"\"DQN Network\n",
        "        Args:\n",
        "            input_dim (int): `state` dimension.\n",
        "                `state` is 2-D tensor of shape (n, input_dim)\n",
        "            output_dim (int): Number of actions.\n",
        "                Q_value is 2-D tensor of shape (n, output_dim)\n",
        "            hidden_dim (int): Hidden dimension in fc layer\n",
        "        \"\"\"\n",
        "    \n",
        "        super(QNetwork, self).__init__()\n",
        "\n",
        "        self.layer1 = torch.nn.Sequential(\n",
        "            torch.nn.Linear(input_dim, hidden_dim),\n",
        "            torch.nn.PReLU()\n",
        "        )\n",
        "\n",
        "        self.layer2 = torch.nn.Sequential(\n",
        "            torch.nn.Linear(hidden_dim, hidden_dim),\n",
        "            torch.nn.PReLU()\n",
        "        )\n",
        "\n",
        "        self.layer3 = torch.nn.Sequential(\n",
        "            torch.nn.Linear(hidden_dim, hidden_dim),\n",
        "            torch.nn.PReLU()\n",
        "        )\n",
        "\n",
        "        self.final = torch.nn.Linear(hidden_dim, output_dim)\n",
        "        \n",
        "    def forward(self, x: torch.Tensor) -> torch.Tensor:\n",
        "        \"\"\"Returns a Q_value\n",
        "        Args:\n",
        "            x (torch.Tensor): `State` 2-D tensor of shape (n, input_dim)\n",
        "        Returns:\n",
        "            torch.Tensor: Q_value, 2-D tensor of shape (n, output_dim)            \n",
        "        \"\"\"\n",
        "        \n",
        "        x = self.layer1(x)\n",
        "        x = self.layer2(x)\n",
        "        x = self.layer3(x)\n",
        "        x = self.final(x)\n",
        "\n",
        "        return x\n",
        "     "
      ],
      "metadata": {
        "colab": {
          "base_uri": "https://localhost:8080/"
        },
        "id": "mw_y2t9jzAkc",
        "outputId": "75799390-daca-4b52-e8b1-f2dc560abd3d"
      },
      "execution_count": 2,
      "outputs": [
        {
          "output_type": "stream",
          "name": "stdout",
          "text": [
            "Writing model.py\n"
          ]
        }
      ]
    },
    {
      "cell_type": "code",
      "source": [
        "%%writefile ddqn_agent.py\n",
        "BATCH_SIZE = 64  \n",
        "LEARNING_RATE = 0.001\n",
        "\n",
        "import torch\n",
        "import torch.optim as optim\n",
        "import random\n",
        "from model import QNetwork\n",
        "\n",
        "use_cuda = torch.cuda.is_available()\n",
        "FloatTensor = torch.cuda.FloatTensor if use_cuda else torch.FloatTensor\n",
        "\n",
        "device = torch.device(\"cuda\" if use_cuda else \"cpu\")\n",
        "from  torch.autograd import Variable\n",
        "\n",
        "from replay_buffer import ReplayMemory, Transition\n",
        "\n",
        "\n",
        "class Agent(object):\n",
        "\n",
        "    def __init__(self, n_states, n_actions, hidden_dim):\n",
        "        \"\"\"Agent class that choose action and train\n",
        "        Args:\n",
        "            input_dim (int): input dimension\n",
        "            output_dim (int): output dimension\n",
        "            hidden_dim (int): hidden dimension\n",
        "        \"\"\"\n",
        "        \n",
        "        self.q_local = QNetwork(n_states, n_actions, hidden_dim=16).to(device)\n",
        "        self.q_target = QNetwork(n_states, n_actions, hidden_dim=16).to(device)\n",
        "        \n",
        "        self.mse_loss = torch.nn.MSELoss()\n",
        "        self.optim = optim.Adam(self.q_local.parameters(), lr=LEARNING_RATE)\n",
        "        \n",
        "        self.n_states = n_states\n",
        "        self.n_actions = n_actions\n",
        "        \n",
        "        #  ReplayMemory: trajectory is saved here\n",
        "        self.replay_memory = ReplayMemory(10000)\n",
        "        \n",
        "\n",
        "    def get_action(self, state, eps, check_eps=True):\n",
        "        \"\"\"Returns an action\n",
        "        Args:\n",
        "            state : 2-D tensor of shape (n, input_dim)\n",
        "            eps (float): eps-greedy for exploration\n",
        "        Returns: int: action index\n",
        "        \"\"\"\n",
        "        global steps_done\n",
        "        sample = random.random()\n",
        "\n",
        "        if check_eps==False or sample > eps:\n",
        "           with torch.no_grad():\n",
        "               # t.max(1) will return largest column value of each row.\n",
        "               # second column on max result is index of where max element was\n",
        "               # found, so we pick action with the larger expected reward.\n",
        "               ## UserWarning: volatile was removed and now has no effect. \n",
        "               ## Use `with torch.no_grad():` instead.\n",
        "               return self.q_local(Variable(state).type(FloatTensor)).data.max(1)[1].view(1, 1)\n",
        "        else:\n",
        "           ## return LongTensor([[random.randrange(2)]])\n",
        "           return torch.tensor([[random.randrange(self.n_actions)]], device=device) \n",
        "\n",
        "\n",
        "    def learn(self, experiences, gamma):\n",
        "        \"\"\"Prepare minibatch and train them\n",
        "        Args:\n",
        "        experiences (List[Transition]): Minibatch of `Transition`\n",
        "        gamma (float): Discount rate of Q_target\n",
        "        \"\"\"\n",
        "        \n",
        "        if len(self.replay_memory.memory) < BATCH_SIZE:\n",
        "            return;\n",
        "            \n",
        "        transitions = self.replay_memory.sample(BATCH_SIZE)\n",
        "        \n",
        "        batch = Transition(*zip(*transitions))\n",
        "                        \n",
        "        states = torch.cat(batch.state)\n",
        "        actions = torch.cat(batch.action)\n",
        "        rewards = torch.cat(batch.reward)\n",
        "        next_states = torch.cat(batch.next_state)\n",
        "        dones = torch.cat(batch.done)\n",
        "        \n",
        "            \n",
        "        # Compute Q(s_t, a) - the model computes Q(s_t), then we select the\n",
        "        # columns of actions taken. These are the actions which would've been taken\n",
        "        # for each batch state according to policy_net\n",
        "        # Use local model to choose an action, and target model to evaluate that action\n",
        "        \n",
        "        Q_max_action = self.q_local(next_states).detach().max(1)[1].unsqueeze(1)\n",
        "        Q_targets_next = self.q_target(next_states).gather(1, Q_max_action).reshape(-1)\n",
        "\n",
        "        # Compute the expected Q values\n",
        "        Q_targets = rewards + (gamma * Q_targets_next * (1-dones))\n",
        "\n",
        "        Q_expected = self.q_local(states).gather(1, actions) ## current \n",
        "        \n",
        "        #self.q_local.train(mode=True)        \n",
        "        self.optim.zero_grad()\n",
        "\n",
        "        #print('Q_expected.shape: ', Q_expected.shape)\n",
        "        #print('Q_targets_next.shape: ', Q_targets_next.shape)\n",
        "        #print('Q_targets.shape: ', Q_targets.shape)\n",
        "        \n",
        "        loss = self.mse_loss(Q_expected, Q_targets.unsqueeze(1))\n",
        "        l = loss.item()\n",
        "        \n",
        "        # backpropagation of loss to NN        \n",
        "        loss.backward()\n",
        "        self.optim.step()\n",
        "        return l"
      ],
      "metadata": {
        "colab": {
          "base_uri": "https://localhost:8080/"
        },
        "id": "cwDZXsq-y0kt",
        "outputId": "c74b4fad-5ffe-448a-e268-128d7e1d7475"
      },
      "execution_count": 3,
      "outputs": [
        {
          "output_type": "stream",
          "name": "stdout",
          "text": [
            "Writing ddqn_agent.py\n"
          ]
        }
      ]
    },
    {
      "cell_type": "code",
      "source": [
        "%%writefile replay_buffer.py\n",
        "import random\n",
        "from collections import namedtuple\n",
        "\n",
        "Transition = namedtuple('Transition', ('state', 'action', 'reward', 'next_state', 'done'))\n",
        "\n",
        "class ReplayMemory(object):\n",
        "\n",
        "    def __init__(self, capacity):\n",
        "        self.capacity = capacity\n",
        "        self.memory = []\n",
        "        self.position = 0\n",
        "\n",
        "    '''\n",
        "    def push(self, *.args): ## *args):\n",
        "        \"\"\"Saves a transition.\"\"\"\n",
        "        if len(self.memory) < self.capacity:\n",
        "            self.memory.append(None)\n",
        "        self.memory[self.position] = Transition(*args)\n",
        "        self.position = (self.position + 1) % self.capacity    \n",
        "    '''    \n",
        "    \n",
        "       \n",
        "    def push(self, batch):\n",
        "        self.memory.append(batch)\n",
        "        if len(self.memory) > self.capacity:\n",
        "            del self.memory[0]    \n",
        "       \n",
        "\n",
        "    def sample(self, batch_size):\n",
        "        return random.sample(self.memory, batch_size)\n",
        "\n",
        "    def __len__(self):\n",
        "        return len(self.memory)"
      ],
      "metadata": {
        "colab": {
          "base_uri": "https://localhost:8080/"
        },
        "id": "sRmj1fqOzKNt",
        "outputId": "26ca632d-9533-42a8-8739-cf3eaf59d68d"
      },
      "execution_count": 4,
      "outputs": [
        {
          "output_type": "stream",
          "name": "stdout",
          "text": [
            "Writing replay_buffer.py\n"
          ]
        }
      ]
    },
    {
      "cell_type": "code",
      "source": [
        "!pip install wandb"
      ],
      "metadata": {
        "colab": {
          "base_uri": "https://localhost:8080/"
        },
        "id": "qdl9xf6AmsAl",
        "outputId": "8b51ec41-35e0-47c3-8a6c-c0cbb32c65e1"
      },
      "execution_count": 5,
      "outputs": [
        {
          "output_type": "stream",
          "name": "stdout",
          "text": [
            "Looking in indexes: https://pypi.org/simple, https://us-python.pkg.dev/colab-wheels/public/simple/\n",
            "Collecting wandb\n",
            "  Downloading wandb-0.12.18-py2.py3-none-any.whl (1.8 MB)\n",
            "\u001b[K     |████████████████████████████████| 1.8 MB 7.5 MB/s \n",
            "\u001b[?25hRequirement already satisfied: PyYAML in /usr/local/lib/python3.7/dist-packages (from wandb) (3.13)\n",
            "Requirement already satisfied: six>=1.13.0 in /usr/local/lib/python3.7/dist-packages (from wandb) (1.15.0)\n",
            "Requirement already satisfied: requests<3,>=2.0.0 in /usr/local/lib/python3.7/dist-packages (from wandb) (2.23.0)\n",
            "Collecting sentry-sdk>=1.0.0\n",
            "  Downloading sentry_sdk-1.6.0-py2.py3-none-any.whl (145 kB)\n",
            "\u001b[K     |████████████████████████████████| 145 kB 67.7 MB/s \n",
            "\u001b[?25hCollecting docker-pycreds>=0.4.0\n",
            "  Downloading docker_pycreds-0.4.0-py2.py3-none-any.whl (9.0 kB)\n",
            "Collecting setproctitle\n",
            "  Downloading setproctitle-1.2.3-cp37-cp37m-manylinux_2_5_x86_64.manylinux1_x86_64.manylinux_2_17_x86_64.manylinux2014_x86_64.whl (29 kB)\n",
            "Requirement already satisfied: Click!=8.0.0,>=7.0 in /usr/local/lib/python3.7/dist-packages (from wandb) (7.1.2)\n",
            "Collecting pathtools\n",
            "  Downloading pathtools-0.1.2.tar.gz (11 kB)\n",
            "Requirement already satisfied: setuptools in /usr/local/lib/python3.7/dist-packages (from wandb) (57.4.0)\n",
            "Collecting shortuuid>=0.5.0\n",
            "  Downloading shortuuid-1.0.9-py3-none-any.whl (9.4 kB)\n",
            "Requirement already satisfied: psutil>=5.0.0 in /usr/local/lib/python3.7/dist-packages (from wandb) (5.4.8)\n",
            "Requirement already satisfied: promise<3,>=2.0 in /usr/local/lib/python3.7/dist-packages (from wandb) (2.3)\n",
            "Collecting GitPython>=1.0.0\n",
            "  Downloading GitPython-3.1.27-py3-none-any.whl (181 kB)\n",
            "\u001b[K     |████████████████████████████████| 181 kB 71.7 MB/s \n",
            "\u001b[?25hRequirement already satisfied: protobuf<4.0dev,>=3.12.0 in /usr/local/lib/python3.7/dist-packages (from wandb) (3.17.3)\n",
            "Requirement already satisfied: typing-extensions>=3.7.4.3 in /usr/local/lib/python3.7/dist-packages (from GitPython>=1.0.0->wandb) (4.1.1)\n",
            "Collecting gitdb<5,>=4.0.1\n",
            "  Downloading gitdb-4.0.9-py3-none-any.whl (63 kB)\n",
            "\u001b[K     |████████████████████████████████| 63 kB 2.0 MB/s \n",
            "\u001b[?25hCollecting smmap<6,>=3.0.1\n",
            "  Downloading smmap-5.0.0-py3-none-any.whl (24 kB)\n",
            "Requirement already satisfied: chardet<4,>=3.0.2 in /usr/local/lib/python3.7/dist-packages (from requests<3,>=2.0.0->wandb) (3.0.4)\n",
            "Requirement already satisfied: urllib3!=1.25.0,!=1.25.1,<1.26,>=1.21.1 in /usr/local/lib/python3.7/dist-packages (from requests<3,>=2.0.0->wandb) (1.24.3)\n",
            "Requirement already satisfied: certifi>=2017.4.17 in /usr/local/lib/python3.7/dist-packages (from requests<3,>=2.0.0->wandb) (2022.6.15)\n",
            "Requirement already satisfied: idna<3,>=2.5 in /usr/local/lib/python3.7/dist-packages (from requests<3,>=2.0.0->wandb) (2.10)\n",
            "Building wheels for collected packages: pathtools\n",
            "  Building wheel for pathtools (setup.py) ... \u001b[?25l\u001b[?25hdone\n",
            "  Created wheel for pathtools: filename=pathtools-0.1.2-py3-none-any.whl size=8806 sha256=6a8c76e62efcf984c303f8ea45cce926145ea715c7f8ea69488306b999e707fb\n",
            "  Stored in directory: /root/.cache/pip/wheels/3e/31/09/fa59cef12cdcfecc627b3d24273699f390e71828921b2cbba2\n",
            "Successfully built pathtools\n",
            "Installing collected packages: smmap, gitdb, shortuuid, setproctitle, sentry-sdk, pathtools, GitPython, docker-pycreds, wandb\n",
            "Successfully installed GitPython-3.1.27 docker-pycreds-0.4.0 gitdb-4.0.9 pathtools-0.1.2 sentry-sdk-1.6.0 setproctitle-1.2.3 shortuuid-1.0.9 smmap-5.0.0 wandb-0.12.18\n"
          ]
        }
      ]
    },
    {
      "cell_type": "code",
      "source": [
        "import wandb\n",
        "wandb.login()"
      ],
      "metadata": {
        "colab": {
          "base_uri": "https://localhost:8080/",
          "height": 69
        },
        "id": "bjcG8nPXmuL1",
        "outputId": "7b14fb0e-ed17-4f6a-d5f5-a466a1ba1b39"
      },
      "execution_count": 6,
      "outputs": [
        {
          "output_type": "display_data",
          "data": {
            "text/plain": [
              "<IPython.core.display.Javascript object>"
            ],
            "application/javascript": [
              "\n",
              "        window._wandbApiKey = new Promise((resolve, reject) => {\n",
              "            function loadScript(url) {\n",
              "            return new Promise(function(resolve, reject) {\n",
              "                let newScript = document.createElement(\"script\");\n",
              "                newScript.onerror = reject;\n",
              "                newScript.onload = resolve;\n",
              "                document.body.appendChild(newScript);\n",
              "                newScript.src = url;\n",
              "            });\n",
              "            }\n",
              "            loadScript(\"https://cdn.jsdelivr.net/npm/postmate/build/postmate.min.js\").then(() => {\n",
              "            const iframe = document.createElement('iframe')\n",
              "            iframe.style.cssText = \"width:0;height:0;border:none\"\n",
              "            document.body.appendChild(iframe)\n",
              "            const handshake = new Postmate({\n",
              "                container: iframe,\n",
              "                url: 'https://wandb.ai/authorize'\n",
              "            });\n",
              "            const timeout = setTimeout(() => reject(\"Couldn't auto authenticate\"), 5000)\n",
              "            handshake.then(function(child) {\n",
              "                child.on('authorize', data => {\n",
              "                    clearTimeout(timeout)\n",
              "                    resolve(data)\n",
              "                });\n",
              "            });\n",
              "            })\n",
              "        });\n",
              "    "
            ]
          },
          "metadata": {}
        },
        {
          "output_type": "stream",
          "name": "stderr",
          "text": [
            "\u001b[34m\u001b[1mwandb\u001b[0m: Appending key for api.wandb.ai to your netrc file: /root/.netrc\n"
          ]
        },
        {
          "output_type": "execute_result",
          "data": {
            "text/plain": [
              "True"
            ]
          },
          "metadata": {},
          "execution_count": 6
        }
      ]
    },
    {
      "cell_type": "code",
      "source": [
        "!wandb login"
      ],
      "metadata": {
        "colab": {
          "base_uri": "https://localhost:8080/"
        },
        "id": "aWiQV20-mxE-",
        "outputId": "ea7a2954-d3ce-428e-b4a2-3977026962d3"
      },
      "execution_count": 7,
      "outputs": [
        {
          "output_type": "stream",
          "name": "stdout",
          "text": [
            "\u001b[34m\u001b[1mwandb\u001b[0m: Currently logged in as: \u001b[33manjanav24\u001b[0m. Use \u001b[1m`wandb login --relogin`\u001b[0m to force relogin\n"
          ]
        }
      ]
    },
    {
      "cell_type": "markdown",
      "source": [
        "## Actual load"
      ],
      "metadata": {
        "id": "3sIB43iZzuwP"
      }
    },
    {
      "cell_type": "code",
      "source": [
        "import gym\n",
        "import numpy as np\n",
        "import torch\n",
        "import matplotlib\n",
        "import matplotlib.pyplot as plt\n",
        "import time\n",
        "\n",
        "from collections import deque\n",
        "from ddqn_agent import Agent, FloatTensor\n",
        "from replay_buffer import ReplayMemory, Transition\n",
        "from  torch.autograd import Variable\n",
        "\n",
        "# set up matplotlib\n",
        "is_ipython = 'inline' in matplotlib.get_backend()\n",
        "if is_ipython:\n",
        "    from IPython import display\n",
        "\n",
        "plt.ion()\n",
        "\n",
        "#step = 0\n",
        "\n",
        "use_cuda = torch.cuda.is_available()\n",
        "FloatTensor = torch.cuda.FloatTensor if use_cuda else torch.FloatTensor\n",
        "device = torch.device(\"cuda\" if use_cuda else \"cpu\")\n",
        "\n",
        "BATCH_SIZE = 64  \n",
        "gamma = 0.99\n",
        "LEARNING_RATE = 0.001\n",
        "TARGET_UPDATE = 10\n",
        "\n",
        "num_episodes = 20000\n",
        "print_every = 10\n",
        "hidden_dim = 16 ## \n",
        "min_eps = 0.01\n",
        "max_eps_episode = 200 #  50\n",
        "\n",
        "env = gym.make('CartPole-v0')\n",
        "\n",
        "        \n",
        "space_dim =  env.observation_space.shape[0] # n_spaces\n",
        "action_dim = env.action_space.n # n_actions  \n",
        "print('input_dim: ', space_dim, ', output_dim: ', action_dim, ', hidden_dim: ', hidden_dim)\n",
        "\n",
        "threshold = env.spec.reward_threshold\n",
        "print('threshold: ', threshold)\n",
        "\n",
        "# Train agent for Double Deep Q_network\n",
        "agent = Agent(space_dim, action_dim, hidden_dim)\n",
        "\n",
        "    \n",
        "def epsilon_annealing(i_epsiode, max_episode, min_eps: float):\n",
        "    ##  if i_epsiode --> max_episode, ret_eps --> min_eps\n",
        "    ##  if i_epsiode --> 1, ret_eps --> 1  \n",
        "    slope = (min_eps - 1.0) / max_episode\n",
        "    ret_eps = max(slope * i_epsiode + 1.0, min_eps)\n",
        "    return ret_eps        \n",
        "\n",
        "def save(directory, filename):\n",
        "    torch.save(agent.q_local.state_dict(), '%s/%s_local.pth' % (directory, filename))\n",
        "    torch.save(agent.q_target.state_dict(), '%s/%s_target.pth' % (directory, filename))"
      ],
      "metadata": {
        "colab": {
          "base_uri": "https://localhost:8080/"
        },
        "id": "AHlizyS0zSdV",
        "outputId": "d7a8ff49-a16c-48e3-8919-29ce13f1b884"
      },
      "execution_count": 9,
      "outputs": [
        {
          "output_type": "stream",
          "name": "stdout",
          "text": [
            "input_dim:  4 , output_dim:  2 , hidden_dim:  16\n",
            "threshold:  195.0\n"
          ]
        }
      ]
    },
    {
      "cell_type": "code",
      "source": [
        "wandb.init(project=\"Cartpole\", entity=\"anjanav24\", config={\"lr\": 0.001, \"num_episodes\": 20000, \"hidden_dim\": 16, \"target_update\": 10, \"batch_size\": 64})"
      ],
      "metadata": {
        "colab": {
          "base_uri": "https://localhost:8080/",
          "height": 506
        },
        "id": "VIl4wYVim0GO",
        "outputId": "cfe49541-52dd-4784-e5ff-9bd5a2296a10"
      },
      "execution_count": 10,
      "outputs": [
        {
          "output_type": "stream",
          "name": "stderr",
          "text": [
            "\u001b[34m\u001b[1mwandb\u001b[0m: Currently logged in as: \u001b[33manjanav24\u001b[0m. Use \u001b[1m`wandb login --relogin`\u001b[0m to force relogin\n"
          ]
        },
        {
          "output_type": "display_data",
          "data": {
            "text/plain": [
              "<IPython.core.display.HTML object>"
            ],
            "text/html": [
              "Tracking run with wandb version 0.12.18"
            ]
          },
          "metadata": {}
        },
        {
          "output_type": "display_data",
          "data": {
            "text/plain": [
              "<IPython.core.display.HTML object>"
            ],
            "text/html": [
              "Run data is saved locally in <code>/content/wandb/run-20220622_085739-348zi726</code>"
            ]
          },
          "metadata": {}
        },
        {
          "output_type": "display_data",
          "data": {
            "text/plain": [
              "<IPython.core.display.HTML object>"
            ],
            "text/html": [
              "Syncing run <strong><a href=\"https://wandb.ai/anjanav24/Cartpole/runs/348zi726\" target=\"_blank\">stilted-vortex-2</a></strong> to <a href=\"https://wandb.ai/anjanav24/Cartpole\" target=\"_blank\">Weights & Biases</a> (<a href=\"https://wandb.me/run\" target=\"_blank\">docs</a>)<br/>"
            ]
          },
          "metadata": {}
        },
        {
          "output_type": "execute_result",
          "data": {
            "text/html": [
              "<button onClick=\"this.nextSibling.style.display='block';this.style.display='none';\">Display W&B run</button><iframe src=\"https://wandb.ai/anjanav24/Cartpole/runs/348zi726?jupyter=true\" style=\"border:none;width:100%;height:420px;display:none;\"></iframe>"
            ],
            "text/plain": [
              "<wandb.sdk.wandb_run.Run at 0x7fdd906770d0>"
            ]
          },
          "metadata": {},
          "execution_count": 10
        }
      ]
    },
    {
      "cell_type": "code",
      "source": [
        "wandb.define_metric(\"episode\")\n",
        "wandb.define_metric(\"step\")\n",
        "\n",
        "wandb.define_metric(\"Training_loss\", step_metric=\"step\")\n",
        "wandb.define_metric(\"Episode_reward\", step_metric=\"episode\")\n",
        "wandb.define_metric(\"Running_avg\", step_metric=\"episode\")"
      ],
      "metadata": {
        "colab": {
          "base_uri": "https://localhost:8080/"
        },
        "id": "04EFU4tYm8pl",
        "outputId": "8348922e-c6eb-493e-a7b8-30bdca2fb8a7"
      },
      "execution_count": 11,
      "outputs": [
        {
          "output_type": "execute_result",
          "data": {
            "text/plain": [
              "<wandb.sdk.wandb_metric.Metric at 0x7fdd906e7710>"
            ]
          },
          "metadata": {},
          "execution_count": 11
        }
      ]
    },
    {
      "cell_type": "code",
      "source": [
        "\n",
        "def run_episode(agent, eps):\n",
        "    \"\"\"Play an epsiode and train\n",
        "\n",
        "    Args:\n",
        "        env (gym.Env): gym environment (CartPole-v0)\n",
        "        agent (Agent): agent will train and get action        \n",
        "        eps (float): eps-greedy for exploration\n",
        "\n",
        "    Returns:\n",
        "        int: reward earned in this episode\n",
        "    \"\"\"\n",
        "    state = env.reset()\n",
        "    done = False\n",
        "    total_reward = 0\n",
        "    \n",
        "\n",
        "    while not done:\n",
        "\n",
        "        action = agent.get_action(FloatTensor([state]), eps)\n",
        "        \n",
        "        next_state, reward, done, _ = env.step(action.item())\n",
        "\n",
        "        total_reward += reward\n",
        "\n",
        "        if done:\n",
        "            reward = -1\n",
        "                    \n",
        "        # Store the transition in memory\n",
        "        agent.replay_memory.push(\n",
        "                (FloatTensor([state]), \n",
        "                 action, # action is already a tensor\n",
        "                 FloatTensor([reward]), \n",
        "                 FloatTensor([next_state]), \n",
        "                 FloatTensor([done])))\n",
        "                 \n",
        "\n",
        "        if len(agent.replay_memory) > BATCH_SIZE:\n",
        "\n",
        "            batch = agent.replay_memory.sample(BATCH_SIZE)\n",
        "            \n",
        "            loss = agent.learn(batch, gamma)\n",
        "            wandb.log({\"Training_loss\": loss})\n",
        "\n",
        "        state = next_state\n",
        "        #step += 1\n",
        "\n",
        "\n",
        "    return total_reward"
      ],
      "metadata": {
        "id": "P2rYc8jW0b_U"
      },
      "execution_count": 18,
      "outputs": []
    },
    {
      "cell_type": "code",
      "source": [
        "def train():    \n",
        "    scores_deque = deque(maxlen=100)\n",
        "    scores_array = []\n",
        "    avg_scores_array = []    \n",
        "    \n",
        "    time_start = time.time()\n",
        "\n",
        "    for i_episode in range(num_episodes):\n",
        "        eps = epsilon_annealing(i_episode, max_eps_episode, min_eps)\n",
        "        score = run_episode(agent, eps)\n",
        "\n",
        "        scores_deque.append(score)\n",
        "        scores_array.append(score)\n",
        "        \n",
        "        avg_score = np.mean(scores_deque)\n",
        "        avg_scores_array.append(avg_score)\n",
        "\n",
        "        log_dict = {\"Episode_reward\": score, \"Running_avg\": avg_score, \"episode\": i_episode}\n",
        "        wandb.log(log_dict)\n",
        "\n",
        "        dt = (int)(time.time() - time_start)\n",
        "            \n",
        "        if i_episode % print_every == 0 and i_episode > 0:\n",
        "            print('Episode: {:5} Score: {:5}  Avg.Score: {:.2f}, eps-greedy: {:5.2f} Time: {:02}:{:02}:{:02}'.\\\n",
        "                    format(i_episode, score, avg_score, eps, dt//3600, dt%3600//60, dt%60))\n",
        "            \n",
        "        if len(scores_deque) == scores_deque.maxlen:\n",
        "            ### 195.0: for cartpole-v0 and 475 for v1\n",
        "            if np.mean(scores_deque) >= threshold: \n",
        "                print('\\n Environment solved in {:d} episodes!\\tAverage Score: {:.2f}'. \\\n",
        "                    format(i_episode, np.mean(scores_deque)))\n",
        "                break\n",
        "\n",
        "                        \n",
        "        if i_episode % TARGET_UPDATE == 0:\n",
        "            agent.q_target.load_state_dict(agent.q_local.state_dict()) \n",
        "    \n",
        "    agent.q_target.load_state_dict(agent.q_local.state_dict())\n",
        "    return scores_array, avg_scores_array\n",
        "\n",
        "#global step\n",
        "#step = 0\n",
        "scores, avg_scores = train()"
      ],
      "metadata": {
        "colab": {
          "base_uri": "https://localhost:8080/"
        },
        "id": "wPFkw_G_0rFj",
        "outputId": "ef807cb0-fecb-497e-f09d-a5aa9bddf192"
      },
      "execution_count": 19,
      "outputs": [
        {
          "output_type": "stream",
          "name": "stdout",
          "text": [
            "Episode:    10 Score:  21.0  Avg.Score: 22.45, eps-greedy:  0.95 Time: 00:00:00\n",
            "Episode:    20 Score:  51.0  Avg.Score: 25.10, eps-greedy:  0.90 Time: 00:00:02\n",
            "Episode:    30 Score:  16.0  Avg.Score: 27.29, eps-greedy:  0.85 Time: 00:00:04\n",
            "Episode:    40 Score:  35.0  Avg.Score: 28.59, eps-greedy:  0.80 Time: 00:00:05\n",
            "Episode:    50 Score:  61.0  Avg.Score: 30.14, eps-greedy:  0.75 Time: 00:00:07\n",
            "Episode:    60 Score:  42.0  Avg.Score: 39.03, eps-greedy:  0.70 Time: 00:00:11\n",
            "Episode:    70 Score:  79.0  Avg.Score: 42.08, eps-greedy:  0.65 Time: 00:00:14\n",
            "Episode:    80 Score: 156.0  Avg.Score: 43.62, eps-greedy:  0.60 Time: 00:00:16\n",
            "Episode:    90 Score:  23.0  Avg.Score: 47.38, eps-greedy:  0.55 Time: 00:00:20\n",
            "Episode:   100 Score:  59.0  Avg.Score: 50.54, eps-greedy:  0.51 Time: 00:00:24\n",
            "Episode:   110 Score: 174.0  Avg.Score: 60.70, eps-greedy:  0.46 Time: 00:00:30\n",
            "Episode:   120 Score: 200.0  Avg.Score: 71.93, eps-greedy:  0.41 Time: 00:00:36\n",
            "Episode:   130 Score: 176.0  Avg.Score: 86.22, eps-greedy:  0.36 Time: 00:00:45\n",
            "Episode:   140 Score: 200.0  Avg.Score: 99.37, eps-greedy:  0.31 Time: 00:00:53\n",
            "Episode:   150 Score: 200.0  Avg.Score: 113.94, eps-greedy:  0.26 Time: 00:01:02\n",
            "Episode:   160 Score: 200.0  Avg.Score: 125.50, eps-greedy:  0.21 Time: 00:01:12\n",
            "Episode:   170 Score: 200.0  Avg.Score: 139.06, eps-greedy:  0.16 Time: 00:01:22\n",
            "Episode:   180 Score: 200.0  Avg.Score: 152.84, eps-greedy:  0.11 Time: 00:01:31\n",
            "Episode:   190 Score: 200.0  Avg.Score: 164.13, eps-greedy:  0.06 Time: 00:01:40\n",
            "Episode:   200 Score: 200.0  Avg.Score: 176.30, eps-greedy:  0.01 Time: 00:01:50\n",
            "Episode:   210 Score: 200.0  Avg.Score: 183.72, eps-greedy:  0.01 Time: 00:02:00\n",
            "Episode:   220 Score: 200.0  Avg.Score: 189.69, eps-greedy:  0.01 Time: 00:02:09\n",
            "Episode:   230 Score: 200.0  Avg.Score: 191.93, eps-greedy:  0.01 Time: 00:02:19\n",
            "\n",
            " Environment solved in 235 episodes!\tAverage Score: 195.17\n"
          ]
        }
      ]
    },
    {
      "cell_type": "code",
      "source": [
        "import matplotlib.pyplot as plt\n",
        "%matplotlib inline\n",
        "\n",
        "print('length of scores: ', len(scores), ', len of avg_scores: ', len(avg_scores))\n",
        "\n",
        "fig = plt.figure()\n",
        "ax = fig.add_subplot(111)\n",
        "plt.plot(np.arange(1, len(scores)+1), scores, label=\"Score\")\n",
        "plt.plot(np.arange(1, len(avg_scores)+1), avg_scores, label=\"Avg on 100 episodes\")\n",
        "plt.legend(bbox_to_anchor=(1.05, 1)) \n",
        "plt.ylabel('Score')\n",
        "plt.xlabel('Episodes #')\n",
        "plt.show()"
      ],
      "metadata": {
        "colab": {
          "base_uri": "https://localhost:8080/",
          "height": 296
        },
        "id": "kodKbrgv0wVo",
        "outputId": "5e41765a-9f12-4c7a-b710-2f8ba1b38ba2"
      },
      "execution_count": 20,
      "outputs": [
        {
          "output_type": "stream",
          "name": "stdout",
          "text": [
            "length of scores:  236 , len of avg_scores:  236\n"
          ]
        },
        {
          "output_type": "display_data",
          "data": {
            "text/plain": [
              "<Figure size 432x288 with 1 Axes>"
            ],
            "image/png": "[encoded data removed]"
          },
          "metadata": {
            "needs_background": "light"
          }
        }
      ]
    },
    {
      "cell_type": "code",
      "source": [
        "import plotly.graph_objs as go\n",
        "import plotly.io as pio\n",
        "\n",
        "pio.templates.default = \"plotly_white\"\n",
        "\n",
        "cum_rewards = go.Scatter(x=np.arange(len(scores)), y=scores, mode='lines', name='Cumulative rewards', line=dict(color='rgb(242, 193, 189, 0.25)'))\n",
        "avg_rewards = go.Scatter(x=np.arange(len(scores)), y=avg_scores, mode='lines', name='Running avg. rewards')\n",
        "\n",
        "layout = go.Layout(title='Rewards for DDQN agent on CartPole-v0', xaxis_title='No. of episodes', yaxis_title='Rewards')\n",
        "figure = go.Figure(data=[avg_rewards, cum_rewards], layout=layout)\n",
        "config = {\n",
        "        'toImageButtonOptions': {\n",
        "            'format': 'png', # one of png, svg, jpeg, webp\n",
        "            'height': 480,\n",
        "            'width': 640,\n",
        "            'scale': 2 # Multiply title/legend/axis/canvas sizes by this factor\n",
        "        }\n",
        "    }\n",
        "figure.show(config=config)\n"
      ],
      "metadata": {
        "colab": {
          "base_uri": "https://localhost:8080/",
          "height": 542
        },
        "id": "qSgA2gCRHZKE",
        "outputId": "ab76d07e-871b-4c06-d3e1-22fd62de6a24"
      },
      "execution_count": 21,
      "outputs": [
        {
          "output_type": "display_data",
          "data": {
            "text/html": [
              "<html>\n",
              "<head><meta charset=\"utf-8\" /></head>\n",
              "<body>\n",
              "    <div>            <script src=\"https://cdnjs.cloudflare.com/ajax/libs/mathjax/2.7.5/MathJax.js?config=TeX-AMS-MML_SVG\"></script><script type=\"text/javascript\">if (window.MathJax) {MathJax.Hub.Config({SVG: {font: \"STIX-Web\"}});}</script>                <script type=\"text/javascript\">window.PlotlyConfig = {MathJaxConfig: 'local'};</script>\n",
              "        <script src=\"https://cdn.plot.ly/plotly-2.8.3.min.js\"></script>                <div id=\"f474356f-1c33-4369-b1fa-cae91a359c09\" class=\"plotly-graph-div\" style=\"height:525px; width:100%;\"></div>            <script type=\"text/javascript\">                                    window.PLOTLYENV=window.PLOTLYENV || {};                                    if (document.getElementById(\"f474356f-1c33-4369-b1fa-cae91a359c09\")) {                    Plotly.newPlot(                        \"f474356f-1c33-4369-b1fa-cae91a359c09\",                        [{\"mode\":\"lines\",\"name\":\"Running avg. rewards\",\"x\":[0,1,2,3,4,5,6,7,8,9,10,11,12,13,14,15,16,17,18,19,20,21,22,23,24,25,26,27,28,29,30,31,32,33,34,35,36,37,38,39,40,41,42,43,44,45,46,47,48,49,50,51,52,53,54,55,56,57,58,59,60,61,62,63,64,65,66,67,68,69,70,71,72,73,74,75,76,77,78,79,80,81,82,83,84,85,86,87,88,89,90,91,92,93,94,95,96,97,98,99,100,101,102,103,104,105,106,107,108,109,110,111,112,113,114,115,116,117,118,119,120,121,122,123,124,125,126,127,128,129,130,131,132,133,134,135,136,137,138,139,140,141,142,143,144,145,146,147,148,149,150,151,152,153,154,155,156,157,158,159,160,161,162,163,164,165,166,167,168,169,170,171,172,173,174,175,176,177,178,179,180,181,182,183,184,185,186,187,188,189,190,191,192,193,194,195,196,197,198,199,200,201,202,203,204,205,206,207,208,209,210,211,212,213,214,215,216,217,218,219,220,221,222,223,224,225,226,227,228,229,230,231,232,233,234,235],\"y\":[41.0,31.0,24.666666666666668,23.25,23.2,22.666666666666668,23.857142857142858,23.0,21.88888888888889,22.6,22.454545454545453,23.416666666666668,24.384615384615383,23.5,23.666666666666668,23.25,23.88235294117647,24.5,24.36842105263158,23.8,25.095238095238095,24.818181818181817,24.91304347826087,24.791666666666668,24.56,24.03846153846154,24.925925925925927,27.464285714285715,27.689655172413794,27.666666666666668,27.29032258064516,26.90625,28.606060606060606,28.61764705882353,28.285714285714285,28.75,29.0,28.86842105263158,28.53846153846154,28.425,28.585365853658537,28.333333333333332,28.372093023255815,28.25,28.355555555555554,28.32608695652174,28.19148936170213,27.854166666666668,27.857142857142858,29.52,30.137254901960784,30.192307692307693,31.056603773584907,32.46296296296296,32.14545454545455,33.32142857142857,34.08771929824562,35.3448275862069,36.79661016949152,38.983333333333334,39.032786885245905,38.70967741935484,38.476190476190474,39.25,39.353846153846156,39.0,39.343283582089555,39.220588235294116,39.26086956521739,41.55714285714286,42.08450704225352,42.486111111111114,42.61643835616438,42.75675675675676,42.86666666666667,42.44736842105263,42.83116883116883,42.666666666666664,42.48101265822785,42.2125,43.617283950617285,43.31707317073171,43.55421686746988,44.595238095238095,44.48235294117647,44.83720930232558,45.60919540229885,46.13636363636363,46.19101123595506,47.65555555555556,47.38461538461539,47.56521739130435,48.44086021505376,49.0531914893617,49.34736842105263,49.416666666666664,49.4639175257732,50.214285714285715,50.121212121212125,50.36,50.54,52.33,54.16,54.25,55.36,56.48,56.49,56.9,58.7,59.17,60.7,60.95,62.59,63.37,64.86,64.88,65.75,66.8,68.58,70.44,71.93,71.95,73.68,75.0,76.78,78.67,80.19,81.23,82.89,84.62,86.22,88.07,87.59,89.3,91.13,90.91,92.36,94.12,95.96,97.72,99.37,101.19,102.89,104.56,105.97,107.7,109.48,109.94,111.66,112.55,113.94,115.61,116.85,117.78,119.63,120.65,121.88,122.81,123.6,123.92,125.5,127.27,129.02,130.14,131.68,133.52,134.9,136.29,137.85,137.85,139.06,140.21,141.61,143.04,144.41,146.24,147.48,148.97,150.61,152.4,152.84,154.25,155.49,156.18,157.76,158.83,159.69,160.77,162.16,162.36,164.13,165.49,166.2,167.14,168.37,169.81,171.27,172.04,173.63,174.89,176.3,176.3,176.35,178.07,178.73,179.41,181.09,182.51,182.58,183.46,183.72,185.13,185.13,186.23,186.48,188.29,189.08,189.68,189.68,189.69,189.69,191.48,191.48,191.94,191.97,191.85,191.85,191.85,191.69,191.69,191.93,191.93,193.58,193.4,193.4,195.17],\"type\":\"scatter\"},{\"line\":{\"color\":\"rgb(242, 193, 189, 0.25)\"},\"mode\":\"lines\",\"name\":\"Cumulative rewards\",\"x\":[0,1,2,3,4,5,6,7,8,9,10,11,12,13,14,15,16,17,18,19,20,21,22,23,24,25,26,27,28,29,30,31,32,33,34,35,36,37,38,39,40,41,42,43,44,45,46,47,48,49,50,51,52,53,54,55,56,57,58,59,60,61,62,63,64,65,66,67,68,69,70,71,72,73,74,75,76,77,78,79,80,81,82,83,84,85,86,87,88,89,90,91,92,93,94,95,96,97,98,99,100,101,102,103,104,105,106,107,108,109,110,111,112,113,114,115,116,117,118,119,120,121,122,123,124,125,126,127,128,129,130,131,132,133,134,135,136,137,138,139,140,141,142,143,144,145,146,147,148,149,150,151,152,153,154,155,156,157,158,159,160,161,162,163,164,165,166,167,168,169,170,171,172,173,174,175,176,177,178,179,180,181,182,183,184,185,186,187,188,189,190,191,192,193,194,195,196,197,198,199,200,201,202,203,204,205,206,207,208,209,210,211,212,213,214,215,216,217,218,219,220,221,222,223,224,225,226,227,228,229,230,231,232,233,234,235],\"y\":[41.0,21.0,12.0,19.0,23.0,20.0,31.0,17.0,13.0,29.0,21.0,34.0,36.0,12.0,26.0,17.0,34.0,35.0,22.0,13.0,51.0,19.0,27.0,22.0,19.0,11.0,48.0,96.0,34.0,27.0,16.0,15.0,83.0,29.0,17.0,45.0,38.0,24.0,16.0,24.0,35.0,18.0,30.0,23.0,33.0,27.0,22.0,12.0,28.0,111.0,61.0,33.0,76.0,107.0,15.0,98.0,77.0,107.0,121.0,168.0,42.0,19.0,24.0,88.0,46.0,16.0,62.0,31.0,42.0,200.0,79.0,71.0,52.0,53.0,51.0,11.0,72.0,30.0,28.0,21.0,156.0,19.0,63.0,131.0,35.0,75.0,112.0,92.0,51.0,178.0,23.0,64.0,129.0,106.0,77.0,56.0,54.0,123.0,41.0,74.0,59.0,200.0,195.0,28.0,134.0,132.0,32.0,58.0,193.0,76.0,174.0,59.0,200.0,90.0,175.0,19.0,121.0,140.0,200.0,199.0,200.0,21.0,200.0,154.0,197.0,200.0,200.0,200.0,200.0,200.0,176.0,200.0,35.0,200.0,200.0,23.0,183.0,200.0,200.0,200.0,200.0,200.0,200.0,190.0,174.0,200.0,200.0,58.0,200.0,200.0,200.0,200.0,200.0,200.0,200.0,200.0,200.0,200.0,200.0,200.0,200.0,196.0,199.0,200.0,200.0,200.0,200.0,170.0,198.0,200.0,200.0,186.0,192.0,196.0,188.0,194.0,196.0,179.0,192.0,200.0,200.0,160.0,187.0,200.0,193.0,182.0,198.0,200.0,190.0,198.0,200.0,200.0,200.0,200.0,200.0,200.0,200.0,200.0,200.0,200.0,200.0,200.0,200.0,200.0,200.0,200.0,200.0,200.0,200.0,164.0,200.0,200.0,200.0,200.0,200.0,200.0,200.0,200.0,200.0,200.0,200.0,200.0,200.0,200.0,200.0,188.0,200.0,200.0,184.0,200.0,200.0,200.0,200.0,182.0,200.0,200.0],\"type\":\"scatter\"}],                        {\"title\":{\"text\":\"Rewards for DDQN agent on CartPole-v0\"},\"xaxis\":{\"title\":{\"text\":\"No. of episodes\"}},\"yaxis\":{\"title\":{\"text\":\"Rewards\"}},\"template\":{\"data\":{\"bar\":[{\"error_x\":{\"color\":\"#2a3f5f\"},\"error_y\":{\"color\":\"#2a3f5f\"},\"marker\":{\"line\":{\"color\":\"white\",\"width\":0.5},\"pattern\":{\"fillmode\":\"overlay\",\"size\":10,\"solidity\":0.2}},\"type\":\"bar\"}],\"barpolar\":[{\"marker\":{\"line\":{\"color\":\"white\",\"width\":0.5},\"pattern\":{\"fillmode\":\"overlay\",\"size\":10,\"solidity\":0.2}},\"type\":\"barpolar\"}],\"carpet\":[{\"aaxis\":{\"endlinecolor\":\"#2a3f5f\",\"gridcolor\":\"#C8D4E3\",\"linecolor\":\"#C8D4E3\",\"minorgridcolor\":\"#C8D4E3\",\"startlinecolor\":\"#2a3f5f\"},\"baxis\":{\"endlinecolor\":\"#2a3f5f\",\"gridcolor\":\"#C8D4E3\",\"linecolor\":\"#C8D4E3\",\"minorgridcolor\":\"#C8D4E3\",\"startlinecolor\":\"#2a3f5f\"},\"type\":\"carpet\"}],\"choropleth\":[{\"colorbar\":{\"outlinewidth\":0,\"ticks\":\"\"},\"type\":\"choropleth\"}],\"contour\":[{\"colorbar\":{\"outlinewidth\":0,\"ticks\":\"\"},\"colorscale\":[[0.0,\"#0d0887\"],[0.1111111111111111,\"#46039f\"],[0.2222222222222222,\"#7201a8\"],[0.3333333333333333,\"#9c179e\"],[0.4444444444444444,\"#bd3786\"],[0.5555555555555556,\"#d8576b\"],[0.6666666666666666,\"#ed7953\"],[0.7777777777777778,\"#fb9f3a\"],[0.8888888888888888,\"#fdca26\"],[1.0,\"#f0f921\"]],\"type\":\"contour\"}],\"contourcarpet\":[{\"colorbar\":{\"outlinewidth\":0,\"ticks\":\"\"},\"type\":\"contourcarpet\"}],\"heatmap\":[{\"colorbar\":{\"outlinewidth\":0,\"ticks\":\"\"},\"colorscale\":[[0.0,\"#0d0887\"],[0.1111111111111111,\"#46039f\"],[0.2222222222222222,\"#7201a8\"],[0.3333333333333333,\"#9c179e\"],[0.4444444444444444,\"#bd3786\"],[0.5555555555555556,\"#d8576b\"],[0.6666666666666666,\"#ed7953\"],[0.7777777777777778,\"#fb9f3a\"],[0.8888888888888888,\"#fdca26\"],[1.0,\"#f0f921\"]],\"type\":\"heatmap\"}],\"heatmapgl\":[{\"colorbar\":{\"outlinewidth\":0,\"ticks\":\"\"},\"colorscale\":[[0.0,\"#0d0887\"],[0.1111111111111111,\"#46039f\"],[0.2222222222222222,\"#7201a8\"],[0.3333333333333333,\"#9c179e\"],[0.4444444444444444,\"#bd3786\"],[0.5555555555555556,\"#d8576b\"],[0.6666666666666666,\"#ed7953\"],[0.7777777777777778,\"#fb9f3a\"],[0.8888888888888888,\"#fdca26\"],[1.0,\"#f0f921\"]],\"type\":\"heatmapgl\"}],\"histogram\":[{\"marker\":{\"pattern\":{\"fillmode\":\"overlay\",\"size\":10,\"solidity\":0.2}},\"type\":\"histogram\"}],\"histogram2d\":[{\"colorbar\":{\"outlinewidth\":0,\"ticks\":\"\"},\"colorscale\":[[0.0,\"#0d0887\"],[0.1111111111111111,\"#46039f\"],[0.2222222222222222,\"#7201a8\"],[0.3333333333333333,\"#9c179e\"],[0.4444444444444444,\"#bd3786\"],[0.5555555555555556,\"#d8576b\"],[0.6666666666666666,\"#ed7953\"],[0.7777777777777778,\"#fb9f3a\"],[0.8888888888888888,\"#fdca26\"],[1.0,\"#f0f921\"]],\"type\":\"histogram2d\"}],\"histogram2dcontour\":[{\"colorbar\":{\"outlinewidth\":0,\"ticks\":\"\"},\"colorscale\":[[0.0,\"#0d0887\"],[0.1111111111111111,\"#46039f\"],[0.2222222222222222,\"#7201a8\"],[0.3333333333333333,\"#9c179e\"],[0.4444444444444444,\"#bd3786\"],[0.5555555555555556,\"#d8576b\"],[0.6666666666666666,\"#ed7953\"],[0.7777777777777778,\"#fb9f3a\"],[0.8888888888888888,\"#fdca26\"],[1.0,\"#f0f921\"]],\"type\":\"histogram2dcontour\"}],\"mesh3d\":[{\"colorbar\":{\"outlinewidth\":0,\"ticks\":\"\"},\"type\":\"mesh3d\"}],\"parcoords\":[{\"line\":{\"colorbar\":{\"outlinewidth\":0,\"ticks\":\"\"}},\"type\":\"parcoords\"}],\"pie\":[{\"automargin\":true,\"type\":\"pie\"}],\"scatter\":[{\"marker\":{\"colorbar\":{\"outlinewidth\":0,\"ticks\":\"\"}},\"type\":\"scatter\"}],\"scatter3d\":[{\"line\":{\"colorbar\":{\"outlinewidth\":0,\"ticks\":\"\"}},\"marker\":{\"colorbar\":{\"outlinewidth\":0,\"ticks\":\"\"}},\"type\":\"scatter3d\"}],\"scattercarpet\":[{\"marker\":{\"colorbar\":{\"outlinewidth\":0,\"ticks\":\"\"}},\"type\":\"scattercarpet\"}],\"scattergeo\":[{\"marker\":{\"colorbar\":{\"outlinewidth\":0,\"ticks\":\"\"}},\"type\":\"scattergeo\"}],\"scattergl\":[{\"marker\":{\"colorbar\":{\"outlinewidth\":0,\"ticks\":\"\"}},\"type\":\"scattergl\"}],\"scattermapbox\":[{\"marker\":{\"colorbar\":{\"outlinewidth\":0,\"ticks\":\"\"}},\"type\":\"scattermapbox\"}],\"scatterpolar\":[{\"marker\":{\"colorbar\":{\"outlinewidth\":0,\"ticks\":\"\"}},\"type\":\"scatterpolar\"}],\"scatterpolargl\":[{\"marker\":{\"colorbar\":{\"outlinewidth\":0,\"ticks\":\"\"}},\"type\":\"scatterpolargl\"}],\"scatterternary\":[{\"marker\":{\"colorbar\":{\"outlinewidth\":0,\"ticks\":\"\"}},\"type\":\"scatterternary\"}],\"surface\":[{\"colorbar\":{\"outlinewidth\":0,\"ticks\":\"\"},\"colorscale\":[[0.0,\"#0d0887\"],[0.1111111111111111,\"#46039f\"],[0.2222222222222222,\"#7201a8\"],[0.3333333333333333,\"#9c179e\"],[0.4444444444444444,\"#bd3786\"],[0.5555555555555556,\"#d8576b\"],[0.6666666666666666,\"#ed7953\"],[0.7777777777777778,\"#fb9f3a\"],[0.8888888888888888,\"#fdca26\"],[1.0,\"#f0f921\"]],\"type\":\"surface\"}],\"table\":[{\"cells\":{\"fill\":{\"color\":\"#EBF0F8\"},\"line\":{\"color\":\"white\"}},\"header\":{\"fill\":{\"color\":\"#C8D4E3\"},\"line\":{\"color\":\"white\"}},\"type\":\"table\"}]},\"layout\":{\"annotationdefaults\":{\"arrowcolor\":\"#2a3f5f\",\"arrowhead\":0,\"arrowwidth\":1},\"autotypenumbers\":\"strict\",\"coloraxis\":{\"colorbar\":{\"outlinewidth\":0,\"ticks\":\"\"}},\"colorscale\":{\"diverging\":[[0,\"#8e0152\"],[0.1,\"#c51b7d\"],[0.2,\"#de77ae\"],[0.3,\"#f1b6da\"],[0.4,\"#fde0ef\"],[0.5,\"#f7f7f7\"],[0.6,\"#e6f5d0\"],[0.7,\"#b8e186\"],[0.8,\"#7fbc41\"],[0.9,\"#4d9221\"],[1,\"#276419\"]],\"sequential\":[[0.0,\"#0d0887\"],[0.1111111111111111,\"#46039f\"],[0.2222222222222222,\"#7201a8\"],[0.3333333333333333,\"#9c179e\"],[0.4444444444444444,\"#bd3786\"],[0.5555555555555556,\"#d8576b\"],[0.6666666666666666,\"#ed7953\"],[0.7777777777777778,\"#fb9f3a\"],[0.8888888888888888,\"#fdca26\"],[1.0,\"#f0f921\"]],\"sequentialminus\":[[0.0,\"#0d0887\"],[0.1111111111111111,\"#46039f\"],[0.2222222222222222,\"#7201a8\"],[0.3333333333333333,\"#9c179e\"],[0.4444444444444444,\"#bd3786\"],[0.5555555555555556,\"#d8576b\"],[0.6666666666666666,\"#ed7953\"],[0.7777777777777778,\"#fb9f3a\"],[0.8888888888888888,\"#fdca26\"],[1.0,\"#f0f921\"]]},\"colorway\":[\"#636efa\",\"#EF553B\",\"#00cc96\",\"#ab63fa\",\"#FFA15A\",\"#19d3f3\",\"#FF6692\",\"#B6E880\",\"#FF97FF\",\"#FECB52\"],\"font\":{\"color\":\"#2a3f5f\"},\"geo\":{\"bgcolor\":\"white\",\"lakecolor\":\"white\",\"landcolor\":\"white\",\"showlakes\":true,\"showland\":true,\"subunitcolor\":\"#C8D4E3\"},\"hoverlabel\":{\"align\":\"left\"},\"hovermode\":\"closest\",\"mapbox\":{\"style\":\"light\"},\"paper_bgcolor\":\"white\",\"plot_bgcolor\":\"white\",\"polar\":{\"angularaxis\":{\"gridcolor\":\"#EBF0F8\",\"linecolor\":\"#EBF0F8\",\"ticks\":\"\"},\"bgcolor\":\"white\",\"radialaxis\":{\"gridcolor\":\"#EBF0F8\",\"linecolor\":\"#EBF0F8\",\"ticks\":\"\"}},\"scene\":{\"xaxis\":{\"backgroundcolor\":\"white\",\"gridcolor\":\"#DFE8F3\",\"gridwidth\":2,\"linecolor\":\"#EBF0F8\",\"showbackground\":true,\"ticks\":\"\",\"zerolinecolor\":\"#EBF0F8\"},\"yaxis\":{\"backgroundcolor\":\"white\",\"gridcolor\":\"#DFE8F3\",\"gridwidth\":2,\"linecolor\":\"#EBF0F8\",\"showbackground\":true,\"ticks\":\"\",\"zerolinecolor\":\"#EBF0F8\"},\"zaxis\":{\"backgroundcolor\":\"white\",\"gridcolor\":\"#DFE8F3\",\"gridwidth\":2,\"linecolor\":\"#EBF0F8\",\"showbackground\":true,\"ticks\":\"\",\"zerolinecolor\":\"#EBF0F8\"}},\"shapedefaults\":{\"line\":{\"color\":\"#2a3f5f\"}},\"ternary\":{\"aaxis\":{\"gridcolor\":\"#DFE8F3\",\"linecolor\":\"#A2B1C6\",\"ticks\":\"\"},\"baxis\":{\"gridcolor\":\"#DFE8F3\",\"linecolor\":\"#A2B1C6\",\"ticks\":\"\"},\"bgcolor\":\"white\",\"caxis\":{\"gridcolor\":\"#DFE8F3\",\"linecolor\":\"#A2B1C6\",\"ticks\":\"\"}},\"title\":{\"x\":0.05},\"xaxis\":{\"automargin\":true,\"gridcolor\":\"#EBF0F8\",\"linecolor\":\"#EBF0F8\",\"ticks\":\"\",\"title\":{\"standoff\":15},\"zerolinecolor\":\"#EBF0F8\",\"zerolinewidth\":2},\"yaxis\":{\"automargin\":true,\"gridcolor\":\"#EBF0F8\",\"linecolor\":\"#EBF0F8\",\"ticks\":\"\",\"title\":{\"standoff\":15},\"zerolinecolor\":\"#EBF0F8\",\"zerolinewidth\":2}}}},                        {\"toImageButtonOptions\": {\"format\": \"png\", \"height\": 480, \"width\": 640, \"scale\": 2}, \"responsive\": true}                    ).then(function(){\n",
              "                            \n",
              "var gd = document.getElementById('f474356f-1c33-4369-b1fa-cae91a359c09');\n",
              "var x = new MutationObserver(function (mutations, observer) {{\n",
              "        var display = window.getComputedStyle(gd).display;\n",
              "        if (!display || display === 'none') {{\n",
              "            console.log([gd, 'removed!']);\n",
              "            Plotly.purge(gd);\n",
              "            observer.disconnect();\n",
              "        }}\n",
              "}});\n",
              "\n",
              "// Listen for the removal of the full notebook cells\n",
              "var notebookContainer = gd.closest('#notebook-container');\n",
              "if (notebookContainer) {{\n",
              "    x.observe(notebookContainer, {childList: true});\n",
              "}}\n",
              "\n",
              "// Listen for the clearing of the current output cell\n",
              "var outputEl = gd.closest('.output');\n",
              "if (outputEl) {{\n",
              "    x.observe(outputEl, {childList: true});\n",
              "}}\n",
              "\n",
              "                        })                };                            </script>        </div>\n",
              "</body>\n",
              "</html>"
            ]
          },
          "metadata": {}
        }
      ]
    },
    {
      "cell_type": "code",
      "source": [
        "!mkdir DDQN_weights"
      ],
      "metadata": {
        "id": "ISDe9Pqwno-M"
      },
      "execution_count": 22,
      "outputs": []
    },
    {
      "cell_type": "code",
      "source": [
        "save('/content/DDQN_weights', 'cartpole-v0')"
      ],
      "metadata": {
        "id": "hrIvzvmenr2k"
      },
      "execution_count": 23,
      "outputs": []
    },
    {
      "cell_type": "code",
      "source": [
        "import pickle\n",
        "\n",
        "DDQN_rewards = dict(cumulative_rewards=scores, running_avg_scores=avg_scores)\n",
        "file = open(\"DDQN_rewards.pkl\", \"wb\")\n",
        "pickle.dump(DDQN_rewards, file)\n",
        "file.close()"
      ],
      "metadata": {
        "id": "F4fRmCmm0sB_"
      },
      "execution_count": 24,
      "outputs": []
    },
    {
      "cell_type": "code",
      "source": [
        "agent.q_local.load_state_dict(torch.load('/content/DDQN_weights/cartpole-v0_local.pth'))\n",
        "states = []\n",
        "rewards = []\n",
        "done = False\n",
        "state = env.reset()\n",
        "total_reward = 0\n",
        "\n",
        "while not done:\n",
        "  action = agent.get_action(FloatTensor([state]), 0.01)\n",
        "  next_state, reward, done, _ = env.step(action.item())\n",
        "\n",
        "  total_reward += reward\n",
        "\n",
        "  states.append(state)\n",
        "\n",
        "  if done:\n",
        "    reward = -1\n",
        "    break\n",
        "\n",
        "  state = next_state"
      ],
      "metadata": {
        "id": "i7bst-hCqTID"
      },
      "execution_count": 26,
      "outputs": []
    },
    {
      "cell_type": "code",
      "source": [
        "states"
      ],
      "metadata": {
        "colab": {
          "base_uri": "https://localhost:8080/"
        },
        "id": "2MKdgp8GqebC",
        "outputId": "27139fc6-6e39-4f5e-e05d-d4389a784c0c"
      },
      "execution_count": 27,
      "outputs": [
        {
          "output_type": "execute_result",
          "data": {
            "text/plain": [
              "[array([-0.0233222 ,  0.03836179, -0.02858117, -0.0171047 ]),\n",
              " array([-0.02255496, -0.15633886, -0.02892326,  0.26642528]),\n",
              " array([-0.02568174, -0.35103633, -0.02359476,  0.54984709]),\n",
              " array([-0.03270246, -0.15559104, -0.01259782,  0.24982454]),\n",
              " array([-0.03581428,  0.03970853, -0.00760133, -0.04680523]),\n",
              " array([-0.03502011, -0.15530361, -0.00853743,  0.24346975]),\n",
              " array([-0.03812619,  0.03993924, -0.00366804, -0.05189383]),\n",
              " array([-0.0373274 , -0.15512992, -0.00470591,  0.23962955]),\n",
              " array([-4.04299996e-02,  4.00589401e-02,  8.66793055e-05, -5.45340281e-02]),\n",
              " array([-0.03962882, -0.15506425, -0.001004  ,  0.23817625]),\n",
              " array([-0.04273011,  0.04007203,  0.00375952, -0.0548232 ]),\n",
              " array([-0.04192867, -0.15510363,  0.00266306,  0.23904351]),\n",
              " array([-0.04503074,  0.03998018,  0.00744393, -0.05279823]),\n",
              " array([-0.04423113,  0.23499461,  0.00638797, -0.34312327]),\n",
              " array([-0.03953124,  0.03978236, -0.0004745 , -0.04843283]),\n",
              " array([-0.0387356 , -0.15533278, -0.00144316,  0.24410035]),\n",
              " array([-0.04184225,  0.03980975,  0.00343885, -0.04903743]),\n",
              " array([-0.04104606, -0.15536134,  0.0024581 ,  0.2447285 ]),\n",
              " array([-0.04415328,  0.03972542,  0.00735267, -0.04717807]),\n",
              " array([-0.04335877,  0.23474117,  0.00640911, -0.33753213]),\n",
              " array([-0.03866395,  0.0395286 , -0.00034153, -0.04283503]),\n",
              " array([-0.03787338, -0.15558845, -0.00119823,  0.24974012]),\n",
              " array([-0.04098515,  0.03955059,  0.00379657, -0.04332051]),\n",
              " array([-0.04019414, -0.1556256 ,  0.00293016,  0.25055785]),\n",
              " array([-0.04330665,  0.03945439,  0.00794132, -0.04119941]),\n",
              " array([-0.04251756,  0.23446157,  0.00711733, -0.33136623]),\n",
              " array([-0.03782833,  0.03923903,  0.00049   , -0.03644737]),\n",
              " array([-3.70435480e-02, -1.55889940e-01, -2.38943743e-04,  2.56390119e-01]),\n",
              " array([-0.04016135,  0.03923542,  0.00488886, -0.03636817]),\n",
              " array([-0.03937664,  0.23428693,  0.0041615 , -0.32750461]),\n",
              " array([-0.0346909 ,  0.03910598, -0.0023886 , -0.03351224]),\n",
              " array([-0.03390878, -0.15598164, -0.00305884,  0.2584161 ]),\n",
              " array([-0.03702841,  0.03918385,  0.00210948, -0.03523006]),\n",
              " array([-0.03624474, -0.15596829,  0.00140488,  0.25811769]),\n",
              " array([-0.0393641 ,  0.03913357,  0.00656723, -0.03412179]),\n",
              " array([-0.03858143,  0.23416074,  0.0058848 , -0.32472547]),\n",
              " array([-0.03389822,  0.03895549, -0.00060971, -0.03019255]),\n",
              " array([-0.03311911, -0.15615771, -0.00121356,  0.26229794]),\n",
              " array([-0.03624226,  0.03898154,  0.0040324 , -0.03076751]),\n",
              " array([-0.03546263,  0.23404543,  0.00341705, -0.32217545]),\n",
              " array([-0.03078172,  0.03887499, -0.00302646, -0.02841688]),\n",
              " array([-0.03000422, -0.15620343, -0.0035948 ,  0.26330963]),\n",
              " array([-0.03312829,  0.03896965,  0.00167139, -0.03050497]),\n",
              " array([-0.0323489 , -0.15617623,  0.00106129,  0.26270483]),\n",
              " array([-0.03547242,  0.03893056,  0.00631539, -0.02964316]),\n",
              " array([-0.03469381,  0.23396137,  0.00572253, -0.32032684]),\n",
              " array([-0.03001458,  0.0387584 , -0.00068401, -0.02584476]),\n",
              " array([-0.02923941, -0.15635374, -0.00120091,  0.26662228]),\n",
              " array([-0.03236649,  0.03878533,  0.00413154, -0.02643918]),\n",
              " array([-0.03159078,  0.23384779,  0.00360275, -0.31781571]),\n",
              " array([-0.02691383,  0.03867471, -0.00275356, -0.02399878]),\n",
              " array([-0.02614033, -0.15640764, -0.00323353,  0.2678141 ]),\n",
              " array([-0.02926849,  0.0387603 ,  0.00212275, -0.02588695]),\n",
              " array([-0.02849328, -0.15639202,  0.00160501,  0.26746497]),\n",
              " array([-0.03162112,  0.03870698,  0.00695431, -0.0247113 ]),\n",
              " array([-0.03084698,  0.23372852,  0.00646008, -0.31519197]),\n",
              " array([-0.02617241,  0.03851514,  0.00015624, -0.02047877]),\n",
              " array([-2.54021069e-02, -1.56609047e-01, -2.53333324e-04,  2.72253447e-01]),\n",
              " array([-0.02853429,  0.03851652,  0.00519174, -0.02050937]),\n",
              " array([-0.02776396,  0.23356363,  0.00478155, -0.31154973]),\n",
              " array([-0.02309268,  0.03837389, -0.00144945, -0.01736269]),\n",
              " array([-0.02232521, -0.15672725, -0.0017967 ,  0.27486256]),\n",
              " array([-0.02545975,  0.03842029,  0.00370055, -0.0183865 ]),\n",
              " array([-0.02469135,  0.23348898,  0.00333282, -0.30989957]),\n",
              " array([-0.02002157,  0.0383197 , -0.00286517, -0.01616743]),\n",
              " array([-0.01925517, -0.15676104, -0.00318852,  0.27561012]),\n",
              " array([-0.02239039,  0.03840625,  0.00232368, -0.01807676]),\n",
              " array([-0.02162227, -0.15674895,  0.00196215,  0.27533841]),\n",
              " array([-0.02475725,  0.03834496,  0.00746892, -0.016725  ]),\n",
              " array([-0.02399035,  0.233359  ,  0.00713442, -0.30704207]),\n",
              " array([-0.01932317,  0.03813612,  0.00099357, -0.0121177 ]),\n",
              " array([-0.01856045, -0.15700007,  0.00075122,  0.28087854]),\n",
              " array([-0.02170045,  0.03811116,  0.00636879, -0.01156736]),\n",
              " array([-0.02093822,  0.2331412 ,  0.00613744, -0.30223407]),\n",
              " array([-1.62754001e-02,  3.79323147e-02,  9.27633815e-05, -7.62185832e-03]),\n",
              " array([-1.55167538e-02, -1.57190967e-01, -5.96737849e-05,  2.85090335e-01]),\n",
              " array([-0.01866057,  0.03793184,  0.00564213, -0.00761141]),\n",
              " array([-0.01790194,  0.23297242,  0.0054899 , -0.29850885]),\n",
              " array([-0.01324249,  0.03777264, -0.00048027, -0.00409958]),\n",
              " array([-0.01248704, -0.15734242, -0.00056226,  0.28843178]),\n",
              " array([-0.01563388,  0.03778755,  0.00520637, -0.00442843]),\n",
              " array([-0.01487813,  0.23283445,  0.0051178 , -0.29546414]),\n",
              " array([-0.01022144,  0.03763991, -0.00079148, -0.00117154]),\n",
              " array([-0.00946865, -0.15747068, -0.00081491,  0.29126156]),\n",
              " array([-0.01261806,  0.03766288,  0.00501032, -0.00167827]),\n",
              " array([-0.0118648 ,  0.23271262,  0.00497676, -0.29277618]),\n",
              " array([-0.00721055,  0.03752006, -0.00087877,  0.00147218]),\n",
              " array([-0.00646015, -0.15758927, -0.00084932,  0.29387772]),\n",
              " array([-0.00961193,  0.03754478,  0.00502823,  0.00092705]),\n",
              " array([-0.00886104,  0.23259426,  0.00504677, -0.29016518]),\n",
              " array([-0.00420915,  0.03740071, -0.00075653,  0.00410516]),\n",
              " array([-0.00346114, -0.15771039, -0.00067443,  0.2965493 ]),\n",
              " array([-0.00661535,  0.03742117,  0.00525656,  0.00365374]),\n",
              " array([-0.00586692,  0.23246734,  0.00532963, -0.28736605]),\n",
              " array([-0.00121758,  0.03726979, -0.00041769,  0.00699302]),\n",
              " array([-4.72180099e-04, -1.57846164e-01, -2.77829737e-04,  2.99544128e-01]),\n",
              " array([-0.0036291 ,  0.03727975,  0.00571305,  0.00677359]),\n",
              " array([-0.00288351,  0.2323193 ,  0.00584852, -0.28410134]),\n",
              " array([0.00176288, 0.03711442, 0.0001665 , 0.01042043]),\n",
              " array([ 0.00250517, -0.15800991,  0.00037491,  0.30315588]),\n",
              " array([-0.00065503,  0.03710669,  0.00643802,  0.01059122]),\n",
              " array([ 8.71015644e-05,  2.32135724e-01,  6.64984850e-03, -2.80053504e-01]),\n",
              " array([0.00472982, 0.03691955, 0.00104878, 0.01471933]),\n",
              " array([ 0.00546821, -0.15821743,  0.00134316,  0.30773297]),\n",
              " array([0.00230386, 0.03688536, 0.00749782, 0.01547395]),\n",
              " array([ 0.00304157,  0.23189898,  0.0078073 , -0.27483393]),\n",
              " array([0.00767955, 0.03666651, 0.00231062, 0.02030117]),\n",
              " array([ 0.00841288,  0.23175525,  0.00271665, -0.27165183]),\n",
              " array([ 0.01304798,  0.03659464, -0.00271639,  0.0218867 ]),\n",
              " array([ 0.01377987, -0.15848825, -0.00227865,  0.31371134]),\n",
              " array([0.01061011, 0.03666609, 0.00399557, 0.02031067]),\n",
              " array([ 0.01134343,  0.23173051,  0.00440179, -0.27110894]),\n",
              " array([ 0.01597804,  0.03654603, -0.00102039,  0.02295908]),\n",
              " array([ 0.01670896, -0.15856128, -0.00056121,  0.31531988]),\n",
              " array([0.01353774, 0.03656866, 0.00574519, 0.02246002]),\n",
              " array([ 0.01426911,  0.23160775,  0.00619439, -0.26840471]),\n",
              " array([ 0.01890126,  0.42664076,  0.00082629, -0.55912747]),\n",
              " array([ 0.02743408,  0.23150722, -0.01035626, -0.26618433]),\n",
              " array([ 0.03206422,  0.03653459, -0.01567994,  0.02321424]),\n",
              " array([ 0.03279492, -0.15835902, -0.01521566,  0.31090902]),\n",
              " array([ 0.02962773,  0.03697637, -0.00899748,  0.01346662]),\n",
              " array([ 0.03036726, -0.1580154 , -0.00872815,  0.30329721]),\n",
              " array([ 0.02720695,  0.03722985, -0.0026622 ,  0.00787445]),\n",
              " array([ 0.02795155, -0.15785382, -0.00250471,  0.29971623]),\n",
              " array([0.02479447, 0.03730374, 0.00348961, 0.00624442]),\n",
              " array([ 0.02554055,  0.23237547,  0.0036145 , -0.28533545]),\n",
              " array([ 0.03018806,  0.03720216, -0.00209221,  0.00848527]),\n",
              " array([ 0.0309321 , -0.15788973, -0.0019225 ,  0.30050734]),\n",
              " array([0.02777431, 0.03725957, 0.00408764, 0.00721872]),\n",
              " array([ 0.0285195 ,  0.23232266,  0.00423202, -0.28417171]),\n",
              " array([ 0.03316595,  0.03714061, -0.00145142,  0.00984296]),\n",
              " array([ 0.03390876, -0.1579605 , -0.00125456,  0.3020676 ]),\n",
              " array([0.03074955, 0.03717931, 0.00478679, 0.00898927]),\n",
              " array([ 0.03149314,  0.23223229,  0.00496658, -0.28217953]),\n",
              " array([ 0.03613779,  0.03703985, -0.00067701,  0.01206569]),\n",
              " array([ 0.03687858, -0.15807239, -0.0004357 ,  0.30453494]),\n",
              " array([0.03371714, 0.03705577, 0.005655  , 0.01171463]),\n",
              " array([ 0.03445825,  0.23209617,  0.0058893 , -0.27917872]),\n",
              " array([0.03910017, 0.0368907 , 0.00030572, 0.01535584]),\n",
              " array([ 0.03983799, -0.15823563,  0.00061284,  0.30813521]),\n",
              " array([0.03667328, 0.03687758, 0.00677554, 0.01564562]),\n",
              " array([ 0.03741083,  0.23190171,  0.00708845, -0.27489186]),\n",
              " array([0.04204886, 0.03667934, 0.00159062, 0.02001832]),\n",
              " array([ 0.04278245, -0.15846538,  0.00199098,  0.31320268]),\n",
              " array([0.03961314, 0.03662815, 0.00825504, 0.02114831]),\n",
              " array([ 0.0403457 ,  0.23163075,  0.008678  , -0.26891867]),\n",
              " array([0.04497832, 0.03638603, 0.00329963, 0.02648867]),\n",
              " array([ 0.04570604,  0.23146051,  0.0038294 , -0.26515136]),\n",
              " array([ 0.05033525,  0.03628411, -0.00147362,  0.02873693]),\n",
              " array([ 0.05106093, -0.15881667, -0.00089889,  0.32095455]),\n",
              " array([0.0478846 , 0.03631807, 0.00552021, 0.02798828]),\n",
              " array([ 0.04861096,  0.23136042,  0.00607997, -0.26294786]),\n",
              " array([0.05323817, 0.03615221, 0.00082101, 0.03164654]),\n",
              " array([ 0.05396121, -0.1589815 ,  0.00145394,  0.32458839]),\n",
              " array([0.05078158, 0.03611972, 0.00794571, 0.03236433]),\n",
              " array([ 0.05150398,  0.23112683,  0.008593  , -0.25780108]),\n",
              " array([0.05612651, 0.03588326, 0.00343698, 0.03757977]),\n",
              " array([ 0.05684418,  0.23095576,  0.00418857, -0.25401678]),\n",
              " array([ 0.06146329,  0.03577425, -0.00089176,  0.03998435]),\n",
              " array([ 6.21787784e-02, -1.59334903e-01, -9.20759950e-05,  3.32385782e-01]),\n",
              " array([0.05899208, 0.03578836, 0.00655564, 0.03967382]),\n",
              " array([ 0.05970785,  0.23081569,  0.00734912, -0.25093355]),\n",
              " array([0.06432416, 0.03558957, 0.00233045, 0.04405835]),\n",
              " array([ 0.06503595,  0.23067803,  0.00321161, -0.24788839]),\n",
              " array([ 0.06964951,  0.03551036, -0.00174616,  0.04580581]),\n",
              " array([ 0.07035972, -0.15958651, -0.00083004,  0.3379373 ]),\n",
              " array([0.06716799, 0.03554724, 0.00592871, 0.04499274]),\n",
              " array([ 0.06787893,  0.23058368,  0.00682856, -0.24581374]),\n",
              " array([0.07249061, 0.03536487, 0.00191229, 0.04901523]),\n",
              " array([ 0.07319791,  0.23045934,  0.00289259, -0.24306374]),\n",
              " array([ 0.07780709,  0.0352962 , -0.00196868,  0.05053018]),\n",
              " array([ 0.07851302, -0.15979747, -0.00095808,  0.34259132]),\n",
              " array([0.07531707, 0.0353381 , 0.00589375, 0.04960642]),\n",
              " array([ 0.07602383,  0.23037504,  0.00688587, -0.24121116]),\n",
              " array([0.08063133, 0.03515541, 0.00206165, 0.05363578]),\n",
              " array([ 0.08133444,  0.23024774,  0.00313437, -0.23839597]),\n",
              " array([ 0.08593939,  0.03508115, -0.00163355,  0.05527397]),\n",
              " array([ 0.08664102, -0.16001734, -0.00052807,  0.34744106]),\n",
              " array([0.08344067, 0.03511212, 0.00642075, 0.05459166]),\n",
              " array([ 0.08414291,  0.23014142,  0.00751258, -0.23605858]),\n",
              " array([0.08874574, 0.03491295, 0.00279141, 0.05898455]),\n",
              " array([ 0.089444  ,  0.22999476,  0.0039711 , -0.23281637]),\n",
              " array([ 0.09404389,  0.0348163 , -0.00068523,  0.06111653]),\n",
              " array([ 0.09474022, -0.16029582,  0.0005371 ,  0.35358318]),\n",
              " array([0.0915343 , 0.03481849, 0.00760877, 0.06106967]),\n",
              " array([ 0.09223067,  0.22983052,  0.00883016, -0.22920296]),\n",
              " array([0.09682728, 0.03458351, 0.0042461 , 0.06625218]),\n",
              " array([ 0.09751895,  0.22964432,  0.00557114, -0.22508806]),\n",
              " array([0.10211184, 0.0344432 , 0.00106938, 0.069347  ]),\n",
              " array([ 0.1028007 ,  0.2295498 ,  0.00245632, -0.22299834]),\n",
              " array([ 0.1073917 ,  0.03439283, -0.00200364,  0.07045839]),\n",
              " array([ 0.10807956, -0.16070034, -0.00059448,  0.36250849]),\n",
              " array([0.10486555, 0.03443005, 0.00665569, 0.06963817]),\n",
              " array([ 0.10555415,  0.22945595,  0.00804846, -0.22093744]),\n",
              " array([0.11014327, 0.03421989, 0.00362971, 0.07427339]),\n",
              " array([ 0.11082767,  0.22928962,  0.00511518, -0.21726214]),\n",
              " array([0.11541346, 0.03409492, 0.00076993, 0.07702993]),\n",
              " array([ 0.11609536,  0.22920582,  0.00231053, -0.21540998]),\n",
              " array([ 0.12067948,  0.03405092, -0.00199767,  0.07800089]),\n",
              " array([ 0.12136049, -0.16104234, -0.00043765,  0.37005288])]"
            ]
          },
          "metadata": {},
          "execution_count": 27
        }
      ]
    },
    {
      "cell_type": "code",
      "source": [
        "states = np.array(states)\n",
        "states.shape"
      ],
      "metadata": {
        "colab": {
          "base_uri": "https://localhost:8080/"
        },
        "id": "B1JvwjGeqfEx",
        "outputId": "f04733f8-933e-4757-f561-453a94b506e4"
      },
      "execution_count": 28,
      "outputs": [
        {
          "output_type": "execute_result",
          "data": {
            "text/plain": [
              "(200, 4)"
            ]
          },
          "metadata": {},
          "execution_count": 28
        }
      ]
    },
    {
      "cell_type": "code",
      "source": [
        "plt.plot(states[:, 0])\n",
        "plt.xlabel(\"Timestep\")\n",
        "plt.ylabel(\"Position\")\n",
        "plt.title(\"Position using trained DDQN agent\")"
      ],
      "metadata": {
        "colab": {
          "base_uri": "https://localhost:8080/",
          "height": 312
        },
        "id": "07rLWMTKqkdR",
        "outputId": "22c9edff-475a-4813-e9a0-7c57d7501364"
      },
      "execution_count": 29,
      "outputs": [
        {
          "output_type": "execute_result",
          "data": {
            "text/plain": [
              "Text(0.5, 1.0, 'Position using trained DDQN agent')"
            ]
          },
          "metadata": {},
          "execution_count": 29
        },
        {
          "output_type": "display_data",
          "data": {
            "text/plain": [
              "<Figure size 432x288 with 1 Axes>"
            ],
            "image/png": "[encoded data removed]"
          },
          "metadata": {
            "needs_background": "light"
          }
        }
      ]
    },
    {
      "cell_type": "code",
      "source": [
        "plt.plot(states[:, 2])\n",
        "plt.xlabel(\"Timestep\")\n",
        "plt.ylabel(\"Angle (radians)\")\n",
        "plt.title(\"Angular position using trained DDQN agent\")"
      ],
      "metadata": {
        "colab": {
          "base_uri": "https://localhost:8080/",
          "height": 312
        },
        "id": "3LpzgjCVqoJT",
        "outputId": "88977ca6-cc1d-4c9f-ac07-48643045ea85"
      },
      "execution_count": 30,
      "outputs": [
        {
          "output_type": "execute_result",
          "data": {
            "text/plain": [
              "Text(0.5, 1.0, 'Angular position using trained DDQN agent')"
            ]
          },
          "metadata": {},
          "execution_count": 30
        },
        {
          "output_type": "display_data",
          "data": {
            "text/plain": [
              "<Figure size 432x288 with 1 Axes>"
            ],
            "image/png": "[encoded data removed]"
          },
          "metadata": {
            "needs_background": "light"
          }
        }
      ]
    },
    {
      "cell_type": "code",
      "source": [
        "file = open(\"Test_state.pkl\", \"wb\")\n",
        "pickle.dump(states, file)\n",
        "file.close()"
      ],
      "metadata": {
        "id": "8jp0xoRyq5Fi"
      },
      "execution_count": 31,
      "outputs": []
    }
  ]
}