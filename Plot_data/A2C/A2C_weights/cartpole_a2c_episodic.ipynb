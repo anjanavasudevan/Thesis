{
  "cells": [
    {
      "cell_type": "code",
      "execution_count": 1,
      "metadata": {
        "id": "Xb_6lYOgLkHn"
      },
      "outputs": [],
      "source": [
        "import numpy as np\n",
        "import torch\n",
        "import gym\n",
        "from torch import nn\n",
        "import matplotlib.pyplot as plt\n",
        "from collections import deque"
      ]
    },
    {
      "cell_type": "code",
      "execution_count": 2,
      "metadata": {
        "id": "Kg8KvzBYLkHr"
      },
      "outputs": [],
      "source": [
        "# helper function to convert numpy arrays to tensors\n",
        "def t(x): return torch.from_numpy(x).float()"
      ]
    },
    {
      "cell_type": "code",
      "execution_count": 3,
      "metadata": {
        "id": "muuQMXH3LkHr"
      },
      "outputs": [],
      "source": [
        "# Actor module, categorical actions only\n",
        "class Actor(nn.Module):\n",
        "    def __init__(self, state_dim, n_actions):\n",
        "        super().__init__()\n",
        "        self.model = nn.Sequential(\n",
        "            nn.Linear(state_dim, 128),\n",
        "            nn.Tanh(),\n",
        "            nn.Linear(128, 128),\n",
        "            nn.Tanh(),\n",
        "            nn.Linear(128, n_actions),\n",
        "            nn.Softmax()\n",
        "        )\n",
        "    \n",
        "    def forward(self, X):\n",
        "        return self.model(X)"
      ]
    },
    {
      "cell_type": "code",
      "execution_count": 4,
      "metadata": {
        "id": "3AczsZI8LkHs"
      },
      "outputs": [],
      "source": [
        "# Critic module\n",
        "class Critic(nn.Module):\n",
        "    def __init__(self, state_dim):\n",
        "        super().__init__()\n",
        "        self.model = nn.Sequential(\n",
        "            nn.Linear(state_dim, 128),\n",
        "            nn.ReLU(),\n",
        "            nn.Linear(128, 128),\n",
        "            nn.ReLU(),\n",
        "            nn.Linear(128, 1)\n",
        "        )\n",
        "    \n",
        "    def forward(self, X):\n",
        "        return self.model(X)"
      ]
    },
    {
      "cell_type": "code",
      "execution_count": 5,
      "metadata": {
        "id": "7FupEpmXLkHt"
      },
      "outputs": [],
      "source": [
        "# Memory\n",
        "# Stores results from the networks, instead of calculating the operations again from states, etc.\n",
        "class Memory():\n",
        "    def __init__(self):\n",
        "        self.log_probs = []\n",
        "        self.values = []\n",
        "        self.rewards = []\n",
        "        self.dones = []\n",
        "\n",
        "    def add(self, log_prob, value, reward, done):\n",
        "        self.log_probs.append(log_prob)\n",
        "        self.values.append(value)\n",
        "        self.rewards.append(reward)\n",
        "        self.dones.append(done)\n",
        "    \n",
        "    def clear(self):\n",
        "        self.log_probs.clear()\n",
        "        self.values.clear()\n",
        "        self.rewards.clear()\n",
        "        self.dones.clear()  \n",
        "    \n",
        "    def _zip(self):\n",
        "        return zip(self.log_probs,\n",
        "                self.values,\n",
        "                self.rewards,\n",
        "                self.dones)\n",
        "    \n",
        "    def __iter__(self):\n",
        "        for data in self._zip():\n",
        "            return data\n",
        "    \n",
        "    def reversed(self):\n",
        "        for data in list(self._zip())[::-1]:\n",
        "            yield data\n",
        "    \n",
        "    def __len__(self):\n",
        "        return len(self.rewards)\n",
        "        "
      ]
    },
    {
      "cell_type": "code",
      "execution_count": 6,
      "metadata": {
        "id": "zYKq7He4LkHu"
      },
      "outputs": [],
      "source": [
        "env = gym.make(\"CartPole-v0\")"
      ]
    },
    {
      "cell_type": "code",
      "execution_count": 7,
      "metadata": {
        "id": "7flrtl2fLkHv"
      },
      "outputs": [],
      "source": [
        "# config\n",
        "state_dim = env.observation_space.shape[0]\n",
        "n_actions = env.action_space.n\n",
        "actor = Actor(state_dim, n_actions)\n",
        "critic = Critic(state_dim)\n",
        "adam_actor = torch.optim.Adam(actor.parameters(), lr=1e-3)\n",
        "adam_critic = torch.optim.Adam(critic.parameters(), lr=1e-3)\n",
        "gamma = 0.99\n",
        "memory = Memory()\n",
        "max_steps = 200"
      ]
    },
    {
      "cell_type": "code",
      "source": [
        "!pip install wandb"
      ],
      "metadata": {
        "colab": {
          "base_uri": "https://localhost:8080/"
        },
        "id": "2kghrkCZJKLC",
        "outputId": "d297dace-aed8-4331-e706-fcfcb009797a"
      },
      "execution_count": 8,
      "outputs": [
        {
          "output_type": "stream",
          "name": "stdout",
          "text": [
            "Looking in indexes: https://pypi.org/simple, https://us-python.pkg.dev/colab-wheels/public/simple/\n",
            "Requirement already satisfied: wandb in /usr/local/lib/python3.7/dist-packages (0.12.18)\n",
            "Requirement already satisfied: setuptools in /usr/local/lib/python3.7/dist-packages (from wandb) (57.4.0)\n",
            "Requirement already satisfied: sentry-sdk>=1.0.0 in /usr/local/lib/python3.7/dist-packages (from wandb) (1.6.0)\n",
            "Requirement already satisfied: shortuuid>=0.5.0 in /usr/local/lib/python3.7/dist-packages (from wandb) (1.0.9)\n",
            "Requirement already satisfied: promise<3,>=2.0 in /usr/local/lib/python3.7/dist-packages (from wandb) (2.3)\n",
            "Requirement already satisfied: psutil>=5.0.0 in /usr/local/lib/python3.7/dist-packages (from wandb) (5.4.8)\n",
            "Requirement already satisfied: docker-pycreds>=0.4.0 in /usr/local/lib/python3.7/dist-packages (from wandb) (0.4.0)\n",
            "Requirement already satisfied: setproctitle in /usr/local/lib/python3.7/dist-packages (from wandb) (1.2.3)\n",
            "Requirement already satisfied: GitPython>=1.0.0 in /usr/local/lib/python3.7/dist-packages (from wandb) (3.1.27)\n",
            "Requirement already satisfied: requests<3,>=2.0.0 in /usr/local/lib/python3.7/dist-packages (from wandb) (2.23.0)\n",
            "Requirement already satisfied: protobuf<4.0dev,>=3.12.0 in /usr/local/lib/python3.7/dist-packages (from wandb) (3.17.3)\n",
            "Requirement already satisfied: six>=1.13.0 in /usr/local/lib/python3.7/dist-packages (from wandb) (1.15.0)\n",
            "Requirement already satisfied: pathtools in /usr/local/lib/python3.7/dist-packages (from wandb) (0.1.2)\n",
            "Requirement already satisfied: Click!=8.0.0,>=7.0 in /usr/local/lib/python3.7/dist-packages (from wandb) (7.1.2)\n",
            "Requirement already satisfied: PyYAML in /usr/local/lib/python3.7/dist-packages (from wandb) (3.13)\n",
            "Requirement already satisfied: typing-extensions>=3.7.4.3 in /usr/local/lib/python3.7/dist-packages (from GitPython>=1.0.0->wandb) (4.1.1)\n",
            "Requirement already satisfied: gitdb<5,>=4.0.1 in /usr/local/lib/python3.7/dist-packages (from GitPython>=1.0.0->wandb) (4.0.9)\n",
            "Requirement already satisfied: smmap<6,>=3.0.1 in /usr/local/lib/python3.7/dist-packages (from gitdb<5,>=4.0.1->GitPython>=1.0.0->wandb) (5.0.0)\n",
            "Requirement already satisfied: idna<3,>=2.5 in /usr/local/lib/python3.7/dist-packages (from requests<3,>=2.0.0->wandb) (2.10)\n",
            "Requirement already satisfied: urllib3!=1.25.0,!=1.25.1,<1.26,>=1.21.1 in /usr/local/lib/python3.7/dist-packages (from requests<3,>=2.0.0->wandb) (1.24.3)\n",
            "Requirement already satisfied: chardet<4,>=3.0.2 in /usr/local/lib/python3.7/dist-packages (from requests<3,>=2.0.0->wandb) (3.0.4)\n",
            "Requirement already satisfied: certifi>=2017.4.17 in /usr/local/lib/python3.7/dist-packages (from requests<3,>=2.0.0->wandb) (2022.6.15)\n"
          ]
        }
      ]
    },
    {
      "cell_type": "code",
      "source": [
        "import wandb\n",
        "wandb.login()"
      ],
      "metadata": {
        "colab": {
          "base_uri": "https://localhost:8080/"
        },
        "id": "nLRAjZkZJMxw",
        "outputId": "6910c06e-2196-46f7-a9b5-3228b656251c"
      },
      "execution_count": 9,
      "outputs": [
        {
          "output_type": "stream",
          "name": "stderr",
          "text": [
            "\u001b[34m\u001b[1mwandb\u001b[0m: Currently logged in as: \u001b[33manjanav24\u001b[0m. Use \u001b[1m`wandb login --relogin`\u001b[0m to force relogin\n"
          ]
        },
        {
          "output_type": "execute_result",
          "data": {
            "text/plain": [
              "True"
            ]
          },
          "metadata": {},
          "execution_count": 9
        }
      ]
    },
    {
      "cell_type": "code",
      "source": [
        "!wandb login"
      ],
      "metadata": {
        "colab": {
          "base_uri": "https://localhost:8080/"
        },
        "id": "DU5KgZi_JQL5",
        "outputId": "a9fecbd1-7f77-4aa8-f0fe-ace16c989856"
      },
      "execution_count": 10,
      "outputs": [
        {
          "output_type": "stream",
          "name": "stdout",
          "text": [
            "\u001b[34m\u001b[1mwandb\u001b[0m: Currently logged in as: \u001b[33manjanav24\u001b[0m. Use \u001b[1m`wandb login --relogin`\u001b[0m to force relogin\n"
          ]
        }
      ]
    },
    {
      "cell_type": "code",
      "source": [
        "wandb.init(project=\"Cartpole\", entity=\"anjanav24\", config={\"lr\": 0.001, \"num_episodes\": 1500, \"hidden_dim\": 128, \"batch_size\": 64})"
      ],
      "metadata": {
        "colab": {
          "base_uri": "https://localhost:8080/",
          "height": 90
        },
        "id": "UmzI5qAjKwEe",
        "outputId": "cb07a5a4-f2b8-4991-bd3d-545102f550cb"
      },
      "execution_count": 11,
      "outputs": [
        {
          "output_type": "display_data",
          "data": {
            "text/plain": [
              "<IPython.core.display.HTML object>"
            ],
            "text/html": [
              "Tracking run with wandb version 0.12.18"
            ]
          },
          "metadata": {}
        },
        {
          "output_type": "display_data",
          "data": {
            "text/plain": [
              "<IPython.core.display.HTML object>"
            ],
            "text/html": [
              "Run data is saved locally in <code>/content/wandb/run-20220622_120433-b60fmerl</code>"
            ]
          },
          "metadata": {}
        },
        {
          "output_type": "display_data",
          "data": {
            "text/plain": [
              "<IPython.core.display.HTML object>"
            ],
            "text/html": [
              "Syncing run <strong><a href=\"https://wandb.ai/anjanav24/Cartpole/runs/b60fmerl\" target=\"_blank\">tough-sun-6</a></strong> to <a href=\"https://wandb.ai/anjanav24/Cartpole\" target=\"_blank\">Weights & Biases</a> (<a href=\"https://wandb.me/run\" target=\"_blank\">docs</a>)<br/>"
            ]
          },
          "metadata": {}
        },
        {
          "output_type": "execute_result",
          "data": {
            "text/html": [
              "<button onClick=\"this.nextSibling.style.display='block';this.style.display='none';\">Display W&B run</button><iframe src=\"https://wandb.ai/anjanav24/Cartpole/runs/b60fmerl?jupyter=true\" style=\"border:none;width:100%;height:420px;display:none;\"></iframe>"
            ],
            "text/plain": [
              "<wandb.sdk.wandb_run.Run at 0x7f4985968c10>"
            ]
          },
          "metadata": {},
          "execution_count": 11
        }
      ]
    },
    {
      "cell_type": "code",
      "source": [
        "wandb.define_metric(\"episode\")\n",
        "wandb.define_metric(\"step\")\n",
        "\n",
        "wandb.define_metric(\"Actor_loss\", step_metric=\"step\")\n",
        "wandb.define_metric(\"Critic_loss\", step_metric=\"step\")\n",
        "wandb.define_metric(\"Episode_reward\", step_metric=\"episode\")\n",
        "wandb.define_metric(\"Running_avg\", step_metric=\"episode\")"
      ],
      "metadata": {
        "colab": {
          "base_uri": "https://localhost:8080/"
        },
        "id": "yFdv5NQMKy52",
        "outputId": "2c32797a-54cc-4753-f06a-bae824bb0ef9"
      },
      "execution_count": 12,
      "outputs": [
        {
          "output_type": "execute_result",
          "data": {
            "text/plain": [
              "<wandb.sdk.wandb_metric.Metric at 0x7f498510b110>"
            ]
          },
          "metadata": {},
          "execution_count": 12
        }
      ]
    },
    {
      "cell_type": "code",
      "execution_count": 13,
      "metadata": {
        "id": "YXR_aSABLkHw"
      },
      "outputs": [],
      "source": [
        "# train function\n",
        "def train(memory, q_val):\n",
        "    values = torch.stack(memory.values)\n",
        "    q_vals = np.zeros((len(memory), 1))\n",
        "    \n",
        "    # target values are calculated backward\n",
        "    # it's super important to handle correctly done states,\n",
        "    # for those cases we want our to target to be equal to the reward only\n",
        "    for i, (_, _, reward, done) in enumerate(memory.reversed()):\n",
        "        q_val = reward + gamma*q_val*(1.0-done)\n",
        "        q_vals[len(memory)-1 - i] = q_val # store values from the end to the beginning\n",
        "        \n",
        "    advantage = torch.Tensor(q_vals) - values\n",
        "    \n",
        "    critic_loss = advantage.pow(2).mean()\n",
        "    c_loss = critic_loss.item()\n",
        "    adam_critic.zero_grad()\n",
        "    critic_loss.backward()\n",
        "    adam_critic.step()\n",
        "    \n",
        "    actor_loss = (-torch.stack(memory.log_probs)*advantage.detach()).mean()\n",
        "    a_loss = actor_loss.item()\n",
        "    adam_actor.zero_grad()\n",
        "    actor_loss.backward()\n",
        "    adam_actor.step()\n",
        "\n",
        "    return a_loss, c_loss"
      ]
    },
    {
      "cell_type": "code",
      "execution_count": 14,
      "metadata": {
        "id": "nC2oGySvLkHw",
        "outputId": "d0bb7f23-d339-41af-ea51-2c68c7691b78",
        "colab": {
          "base_uri": "https://localhost:8080/"
        }
      },
      "outputs": [
        {
          "output_type": "stream",
          "name": "stderr",
          "text": [
            "/usr/local/lib/python3.7/dist-packages/torch/nn/modules/container.py:141: UserWarning: Implicit dimension choice for softmax has been deprecated. Change the call to include dim=X as an argument.\n",
            "  input = module(input)\n"
          ]
        },
        {
          "output_type": "stream",
          "name": "stdout",
          "text": [
            "Episode: 0 | Reward: 59.0 | Average reward: 59.0\n",
            "Episode: 50 | Reward: 10.0 | Average reward: 17.019607843137255\n",
            "Episode: 100 | Reward: 39.0 | Average reward: 18.92\n",
            "Episode: 150 | Reward: 112.0 | Average reward: 48.22\n",
            "Episode: 200 | Reward: 199.0 | Average reward: 133.63\n",
            "Episode: 250 | Reward: 200.0 | Average reward: 189.61\n",
            "Episode: 300 | Reward: 200.0 | Average reward: 187.65\n",
            "Episode: 350 | Reward: 200.0 | Average reward: 192.0\n",
            "Environment solved in 400 episodes. Reward = 200.0\n"
          ]
        }
      ],
      "source": [
        "episode_rewards = []\n",
        "running_avg_rewards = deque(maxlen=100)\n",
        "running_rewards = []\n",
        "ep_step = 0\n",
        "\n",
        "for i in range(1500):\n",
        "    done = False\n",
        "    total_reward = 0\n",
        "    state = env.reset()\n",
        "    steps = 0\n",
        "\n",
        "    while not done:\n",
        "        probs = actor(t(state))\n",
        "        dist = torch.distributions.Categorical(probs=probs)\n",
        "        action = dist.sample()\n",
        "        \n",
        "        next_state, reward, done, info = env.step(action.detach().data.numpy())\n",
        "        \n",
        "        total_reward += reward\n",
        "        steps += 1\n",
        "        memory.add(dist.log_prob(action), critic(t(state)), reward, done)\n",
        "        \n",
        "        state = next_state\n",
        "        \n",
        "        # train if done or num steps > max_steps\n",
        "        if done or (steps % max_steps == 0):\n",
        "            last_q_val = critic(t(next_state)).detach().data.numpy()\n",
        "            a_loss, c_loss = train(memory, last_q_val)\n",
        "            log_loss = {\"Actor_loss\": a_loss, \"Critic_loss\": c_loss, \"step\": ep_step}\n",
        "            wandb.log(log_loss)\n",
        "            ep_step += 1\n",
        "            memory.clear()\n",
        "            r = -1 if done else reward\n",
        "            \n",
        "    episode_rewards.append(total_reward)\n",
        "    running_avg_rewards.append(total_reward)\n",
        "    running_rewards.append(np.mean(running_avg_rewards))\n",
        "\n",
        "    log_rewards ={\"Episode_reward\": total_reward, \"Running_avg\": np.mean(running_avg_rewards), \"episode\": i}\n",
        "    wandb.log(log_rewards)\n",
        "\n",
        "    # Logs:\n",
        "    if i%50 == 0:\n",
        "      print(f\"Episode: {i} | Reward: {total_reward} | Average reward: {np.mean(running_avg_rewards)}\")\n",
        "\n",
        "    # Termination condition\n",
        "    if len(running_avg_rewards) == running_avg_rewards.maxlen:\n",
        "      if np.mean(running_avg_rewards) >= 195.0:\n",
        "        print(f\"Environment solved in {i+1} episodes. Reward = {total_reward}\")\n",
        "        break\n"
      ]
    },
    {
      "cell_type": "code",
      "execution_count": 15,
      "metadata": {
        "id": "8BTZjEs4LkHx",
        "outputId": "b5fff6a8-3c83-4222-cf91-5d1bbd3dd4c8",
        "colab": {
          "base_uri": "https://localhost:8080/",
          "height": 295
        }
      },
      "outputs": [
        {
          "output_type": "display_data",
          "data": {
            "text/plain": [
              "<Figure size 432x288 with 1 Axes>"
            ],
            "image/png": "[encoded data removed]"
          },
          "metadata": {
            "needs_background": "light"
          }
        }
      ],
      "source": [
        "plt.plot(np.arange(len(episode_rewards)), episode_rewards)\n",
        "plt.title(\"Total reward per episode (episodic)\")\n",
        "plt.ylabel(\"reward\")\n",
        "plt.xlabel(\"episode\")\n",
        "plt.show()"
      ]
    },
    {
      "cell_type": "code",
      "source": [
        "len(episode_rewards) == len(running_rewards)"
      ],
      "metadata": {
        "colab": {
          "base_uri": "https://localhost:8080/"
        },
        "id": "d17-I_p_RXnj",
        "outputId": "dd7d98c9-d771-4485-8359-8fa2ee7e471e"
      },
      "execution_count": 16,
      "outputs": [
        {
          "output_type": "execute_result",
          "data": {
            "text/plain": [
              "True"
            ]
          },
          "metadata": {},
          "execution_count": 16
        }
      ]
    },
    {
      "cell_type": "code",
      "source": [
        "import plotly.graph_objs as go\n",
        "import plotly.io as pio\n",
        "\n",
        "pio.templates.default = 'plotly_white'\n",
        "cum_rewards = go.Scatter(x=np.arange(len(episode_rewards)), y=episode_rewards, mode='lines', name='Cumulative rewards', line=dict(color='rgb(242, 193, 189, 0.25)'))\n",
        "avg_rewards = go.Scatter(x=np.arange(len(episode_rewards)), y=running_rewards, mode='lines', name='Running avg. rewards')\n",
        "\n",
        "layout = go.Layout(title='Rewards for A2C agent (64 node) on CartPole-v0', xaxis_title='No. of episodes', yaxis_title='Rewards')\n",
        "figure = go.Figure(data=[avg_rewards, cum_rewards], layout=layout)\n",
        "config = {\n",
        "        'toImageButtonOptions': {\n",
        "            'format': 'png', # one of png, svg, jpeg, webp\n",
        "            'height': 480,\n",
        "            'width': 640,\n",
        "            'scale': 2 # Multiply title/legend/axis/canvas sizes by this factor\n",
        "        }\n",
        "    }\n",
        "figure.show(config=config)\n"
      ],
      "metadata": {
        "colab": {
          "base_uri": "https://localhost:8080/",
          "height": 542
        },
        "id": "yrgIweurQ9SM",
        "outputId": "3b03b544-e4fd-4953-d03a-1e7762e1b757"
      },
      "execution_count": 17,
      "outputs": [
        {
          "output_type": "display_data",
          "data": {
            "text/html": [
              "<html>\n",
              "<head><meta charset=\"utf-8\" /></head>\n",
              "<body>\n",
              "    <div>            <script src=\"https://cdnjs.cloudflare.com/ajax/libs/mathjax/2.7.5/MathJax.js?config=TeX-AMS-MML_SVG\"></script><script type=\"text/javascript\">if (window.MathJax) {MathJax.Hub.Config({SVG: {font: \"STIX-Web\"}});}</script>                <script type=\"text/javascript\">window.PlotlyConfig = {MathJaxConfig: 'local'};</script>\n",
              "        <script src=\"https://cdn.plot.ly/plotly-2.8.3.min.js\"></script>                <div id=\"0cc45067-eb47-45af-8fd1-322ee8eef3bc\" class=\"plotly-graph-div\" style=\"height:525px; width:100%;\"></div>            <script type=\"text/javascript\">                                    window.PLOTLYENV=window.PLOTLYENV || {};                                    if (document.getElementById(\"0cc45067-eb47-45af-8fd1-322ee8eef3bc\")) {                    Plotly.newPlot(                        \"0cc45067-eb47-45af-8fd1-322ee8eef3bc\",                        [{\"mode\":\"lines\",\"name\":\"Running avg. rewards\",\"x\":[0,1,2,3,4,5,6,7,8,9,10,11,12,13,14,15,16,17,18,19,20,21,22,23,24,25,26,27,28,29,30,31,32,33,34,35,36,37,38,39,40,41,42,43,44,45,46,47,48,49,50,51,52,53,54,55,56,57,58,59,60,61,62,63,64,65,66,67,68,69,70,71,72,73,74,75,76,77,78,79,80,81,82,83,84,85,86,87,88,89,90,91,92,93,94,95,96,97,98,99,100,101,102,103,104,105,106,107,108,109,110,111,112,113,114,115,116,117,118,119,120,121,122,123,124,125,126,127,128,129,130,131,132,133,134,135,136,137,138,139,140,141,142,143,144,145,146,147,148,149,150,151,152,153,154,155,156,157,158,159,160,161,162,163,164,165,166,167,168,169,170,171,172,173,174,175,176,177,178,179,180,181,182,183,184,185,186,187,188,189,190,191,192,193,194,195,196,197,198,199,200,201,202,203,204,205,206,207,208,209,210,211,212,213,214,215,216,217,218,219,220,221,222,223,224,225,226,227,228,229,230,231,232,233,234,235,236,237,238,239,240,241,242,243,244,245,246,247,248,249,250,251,252,253,254,255,256,257,258,259,260,261,262,263,264,265,266,267,268,269,270,271,272,273,274,275,276,277,278,279,280,281,282,283,284,285,286,287,288,289,290,291,292,293,294,295,296,297,298,299,300,301,302,303,304,305,306,307,308,309,310,311,312,313,314,315,316,317,318,319,320,321,322,323,324,325,326,327,328,329,330,331,332,333,334,335,336,337,338,339,340,341,342,343,344,345,346,347,348,349,350,351,352,353,354,355,356,357,358,359,360,361,362,363,364,365,366,367,368,369,370,371,372,373,374,375,376,377,378,379,380,381,382,383,384,385,386,387,388,389,390,391,392,393,394,395,396,397,398,399],\"y\":[59.0,36.5,28.666666666666668,40.75,36.8,41.833333333333336,39.42857142857143,35.75,33.333333333333336,32.9,30.90909090909091,29.583333333333332,28.615384615384617,27.285714285714285,27.466666666666665,26.625,25.705882352941178,25.11111111111111,24.31578947368421,24.1,23.61904761904762,23.5,23.304347826086957,22.833333333333332,22.44,21.96153846153846,21.59259259259259,21.25,20.896551724137932,20.666666666666668,20.451612903225808,20.1875,19.939393939393938,19.58823529411765,19.285714285714285,19.055555555555557,18.81081081081081,18.63157894736842,18.435897435897434,18.35,18.29268292682927,18.142857142857142,18.093023255813954,17.886363636363637,17.711111111111112,17.58695652173913,17.48936170212766,17.375,17.183673469387756,17.16,17.019607843137255,16.884615384615383,16.77358490566038,16.666666666666668,16.563636363636363,16.5,16.50877192982456,16.46551724137931,16.45762711864407,16.4,16.278688524590162,16.20967741935484,16.19047619047619,16.1875,16.107692307692307,16.045454545454547,16.01492537313433,16.073529411764707,15.971014492753623,16.02857142857143,16.028169014084508,15.972222222222221,15.945205479452055,15.891891891891891,15.973333333333333,16.013157894736842,16.01298701298701,16.26923076923077,16.417721518987342,16.4375,16.54320987654321,16.5,16.49397590361446,16.642857142857142,16.71764705882353,16.75581395348837,16.82758620689655,16.852272727272727,16.910112359550563,16.877777777777776,16.87912087912088,17.01086956521739,16.978494623655912,17.30851063829787,17.894736842105264,17.90625,18.49484536082474,18.867346938775512,19.1010101010101,19.12,18.92,19.18,19.64,19.56,20.03,19.69,19.66,19.9,20.17,20.21,20.9,21.08,21.88,22.29,22.57,23.03,23.45,23.57,24.8,25.43,25.92,26.02,26.15,26.37,27.01,27.48,27.92,28.48,29.21,29.44,29.98,30.17,30.8,31.33,32.21,32.62,33.47,34.33,34.89,35.24,35.79,37.3,38.94,40.19,41.72,43.48,45.1,45.23,47.02,47.2,48.22,48.35,50.24,52.13,54.02,55.89,57.72,59.58,61.42,63.29,65.2,67.08,68.93,70.41,72.3,74.18,76.04,77.23,79.14,80.94,82.78,84.66,86.52,88.4,90.18,91.99,93.33,94.97,96.69,98.51,100.26,102.13,103.97,105.68,107.33,109.0,110.77,112.51,114.29,116.15,117.95,119.66,121.52,123.04,124.29,126.1,127.35,128.8,130.38,132.03,133.63,135.23,136.57,137.27,138.57,140.04,141.51,143.11,144.64,145.88,146.94,148.34,149.13,150.58,152.0,153.28,154.49,156.0,156.14,157.31,158.39,159.83,161.51,163.17,164.1,165.31,166.69,168.01,169.17,170.8,172.12,173.81,175.06,176.45,177.48,178.96,180.01,181.03,182.36,183.86,185.15,185.52,185.72,185.43,185.8,185.92,185.19,186.94,187.07,188.73,189.61,191.38,191.38,191.38,191.28,191.28,191.28,191.28,191.28,191.2,191.05,191.05,191.04,191.38,191.38,191.38,191.06,191.67,191.61,191.47,191.23,191.17,191.11,191.11,191.06,190.94,191.3,191.18,191.18,190.95,190.91,190.82,190.82,190.66,190.73,190.71,190.33,190.21,190.08,189.98,189.94,189.94,189.83,189.8,189.59,189.59,189.31,189.21,189.21,187.64,187.65,187.65,187.72,188.33,188.35,188.55,188.86,188.92,188.98,189.41,189.55,189.82,190.06,190.1,190.1,190.22,190.48,190.7,191.23,191.0,191.29,191.54,191.31,191.11,191.18,191.18,191.0,190.77,190.75,190.52,190.52,190.3,190.24,190.19,190.19,190.07,190.07,190.07,190.07,190.07,190.07,190.07,190.07,191.02,191.02,191.02,192.0,192.0,192.0,192.0,192.0,192.0,192.0,192.0,192.1,192.1,192.1,192.1,192.1,192.18,192.33,192.33,192.34,192.36,192.36,192.36,192.68,192.68,192.74,192.88,193.12,191.42,191.48,191.48,191.53,191.65,191.79,191.91,191.91,192.14,192.18,192.27,192.27,192.43,192.48,192.63,193.01,193.2,193.33,193.43,193.5,193.5,193.61,193.64,193.87,193.87,194.15,194.25,194.25,195.96],\"type\":\"scatter\"},{\"line\":{\"color\":\"rgb(242, 193, 189, 0.25)\"},\"mode\":\"lines\",\"name\":\"Cumulative rewards\",\"x\":[0,1,2,3,4,5,6,7,8,9,10,11,12,13,14,15,16,17,18,19,20,21,22,23,24,25,26,27,28,29,30,31,32,33,34,35,36,37,38,39,40,41,42,43,44,45,46,47,48,49,50,51,52,53,54,55,56,57,58,59,60,61,62,63,64,65,66,67,68,69,70,71,72,73,74,75,76,77,78,79,80,81,82,83,84,85,86,87,88,89,90,91,92,93,94,95,96,97,98,99,100,101,102,103,104,105,106,107,108,109,110,111,112,113,114,115,116,117,118,119,120,121,122,123,124,125,126,127,128,129,130,131,132,133,134,135,136,137,138,139,140,141,142,143,144,145,146,147,148,149,150,151,152,153,154,155,156,157,158,159,160,161,162,163,164,165,166,167,168,169,170,171,172,173,174,175,176,177,178,179,180,181,182,183,184,185,186,187,188,189,190,191,192,193,194,195,196,197,198,199,200,201,202,203,204,205,206,207,208,209,210,211,212,213,214,215,216,217,218,219,220,221,222,223,224,225,226,227,228,229,230,231,232,233,234,235,236,237,238,239,240,241,242,243,244,245,246,247,248,249,250,251,252,253,254,255,256,257,258,259,260,261,262,263,264,265,266,267,268,269,270,271,272,273,274,275,276,277,278,279,280,281,282,283,284,285,286,287,288,289,290,291,292,293,294,295,296,297,298,299,300,301,302,303,304,305,306,307,308,309,310,311,312,313,314,315,316,317,318,319,320,321,322,323,324,325,326,327,328,329,330,331,332,333,334,335,336,337,338,339,340,341,342,343,344,345,346,347,348,349,350,351,352,353,354,355,356,357,358,359,360,361,362,363,364,365,366,367,368,369,370,371,372,373,374,375,376,377,378,379,380,381,382,383,384,385,386,387,388,389,390,391,392,393,394,395,396,397,398,399],\"y\":[59.0,14.0,13.0,77.0,21.0,67.0,25.0,10.0,14.0,29.0,11.0,15.0,17.0,10.0,30.0,14.0,11.0,15.0,10.0,20.0,14.0,21.0,19.0,12.0,13.0,10.0,12.0,12.0,11.0,14.0,14.0,12.0,12.0,8.0,9.0,11.0,10.0,12.0,11.0,15.0,16.0,12.0,16.0,9.0,10.0,12.0,13.0,12.0,8.0,16.0,10.0,10.0,11.0,11.0,11.0,13.0,17.0,14.0,16.0,13.0,9.0,12.0,15.0,16.0,11.0,12.0,14.0,20.0,9.0,20.0,16.0,12.0,14.0,12.0,22.0,19.0,16.0,36.0,28.0,18.0,25.0,13.0,16.0,29.0,23.0,20.0,23.0,19.0,22.0,14.0,17.0,29.0,14.0,48.0,73.0,19.0,75.0,55.0,42.0,21.0,39.0,40.0,59.0,69.0,68.0,33.0,22.0,34.0,41.0,33.0,80.0,33.0,97.0,51.0,58.0,60.0,53.0,27.0,133.0,83.0,63.0,31.0,32.0,34.0,77.0,57.0,56.0,68.0,84.0,37.0,68.0,31.0,75.0,61.0,97.0,52.0,95.0,98.0,67.0,50.0,71.0,163.0,180.0,134.0,163.0,188.0,175.0,25.0,187.0,34.0,112.0,23.0,200.0,200.0,200.0,200.0,200.0,200.0,200.0,200.0,200.0,200.0,200.0,164.0,200.0,200.0,200.0,139.0,200.0,200.0,200.0,200.0,200.0,200.0,200.0,200.0,150.0,200.0,200.0,200.0,200.0,200.0,200.0,200.0,188.0,187.0,200.0,193.0,200.0,200.0,197.0,200.0,200.0,200.0,198.0,200.0,200.0,200.0,200.0,186.0,199.0,200.0,193.0,139.0,198.0,180.0,169.0,194.0,194.0,157.0,186.0,173.0,176.0,196.0,200.0,188.0,174.0,178.0,147.0,200.0,171.0,175.0,200.0,200.0,170.0,178.0,194.0,200.0,200.0,200.0,200.0,200.0,200.0,200.0,200.0,200.0,200.0,200.0,200.0,200.0,200.0,200.0,200.0,105.0,200.0,200.0,102.0,200.0,200.0,200.0,200.0,200.0,200.0,200.0,190.0,200.0,200.0,200.0,200.0,192.0,185.0,200.0,199.0,198.0,200.0,200.0,168.0,200.0,194.0,186.0,176.0,194.0,194.0,200.0,195.0,188.0,186.0,188.0,200.0,177.0,196.0,191.0,200.0,184.0,195.0,185.0,162.0,181.0,187.0,190.0,193.0,200.0,189.0,197.0,177.0,200.0,172.0,190.0,200.0,29.0,200.0,200.0,200.0,200.0,200.0,200.0,200.0,200.0,200.0,200.0,200.0,200.0,200.0,200.0,200.0,200.0,200.0,200.0,200.0,177.0,200.0,200.0,177.0,180.0,177.0,178.0,176.0,177.0,198.0,177.0,200.0,178.0,194.0,195.0,200.0,188.0,200.0,200.0,200.0,200.0,200.0,200.0,200.0,200.0,200.0,200.0,200.0,200.0,200.0,200.0,200.0,200.0,200.0,200.0,200.0,200.0,200.0,200.0,200.0,200.0,200.0,200.0,200.0,200.0,200.0,200.0,200.0,200.0,200.0,200.0,200.0,24.0,200.0,200.0,200.0,200.0,200.0,200.0,200.0,200.0,200.0,200.0,200.0,200.0,200.0,200.0,200.0,200.0,200.0,200.0,200.0,200.0,200.0,200.0,200.0,200.0,200.0,200.0,200.0,200.0],\"type\":\"scatter\"}],                        {\"title\":{\"text\":\"Rewards for A2C agent (64 node) on CartPole-v0\"},\"xaxis\":{\"title\":{\"text\":\"No. of episodes\"}},\"yaxis\":{\"title\":{\"text\":\"Rewards\"}},\"template\":{\"data\":{\"bar\":[{\"error_x\":{\"color\":\"#2a3f5f\"},\"error_y\":{\"color\":\"#2a3f5f\"},\"marker\":{\"line\":{\"color\":\"white\",\"width\":0.5},\"pattern\":{\"fillmode\":\"overlay\",\"size\":10,\"solidity\":0.2}},\"type\":\"bar\"}],\"barpolar\":[{\"marker\":{\"line\":{\"color\":\"white\",\"width\":0.5},\"pattern\":{\"fillmode\":\"overlay\",\"size\":10,\"solidity\":0.2}},\"type\":\"barpolar\"}],\"carpet\":[{\"aaxis\":{\"endlinecolor\":\"#2a3f5f\",\"gridcolor\":\"#C8D4E3\",\"linecolor\":\"#C8D4E3\",\"minorgridcolor\":\"#C8D4E3\",\"startlinecolor\":\"#2a3f5f\"},\"baxis\":{\"endlinecolor\":\"#2a3f5f\",\"gridcolor\":\"#C8D4E3\",\"linecolor\":\"#C8D4E3\",\"minorgridcolor\":\"#C8D4E3\",\"startlinecolor\":\"#2a3f5f\"},\"type\":\"carpet\"}],\"choropleth\":[{\"colorbar\":{\"outlinewidth\":0,\"ticks\":\"\"},\"type\":\"choropleth\"}],\"contour\":[{\"colorbar\":{\"outlinewidth\":0,\"ticks\":\"\"},\"colorscale\":[[0.0,\"#0d0887\"],[0.1111111111111111,\"#46039f\"],[0.2222222222222222,\"#7201a8\"],[0.3333333333333333,\"#9c179e\"],[0.4444444444444444,\"#bd3786\"],[0.5555555555555556,\"#d8576b\"],[0.6666666666666666,\"#ed7953\"],[0.7777777777777778,\"#fb9f3a\"],[0.8888888888888888,\"#fdca26\"],[1.0,\"#f0f921\"]],\"type\":\"contour\"}],\"contourcarpet\":[{\"colorbar\":{\"outlinewidth\":0,\"ticks\":\"\"},\"type\":\"contourcarpet\"}],\"heatmap\":[{\"colorbar\":{\"outlinewidth\":0,\"ticks\":\"\"},\"colorscale\":[[0.0,\"#0d0887\"],[0.1111111111111111,\"#46039f\"],[0.2222222222222222,\"#7201a8\"],[0.3333333333333333,\"#9c179e\"],[0.4444444444444444,\"#bd3786\"],[0.5555555555555556,\"#d8576b\"],[0.6666666666666666,\"#ed7953\"],[0.7777777777777778,\"#fb9f3a\"],[0.8888888888888888,\"#fdca26\"],[1.0,\"#f0f921\"]],\"type\":\"heatmap\"}],\"heatmapgl\":[{\"colorbar\":{\"outlinewidth\":0,\"ticks\":\"\"},\"colorscale\":[[0.0,\"#0d0887\"],[0.1111111111111111,\"#46039f\"],[0.2222222222222222,\"#7201a8\"],[0.3333333333333333,\"#9c179e\"],[0.4444444444444444,\"#bd3786\"],[0.5555555555555556,\"#d8576b\"],[0.6666666666666666,\"#ed7953\"],[0.7777777777777778,\"#fb9f3a\"],[0.8888888888888888,\"#fdca26\"],[1.0,\"#f0f921\"]],\"type\":\"heatmapgl\"}],\"histogram\":[{\"marker\":{\"pattern\":{\"fillmode\":\"overlay\",\"size\":10,\"solidity\":0.2}},\"type\":\"histogram\"}],\"histogram2d\":[{\"colorbar\":{\"outlinewidth\":0,\"ticks\":\"\"},\"colorscale\":[[0.0,\"#0d0887\"],[0.1111111111111111,\"#46039f\"],[0.2222222222222222,\"#7201a8\"],[0.3333333333333333,\"#9c179e\"],[0.4444444444444444,\"#bd3786\"],[0.5555555555555556,\"#d8576b\"],[0.6666666666666666,\"#ed7953\"],[0.7777777777777778,\"#fb9f3a\"],[0.8888888888888888,\"#fdca26\"],[1.0,\"#f0f921\"]],\"type\":\"histogram2d\"}],\"histogram2dcontour\":[{\"colorbar\":{\"outlinewidth\":0,\"ticks\":\"\"},\"colorscale\":[[0.0,\"#0d0887\"],[0.1111111111111111,\"#46039f\"],[0.2222222222222222,\"#7201a8\"],[0.3333333333333333,\"#9c179e\"],[0.4444444444444444,\"#bd3786\"],[0.5555555555555556,\"#d8576b\"],[0.6666666666666666,\"#ed7953\"],[0.7777777777777778,\"#fb9f3a\"],[0.8888888888888888,\"#fdca26\"],[1.0,\"#f0f921\"]],\"type\":\"histogram2dcontour\"}],\"mesh3d\":[{\"colorbar\":{\"outlinewidth\":0,\"ticks\":\"\"},\"type\":\"mesh3d\"}],\"parcoords\":[{\"line\":{\"colorbar\":{\"outlinewidth\":0,\"ticks\":\"\"}},\"type\":\"parcoords\"}],\"pie\":[{\"automargin\":true,\"type\":\"pie\"}],\"scatter\":[{\"marker\":{\"colorbar\":{\"outlinewidth\":0,\"ticks\":\"\"}},\"type\":\"scatter\"}],\"scatter3d\":[{\"line\":{\"colorbar\":{\"outlinewidth\":0,\"ticks\":\"\"}},\"marker\":{\"colorbar\":{\"outlinewidth\":0,\"ticks\":\"\"}},\"type\":\"scatter3d\"}],\"scattercarpet\":[{\"marker\":{\"colorbar\":{\"outlinewidth\":0,\"ticks\":\"\"}},\"type\":\"scattercarpet\"}],\"scattergeo\":[{\"marker\":{\"colorbar\":{\"outlinewidth\":0,\"ticks\":\"\"}},\"type\":\"scattergeo\"}],\"scattergl\":[{\"marker\":{\"colorbar\":{\"outlinewidth\":0,\"ticks\":\"\"}},\"type\":\"scattergl\"}],\"scattermapbox\":[{\"marker\":{\"colorbar\":{\"outlinewidth\":0,\"ticks\":\"\"}},\"type\":\"scattermapbox\"}],\"scatterpolar\":[{\"marker\":{\"colorbar\":{\"outlinewidth\":0,\"ticks\":\"\"}},\"type\":\"scatterpolar\"}],\"scatterpolargl\":[{\"marker\":{\"colorbar\":{\"outlinewidth\":0,\"ticks\":\"\"}},\"type\":\"scatterpolargl\"}],\"scatterternary\":[{\"marker\":{\"colorbar\":{\"outlinewidth\":0,\"ticks\":\"\"}},\"type\":\"scatterternary\"}],\"surface\":[{\"colorbar\":{\"outlinewidth\":0,\"ticks\":\"\"},\"colorscale\":[[0.0,\"#0d0887\"],[0.1111111111111111,\"#46039f\"],[0.2222222222222222,\"#7201a8\"],[0.3333333333333333,\"#9c179e\"],[0.4444444444444444,\"#bd3786\"],[0.5555555555555556,\"#d8576b\"],[0.6666666666666666,\"#ed7953\"],[0.7777777777777778,\"#fb9f3a\"],[0.8888888888888888,\"#fdca26\"],[1.0,\"#f0f921\"]],\"type\":\"surface\"}],\"table\":[{\"cells\":{\"fill\":{\"color\":\"#EBF0F8\"},\"line\":{\"color\":\"white\"}},\"header\":{\"fill\":{\"color\":\"#C8D4E3\"},\"line\":{\"color\":\"white\"}},\"type\":\"table\"}]},\"layout\":{\"annotationdefaults\":{\"arrowcolor\":\"#2a3f5f\",\"arrowhead\":0,\"arrowwidth\":1},\"autotypenumbers\":\"strict\",\"coloraxis\":{\"colorbar\":{\"outlinewidth\":0,\"ticks\":\"\"}},\"colorscale\":{\"diverging\":[[0,\"#8e0152\"],[0.1,\"#c51b7d\"],[0.2,\"#de77ae\"],[0.3,\"#f1b6da\"],[0.4,\"#fde0ef\"],[0.5,\"#f7f7f7\"],[0.6,\"#e6f5d0\"],[0.7,\"#b8e186\"],[0.8,\"#7fbc41\"],[0.9,\"#4d9221\"],[1,\"#276419\"]],\"sequential\":[[0.0,\"#0d0887\"],[0.1111111111111111,\"#46039f\"],[0.2222222222222222,\"#7201a8\"],[0.3333333333333333,\"#9c179e\"],[0.4444444444444444,\"#bd3786\"],[0.5555555555555556,\"#d8576b\"],[0.6666666666666666,\"#ed7953\"],[0.7777777777777778,\"#fb9f3a\"],[0.8888888888888888,\"#fdca26\"],[1.0,\"#f0f921\"]],\"sequentialminus\":[[0.0,\"#0d0887\"],[0.1111111111111111,\"#46039f\"],[0.2222222222222222,\"#7201a8\"],[0.3333333333333333,\"#9c179e\"],[0.4444444444444444,\"#bd3786\"],[0.5555555555555556,\"#d8576b\"],[0.6666666666666666,\"#ed7953\"],[0.7777777777777778,\"#fb9f3a\"],[0.8888888888888888,\"#fdca26\"],[1.0,\"#f0f921\"]]},\"colorway\":[\"#636efa\",\"#EF553B\",\"#00cc96\",\"#ab63fa\",\"#FFA15A\",\"#19d3f3\",\"#FF6692\",\"#B6E880\",\"#FF97FF\",\"#FECB52\"],\"font\":{\"color\":\"#2a3f5f\"},\"geo\":{\"bgcolor\":\"white\",\"lakecolor\":\"white\",\"landcolor\":\"white\",\"showlakes\":true,\"showland\":true,\"subunitcolor\":\"#C8D4E3\"},\"hoverlabel\":{\"align\":\"left\"},\"hovermode\":\"closest\",\"mapbox\":{\"style\":\"light\"},\"paper_bgcolor\":\"white\",\"plot_bgcolor\":\"white\",\"polar\":{\"angularaxis\":{\"gridcolor\":\"#EBF0F8\",\"linecolor\":\"#EBF0F8\",\"ticks\":\"\"},\"bgcolor\":\"white\",\"radialaxis\":{\"gridcolor\":\"#EBF0F8\",\"linecolor\":\"#EBF0F8\",\"ticks\":\"\"}},\"scene\":{\"xaxis\":{\"backgroundcolor\":\"white\",\"gridcolor\":\"#DFE8F3\",\"gridwidth\":2,\"linecolor\":\"#EBF0F8\",\"showbackground\":true,\"ticks\":\"\",\"zerolinecolor\":\"#EBF0F8\"},\"yaxis\":{\"backgroundcolor\":\"white\",\"gridcolor\":\"#DFE8F3\",\"gridwidth\":2,\"linecolor\":\"#EBF0F8\",\"showbackground\":true,\"ticks\":\"\",\"zerolinecolor\":\"#EBF0F8\"},\"zaxis\":{\"backgroundcolor\":\"white\",\"gridcolor\":\"#DFE8F3\",\"gridwidth\":2,\"linecolor\":\"#EBF0F8\",\"showbackground\":true,\"ticks\":\"\",\"zerolinecolor\":\"#EBF0F8\"}},\"shapedefaults\":{\"line\":{\"color\":\"#2a3f5f\"}},\"ternary\":{\"aaxis\":{\"gridcolor\":\"#DFE8F3\",\"linecolor\":\"#A2B1C6\",\"ticks\":\"\"},\"baxis\":{\"gridcolor\":\"#DFE8F3\",\"linecolor\":\"#A2B1C6\",\"ticks\":\"\"},\"bgcolor\":\"white\",\"caxis\":{\"gridcolor\":\"#DFE8F3\",\"linecolor\":\"#A2B1C6\",\"ticks\":\"\"}},\"title\":{\"x\":0.05},\"xaxis\":{\"automargin\":true,\"gridcolor\":\"#EBF0F8\",\"linecolor\":\"#EBF0F8\",\"ticks\":\"\",\"title\":{\"standoff\":15},\"zerolinecolor\":\"#EBF0F8\",\"zerolinewidth\":2},\"yaxis\":{\"automargin\":true,\"gridcolor\":\"#EBF0F8\",\"linecolor\":\"#EBF0F8\",\"ticks\":\"\",\"title\":{\"standoff\":15},\"zerolinecolor\":\"#EBF0F8\",\"zerolinewidth\":2}}}},                        {\"toImageButtonOptions\": {\"format\": \"png\", \"height\": 480, \"width\": 640, \"scale\": 2}, \"responsive\": true}                    ).then(function(){\n",
              "                            \n",
              "var gd = document.getElementById('0cc45067-eb47-45af-8fd1-322ee8eef3bc');\n",
              "var x = new MutationObserver(function (mutations, observer) {{\n",
              "        var display = window.getComputedStyle(gd).display;\n",
              "        if (!display || display === 'none') {{\n",
              "            console.log([gd, 'removed!']);\n",
              "            Plotly.purge(gd);\n",
              "            observer.disconnect();\n",
              "        }}\n",
              "}});\n",
              "\n",
              "// Listen for the removal of the full notebook cells\n",
              "var notebookContainer = gd.closest('#notebook-container');\n",
              "if (notebookContainer) {{\n",
              "    x.observe(notebookContainer, {childList: true});\n",
              "}}\n",
              "\n",
              "// Listen for the clearing of the current output cell\n",
              "var outputEl = gd.closest('.output');\n",
              "if (outputEl) {{\n",
              "    x.observe(outputEl, {childList: true});\n",
              "}}\n",
              "\n",
              "                        })                };                            </script>        </div>\n",
              "</body>\n",
              "</html>"
            ]
          },
          "metadata": {}
        }
      ]
    },
    {
      "cell_type": "code",
      "source": [
        "import pickle\n",
        "A2C_rewards_data = dict(cumulative_rewards=episode_rewards, running_avg_scores=running_rewards)\n",
        "file = open(\"A2C_32.pkl\", \"wb\")\n",
        "pickle.dump(A2C_rewards_data, file)\n",
        "file.close()"
      ],
      "metadata": {
        "id": "0VynlLXtR3j8"
      },
      "execution_count": 18,
      "outputs": []
    },
    {
      "cell_type": "code",
      "source": [
        "type(A2C_rewards_data['running_avg_scores'])"
      ],
      "metadata": {
        "colab": {
          "base_uri": "https://localhost:8080/"
        },
        "id": "ll_rEVfnhB6e",
        "outputId": "f26062b0-3474-4e7d-df4d-940394922028"
      },
      "execution_count": 19,
      "outputs": [
        {
          "output_type": "execute_result",
          "data": {
            "text/plain": [
              "list"
            ]
          },
          "metadata": {},
          "execution_count": 19
        }
      ]
    },
    {
      "cell_type": "code",
      "source": [
        "!mkdir A2C_128"
      ],
      "metadata": {
        "id": "8-5QUnqOMOju"
      },
      "execution_count": 20,
      "outputs": []
    },
    {
      "cell_type": "code",
      "source": [
        "torch.save(actor.state_dict(), '/content/A2C_128/actor_weights.pth')\n",
        "torch.save(critic.state_dict(), '/content/A2C_128/critic_weights.pth')"
      ],
      "metadata": {
        "id": "XShjMew-MH82"
      },
      "execution_count": 21,
      "outputs": []
    },
    {
      "cell_type": "code",
      "source": [
        "# Test\n",
        "actor.load_state_dict(torch.load('/content/A2C_128/actor_weights.pth'))\n",
        "\n",
        "states = []\n",
        "rewards = []\n",
        "done = False\n",
        "state = env.reset()\n",
        "total_reward = 0\n",
        "\n",
        "while not done:\n",
        "  probs = actor(t(state))\n",
        "  dist = torch.distributions.Categorical(probs=probs)\n",
        "  action = dist.sample()\n",
        "        \n",
        "  next_state, reward, done, info = env.step(action.detach().data.numpy())\n",
        "        \n",
        "  total_reward += reward\n",
        "  steps += 1\n",
        "  states.append(state)\n",
        "\n",
        "  if done:\n",
        "    reward = -1\n",
        "    break\n",
        "\n",
        "  \n",
        "  state = next_state"
      ],
      "metadata": {
        "colab": {
          "base_uri": "https://localhost:8080/"
        },
        "id": "n13283WcMtou",
        "outputId": "1f116a55-89c8-4ab7-93a4-92b2181fef79"
      },
      "execution_count": 22,
      "outputs": [
        {
          "output_type": "stream",
          "name": "stderr",
          "text": [
            "/usr/local/lib/python3.7/dist-packages/torch/nn/modules/container.py:141: UserWarning:\n",
            "\n",
            "Implicit dimension choice for softmax has been deprecated. Change the call to include dim=X as an argument.\n",
            "\n"
          ]
        }
      ]
    },
    {
      "cell_type": "code",
      "source": [
        "states"
      ],
      "metadata": {
        "colab": {
          "base_uri": "https://localhost:8080/"
        },
        "id": "F2tVtIPSOA30",
        "outputId": "86d4b6a4-6a9b-4e49-a15a-2a120ab0c67f"
      },
      "execution_count": 23,
      "outputs": [
        {
          "output_type": "execute_result",
          "data": {
            "text/plain": [
              "[array([ 0.00300311,  0.0006123 , -0.00590529, -0.03806704]),\n",
              " array([ 0.00301535,  0.19581843, -0.00666663, -0.33260728]),\n",
              " array([ 0.00693172,  0.000792  , -0.01331878, -0.04203412]),\n",
              " array([ 0.00694756,  0.19610238, -0.01415946, -0.33888931]),\n",
              " array([ 0.01086961,  0.39142292, -0.02093725, -0.63600349]),\n",
              " array([ 0.01869807,  0.19659914, -0.03365732, -0.34998697]),\n",
              " array([ 0.02263005,  0.00197162, -0.04065706, -0.06810442]),\n",
              " array([ 0.02266948,  0.19765218, -0.04201915, -0.37333257]),\n",
              " array([ 0.02662253,  0.00315153, -0.0494858 , -0.09418912]),\n",
              " array([ 0.02668556,  0.19894654, -0.05136958, -0.40206499]),\n",
              " array([ 0.03066449,  0.00458941, -0.05941088, -0.12600988]),\n",
              " array([ 0.03075628, -0.18963333, -0.06193108,  0.14735369]),\n",
              " array([ 0.02696361,  0.0063183 , -0.058984  , -0.16420636]),\n",
              " array([ 0.02708997, -0.18791185, -0.06226813,  0.10930097]),\n",
              " array([ 0.02333174, -0.3820888 , -0.06008211,  0.38170691]),\n",
              " array([ 0.01568996, -0.18616748, -0.05244797,  0.07070169]),\n",
              " array([ 0.01196661,  0.00966564, -0.05103394, -0.23805669]),\n",
              " array([ 0.01215992, -0.1846915 , -0.05579507,  0.03810198]),\n",
              " array([ 0.00846609,  0.01118433, -0.05503303, -0.27164979]),\n",
              " array([ 0.00868978, -0.18311091, -0.06046603,  0.0031803 ]),\n",
              " array([ 0.00502756, -0.37731591, -0.06040242,  0.27618925]),\n",
              " array([-0.00251875, -0.18138654, -0.05487864, -0.03491636]),\n",
              " array([-0.00614649,  0.01447769, -0.05557697, -0.34439663]),\n",
              " array([-0.00585693, -0.17981141, -0.0624649 , -0.06974417]),\n",
              " array([-0.00945316,  0.01614788, -0.06385978, -0.38146258]),\n",
              " array([-0.0091302 , -0.17801192, -0.07148903, -0.10957854]),\n",
              " array([-0.01269044, -0.3720405 , -0.0736806 ,  0.15972106]),\n",
              " array([-0.02013125, -0.17594527, -0.07048618, -0.15526622]),\n",
              " array([-0.02365016, -0.36999092, -0.07359151,  0.11437371]),\n",
              " array([-0.03104998, -0.17389587, -0.07130403, -0.20058911]),\n",
              " array([-0.03452789, -0.36792942, -0.07531581,  0.06877601]),\n",
              " array([-0.04188648, -0.5618953 , -0.07394029,  0.33677811]),\n",
              " array([-0.05312439, -0.36580328, -0.06720473,  0.02172511]),\n",
              " array([-0.06044045, -0.5599003 , -0.06677023,  0.29247008]),\n",
              " array([-0.07163846, -0.36389302, -0.06092083, -0.02050155]),\n",
              " array([-0.07891632, -0.55809079, -0.06133086,  0.25235508]),\n",
              " array([-0.09007813, -0.36214914, -0.05628376, -0.05902477]),\n",
              " array([-0.09732112, -0.55642081, -0.05746425,  0.21538259]),\n",
              " array([-0.10844953, -0.36052643, -0.0531566 , -0.09485915]),\n",
              " array([-0.11566006, -0.16468449, -0.05505378, -0.40382781]),\n",
              " array([-0.11895375, -0.35898419, -0.06313034, -0.12899746]),\n",
              " array([-0.12613344, -0.55314764, -0.06571029,  0.14311954]),\n",
              " array([-0.13719639, -0.74726999, -0.0628479 ,  0.41436972]),\n",
              " array([-0.15214179, -0.55131616, -0.05456051,  0.10255416]),\n",
              " array([-0.16316811, -0.74561547, -0.05250942,  0.37753659]),\n",
              " array([-0.17808042, -0.54978861, -0.04495869,  0.06877049]),\n",
              " array([-0.18907619, -0.74423812, -0.04358328,  0.34693663]),\n",
              " array([-0.20396096, -0.54852421, -0.03664455,  0.04083512]),\n",
              " array([-0.21493144, -0.74310205, -0.03582785,  0.32173484]),\n",
              " array([-0.22979348, -0.54748869, -0.02939315,  0.01797198]),\n",
              " array([-0.24074325, -0.74217705, -0.02903371,  0.30123804]),\n",
              " array([-2.55586796e-01, -5.46653576e-01, -2.30089482e-02, -4.58286562e-04]),\n",
              " array([-0.26651987, -0.74143812, -0.02301811,  0.28487715]),\n",
              " array([-0.28134863, -0.54599557, -0.01732057, -0.01497574]),\n",
              " array([-0.29226854, -0.74086489, -0.01762009,  0.27219241]),\n",
              " array([-0.30708584, -0.54549601, -0.01217624, -0.02599546]),\n",
              " array([-0.31799576, -0.74044124, -0.01269615,  0.26282099]),\n",
              " array([-0.33280458, -0.54514039, -0.00743973, -0.03383925]),\n",
              " array([-0.34370739, -0.74015487, -0.00811651,  0.25648711]),\n",
              " array([-0.35851049, -0.54491798, -0.00298677, -0.0387448 ]),\n",
              " array([-0.36940885, -0.73999697, -0.00376167,  0.25299428]),\n",
              " array([-0.38420879, -0.93506501,  0.00129822,  0.54448834]),\n",
              " array([-0.40291009, -0.73996133,  0.01218799,  0.25221473]),\n",
              " array([-0.41770931, -0.54501551,  0.01723228, -0.03659909]),\n",
              " array([-0.42860962, -0.74038029,  0.0165003 ,  0.2614706 ]),\n",
              " array([-0.44341723, -0.54549771,  0.02172971, -0.0259626 ]),\n",
              " array([-0.45432718, -0.74092444,  0.02121046,  0.27349631]),\n",
              " array([-0.46914567, -0.54611145,  0.02668039, -0.01242203]),\n",
              " array([-0.4800679 , -0.35138209,  0.02643195, -0.29656902]),\n",
              " array([-0.48709554, -0.54687067,  0.02050056,  0.00433153]),\n",
              " array([-0.49803296, -0.74228054,  0.0205872 ,  0.30341148]),\n",
              " array([-0.51287857, -0.54745795,  0.02665543,  0.01729173]),\n",
              " array([-0.52382773, -0.35272821,  0.02700126, -0.26686335]),\n",
              " array([-0.53088229, -0.54822491,  0.02166399,  0.03421221]),\n",
              " array([-0.54184679, -0.35342022,  0.02234824, -0.25155755]),\n",
              " array([-0.54891519, -0.54885405,  0.01731709,  0.04808983]),\n",
              " array([-0.55989228, -0.35398464,  0.01827888, -0.23907949]),\n",
              " array([-0.56697197, -0.54936288,  0.01349729,  0.05931261]),\n",
              " array([-0.57795923, -0.35443703,  0.01468354, -0.22908145]),\n",
              " array([-0.58504797, -0.5497657 ,  0.01010192,  0.06819678]),\n",
              " array([-0.59604328, -0.35479002,  0.01146585, -0.2212819 ]),\n",
              " array([-0.60313908, -0.55007397,  0.00704021,  0.07499565]),\n",
              " array([-0.61414056, -0.35505365,  0.00854013, -0.21545777]),\n",
              " array([-0.62124163, -0.55029665,  0.00423097,  0.07990681]),\n",
              " array([-0.63224757, -0.74547899,  0.00582911,  0.37392161]),\n",
              " array([-0.64715715, -0.55044033,  0.01330754,  0.08308233]),\n",
              " array([-0.65816595, -0.35551164,  0.01496919, -0.20537251]),\n",
              " array([-0.66527619, -0.55084442,  0.01086174,  0.09199461]),\n",
              " array([-0.67629307, -0.35587982,  0.01270163, -0.19724175]),\n",
              " array([-0.68341067, -0.55118113,  0.00875679,  0.09942076]),\n",
              " array([-0.69443429, -0.74642748,  0.01074521,  0.39485352]),\n",
              " array([-0.70936284, -0.55145963,  0.01864228,  0.10557766]),\n",
              " array([-0.72039203, -0.35660973,  0.02075383, -0.1811659 ]),\n",
              " array([-0.72752423, -0.55202241,  0.01713051,  0.11799119]),\n",
              " array([-0.73856468, -0.35715004,  0.01949034, -0.16923835]),\n",
              " array([-0.74570768, -0.55254546,  0.01610557,  0.12952891]),\n",
              " array([-0.75675859, -0.35765788,  0.01869615, -0.15802971]),\n",
              " array([-0.76391175, -0.55304245,  0.01553555,  0.14049227]),\n",
              " array([-0.77497259, -0.35814641,  0.0183454 , -0.14724925]),\n",
              " array([-0.78213552, -0.16329191,  0.01540042, -0.43408857]),\n",
              " array([-0.78540136, -0.35862847,  0.00671864, -0.13659093]),\n",
              " array([-0.79257393, -0.16360339,  0.00398683, -0.42714668]),\n",
              " array([-0.795846  , -0.35878158, -0.00455611, -0.13320959]),\n",
              " array([-0.80302163, -0.55383798, -0.0072203 ,  0.15803247]),\n",
              " array([-0.81409839, -0.3586134 , -0.00405965, -0.13691951]),\n",
              " array([-0.82127066, -0.16343354, -0.00679804, -0.43088043]),\n",
              " array([-0.82453933, -0.35845857, -0.01541565, -0.14034825]),\n",
              " array([-0.8317085 , -0.16311926, -0.01822261, -0.43785441]),\n",
              " array([-0.83497088, -0.35797861, -0.0269797 , -0.15097108]),\n",
              " array([-0.84213046, -0.16248093, -0.02999912, -0.45204195]),\n",
              " array([-0.84538007, -0.35716607, -0.03903996, -0.16896405]),\n",
              " array([-0.8525234 , -0.16150769, -0.04241924, -0.47370283]),\n",
              " array([-0.85575355, -0.35600571, -0.0518933 , -0.19468576]),\n",
              " array([-0.86287366, -0.55034843, -0.05578702,  0.08118611]),\n",
              " array([-0.87388063, -0.35447298, -0.05416329, -0.22856285]),\n",
              " array([-0.88097009, -0.54878076, -0.05873455,  0.04655518]),\n",
              " array([-0.89194571, -0.74301346, -0.05780345,  0.3201438 ]),\n",
              " array([-0.90680598, -0.54711799, -0.05140057,  0.0098066 ]),\n",
              " array([-0.91774834, -0.351298  , -0.05120444, -0.29864056]),\n",
              " array([-0.9247743 , -0.54565409, -0.05717725, -0.02253606]),\n",
              " array([-0.93568738, -0.73991143, -0.05762797,  0.25157282]),\n",
              " array([-0.95048561, -0.54401594, -0.05259652, -0.05871587]),\n",
              " array([-0.96136593, -0.73834585, -0.05377083,  0.21691965]),\n",
              " array([-0.97613284, -0.54249809, -0.04943244, -0.09222841]),\n",
              " array([-0.9869828 , -0.73687795, -0.05127701,  0.18445799]),\n",
              " array([-1.00172036, -0.54106124, -0.04758785, -0.12394984]),\n",
              " array([-1.01254159, -0.73547027, -0.05006685,  0.15334802]),\n",
              " array([-1.02725099, -0.53966851, -0.04699988, -0.15470008]),\n",
              " array([-1.03804436, -0.73408711, -0.05009389,  0.12279289]),\n",
              " array([-1.05272611, -0.92845692, -0.04763803,  0.39926042]),\n",
              " array([-1.07129524, -0.73269269, -0.03965282,  0.09194693]),\n",
              " array([-1.0859491 , -0.92722451, -0.03781388,  0.37186042]),\n",
              " array([-1.10449359, -1.12178943, -0.03037667,  0.65238453]),\n",
              " array([-1.12692938, -0.92625791, -0.01732898,  0.35029319]),\n",
              " array([-1.14545454, -0.73089385, -0.01032312,  0.05219664]),\n",
              " array([-1.16007241, -0.92586627, -0.00927919,  0.34160474]),\n",
              " array([-1.17858974, -1.12085498, -0.00244709,  0.63134717]),\n",
              " array([-1.20100684, -0.92569897,  0.01017985,  0.33789459]),\n",
              " array([-1.21952082, -0.73072335,  0.01693774,  0.04843914]),\n",
              " array([-1.23413528, -0.92608403,  0.01790653,  0.34641758]),\n",
              " array([-1.25265696, -0.7312213 ,  0.02483488,  0.05943459]),\n",
              " array([-1.26728139, -0.92669037,  0.02602357,  0.35984848]),\n",
              " array([-1.2858152 , -0.73194783,  0.03322054,  0.07548364]),\n",
              " array([-1.30045415, -0.92752989,  0.03473021,  0.3784599 ]),\n",
              " array([-1.31900475, -0.73291793,  0.04229941,  0.09692664]),\n",
              " array([-1.33366311, -0.53842695,  0.04423794, -0.18211656]),\n",
              " array([-1.34443165, -0.73415307,  0.04059561,  0.12418711]),\n",
              " array([-1.35911471, -0.53963552,  0.04307935, -0.15541701]),\n",
              " array([-1.36990742, -0.73534695,  0.03997101,  0.15053919]),\n",
              " array([-1.38461436, -0.54081948,  0.0429818 , -0.1292706 ]),\n",
              " array([-1.39543075, -0.73652995,  0.04039639,  0.17665674]),\n",
              " array([-1.41016135, -0.5420087 ,  0.04392952, -0.10301379]),\n",
              " array([-1.42100152, -0.34754294,  0.04186924, -0.38151989]),\n",
              " array([-1.42795238, -0.54323362,  0.03423885, -0.07593516]),\n",
              " array([-1.43881705, -0.34861882,  0.03272014, -0.35762202]),\n",
              " array([-1.44578943, -0.15397695,  0.0255677 , -0.63981054]),\n",
              " array([-1.44886897, -0.34944586,  0.01277149, -0.33918692]),\n",
              " array([-1.45585789, -0.15450794,  0.00598775, -0.62781523]),\n",
              " array([-1.45894805, -0.34971295, -0.00656855, -0.33325258]),\n",
              " array([-1.4659423 , -0.15449813, -0.0132336 , -0.62799963]),\n",
              " array([-1.46903227, -0.3494329 , -0.02579359, -0.33951363]),\n",
              " array([-1.47602093, -0.54417852, -0.03258387, -0.05507485]),\n",
              " array([-1.4869045 , -0.34860489, -0.03368536, -0.35785755]),\n",
              " array([-1.49387659, -0.54323216, -0.04084251, -0.07598388]),\n",
              " array([-1.50474124, -0.34754922, -0.04236219, -0.38126787]),\n",
              " array([-1.51169222, -0.54204485, -0.04998755, -0.10223693]),\n",
              " array([-1.52253312, -0.7364161 , -0.05203229,  0.17426554]),\n",
              " array([-1.53726144, -0.54058957, -0.04854698, -0.1343673 ]),\n",
              " array([-1.54807323, -0.73498374, -0.05123432,  0.1426132 ]),\n",
              " array([-1.56277291, -0.53916689, -0.04838206, -0.16578295]),\n",
              " array([-1.57355624, -0.34338696, -0.05169772, -0.47332798]),\n",
              " array([-1.58042398, -0.53774213, -0.06116428, -0.19737708]),\n",
              " array([-1.59117883, -0.73193831, -0.06511182,  0.0754014 ]),\n",
              " array([-1.60581759, -0.92606932, -0.06360379,  0.34685152]),\n",
              " array([-1.62433898, -0.73010305, -0.05666676,  0.03480957]),\n",
              " array([-1.63894104, -0.5342162 , -0.05597057, -0.27520018]),\n",
              " array([-1.64962536, -0.33834221, -0.06147457, -0.58499784]),\n",
              " array([-1.65639221, -0.53255162, -0.07317453, -0.31229614]),\n",
              " array([-1.66704324, -0.72655896, -0.07942045, -0.04355801]),\n",
              " array([-1.68157442, -0.53039328, -0.08029161, -0.36020409]),\n",
              " array([-1.69218228, -0.72428756, -0.0874957 , -0.09388003]),\n",
              " array([-1.70666804, -0.5280276 , -0.0893733 , -0.41283477]),\n",
              " array([-1.71722859, -0.72177652, -0.09762999, -0.14961209]),\n",
              " array([-1.73166412, -0.91537473, -0.10062223,  0.11074471]),\n",
              " array([-1.74997161, -0.71896565, -0.09840734, -0.21191176]),\n",
              " array([-1.76435093, -0.91255297, -0.10264557,  0.04817924]),\n",
              " array([-1.78260199, -1.10606472, -0.10168199,  0.30679423]),\n",
              " array([-1.80472328, -0.90965193, -0.0955461 , -0.01614621]),\n",
              " array([-1.82291632, -1.10328301, -0.09586903,  0.24492783]),\n",
              " array([-1.84498198, -1.29691425, -0.09097047,  0.50589864]),\n",
              " array([-1.87092026, -1.49064444, -0.0808525 ,  0.76858387]),\n",
              " array([-1.90073315, -1.29450815, -0.06548082,  0.4515958 ]),\n",
              " array([-1.92662332, -1.09852421, -0.05644891,  0.1390123 ]),\n",
              " array([-1.9485938 , -1.29279413, -0.05366866,  0.41336587]),\n",
              " array([-1.97444968, -1.09695415, -0.04540134,  0.10425784]),\n",
              " array([-1.99638876, -1.29139705, -0.04331619,  0.38227823]),\n",
              " array([-2.02221671, -1.09568768, -0.03567062,  0.07625856]),\n",
              " array([-2.04413046, -1.29028059, -0.03414545,  0.35747731]),\n",
              " array([-2.06993607, -1.09469026, -0.0269959 ,  0.05422602]),\n",
              " array([-2.09182988, -1.28941493, -0.02591138,  0.33827077])]"
            ]
          },
          "metadata": {},
          "execution_count": 23
        }
      ]
    },
    {
      "cell_type": "code",
      "source": [
        "states = np.array(states)\n",
        "states.shape"
      ],
      "metadata": {
        "colab": {
          "base_uri": "https://localhost:8080/"
        },
        "id": "hKWtiH5gOBa_",
        "outputId": "3ab3f4fa-1818-4069-f82c-23d1db7702bc"
      },
      "execution_count": 24,
      "outputs": [
        {
          "output_type": "execute_result",
          "data": {
            "text/plain": [
              "(200, 4)"
            ]
          },
          "metadata": {},
          "execution_count": 24
        }
      ]
    },
    {
      "cell_type": "code",
      "source": [
        "plt.plot(states[:, 0])\n",
        "plt.xlabel(\"Timestep\")\n",
        "plt.ylabel(\"Position\")\n",
        "plt.title(\"Position using trained A2C128 agent\")"
      ],
      "metadata": {
        "colab": {
          "base_uri": "https://localhost:8080/",
          "height": 312
        },
        "id": "xYbN-Gp9ONFE",
        "outputId": "2c9076da-8df9-4e9d-b6ba-7011704b770e"
      },
      "execution_count": 25,
      "outputs": [
        {
          "output_type": "execute_result",
          "data": {
            "text/plain": [
              "Text(0.5, 1.0, 'Position using trained A2C128 agent')"
            ]
          },
          "metadata": {},
          "execution_count": 25
        },
        {
          "output_type": "display_data",
          "data": {
            "text/plain": [
              "<Figure size 432x288 with 1 Axes>"
            ],
            "image/png": "[encoded data removed]"
          },
          "metadata": {
            "needs_background": "light"
          }
        }
      ]
    },
    {
      "cell_type": "code",
      "source": [
        "plt.plot(states[:, 2])\n",
        "plt.xlabel(\"Timestep\")\n",
        "plt.ylabel(\"Angle (radians)\")\n",
        "plt.title(\"Angular position using trained A2C128 agent\")"
      ],
      "metadata": {
        "colab": {
          "base_uri": "https://localhost:8080/",
          "height": 312
        },
        "id": "Yf1EE-cZOQzE",
        "outputId": "818d49f1-c301-45fb-f300-7ff4d4b01d54"
      },
      "execution_count": 26,
      "outputs": [
        {
          "output_type": "execute_result",
          "data": {
            "text/plain": [
              "Text(0.5, 1.0, 'Angular position using trained A2C128 agent')"
            ]
          },
          "metadata": {},
          "execution_count": 26
        },
        {
          "output_type": "display_data",
          "data": {
            "text/plain": [
              "<Figure size 432x288 with 1 Axes>"
            ],
            "image/png": "[encoded data removed]"
          },
          "metadata": {
            "needs_background": "light"
          }
        }
      ]
    },
    {
      "cell_type": "code",
      "source": [
        "file = open(\"Test_state_128.pkl\", \"wb\")\n",
        "pickle.dump(states, file)\n",
        "file.close()"
      ],
      "metadata": {
        "id": "nCTyY24dOat8"
      },
      "execution_count": 27,
      "outputs": []
    }
  ],
  "metadata": {
    "kernelspec": {
      "display_name": "Python 3",
      "language": "python",
      "name": "python3"
    },
    "language_info": {
      "codemirror_mode": {
        "name": "ipython",
        "version": 3
      },
      "file_extension": ".py",
      "mimetype": "text/x-python",
      "name": "python",
      "nbconvert_exporter": "python",
      "pygments_lexer": "ipython3",
      "version": "3.6.3"
    },
    "colab": {
      "name": "cartpole_a2c_episodic.ipynb",
      "provenance": []
    },
    "accelerator": "GPU",
    "gpuClass": "standard"
  },
  "nbformat": 4,
  "nbformat_minor": 0
}