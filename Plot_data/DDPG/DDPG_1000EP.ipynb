{
  "nbformat": 4,
  "nbformat_minor": 0,
  "metadata": {
    "colab": {
      "name": "DDPG_COPY.ipynb",
      "provenance": [],
      "authorship_tag": "ABX9TyN/t3wDuK7NjHqX4IELYK3b"
    },
    "kernelspec": {
      "name": "python3",
      "display_name": "Python 3"
    },
    "language_info": {
      "name": "python"
    },
    "accelerator": "GPU"
  },
  "cells": [
    {
      "cell_type": "markdown",
      "source": [
        "# DDPG for Pendulum environment"
      ],
      "metadata": {
        "id": "i8wUXkt8BPKI"
      }
    },
    {
      "cell_type": "code",
      "source": [
        "!pip uninstall torch\n",
        "!pip install torch==1.4.0"
      ],
      "metadata": {
        "colab": {
          "base_uri": "https://localhost:8080/"
        },
        "id": "ON8STYg62uaL",
        "outputId": "41b0d810-c3c2-4350-c6f6-35570cc0e4cf"
      },
      "execution_count": null,
      "outputs": [
        {
          "output_type": "stream",
          "name": "stdout",
          "text": [
            "Found existing installation: torch 1.10.0+cu111\n",
            "Uninstalling torch-1.10.0+cu111:\n",
            "  Would remove:\n",
            "    /usr/local/bin/convert-caffe2-to-onnx\n",
            "    /usr/local/bin/convert-onnx-to-caffe2\n",
            "    /usr/local/bin/torchrun\n",
            "    /usr/local/lib/python3.7/dist-packages/caffe2/*\n",
            "    /usr/local/lib/python3.7/dist-packages/torch-1.10.0+cu111.dist-info/*\n",
            "    /usr/local/lib/python3.7/dist-packages/torch/*\n",
            "Proceed (y/n)? y\n",
            "\n",
            "\u001b[31mERROR: Operation cancelled by user\u001b[0m\n",
            "\u001b[33mWARNING: Ignoring invalid distribution -orch (/usr/local/lib/python3.7/dist-packages)\u001b[0m\n",
            "\u001b[33mWARNING: Ignoring invalid distribution -orch (/usr/local/lib/python3.7/dist-packages)\u001b[0m\n",
            "Collecting torch==1.4.0\n",
            "  Downloading torch-1.4.0-cp37-cp37m-manylinux1_x86_64.whl (753.4 MB)\n",
            "\u001b[K     |████████████████████████████████| 753.4 MB 6.7 kB/s \n",
            "\u001b[33mWARNING: Ignoring invalid distribution -orch (/usr/local/lib/python3.7/dist-packages)\u001b[0m\n",
            "\u001b[?25hInstalling collected packages: torch\n",
            "\u001b[33mWARNING: Ignoring invalid distribution -orch (/usr/local/lib/python3.7/dist-packages)\u001b[0m\n",
            "\u001b[31mERROR: pip's dependency resolver does not currently take into account all the packages that are installed. This behaviour is the source of the following dependency conflicts.\n",
            "torchvision 0.11.1+cu111 requires torch==1.10.0, but you have torch 1.4.0 which is incompatible.\n",
            "torchtext 0.11.0 requires torch==1.10.0, but you have torch 1.4.0 which is incompatible.\n",
            "torchaudio 0.10.0+cu111 requires torch==1.10.0, but you have torch 1.4.0 which is incompatible.\u001b[0m\n",
            "Successfully installed torch-1.4.0\n"
          ]
        }
      ]
    },
    {
      "cell_type": "code",
      "execution_count": null,
      "metadata": {
        "id": "dp6sni12BOgc"
      },
      "outputs": [],
      "source": [
        "# importing the dependencies\n",
        "import gym\n",
        "import numpy as np\n",
        "\n",
        "import plotly.graph_objs as go\n",
        "import plotly.offline as py\n",
        "\n",
        "# Pytorch\n",
        "import torch\n",
        "import torch.nn as nn\n",
        "import torch.nn.functional as F\n",
        "import torch.optim as optim\n",
        "import torch.multiprocessing as mp\n",
        "from torch.distributions import Normal\n",
        "\n",
        "import math\n",
        "import random"
      ]
    },
    {
      "cell_type": "markdown",
      "source": [
        "## Creating the network"
      ],
      "metadata": {
        "id": "42mHo-hoBXoQ"
      }
    },
    {
      "cell_type": "code",
      "source": [
        "class ReplayBuffer:\n",
        "    def __init__(self, capacity):\n",
        "        self.capacity = capacity\n",
        "        self.buffer = []\n",
        "        self.position = 0\n",
        "    \n",
        "    def push(self, state, action, reward, next_state, done):\n",
        "        if len(self.buffer) < self.capacity:\n",
        "            self.buffer.append(None)\n",
        "        self.buffer[self.position] = (state, action, reward, next_state, done)\n",
        "        self.position = int((self.position + 1) % self.capacity)  # as a ring buffer\n",
        "    \n",
        "    def sample(self, batch_size):\n",
        "        batch = random.sample(self.buffer, batch_size)\n",
        "        state, action, reward, next_state, done = map(np.stack, zip(*batch)) # stack for each element\n",
        "        ''' \n",
        "        the * serves as unpack: sum(a,b) <=> batch=(a,b), sum(*batch) ;\n",
        "        zip: a=[1,2], b=[2,3], zip(a,b) => [(1, 2), (2, 3)] ;\n",
        "        the map serves as mapping the function on each list element: map(square, [2,3]) => [4,9] ;\n",
        "        np.stack((1,2)) => array([1, 2])\n",
        "        '''\n",
        "        return state, action, reward, next_state, done\n",
        "    \n",
        "    def __len__(self):\n",
        "        return len(self.buffer)"
      ],
      "metadata": {
        "id": "Ep-0iytPQ9td"
      },
      "execution_count": null,
      "outputs": []
    },
    {
      "cell_type": "code",
      "source": [
        "class ActorNetwork(nn.Module):\n",
        "    def __init__(self, input_dim, output_dim, hidden_dim, init_w=3e-3):\n",
        "        super(ActorNetwork, self).__init__()\n",
        "        self.action_dim=output_dim\n",
        "        \n",
        "        self.linear1 = nn.Linear(input_dim, hidden_dim)\n",
        "        self.linear2 = nn.Linear(hidden_dim, hidden_dim)\n",
        "        self.linear3 = nn.Linear(hidden_dim, output_dim) # output dim = dim of action\n",
        "\n",
        "        # weights initialization\n",
        "        self.linear3.weight.data.uniform_(-init_w, init_w)\n",
        "        self.linear3.bias.data.uniform_(-init_w, init_w)\n",
        "    \n",
        "\n",
        "    def forward(self, state):\n",
        "        activation=F.relu\n",
        "        x = activation(self.linear1(state)) \n",
        "        x = activation(self.linear2(x))\n",
        "        # x = F.tanh(self.linear3(x)).clone() # need clone to prevent in-place operation (which cause gradients not be drived)\n",
        "        x = self.linear3(x) # for simplicity, no restriction on action range\n",
        "\n",
        "        return x\n",
        "\n",
        "    def select_action(self, state, noise_scale=1.0):\n",
        "        '''\n",
        "        select action for sampling, no gradients flow, noisy action, return .cpu\n",
        "        '''\n",
        "        state = torch.FloatTensor(state).unsqueeze(0).to(device) # state dim: (N, dim of state)\n",
        "        normal = Normal(0, 1)\n",
        "        action = self.forward(state)\n",
        "        noise = noise_scale * normal.sample(action.shape).to(device)\n",
        "        action+=noise\n",
        "        return action.detach().cpu().numpy()[0]\n",
        "\n",
        "    def sample_action(self, action_range=1.):\n",
        "        normal = Normal(0, 1)\n",
        "        random_action=action_range*normal.sample( (self.action_dim,) )\n",
        "\n",
        "        return random_action.cpu().numpy()\n",
        "\n",
        "\n",
        "    def evaluate_action(self, state, noise_scale=0.0):\n",
        "        '''\n",
        "        evaluate action within GPU graph, for gradients flowing through it, noise_scale controllable\n",
        "        '''\n",
        "        normal = Normal(0, 1)\n",
        "        action = self.forward(state)\n",
        "        # action = torch.tanh(action)\n",
        "        noise = noise_scale * normal.sample(action.shape).to(device)\n",
        "        action+=noise\n",
        "        return action"
      ],
      "metadata": {
        "id": "mKahD_HHqgEX"
      },
      "execution_count": null,
      "outputs": []
    },
    {
      "cell_type": "code",
      "source": [
        "class QNetwork(nn.Module):\n",
        "    def __init__(self, input_dim, hidden_dim, init_w=3e-3):\n",
        "        super(QNetwork, self).__init__()\n",
        "        \n",
        "        self.linear1 = nn.Linear(input_dim, hidden_dim)\n",
        "        self.linear2 = nn.Linear(hidden_dim, hidden_dim)\n",
        "        self.linear3 = nn.Linear(hidden_dim, 1)\n",
        "        \n",
        "        self.linear3.weight.data.uniform_(-init_w, init_w)\n",
        "        self.linear3.bias.data.uniform_(-init_w, init_w)\n",
        "        \n",
        "    def forward(self, state, action):\n",
        "        x = torch.cat([state, action], 1) # the dim 0 is number of samples\n",
        "        x = F.relu(self.linear1(x))\n",
        "        x = F.relu(self.linear2(x))\n",
        "        x = self.linear3(x)\n",
        "        return x"
      ],
      "metadata": {
        "id": "OCMeN1KmqpDK"
      },
      "execution_count": null,
      "outputs": []
    },
    {
      "cell_type": "code",
      "source": [
        "class DDPG():\n",
        "    def __init__(self, replay_buffer, state_dim, action_dim, hidden_dim):\n",
        "        self.replay_buffer = replay_buffer\n",
        "        self.qnet = QNetwork(state_dim+action_dim, hidden_dim).to(device)\n",
        "        self.target_qnet = QNetwork(state_dim+action_dim, hidden_dim).to(device)\n",
        "        self.policy_net = ActorNetwork(state_dim, action_dim, hidden_dim).to(device)\n",
        "        self.target_policy_net = ActorNetwork(state_dim, action_dim, hidden_dim).to(device)\n",
        "\n",
        "        print('Q network: ', self.qnet)\n",
        "        print('Policy network: ', self.policy_net)\n",
        "\n",
        "        for target_param, param in zip(self.target_qnet.parameters(), self.qnet.parameters()):\n",
        "            target_param.data.copy_(param.data)\n",
        "        self.q_criterion = nn.MSELoss()\n",
        "        q_lr=8e-4\n",
        "        policy_lr = 8e-4\n",
        "        self.update_cnt=0\n",
        "\n",
        "        self.q_optimizer = optim.Adam(self.qnet.parameters(), lr=q_lr)\n",
        "        self.policy_optimizer = optim.Adam(self.policy_net.parameters(), lr=policy_lr)\n",
        "    \n",
        "    def target_soft_update(self, net, target_net, soft_tau):\n",
        "    # Soft update the target net\n",
        "        for target_param, param in zip(target_net.parameters(), net.parameters()):\n",
        "            target_param.data.copy_(  # copy data value into target parameters\n",
        "                target_param.data * (1.0 - soft_tau) + param.data * soft_tau\n",
        "            )\n",
        "\n",
        "        return target_net\n",
        "\n",
        "    def update(self, batch_size, reward_scale=10.0, gamma=0.99, soft_tau=1e-2, policy_up_itr=10, target_update_delay=3, warmup=True):\n",
        "        self.update_cnt+=1\n",
        "        state, action, reward, next_state, done = self.replay_buffer.sample(batch_size)\n",
        "        # print('sample:', state, action,  reward, done)\n",
        "\n",
        "        state      = torch.FloatTensor(state).to(device)\n",
        "        next_state = torch.FloatTensor(next_state).to(device)\n",
        "        action     = torch.FloatTensor(action).to(device)\n",
        "        reward     = torch.FloatTensor(reward).unsqueeze(1).to(device)  \n",
        "        done       = torch.FloatTensor(np.float32(done)).unsqueeze(1).to(device)\n",
        "\n",
        "        predict_q = self.qnet(state, action) # for q \n",
        "        new_next_action = self.target_policy_net.evaluate_action(next_state)  # for q\n",
        "        new_action = self.policy_net.evaluate_action(state) # for policy\n",
        "        predict_new_q = self.qnet(state, new_action) # for policy\n",
        "        target_q = reward+(1-done)*gamma*self.target_qnet(next_state, new_next_action)  # for q\n",
        "        # reward = reward_scale * (reward - reward.mean(dim=0)) /reward.std(dim=0) # normalize with batch mean and std\n",
        "\n",
        "        # train qnet\n",
        "        q_loss = self.q_criterion(predict_q, target_q.detach())\n",
        "        self.q_optimizer.zero_grad()\n",
        "        q_loss.backward()\n",
        "        self.q_optimizer.step()\n",
        "\n",
        "        # train policy_net\n",
        "        policy_loss = -torch.mean(predict_new_q)\n",
        "        self.policy_optimizer.zero_grad()\n",
        "        policy_loss.backward()\n",
        "        self.policy_optimizer.step()\n",
        "\n",
        "            \n",
        "        # update the target_qnet\n",
        "        if self.update_cnt%target_update_delay==0:\n",
        "            self.target_qnet=self.target_soft_update(self.qnet, self.target_qnet, soft_tau)\n",
        "            self.target_policy_net=self.target_soft_update(self.policy_net, self.target_policy_net, soft_tau)\n",
        "\n",
        "        return q_loss.detach().cpu().numpy(), policy_loss.detach().cpu().numpy()\n"
      ],
      "metadata": {
        "id": "p-NgNE-aqvyH"
      },
      "execution_count": null,
      "outputs": []
    },
    {
      "cell_type": "code",
      "source": [
        "class NormalizedActions(gym.ActionWrapper): # gym env wrapper\n",
        "    def action(self, action):\n",
        "        low  = self.action_space.low\n",
        "        high = self.action_space.high\n",
        "        \n",
        "        action = low + (action + 1.0) * 0.5 * (high - low)\n",
        "        action = np.clip(action, low, high)\n",
        "        \n",
        "        return action\n",
        "\n",
        "    def _reverse_action(self, action):\n",
        "        low  = self.action_space.low\n",
        "        high = self.action_space.high\n",
        "        \n",
        "        action = 2 * (action - low) / (high - low) - 1\n",
        "        action = np.clip(action, low, high)\n",
        "        \n",
        "        return action"
      ],
      "metadata": {
        "id": "JJGW1qbcqxdT"
      },
      "execution_count": null,
      "outputs": []
    },
    {
      "cell_type": "code",
      "source": [
        "# Initialization\n",
        "env = NormalizedActions(gym.make(\"Pendulum-v0\"))\n",
        "# env = gym.make(\"Pendulum-v0\")\n",
        "action_dim = env.action_space.shape[0]\n",
        "state_dim  = env.observation_space.shape[0]\n",
        "\n",
        "# Device settings\n",
        "device_idx = 0\n",
        "device = torch.device(\"cuda:\" + str(device_idx) if torch.cuda.is_available() else \"cpu\")\n",
        "\n",
        "hidden_dim = 512\n",
        "explore_steps = 0  # for random exploration\n",
        "batch_size = 64\n",
        "\n",
        "replay_buffer_size=1e6\n",
        "replay_buffer = ReplayBuffer(replay_buffer_size)\n",
        "\n",
        "torch.autograd.set_detect_anomaly(True)\n",
        "alg = DDPG(replay_buffer, state_dim, action_dim, hidden_dim)"
      ],
      "metadata": {
        "colab": {
          "base_uri": "https://localhost:8080/"
        },
        "id": "lREydcTEq48W",
        "outputId": "e5c2b2d7-f4f2-41fc-cfc7-1bdbcd70f2cb"
      },
      "execution_count": null,
      "outputs": [
        {
          "output_type": "stream",
          "name": "stdout",
          "text": [
            "Q network:  QNetwork(\n",
            "  (linear1): Linear(in_features=4, out_features=512, bias=True)\n",
            "  (linear2): Linear(in_features=512, out_features=512, bias=True)\n",
            "  (linear3): Linear(in_features=512, out_features=1, bias=True)\n",
            ")\n",
            "Policy network:  ActorNetwork(\n",
            "  (linear1): Linear(in_features=3, out_features=512, bias=True)\n",
            "  (linear2): Linear(in_features=512, out_features=512, bias=True)\n",
            "  (linear3): Linear(in_features=512, out_features=1, bias=True)\n",
            ")\n"
          ]
        }
      ]
    },
    {
      "cell_type": "code",
      "source": [
        "q_loss_list = []\n",
        "policy_loss_list = []"
      ],
      "metadata": {
        "id": "K2TxgyRXSWGs"
      },
      "execution_count": null,
      "outputs": []
    },
    {
      "cell_type": "code",
      "source": [
        "# hyper-parameters\n",
        "max_episodes  = 1000\n",
        "max_steps   = 100\n",
        "frame_idx   = 0\n",
        "rewards=[]\n",
        "\n",
        "for i_episode in range (max_episodes):\n",
        "  episode_q_loss=[]\n",
        "  episode_policy_loss=[]\n",
        "  state = env.reset()\n",
        "  episode_reward = 0\n",
        "\n",
        "  for step in range(max_steps):\n",
        "    if frame_idx > explore_steps:\n",
        "      action = alg.policy_net.select_action(state)\n",
        "    else:\n",
        "      action = alg.policy_net.sample_action(action_range=1.)\n",
        "    next_state, reward, done, _ = env.step(action)\n",
        "    replay_buffer.push(state, action, reward, next_state, done)\n",
        "                \n",
        "    state = next_state\n",
        "    episode_reward += reward\n",
        "    frame_idx += 1\n",
        "                \n",
        "    if len(replay_buffer) > batch_size:\n",
        "      q_loss, policy_loss = alg.update(batch_size)\n",
        "      episode_q_loss.append(float(q_loss))\n",
        "      episode_policy_loss.append(float(policy_loss))\n",
        "                \n",
        "    if done:\n",
        "      break\n",
        "  if i_episode % 20 == 0:\n",
        "    print('Eps: ', i_episode, '| Reward: ', episode_reward, '| Loss: ', np.average(q_loss_list), np.average(policy_loss_list))\n",
        "            \n",
        "  rewards.append(episode_reward)\n",
        "  q_loss_list.append(np.mean(episode_q_loss))\n",
        "  policy_loss_list.append(np.mean(episode_policy_loss))"
      ],
      "metadata": {
        "colab": {
          "base_uri": "https://localhost:8080/"
        },
        "id": "FZUiTtOircfR",
        "outputId": "f8523d51-0f7c-48c3-9dc3-68f799845f50"
      },
      "execution_count": null,
      "outputs": [
        {
          "output_type": "stream",
          "name": "stderr",
          "text": [
            "/usr/local/lib/python3.7/dist-packages/numpy/lib/function_base.py:380: RuntimeWarning:\n",
            "\n",
            "Mean of empty slice.\n",
            "\n",
            "/usr/local/lib/python3.7/dist-packages/numpy/core/_methods.py:170: RuntimeWarning:\n",
            "\n",
            "invalid value encountered in double_scalars\n",
            "\n"
          ]
        },
        {
          "output_type": "stream",
          "name": "stdout",
          "text": [
            "Eps:  0 | Reward:  -707.7538796139933 | Loss:  nan nan\n",
            "Eps:  20 | Reward:  -559.5220802985062 | Loss:  0.8921281498346687 22.587422432278668\n",
            "Eps:  40 | Reward:  -261.32276963485845 | Loss:  0.6622356796251714 37.86487090032055\n",
            "Eps:  60 | Reward:  -263.24580053241584 | Loss:  0.7016236407400488 46.84928929085701\n",
            "Eps:  80 | Reward:  -127.54346012515659 | Loss:  0.8901108610735328 50.90110911759116\n",
            "Eps:  100 | Reward:  -0.7628016124101397 | Loss:  1.2144002501780582 52.55816235491735\n",
            "Eps:  120 | Reward:  -222.30829755230494 | Loss:  1.527118604366547 52.92114783578698\n",
            "Eps:  140 | Reward:  -118.91284353997135 | Loss:  1.7790868839064375 52.36241415219293\n",
            "Eps:  160 | Reward:  -238.5387408929167 | Loss:  1.9661517090738312 51.35658767203677\n",
            "Eps:  180 | Reward:  -245.80925148187225 | Loss:  2.122614698328618 50.2009689713954\n",
            "Eps:  200 | Reward:  -235.31657452914013 | Loss:  2.222916174696127 49.037285120663554\n",
            "Eps:  220 | Reward:  -244.6662705770475 | Loss:  2.31529401069856 47.84279689332348\n",
            "Eps:  240 | Reward:  -121.79139965478888 | Loss:  2.3394273471010556 46.642426601040285\n",
            "Eps:  260 | Reward:  -240.69359611015562 | Loss:  2.364999539238703 45.541586949704175\n",
            "Eps:  280 | Reward:  -241.19957826833493 | Loss:  2.412146444829262 44.49209397628301\n",
            "Eps:  300 | Reward:  -119.98329975140567 | Loss:  2.451396117056237 43.52125208647086\n",
            "Eps:  320 | Reward:  -119.132668848717 | Loss:  2.500404274447194 42.55895356153542\n",
            "Eps:  340 | Reward:  -128.72941243229806 | Loss:  2.5414628100529546 41.69371227749511\n",
            "Eps:  360 | Reward:  -147.04654333976404 | Loss:  2.5638261408742324 40.853347867977575\n",
            "Eps:  380 | Reward:  -341.8456469949203 | Loss:  2.5967890897199717 40.06771294138176\n",
            "Eps:  400 | Reward:  -240.41953219662338 | Loss:  2.6324458268115865 39.37374141425963\n",
            "Eps:  420 | Reward:  -131.0032871341497 | Loss:  2.6880678712117723 38.740771203323725\n",
            "Eps:  440 | Reward:  -122.89298184509948 | Loss:  2.7445911467450093 38.130452395264626\n",
            "Eps:  460 | Reward:  -128.54077919035697 | Loss:  2.792697630793716 37.52796679096529\n",
            "Eps:  480 | Reward:  -241.89411498456175 | Loss:  2.8225820221185844 36.936696217360804\n",
            "Eps:  500 | Reward:  -126.78016770236741 | Loss:  2.871263732542292 36.38100177450439\n",
            "Eps:  520 | Reward:  -253.00590621252158 | Loss:  2.9070923630528305 35.84925825305875\n",
            "Eps:  540 | Reward:  -370.5719515861947 | Loss:  2.950459671272076 35.34429450128715\n",
            "Eps:  560 | Reward:  -356.6791242503585 | Loss:  2.9805522289206015 34.85534590210251\n",
            "Eps:  580 | Reward:  -369.1260456894869 | Loss:  3.012506226063199 34.418653089424836\n",
            "Eps:  600 | Reward:  -266.58054792764153 | Loss:  3.047476124327543 34.028991943762875\n",
            "Eps:  620 | Reward:  -251.47596412484552 | Loss:  3.082439586647733 33.672534714893146\n",
            "Eps:  640 | Reward:  -250.76838868360215 | Loss:  3.1203926344911226 33.328652316143895\n",
            "Eps:  660 | Reward:  -359.6701246239304 | Loss:  3.151280134974703 32.97313400359964\n",
            "Eps:  680 | Reward:  -351.42609336621956 | Loss:  3.1996751997616917 32.60135745786583\n",
            "Eps:  700 | Reward:  -129.0189820617018 | Loss:  3.248852162275283 32.22906084660817\n",
            "Eps:  720 | Reward:  -147.58002294813951 | Loss:  3.295854986224459 31.84884162778173\n",
            "Eps:  740 | Reward:  -235.32697582710196 | Loss:  3.3379210021360204 31.460442506912727\n",
            "Eps:  760 | Reward:  -357.3044739368044 | Loss:  3.389952963616631 31.031295961450724\n",
            "Eps:  780 | Reward:  -236.15950931208408 | Loss:  3.4286639921013076 30.605973263407492\n",
            "Eps:  800 | Reward:  -119.8896658774453 | Loss:  3.45417168713783 30.183028306790572\n",
            "Eps:  820 | Reward:  -117.13499837553786 | Loss:  3.47731516098988 29.76872463678381\n",
            "Eps:  840 | Reward:  -236.13338065432828 | Loss:  3.49932059046141 29.371056153076868\n",
            "Eps:  860 | Reward:  -118.89549047193528 | Loss:  3.520693288913067 28.999648314970987\n",
            "Eps:  880 | Reward:  -120.47073538385384 | Loss:  3.544780669789872 28.64520870265444\n",
            "Eps:  900 | Reward:  -229.94780426261553 | Loss:  3.563867181772102 28.287866859796427\n",
            "Eps:  920 | Reward:  -130.60084017621404 | Loss:  3.5637876237045574 27.936800237687496\n",
            "Eps:  940 | Reward:  -222.14353123709301 | Loss:  3.5631306239700464 27.596131095390167\n",
            "Eps:  960 | Reward:  -117.5263660704843 | Loss:  3.5647022367487127 27.27278483259533\n",
            "Eps:  980 | Reward:  -265.42924404346485 | Loss:  3.5792355828201057 26.939450290328796\n"
          ]
        }
      ]
    },
    {
      "cell_type": "code",
      "source": [
        "# Plot the data\n",
        "len(rewards)"
      ],
      "metadata": {
        "colab": {
          "base_uri": "https://localhost:8080/"
        },
        "id": "NE9MKK_NCl4b",
        "outputId": "1e57bab3-fd57-43d8-cd0a-70660c418b7e"
      },
      "execution_count": null,
      "outputs": [
        {
          "output_type": "execute_result",
          "data": {
            "text/plain": [
              "1000"
            ]
          },
          "metadata": {},
          "execution_count": 11
        }
      ]
    },
    {
      "cell_type": "code",
      "source": [
        "episodes = np.arange(len(rewards))\n",
        "data = [go.Scatter(x=episodes, y=rewards)]\n",
        "layout = go.Layout(title='Rewards for DDPG agent on Pendulum-v0', xaxis_title='No. of episodes', yaxis_title='Rewards', \\\n",
        "                   width=1200, height=600)\n",
        "figure = go.Figure(data=data, layout=layout)\n",
        "py.iplot(figure)"
      ],
      "metadata": {
        "colab": {
          "base_uri": "https://localhost:8080/",
          "height": 617
        },
        "id": "zXN-E2yeCr3x",
        "outputId": "a2b3b03c-d412-4727-83f2-4e491b774954"
      },
      "execution_count": null,
      "outputs": [
        {
          "output_type": "display_data",
          "data": {
            "text/html": [
              "<html>\n",
              "<head><meta charset=\"utf-8\" /></head>\n",
              "<body>\n",
              "    <div>\n",
              "            <script src=\"https://cdnjs.cloudflare.com/ajax/libs/mathjax/2.7.5/MathJax.js?config=TeX-AMS-MML_SVG\"></script><script type=\"text/javascript\">if (window.MathJax) {MathJax.Hub.Config({SVG: {font: \"STIX-Web\"}});}</script>\n",
              "                <script type=\"text/javascript\">window.PlotlyConfig = {MathJaxConfig: 'local'};</script>\n",
              "        <script src=\"https://cdn.plot.ly/plotly-latest.min.js\"></script>    \n",
              "            <div id=\"a3e087ba-e628-4b21-898f-e107284cce6c\" class=\"plotly-graph-div\" style=\"height:600px; width:1200px;\"></div>\n",
              "            <script type=\"text/javascript\">\n",
              "                \n",
              "                    window.PLOTLYENV=window.PLOTLYENV || {};\n",
              "                    \n",
              "                if (document.getElementById(\"a3e087ba-e628-4b21-898f-e107284cce6c\")) {\n",
              "                    Plotly.newPlot(\n",
              "                        'a3e087ba-e628-4b21-898f-e107284cce6c',\n",
              "                        [{\"type\": \"scatter\", \"x\": [0, 1, 2, 3, 4, 5, 6, 7, 8, 9, 10, 11, 12, 13, 14, 15, 16, 17, 18, 19, 20, 21, 22, 23, 24, 25, 26, 27, 28, 29, 30, 31, 32, 33, 34, 35, 36, 37, 38, 39, 40, 41, 42, 43, 44, 45, 46, 47, 48, 49, 50, 51, 52, 53, 54, 55, 56, 57, 58, 59, 60, 61, 62, 63, 64, 65, 66, 67, 68, 69, 70, 71, 72, 73, 74, 75, 76, 77, 78, 79, 80, 81, 82, 83, 84, 85, 86, 87, 88, 89, 90, 91, 92, 93, 94, 95, 96, 97, 98, 99, 100, 101, 102, 103, 104, 105, 106, 107, 108, 109, 110, 111, 112, 113, 114, 115, 116, 117, 118, 119, 120, 121, 122, 123, 124, 125, 126, 127, 128, 129, 130, 131, 132, 133, 134, 135, 136, 137, 138, 139, 140, 141, 142, 143, 144, 145, 146, 147, 148, 149, 150, 151, 152, 153, 154, 155, 156, 157, 158, 159, 160, 161, 162, 163, 164, 165, 166, 167, 168, 169, 170, 171, 172, 173, 174, 175, 176, 177, 178, 179, 180, 181, 182, 183, 184, 185, 186, 187, 188, 189, 190, 191, 192, 193, 194, 195, 196, 197, 198, 199, 200, 201, 202, 203, 204, 205, 206, 207, 208, 209, 210, 211, 212, 213, 214, 215, 216, 217, 218, 219, 220, 221, 222, 223, 224, 225, 226, 227, 228, 229, 230, 231, 232, 233, 234, 235, 236, 237, 238, 239, 240, 241, 242, 243, 244, 245, 246, 247, 248, 249, 250, 251, 252, 253, 254, 255, 256, 257, 258, 259, 260, 261, 262, 263, 264, 265, 266, 267, 268, 269, 270, 271, 272, 273, 274, 275, 276, 277, 278, 279, 280, 281, 282, 283, 284, 285, 286, 287, 288, 289, 290, 291, 292, 293, 294, 295, 296, 297, 298, 299, 300, 301, 302, 303, 304, 305, 306, 307, 308, 309, 310, 311, 312, 313, 314, 315, 316, 317, 318, 319, 320, 321, 322, 323, 324, 325, 326, 327, 328, 329, 330, 331, 332, 333, 334, 335, 336, 337, 338, 339, 340, 341, 342, 343, 344, 345, 346, 347, 348, 349, 350, 351, 352, 353, 354, 355, 356, 357, 358, 359, 360, 361, 362, 363, 364, 365, 366, 367, 368, 369, 370, 371, 372, 373, 374, 375, 376, 377, 378, 379, 380, 381, 382, 383, 384, 385, 386, 387, 388, 389, 390, 391, 392, 393, 394, 395, 396, 397, 398, 399, 400, 401, 402, 403, 404, 405, 406, 407, 408, 409, 410, 411, 412, 413, 414, 415, 416, 417, 418, 419, 420, 421, 422, 423, 424, 425, 426, 427, 428, 429, 430, 431, 432, 433, 434, 435, 436, 437, 438, 439, 440, 441, 442, 443, 444, 445, 446, 447, 448, 449, 450, 451, 452, 453, 454, 455, 456, 457, 458, 459, 460, 461, 462, 463, 464, 465, 466, 467, 468, 469, 470, 471, 472, 473, 474, 475, 476, 477, 478, 479, 480, 481, 482, 483, 484, 485, 486, 487, 488, 489, 490, 491, 492, 493, 494, 495, 496, 497, 498, 499, 500, 501, 502, 503, 504, 505, 506, 507, 508, 509, 510, 511, 512, 513, 514, 515, 516, 517, 518, 519, 520, 521, 522, 523, 524, 525, 526, 527, 528, 529, 530, 531, 532, 533, 534, 535, 536, 537, 538, 539, 540, 541, 542, 543, 544, 545, 546, 547, 548, 549, 550, 551, 552, 553, 554, 555, 556, 557, 558, 559, 560, 561, 562, 563, 564, 565, 566, 567, 568, 569, 570, 571, 572, 573, 574, 575, 576, 577, 578, 579, 580, 581, 582, 583, 584, 585, 586, 587, 588, 589, 590, 591, 592, 593, 594, 595, 596, 597, 598, 599, 600, 601, 602, 603, 604, 605, 606, 607, 608, 609, 610, 611, 612, 613, 614, 615, 616, 617, 618, 619, 620, 621, 622, 623, 624, 625, 626, 627, 628, 629, 630, 631, 632, 633, 634, 635, 636, 637, 638, 639, 640, 641, 642, 643, 644, 645, 646, 647, 648, 649, 650, 651, 652, 653, 654, 655, 656, 657, 658, 659, 660, 661, 662, 663, 664, 665, 666, 667, 668, 669, 670, 671, 672, 673, 674, 675, 676, 677, 678, 679, 680, 681, 682, 683, 684, 685, 686, 687, 688, 689, 690, 691, 692, 693, 694, 695, 696, 697, 698, 699, 700, 701, 702, 703, 704, 705, 706, 707, 708, 709, 710, 711, 712, 713, 714, 715, 716, 717, 718, 719, 720, 721, 722, 723, 724, 725, 726, 727, 728, 729, 730, 731, 732, 733, 734, 735, 736, 737, 738, 739, 740, 741, 742, 743, 744, 745, 746, 747, 748, 749, 750, 751, 752, 753, 754, 755, 756, 757, 758, 759, 760, 761, 762, 763, 764, 765, 766, 767, 768, 769, 770, 771, 772, 773, 774, 775, 776, 777, 778, 779, 780, 781, 782, 783, 784, 785, 786, 787, 788, 789, 790, 791, 792, 793, 794, 795, 796, 797, 798, 799, 800, 801, 802, 803, 804, 805, 806, 807, 808, 809, 810, 811, 812, 813, 814, 815, 816, 817, 818, 819, 820, 821, 822, 823, 824, 825, 826, 827, 828, 829, 830, 831, 832, 833, 834, 835, 836, 837, 838, 839, 840, 841, 842, 843, 844, 845, 846, 847, 848, 849, 850, 851, 852, 853, 854, 855, 856, 857, 858, 859, 860, 861, 862, 863, 864, 865, 866, 867, 868, 869, 870, 871, 872, 873, 874, 875, 876, 877, 878, 879, 880, 881, 882, 883, 884, 885, 886, 887, 888, 889, 890, 891, 892, 893, 894, 895, 896, 897, 898, 899, 900, 901, 902, 903, 904, 905, 906, 907, 908, 909, 910, 911, 912, 913, 914, 915, 916, 917, 918, 919, 920, 921, 922, 923, 924, 925, 926, 927, 928, 929, 930, 931, 932, 933, 934, 935, 936, 937, 938, 939, 940, 941, 942, 943, 944, 945, 946, 947, 948, 949, 950, 951, 952, 953, 954, 955, 956, 957, 958, 959, 960, 961, 962, 963, 964, 965, 966, 967, 968, 969, 970, 971, 972, 973, 974, 975, 976, 977, 978, 979, 980, 981, 982, 983, 984, 985, 986, 987, 988, 989, 990, 991, 992, 993, 994, 995, 996, 997, 998, 999], \"y\": [-707.7538796139933, -679.4469394543255, -692.3876887781848, -743.0890016504407, -808.6614933708928, -679.5107483003711, -711.410075814598, -655.1039412417808, -520.3310544025484, -759.1550975428727, -749.9829546005011, -735.3767667794299, -744.1525714390638, -746.6680021179423, -751.8098818347893, -712.1487843598899, -521.3787729560505, -751.7497043578707, -537.6384197252693, -498.11212759324127, -559.5220802985062, -758.1951095048446, -479.2294548155737, -559.6929942663803, -400.348238268065, -445.88855252719924, -400.9986306461924, -399.40084988638023, -266.55384840357317, -433.69204102236824, -298.6349671333707, -455.1451954109342, -385.82700032699825, -482.4150818952951, -392.89245555490214, -588.1574943285915, -436.58366084281704, -303.4440063513925, -484.94814918535525, -292.0388249371358, -261.32276963485845, -265.1582792214894, -379.7172873005743, -274.5676128745972, -257.9495275063775, -125.3560901086345, -247.96824730581918, -383.98249537399744, -130.51741188498002, -130.8681519153516, -128.51232418410703, -466.52266121899027, -265.1057883210222, -377.436612992704, -124.91563252428541, -134.00323880070547, -123.8968474383831, -130.37550075599256, -248.39072720747987, -129.13000232261732, -263.24580053241584, -244.61989870331718, -135.36590353711293, -2.199291723234164, -125.48157137957497, -118.16055101735805, -120.12073814881886, -247.7609846983901, -125.06456689667715, -126.82304730985538, -122.7133762566627, -127.2016392878743, -123.34905268788826, -2.6794424251209987, -121.05143460907338, -127.39231705673981, -237.43351792380423, -265.40411827276324, -1.321092570944011, -242.12742543109763, -127.54346012515659, -274.5498591999993, -118.0501656406084, -358.24018079656247, -363.3665807240534, -123.76297322021024, -0.8086342555034053, -386.7962634691291, -124.97703932852706, -231.87182343887704, -125.96313069216674, -367.78626376308, -122.87491077056842, -125.63907776112258, -223.88523123099304, -124.15179910015867, -223.88226310704601, -364.2022526855807, -238.73380481935405, -117.63691358765067, -0.7628016124101397, -127.49047953448533, -363.9813855237189, -113.99435539817546, -124.687796628418, -125.49329222868992, -123.94020667722643, -124.15291207587609, -248.4770994041414, -237.57334120210777, -0.6900544208438498, -122.36831081629708, -121.73576334917848, -244.36582748428617, -124.93022985726037, -2.8328971369257383, -1.3718691242786518, -118.43871686321611, -127.31520187255025, -123.21488043411466, -222.30829755230494, -346.47806693994755, -3.4334062369241214, -234.03695676007314, -122.14778487906369, -232.4020690373275, -131.07816178881058, -121.64679220590861, -342.21205934638584, -121.60327577909582, -119.33092997407512, -129.68427130156036, -117.92275114155335, -322.84791791915706, -117.01797261667373, -116.09291739399447, -121.95348076731703, -225.16163748152843, -117.29190451243969, -122.99944586833149, -118.91284353997135, -117.10567208719729, -238.9541238532484, -3.2405951911752737, -352.49482389222874, -0.9448361398792346, -230.93434372568666, -127.72255151015719, -242.1430714312501, -122.82910808410715, -1.3604166820694024, -230.74166814934617, -236.7355212728138, -117.23526475189693, -246.05452605710687, -123.33887017273481, -128.29966725027776, -248.42683957387186, -246.59202073630794, -123.23419053699803, -238.5387408929167, -125.15454120354666, -133.10002315717458, -1.1787589494620225, -123.9119866985823, -116.07933548745845, -237.7854513270125, -234.53769498245953, -122.00332407025122, -118.80105820561994, -121.91180587631379, -364.1621768281366, -232.12380235855304, -250.20322975238125, -223.75927437596084, -1.6976940580366968, -118.76934021718505, -125.99607453986063, -368.3367465441649, -119.91472950981253, -245.80925148187225, -123.79927187256193, -234.11388822932943, -234.16923071667486, -0.9030049755983349, -240.2542805090282, -126.74897283157067, -118.26431935677327, -126.4378041767252, -124.876739055633, -223.45601804572397, -345.3095439911432, -120.47938365232362, -228.60228009264878, -239.18880408194374, -2.07776280860068, -229.54807611866713, -119.32759655030027, -227.47568864506817, -343.1319746313592, -235.31657452914013, -121.6202474806547, -3.023495092858579, -230.89113448127938, -1.276605078595611, -125.27828894486554, -1.2713699399113219, -124.10951691168349, -228.4154759519401, -3.0923337115359653, -118.78994532827853, -119.76801782853295, -115.81864203525812, -238.03706205243728, -236.1509519340012, -242.25004800205704, -128.45079832918313, -121.40442109536403, -128.6513013252793, -1.231844732249685, -244.6662705770475, -224.0559789546522, -129.1950701100547, -229.20444923668367, -1.9575582150629944, -230.62833100150308, -123.3006207162735, -129.76357921106003, -123.95675304352561, -230.9750353465476, -127.29277960282252, -125.59869494600296, -129.20996383416562, -353.7282471570348, -231.05804651316765, -244.85505781357597, -119.54137613966387, -121.33089209564149, -127.07477209056246, -36.420460537065914, -121.79139965478888, -237.94873212688432, -339.577761512554, -123.64324324681266, -331.39464474986926, -246.0104124428541, -237.95308772109397, -329.79717717221956, -129.4361518761561, -121.6608079186349, -116.20346121791171, -252.16210633799233, -112.34848691394639, -127.53124468003352, -116.25724016399546, -2.4796196559617947, -276.18873224229884, -122.08462463380165, -129.7152531601966, -118.86862690538732, -240.69359611015562, -126.09318185921803, -121.23659956850442, -124.47715473762052, -238.97304566864642, -2.657517428318968, -130.17261053582118, -122.36404683967079, -124.8480785519073, -128.43041877095968, -224.64135702222399, -4.834523542560858, -119.52687627646796, -119.63134680341183, -121.7417887825209, -250.02435021582423, -126.64696115725312, -236.67590631845707, -117.21577399872943, -224.96848045458708, -241.19957826833493, -239.06952749313118, -119.81280381353865, -244.77466214988098, -115.3607172908726, -1.0162325809360275, -5.389331039535806, -363.43680740176166, -124.96946289676374, -121.36300378857251, -130.4188564802244, -124.2227586209327, -121.35620360103667, -1.645493062478351, -120.5635556152589, -120.21617311989726, -128.283241096428, -3.6346143708893126, -121.47876084011263, -128.64871678516528, -119.98329975140567, -2.0702575846959204, -237.4225575259509, -114.51548028014277, -249.52780193494354, -124.15616815272209, -3.3865817902331794, -125.74997977715621, -120.73666378535383, -249.80686453354963, -236.26483697555136, -127.29254374672763, -239.90750505848268, -116.71121689261552, -123.81090243282912, -233.0231603394842, -246.38495540270776, -281.42298033402784, -224.72449862048504, -252.14453148246486, -119.132668848717, -231.54466445019355, -124.74375443491328, -154.02174007541393, -130.35078748637457, -114.84466379825372, -245.85349592788745, -123.83942169588515, -118.29378208259514, -224.55424959882293, -125.64395668515236, -217.10270494394055, -250.60495295208668, -247.38358322772226, -120.99421727248867, -223.54746775377, -129.68939740036356, -117.66776052932725, -1.3426517579688437, -120.19723413311667, -128.72941243229806, -127.1057034300322, -117.90581227449078, -247.04155055092957, -243.33999595365862, -121.40088986900301, -237.1679643555442, -120.61083398503668, -117.44767857934626, -123.66720665555088, -126.24181463137961, -231.6893220645945, -116.93890951708252, -230.1971175849099, -4.202547064764473, -298.5053195788783, -123.40412040966889, -118.72570868968894, -247.2858609187896, -235.24914704324843, -147.04654333976404, -115.43526745157786, -230.72804233301724, -195.87463393182438, -119.34061456039609, -422.1205945167005, -4.346287666070341, -123.14050988575596, -122.71620739471967, -119.5527710115224, -129.89122438972709, -239.7115561495675, -177.0027333760542, -245.60915050888462, -251.6363367299959, -256.21027138166636, -134.56986669619334, -250.11424978449108, -255.06123479638, -242.26780692983826, -341.8456469949203, -128.35565206687968, -129.89160090201077, -284.5316703481607, -252.8029952188685, -245.0596722064929, -127.64755121616032, -128.97705721845924, -235.06712142382108, -450.3384910464896, -138.06595202639264, -385.14585717280994, -257.6906659638056, -243.89453244574057, -252.65045001293117, -228.9706701711521, -258.1218300390176, -254.32213922036672, -119.75106345681336, -344.84768376952036, -240.41953219662338, -134.4040913895266, -242.72025564284908, -242.5349720994692, -357.8360711412675, -251.2779065701741, -247.73913170145968, -242.50570247376444, -253.40734116617472, -139.16423193487867, -348.37994577514195, -128.1278875449201, -257.6509033536502, -125.62916484644657, -6.041705890191453, -125.03377046889815, -233.91047584800162, -131.8956956587594, -126.63120702169392, -243.31467194103445, -131.0032871341497, -252.87766439608285, -245.1837971944596, -347.174938365817, -314.5868347582574, -241.746889254328, -246.25217009580112, -124.43714869002741, -190.99242657455414, -254.78036148874702, -242.9466056402413, -133.97938627305794, -259.5468487183854, -230.55023603077763, -457.10579023784106, -146.0221862980032, -127.26198748429204, -133.30418004136178, -253.30392031225276, -7.101520857371222, -122.89298184509948, -125.71386820385567, -250.21198178880405, -122.62266101155721, -227.2263475176709, -124.57386364656006, -130.6407775909671, -242.03959379432467, -125.59830251583983, -124.0011784561947, -121.55044655875182, -436.87089174012516, -233.8033324332378, -120.80915580594653, -222.20154426466584, -2.50970681544408, -369.4630444825531, -116.53067786417009, -126.42513155220108, -123.73258548554875, -128.54077919035697, -1.6010283211815162, -235.23449659596102, -234.70748176478892, -362.0781858676481, -120.00868071428528, -122.0817805101433, -125.76140598638602, -122.86155256726813, -125.94611744659271, -220.70556902761737, -247.94539940537874, -122.38402159209608, -117.48848082697779, -126.15648216074007, -257.8711392820705, -224.13278909212517, -250.66008971873353, -122.05943163234258, -117.15114813242162, -241.89411498456175, -334.39875381842927, -130.44521616530707, -255.11371902906114, -250.2518891238581, -132.76413547201182, -121.9915388996513, -233.32852339474059, -249.25322497639416, -121.3529047352858, -118.44493007930865, -123.52386119947006, -229.61411450260456, -133.96689758994629, -231.477215366163, -255.70995056176102, -121.41922641909821, -254.3632595148756, -123.39985367208648, -7.030255282420365, -126.78016770236741, -255.77835026463555, -121.12531528074527, -252.16376636836003, -250.13301347539095, -126.53026980424843, -7.097327996521357, -123.95871076931417, -126.90010720306522, -6.793138409053814, -6.481289591250824, -125.6471613333208, -250.29221472535576, -126.26175582929804, -245.82996805692488, -248.29728409913128, -7.660759195720062, -351.12167031299646, -7.9887442125870285, -252.18851620489446, -253.00590621252158, -127.7247439825972, -134.49719244906527, -239.5281447010448, -229.3149730676193, -130.58638985902746, -312.57878419455886, -182.0630350187273, -244.40204554114172, -255.2004704092713, -122.72976921459615, -363.4844861486844, -341.85697845993286, -239.58362990571436, -128.4713073810407, -355.4398810321748, -251.46637328313236, -243.14388556538495, -245.39155857488575, -248.4494624031676, -370.5719515861947, -206.3409415593324, -122.7977442117424, -136.3907624151391, -354.2845309086465, -370.81733357771884, -255.59296104642283, -302.4710454288722, -379.2470070808693, -318.2414269727907, -129.19042784043174, -346.26058539391846, -347.5294465666649, -248.6528296780046, -360.88993652403786, -249.62085581186463, -307.81412546893864, -250.5970235558781, -369.6147795542912, -252.20565825575648, -356.6791242503585, -213.26970053266245, -358.7940897266715, -248.96566156650988, -252.6895326985909, -332.561466064956, -255.51327172991944, -432.5126514777443, -369.5280274529697, -403.8399304723391, -256.15153219904033, -250.69196569757156, -278.3977534050165, -366.62203237180853, -252.18866851920492, -367.137503207903, -354.95411738658015, -248.0469702840617, -448.77455536581414, -249.08025915400717, -369.1260456894869, -373.0258763602471, -365.1123235315937, -229.12735134362865, -363.6599018479845, -363.85455092770707, -254.601569990875, -254.98669442688555, -252.2203703864538, -295.1217267394525, -321.9427692669527, -123.14361107649162, -374.0486021404497, -254.84126635930153, -345.89867258068, -249.33834823042977, -355.09846125579827, -147.059981611206, -257.34353528449134, -248.2053993335762, -266.58054792764153, -451.8888872953684, -347.1009043914665, -369.66174700682177, -249.6829775475913, -355.0013102423924, -291.96592582318374, -257.06702069897733, -384.3326111414793, -246.84181500188282, -255.92027763026607, -243.1056631672572, -245.50011454087732, -133.31360211744268, -351.4746614678277, -259.9982354533309, -334.790777449526, -311.99052188474036, -247.19814694376274, -257.0442909369783, -251.47596412484552, -250.3246797311141, -357.97769781385324, -362.51490230569004, -222.62276879700744, -298.0501992966632, -236.3508404951016, -359.31416210010525, -372.42381762243593, -241.57627638874285, -142.13823697889063, -222.78803245124124, -353.0630851008613, -141.15998762676716, -137.15088088028955, -134.78964913616923, -253.96849270690066, -253.28513499341352, -291.9680665366339, -252.77132448929774, -250.76838868360215, -248.87380769723634, -132.66066653825538, -241.9983637628314, -286.5526953491095, -287.8121322127643, -369.64235920947885, -248.3803623703334, -341.9432062380365, -373.09027803147285, -312.27375018054227, -330.1718386422806, -127.93207300243125, -253.15033983646038, -332.94319392662817, -223.3458554518645, -359.33695344127, -141.16316016618057, -251.5704285579914, -249.291368625584, -359.6701246239304, -354.4357465426769, -147.75614514026776, -247.14746963725116, -358.461955957241, -252.4520799020015, -130.58476152821106, -254.11679627263624, -248.66743069181615, -165.29160212250903, -303.1860579007952, -233.68717221820782, -254.99851464457586, -242.7446266950054, -257.0072556794389, -372.0231017875446, -8.3680871613707, -249.11650006023382, -246.86334549379495, -250.73714268157343, -351.42609336621956, -372.1639677665939, -129.27493397034985, -229.2305351798471, -456.230159769554, -130.19508118461914, -350.91785735539247, -131.4576715384283, -227.0024906600092, -130.51880085591014, -263.5514649574933, -246.43312201847309, -249.02938254460557, -265.6290518222713, -247.17517133868097, -342.2200463380915, -336.3664014284084, -250.63528955650608, -251.0096571977973, -249.58045208708845, -129.0189820617018, -209.24189619916675, -307.42805522159574, -124.39413185279642, -246.08228932245498, -249.15175742406709, -140.74571241578616, -251.05625596122005, -133.61541479805766, -171.35450643831894, -155.97507980818457, -125.95058763012564, -123.95697813594255, -232.44136084489978, -241.87435436658836, -246.98093496890797, -142.3333798435039, -253.5776318302879, -250.1025991752, -264.5246474849476, -147.58002294813951, -125.43970844231195, -251.12934343937542, -248.0233324371249, -428.4319424757927, -122.18303414343913, -122.12792325623448, -255.4363260010327, -125.96789031510727, -246.59871856561017, -133.88056359870131, -134.83884115297354, -252.47543837934938, -126.65738412273947, -132.0287950401866, -227.0318457599146, -119.1306405478566, -231.33517520452284, -127.38462050983586, -122.40435438679306, -235.32697582710196, -129.22655537070298, -235.8085672698677, -121.17209025962858, -126.27340313893346, -119.46058462104641, -131.36953899796498, -234.28656451776203, -6.118244166478523, -221.9154014445175, -242.9964560622862, -4.291452423004532, -119.45336314523304, -237.972044748407, -117.59627994732924, -122.8683543843126, -120.39321040668744, -5.651198770360032, -124.65296510837707, -129.0022319064058, -357.3044739368044, -240.79017938837762, -224.1962682133088, -118.82528282118372, -132.46147846471203, -119.6443900266049, -224.82826916485533, -121.16886664468458, -233.6219274781669, -124.43542333610934, -117.57937302851039, -118.49542832739989, -129.54980046017377, -118.41681602652723, -296.41104990715684, -360.08401042866245, -119.03819295956711, -294.64458131542557, -228.07919588011518, -2.4332627108325613, -236.15950931208408, -121.206840772689, -129.25633073131453, -119.72880087540504, -119.34868827044815, -125.63397074415863, -1.5584258851410062, -237.72985622766194, -125.50388901727257, -218.6680257808396, -118.61026684093551, -125.3793288818586, -124.91486825215561, -129.1077223479308, -362.06632679498506, -125.88596460782222, -120.02680244958259, -123.7872347062784, -125.76463739638407, -120.90212331388499, -119.8896658774453, -122.01130814698895, -119.176704299638, -117.74382969802416, -1.1978022400323796, -132.54296513865606, -2.7814334468422635, -118.82169870100019, -114.35674783295153, -118.99996594034664, -119.83136132236167, -115.1782306477558, -244.6488936877841, -126.95531864433678, -476.30071203175856, -121.02251127126104, -21.68990495506822, -166.4481424879559, -248.5070950209215, -250.55605250676766, -117.13499837553786, -118.58998609264296, -125.13991408079895, -223.7512684235884, -245.9705187131035, -115.37591768390791, -116.20847125583002, -118.99650549488346, -240.04073455633443, -1.5094773998890545, -115.98162839145455, -122.08170294464438, -228.38227632401353, -243.91590321600583, -231.43832579673173, -1.9790185047617928, -241.73521726472856, -128.4500984277977, -125.29273434245528, -2.146097351729526, -236.13338065432828, -119.73954700637975, -229.0212378615997, -117.57512012215632, -3.1505683994162172, -119.79589274282881, -239.5144447010582, -238.2822285730919, -240.45590561224978, -119.5863116137086, -125.36038159225235, -123.13733151084996, -122.004892866561, -308.18214211805997, -221.40798662250512, -226.04798752723113, -130.20243541568607, -253.6990123842538, -117.96744974965789, -2.248527200150144, -118.89549047193528, -2.099780503841035, -123.36321643386134, -241.8946158822652, -130.973475964871, -117.40451859060748, -118.14627007070355, -127.5415044810992, -1.6036694581490962, -2.078146034493233, -237.97776071665217, -224.96712964606823, -232.3663627947395, -120.01161222818105, -116.85324272070098, -240.3847390576353, -120.74162379314838, -126.93611067998953, -221.2109089406628, -122.23444893086862, -120.47073538385384, -7.915243153092955, -240.8976489094931, -246.4694687288681, -126.76486074001866, -234.76447034904857, -132.1367915706995, -121.68215645808212, -123.69120005298184, -7.197397422935341, -234.4253394464385, -233.73638079679458, -132.40608414376123, -237.31184560938345, -118.03181873190493, -119.64224103785453, -249.69727568792683, -119.92239483214038, -232.50656918506843, -226.29105159585444, -229.94780426261553, -118.99928483244042, -2.2970468722403603, -121.49633932420547, -127.39730259774245, -119.62108574363889, -220.8100121157023, -2.722795037412916, -128.25452564406854, -245.03392202038475, -3.1569180454695034, -223.68770779003947, -251.25153880855288, -4.657635286577654, -122.88398307267262, -115.75624874449721, -118.92829991067018, -2.800625069875789, -115.17768947698633, -115.4983021764146, -130.60084017621404, -222.44013249504417, -118.94158277683621, -125.88768122478177, -229.14022761231556, -241.8866655582141, -222.76033028669232, -121.0396789936544, -122.50512355556411, -220.28532740042198, -121.08507600873178, -229.55502620176773, -115.4373143042249, -127.82477694023169, -125.20028962689166, -118.52983970672392, -231.0703597181135, -363.0792097709538, -119.5314575204345, -118.29326396984045, -222.14353123709301, -294.3038416204519, -228.153501512469, -235.59953999356506, -124.02679327469555, -123.35551790129965, -122.3439610527012, -132.97864698180734, -120.49050219654526, -130.74360747759584, -131.12543109383049, -1.2725358239688835, -129.16948754014226, -124.94459897709069, -0.8998912742917197, -127.48289685918897, -255.37426947338116, -351.99103740533417, -244.44826507282158, -127.20528527587342, -117.5263660704843, -242.4152294069564, -126.92031736125975, -229.50805704803835, -5.744130408756946, -125.84289291455917, -120.39505411518907, -131.001473401875, -222.07134469129528, -225.1765106636438, -128.05671844575136, -121.87224607390358, -232.00135782964148, -119.5229925470769, -127.75136650402308, -118.3287913282664, -127.5642695032979, -117.80583092939075, -234.50851410213681, -116.96261831463478, -265.42924404346485, -251.8690420513867, -124.26088216170872, -234.65177893724425, -120.64477603314643, -121.14005977954275, -130.0371473092453, -0.8682376291722222, -119.11613828591192, -221.0255778489673, -115.12852613230194, -120.27295398170027, -222.44708840791833, -237.37299578076122, -227.18745088647793, -120.13354520137639, -119.31543987011692, -2.9018197869340043, -123.14326264747683, -222.69745213267927]}],\n",
              "                        {\"height\": 600, \"template\": {\"data\": {\"bar\": [{\"error_x\": {\"color\": \"#2a3f5f\"}, \"error_y\": {\"color\": \"#2a3f5f\"}, \"marker\": {\"line\": {\"color\": \"#E5ECF6\", \"width\": 0.5}}, \"type\": \"bar\"}], \"barpolar\": [{\"marker\": {\"line\": {\"color\": \"#E5ECF6\", \"width\": 0.5}}, \"type\": \"barpolar\"}], \"carpet\": [{\"aaxis\": {\"endlinecolor\": \"#2a3f5f\", \"gridcolor\": \"white\", \"linecolor\": \"white\", \"minorgridcolor\": \"white\", \"startlinecolor\": \"#2a3f5f\"}, \"baxis\": {\"endlinecolor\": \"#2a3f5f\", \"gridcolor\": \"white\", \"linecolor\": \"white\", \"minorgridcolor\": \"white\", \"startlinecolor\": \"#2a3f5f\"}, \"type\": \"carpet\"}], \"choropleth\": [{\"colorbar\": {\"outlinewidth\": 0, \"ticks\": \"\"}, \"type\": \"choropleth\"}], \"contour\": [{\"colorbar\": {\"outlinewidth\": 0, \"ticks\": \"\"}, \"colorscale\": [[0.0, \"#0d0887\"], [0.1111111111111111, \"#46039f\"], [0.2222222222222222, \"#7201a8\"], [0.3333333333333333, \"#9c179e\"], [0.4444444444444444, \"#bd3786\"], [0.5555555555555556, \"#d8576b\"], [0.6666666666666666, \"#ed7953\"], [0.7777777777777778, \"#fb9f3a\"], [0.8888888888888888, \"#fdca26\"], [1.0, \"#f0f921\"]], \"type\": \"contour\"}], \"contourcarpet\": [{\"colorbar\": {\"outlinewidth\": 0, \"ticks\": \"\"}, \"type\": \"contourcarpet\"}], \"heatmap\": [{\"colorbar\": {\"outlinewidth\": 0, \"ticks\": \"\"}, \"colorscale\": [[0.0, \"#0d0887\"], [0.1111111111111111, \"#46039f\"], [0.2222222222222222, \"#7201a8\"], [0.3333333333333333, \"#9c179e\"], [0.4444444444444444, \"#bd3786\"], [0.5555555555555556, \"#d8576b\"], [0.6666666666666666, \"#ed7953\"], [0.7777777777777778, \"#fb9f3a\"], [0.8888888888888888, \"#fdca26\"], [1.0, \"#f0f921\"]], \"type\": \"heatmap\"}], \"heatmapgl\": [{\"colorbar\": {\"outlinewidth\": 0, \"ticks\": \"\"}, \"colorscale\": [[0.0, \"#0d0887\"], [0.1111111111111111, \"#46039f\"], [0.2222222222222222, \"#7201a8\"], [0.3333333333333333, \"#9c179e\"], [0.4444444444444444, \"#bd3786\"], [0.5555555555555556, \"#d8576b\"], [0.6666666666666666, \"#ed7953\"], [0.7777777777777778, \"#fb9f3a\"], [0.8888888888888888, \"#fdca26\"], [1.0, \"#f0f921\"]], \"type\": \"heatmapgl\"}], \"histogram\": [{\"marker\": {\"colorbar\": {\"outlinewidth\": 0, \"ticks\": \"\"}}, \"type\": \"histogram\"}], \"histogram2d\": [{\"colorbar\": {\"outlinewidth\": 0, \"ticks\": \"\"}, \"colorscale\": [[0.0, \"#0d0887\"], [0.1111111111111111, \"#46039f\"], [0.2222222222222222, \"#7201a8\"], [0.3333333333333333, \"#9c179e\"], [0.4444444444444444, \"#bd3786\"], [0.5555555555555556, \"#d8576b\"], [0.6666666666666666, \"#ed7953\"], [0.7777777777777778, \"#fb9f3a\"], [0.8888888888888888, \"#fdca26\"], [1.0, \"#f0f921\"]], \"type\": \"histogram2d\"}], \"histogram2dcontour\": [{\"colorbar\": {\"outlinewidth\": 0, \"ticks\": \"\"}, \"colorscale\": [[0.0, \"#0d0887\"], [0.1111111111111111, \"#46039f\"], [0.2222222222222222, \"#7201a8\"], [0.3333333333333333, \"#9c179e\"], [0.4444444444444444, \"#bd3786\"], [0.5555555555555556, \"#d8576b\"], [0.6666666666666666, \"#ed7953\"], [0.7777777777777778, \"#fb9f3a\"], [0.8888888888888888, \"#fdca26\"], [1.0, \"#f0f921\"]], \"type\": \"histogram2dcontour\"}], \"mesh3d\": [{\"colorbar\": {\"outlinewidth\": 0, \"ticks\": \"\"}, \"type\": \"mesh3d\"}], \"parcoords\": [{\"line\": {\"colorbar\": {\"outlinewidth\": 0, \"ticks\": \"\"}}, \"type\": \"parcoords\"}], \"pie\": [{\"automargin\": true, \"type\": \"pie\"}], \"scatter\": [{\"marker\": {\"colorbar\": {\"outlinewidth\": 0, \"ticks\": \"\"}}, \"type\": \"scatter\"}], \"scatter3d\": [{\"line\": {\"colorbar\": {\"outlinewidth\": 0, \"ticks\": \"\"}}, \"marker\": {\"colorbar\": {\"outlinewidth\": 0, \"ticks\": \"\"}}, \"type\": \"scatter3d\"}], \"scattercarpet\": [{\"marker\": {\"colorbar\": {\"outlinewidth\": 0, \"ticks\": \"\"}}, \"type\": \"scattercarpet\"}], \"scattergeo\": [{\"marker\": {\"colorbar\": {\"outlinewidth\": 0, \"ticks\": \"\"}}, \"type\": \"scattergeo\"}], \"scattergl\": [{\"marker\": {\"colorbar\": {\"outlinewidth\": 0, \"ticks\": \"\"}}, \"type\": \"scattergl\"}], \"scattermapbox\": [{\"marker\": {\"colorbar\": {\"outlinewidth\": 0, \"ticks\": \"\"}}, \"type\": \"scattermapbox\"}], \"scatterpolar\": [{\"marker\": {\"colorbar\": {\"outlinewidth\": 0, \"ticks\": \"\"}}, \"type\": \"scatterpolar\"}], \"scatterpolargl\": [{\"marker\": {\"colorbar\": {\"outlinewidth\": 0, \"ticks\": \"\"}}, \"type\": \"scatterpolargl\"}], \"scatterternary\": [{\"marker\": {\"colorbar\": {\"outlinewidth\": 0, \"ticks\": \"\"}}, \"type\": \"scatterternary\"}], \"surface\": [{\"colorbar\": {\"outlinewidth\": 0, \"ticks\": \"\"}, \"colorscale\": [[0.0, \"#0d0887\"], [0.1111111111111111, \"#46039f\"], [0.2222222222222222, \"#7201a8\"], [0.3333333333333333, \"#9c179e\"], [0.4444444444444444, \"#bd3786\"], [0.5555555555555556, \"#d8576b\"], [0.6666666666666666, \"#ed7953\"], [0.7777777777777778, \"#fb9f3a\"], [0.8888888888888888, \"#fdca26\"], [1.0, \"#f0f921\"]], \"type\": \"surface\"}], \"table\": [{\"cells\": {\"fill\": {\"color\": \"#EBF0F8\"}, \"line\": {\"color\": \"white\"}}, \"header\": {\"fill\": {\"color\": \"#C8D4E3\"}, \"line\": {\"color\": \"white\"}}, \"type\": \"table\"}]}, \"layout\": {\"annotationdefaults\": {\"arrowcolor\": \"#2a3f5f\", \"arrowhead\": 0, \"arrowwidth\": 1}, \"coloraxis\": {\"colorbar\": {\"outlinewidth\": 0, \"ticks\": \"\"}}, \"colorscale\": {\"diverging\": [[0, \"#8e0152\"], [0.1, \"#c51b7d\"], [0.2, \"#de77ae\"], [0.3, \"#f1b6da\"], [0.4, \"#fde0ef\"], [0.5, \"#f7f7f7\"], [0.6, \"#e6f5d0\"], [0.7, \"#b8e186\"], [0.8, \"#7fbc41\"], [0.9, \"#4d9221\"], [1, \"#276419\"]], \"sequential\": [[0.0, \"#0d0887\"], [0.1111111111111111, \"#46039f\"], [0.2222222222222222, \"#7201a8\"], [0.3333333333333333, \"#9c179e\"], [0.4444444444444444, \"#bd3786\"], [0.5555555555555556, \"#d8576b\"], [0.6666666666666666, \"#ed7953\"], [0.7777777777777778, \"#fb9f3a\"], [0.8888888888888888, \"#fdca26\"], [1.0, \"#f0f921\"]], \"sequentialminus\": [[0.0, \"#0d0887\"], [0.1111111111111111, \"#46039f\"], [0.2222222222222222, \"#7201a8\"], [0.3333333333333333, \"#9c179e\"], [0.4444444444444444, \"#bd3786\"], [0.5555555555555556, \"#d8576b\"], [0.6666666666666666, \"#ed7953\"], [0.7777777777777778, \"#fb9f3a\"], [0.8888888888888888, \"#fdca26\"], [1.0, \"#f0f921\"]]}, \"colorway\": [\"#636efa\", \"#EF553B\", \"#00cc96\", \"#ab63fa\", \"#FFA15A\", \"#19d3f3\", \"#FF6692\", \"#B6E880\", \"#FF97FF\", \"#FECB52\"], \"font\": {\"color\": \"#2a3f5f\"}, \"geo\": {\"bgcolor\": \"white\", \"lakecolor\": \"white\", \"landcolor\": \"#E5ECF6\", \"showlakes\": true, \"showland\": true, \"subunitcolor\": \"white\"}, \"hoverlabel\": {\"align\": \"left\"}, \"hovermode\": \"closest\", \"mapbox\": {\"style\": \"light\"}, \"paper_bgcolor\": \"white\", \"plot_bgcolor\": \"#E5ECF6\", \"polar\": {\"angularaxis\": {\"gridcolor\": \"white\", \"linecolor\": \"white\", \"ticks\": \"\"}, \"bgcolor\": \"#E5ECF6\", \"radialaxis\": {\"gridcolor\": \"white\", \"linecolor\": \"white\", \"ticks\": \"\"}}, \"scene\": {\"xaxis\": {\"backgroundcolor\": \"#E5ECF6\", \"gridcolor\": \"white\", \"gridwidth\": 2, \"linecolor\": \"white\", \"showbackground\": true, \"ticks\": \"\", \"zerolinecolor\": \"white\"}, \"yaxis\": {\"backgroundcolor\": \"#E5ECF6\", \"gridcolor\": \"white\", \"gridwidth\": 2, \"linecolor\": \"white\", \"showbackground\": true, \"ticks\": \"\", \"zerolinecolor\": \"white\"}, \"zaxis\": {\"backgroundcolor\": \"#E5ECF6\", \"gridcolor\": \"white\", \"gridwidth\": 2, \"linecolor\": \"white\", \"showbackground\": true, \"ticks\": \"\", \"zerolinecolor\": \"white\"}}, \"shapedefaults\": {\"line\": {\"color\": \"#2a3f5f\"}}, \"ternary\": {\"aaxis\": {\"gridcolor\": \"white\", \"linecolor\": \"white\", \"ticks\": \"\"}, \"baxis\": {\"gridcolor\": \"white\", \"linecolor\": \"white\", \"ticks\": \"\"}, \"bgcolor\": \"#E5ECF6\", \"caxis\": {\"gridcolor\": \"white\", \"linecolor\": \"white\", \"ticks\": \"\"}}, \"title\": {\"x\": 0.05}, \"xaxis\": {\"automargin\": true, \"gridcolor\": \"white\", \"linecolor\": \"white\", \"ticks\": \"\", \"title\": {\"standoff\": 15}, \"zerolinecolor\": \"white\", \"zerolinewidth\": 2}, \"yaxis\": {\"automargin\": true, \"gridcolor\": \"white\", \"linecolor\": \"white\", \"ticks\": \"\", \"title\": {\"standoff\": 15}, \"zerolinecolor\": \"white\", \"zerolinewidth\": 2}}}, \"title\": {\"text\": \"Rewards for DDPG agent on Pendulum-v0\"}, \"width\": 1200, \"xaxis\": {\"title\": {\"text\": \"No. of episodes\"}}, \"yaxis\": {\"title\": {\"text\": \"Rewards\"}}},\n",
              "                        {\"responsive\": true}\n",
              "                    ).then(function(){\n",
              "                            \n",
              "var gd = document.getElementById('a3e087ba-e628-4b21-898f-e107284cce6c');\n",
              "var x = new MutationObserver(function (mutations, observer) {{\n",
              "        var display = window.getComputedStyle(gd).display;\n",
              "        if (!display || display === 'none') {{\n",
              "            console.log([gd, 'removed!']);\n",
              "            Plotly.purge(gd);\n",
              "            observer.disconnect();\n",
              "        }}\n",
              "}});\n",
              "\n",
              "// Listen for the removal of the full notebook cells\n",
              "var notebookContainer = gd.closest('#notebook-container');\n",
              "if (notebookContainer) {{\n",
              "    x.observe(notebookContainer, {childList: true});\n",
              "}}\n",
              "\n",
              "// Listen for the clearing of the current output cell\n",
              "var outputEl = gd.closest('.output');\n",
              "if (outputEl) {{\n",
              "    x.observe(outputEl, {childList: true});\n",
              "}}\n",
              "\n",
              "                        })\n",
              "                };\n",
              "                \n",
              "            </script>\n",
              "        </div>\n",
              "</body>\n",
              "</html>"
            ]
          },
          "metadata": {}
        }
      ]
    },
    {
      "cell_type": "code",
      "source": [
        "from plotly.subplots import make_subplots\n",
        "xaxis1 = np.arange(len(q_loss_list))\n",
        "xaxis2 = np.arange(len(policy_loss_list))\n",
        "\n",
        "fig = make_subplots(rows=1, cols=2, subplot_titles=('Q Loss', 'Policy Loss'))\n",
        "\n",
        "qloss_curve = go.Scatter(x=xaxis1, y=q_loss_list, mode='lines')\n",
        "policy_loss_curve = go.Scatter(x=xaxis2, y=policy_loss_list, mode='lines')\n",
        "\n",
        "fig.add_traces([qloss_curve, policy_loss_curve], rows=[1, 1], cols=[1, 2])\n",
        "fig.update_xaxes(title_text='Episodes', row=1, col=1)\n",
        "fig.update_xaxes(title_text='Episodes', row=1, col=2)\n",
        "\n",
        "fig.update_yaxes(title_text='Loss', row=1, col=1)\n",
        "fig.update_yaxes(title_text='Loss', row=1, col=1)\n",
        "\n",
        "fig.update_layout(title='Loss curves for DDPG Agent on Pendulum-v0')\n",
        "py.iplot(fig)"
      ],
      "metadata": {
        "colab": {
          "base_uri": "https://localhost:8080/",
          "height": 542
        },
        "id": "PrbCqX6FSBxT",
        "outputId": "502699df-991a-4f4f-c809-188f52640046"
      },
      "execution_count": null,
      "outputs": [
        {
          "output_type": "display_data",
          "data": {
            "text/html": [
              "<html>\n",
              "<head><meta charset=\"utf-8\" /></head>\n",
              "<body>\n",
              "    <div>\n",
              "            <script src=\"https://cdnjs.cloudflare.com/ajax/libs/mathjax/2.7.5/MathJax.js?config=TeX-AMS-MML_SVG\"></script><script type=\"text/javascript\">if (window.MathJax) {MathJax.Hub.Config({SVG: {font: \"STIX-Web\"}});}</script>\n",
              "                <script type=\"text/javascript\">window.PlotlyConfig = {MathJaxConfig: 'local'};</script>\n",
              "        <script src=\"https://cdn.plot.ly/plotly-latest.min.js\"></script>    \n",
              "            <div id=\"4d472eae-53ba-47c8-873d-4117e602b818\" class=\"plotly-graph-div\" style=\"height:525px; width:100%;\"></div>\n",
              "            <script type=\"text/javascript\">\n",
              "                \n",
              "                    window.PLOTLYENV=window.PLOTLYENV || {};\n",
              "                    \n",
              "                if (document.getElementById(\"4d472eae-53ba-47c8-873d-4117e602b818\")) {\n",
              "                    Plotly.newPlot(\n",
              "                        '4d472eae-53ba-47c8-873d-4117e602b818',\n",
              "                        [{\"mode\": \"lines\", \"type\": \"scatter\", \"x\": [0, 1, 2, 3, 4, 5, 6, 7, 8, 9, 10, 11, 12, 13, 14, 15, 16, 17, 18, 19, 20, 21, 22, 23, 24, 25, 26, 27, 28, 29, 30, 31, 32, 33, 34, 35, 36, 37, 38, 39, 40, 41, 42, 43, 44, 45, 46, 47, 48, 49, 50, 51, 52, 53, 54, 55, 56, 57, 58, 59, 60, 61, 62, 63, 64, 65, 66, 67, 68, 69, 70, 71, 72, 73, 74, 75, 76, 77, 78, 79, 80, 81, 82, 83, 84, 85, 86, 87, 88, 89, 90, 91, 92, 93, 94, 95, 96, 97, 98, 99, 100, 101, 102, 103, 104, 105, 106, 107, 108, 109, 110, 111, 112, 113, 114, 115, 116, 117, 118, 119, 120, 121, 122, 123, 124, 125, 126, 127, 128, 129, 130, 131, 132, 133, 134, 135, 136, 137, 138, 139, 140, 141, 142, 143, 144, 145, 146, 147, 148, 149, 150, 151, 152, 153, 154, 155, 156, 157, 158, 159, 160, 161, 162, 163, 164, 165, 166, 167, 168, 169, 170, 171, 172, 173, 174, 175, 176, 177, 178, 179, 180, 181, 182, 183, 184, 185, 186, 187, 188, 189, 190, 191, 192, 193, 194, 195, 196, 197, 198, 199, 200, 201, 202, 203, 204, 205, 206, 207, 208, 209, 210, 211, 212, 213, 214, 215, 216, 217, 218, 219, 220, 221, 222, 223, 224, 225, 226, 227, 228, 229, 230, 231, 232, 233, 234, 235, 236, 237, 238, 239, 240, 241, 242, 243, 244, 245, 246, 247, 248, 249, 250, 251, 252, 253, 254, 255, 256, 257, 258, 259, 260, 261, 262, 263, 264, 265, 266, 267, 268, 269, 270, 271, 272, 273, 274, 275, 276, 277, 278, 279, 280, 281, 282, 283, 284, 285, 286, 287, 288, 289, 290, 291, 292, 293, 294, 295, 296, 297, 298, 299, 300, 301, 302, 303, 304, 305, 306, 307, 308, 309, 310, 311, 312, 313, 314, 315, 316, 317, 318, 319, 320, 321, 322, 323, 324, 325, 326, 327, 328, 329, 330, 331, 332, 333, 334, 335, 336, 337, 338, 339, 340, 341, 342, 343, 344, 345, 346, 347, 348, 349, 350, 351, 352, 353, 354, 355, 356, 357, 358, 359, 360, 361, 362, 363, 364, 365, 366, 367, 368, 369, 370, 371, 372, 373, 374, 375, 376, 377, 378, 379, 380, 381, 382, 383, 384, 385, 386, 387, 388, 389, 390, 391, 392, 393, 394, 395, 396, 397, 398, 399, 400, 401, 402, 403, 404, 405, 406, 407, 408, 409, 410, 411, 412, 413, 414, 415, 416, 417, 418, 419, 420, 421, 422, 423, 424, 425, 426, 427, 428, 429, 430, 431, 432, 433, 434, 435, 436, 437, 438, 439, 440, 441, 442, 443, 444, 445, 446, 447, 448, 449, 450, 451, 452, 453, 454, 455, 456, 457, 458, 459, 460, 461, 462, 463, 464, 465, 466, 467, 468, 469, 470, 471, 472, 473, 474, 475, 476, 477, 478, 479, 480, 481, 482, 483, 484, 485, 486, 487, 488, 489, 490, 491, 492, 493, 494, 495, 496, 497, 498, 499, 500, 501, 502, 503, 504, 505, 506, 507, 508, 509, 510, 511, 512, 513, 514, 515, 516, 517, 518, 519, 520, 521, 522, 523, 524, 525, 526, 527, 528, 529, 530, 531, 532, 533, 534, 535, 536, 537, 538, 539, 540, 541, 542, 543, 544, 545, 546, 547, 548, 549, 550, 551, 552, 553, 554, 555, 556, 557, 558, 559, 560, 561, 562, 563, 564, 565, 566, 567, 568, 569, 570, 571, 572, 573, 574, 575, 576, 577, 578, 579, 580, 581, 582, 583, 584, 585, 586, 587, 588, 589, 590, 591, 592, 593, 594, 595, 596, 597, 598, 599, 600, 601, 602, 603, 604, 605, 606, 607, 608, 609, 610, 611, 612, 613, 614, 615, 616, 617, 618, 619, 620, 621, 622, 623, 624, 625, 626, 627, 628, 629, 630, 631, 632, 633, 634, 635, 636, 637, 638, 639, 640, 641, 642, 643, 644, 645, 646, 647, 648, 649, 650, 651, 652, 653, 654, 655, 656, 657, 658, 659, 660, 661, 662, 663, 664, 665, 666, 667, 668, 669, 670, 671, 672, 673, 674, 675, 676, 677, 678, 679, 680, 681, 682, 683, 684, 685, 686, 687, 688, 689, 690, 691, 692, 693, 694, 695, 696, 697, 698, 699, 700, 701, 702, 703, 704, 705, 706, 707, 708, 709, 710, 711, 712, 713, 714, 715, 716, 717, 718, 719, 720, 721, 722, 723, 724, 725, 726, 727, 728, 729, 730, 731, 732, 733, 734, 735, 736, 737, 738, 739, 740, 741, 742, 743, 744, 745, 746, 747, 748, 749, 750, 751, 752, 753, 754, 755, 756, 757, 758, 759, 760, 761, 762, 763, 764, 765, 766, 767, 768, 769, 770, 771, 772, 773, 774, 775, 776, 777, 778, 779, 780, 781, 782, 783, 784, 785, 786, 787, 788, 789, 790, 791, 792, 793, 794, 795, 796, 797, 798, 799, 800, 801, 802, 803, 804, 805, 806, 807, 808, 809, 810, 811, 812, 813, 814, 815, 816, 817, 818, 819, 820, 821, 822, 823, 824, 825, 826, 827, 828, 829, 830, 831, 832, 833, 834, 835, 836, 837, 838, 839, 840, 841, 842, 843, 844, 845, 846, 847, 848, 849, 850, 851, 852, 853, 854, 855, 856, 857, 858, 859, 860, 861, 862, 863, 864, 865, 866, 867, 868, 869, 870, 871, 872, 873, 874, 875, 876, 877, 878, 879, 880, 881, 882, 883, 884, 885, 886, 887, 888, 889, 890, 891, 892, 893, 894, 895, 896, 897, 898, 899, 900, 901, 902, 903, 904, 905, 906, 907, 908, 909, 910, 911, 912, 913, 914, 915, 916, 917, 918, 919, 920, 921, 922, 923, 924, 925, 926, 927, 928, 929, 930, 931, 932, 933, 934, 935, 936, 937, 938, 939, 940, 941, 942, 943, 944, 945, 946, 947, 948, 949, 950, 951, 952, 953, 954, 955, 956, 957, 958, 959, 960, 961, 962, 963, 964, 965, 966, 967, 968, 969, 970, 971, 972, 973, 974, 975, 976, 977, 978, 979, 980, 981, 982, 983, 984, 985, 986, 987, 988, 989, 990, 991, 992, 993, 994, 995, 996, 997, 998, 999], \"xaxis\": \"x\", \"y\": [13.194957118895319, 1.8221991539001465, 0.3822588822245598, 0.29518609419465064, 0.18701278552412987, 0.1297382339835167, 0.09539079274982214, 0.07213468570262194, 0.06486252380535007, 0.07862726595252752, 0.05549467951059341, 0.06709811106324196, 0.10721858378499746, 0.13668521352112292, 0.14855864085257053, 0.10977440897375346, 0.15990846887230872, 0.19416788831353188, 0.28804344203323123, 0.2532460228353739, 0.2610857390612364, 0.2773814555257559, 0.2854268841445446, 0.3716273083537817, 0.25281822912395, 0.3313116532564163, 0.44800868317484854, 0.348668425604701, 0.4177467574179172, 0.5316512937098742, 0.4422812069952488, 0.39868787631392477, 0.49420607328414917, 0.4347786681354046, 0.5421416509151459, 0.4733392257988453, 0.725949742347002, 0.4544732274115086, 0.577471245676279, 0.5778088420629501, 0.6723795591294766, 0.559723042845726, 0.6441930252313613, 0.6620855456590653, 0.5291642144322395, 0.5230574467778206, 0.6704604659974575, 0.7000316913425922, 0.6576815985143185, 0.9061551958322525, 0.6197584208846092, 0.7886678144335747, 0.8849978461861611, 0.9283910670876503, 0.929227665066719, 1.0559175020456315, 0.8677918374538421, 0.9486132714152337, 1.2370826333761216, 0.8226114156842231, 0.9613631817698479, 1.0743068620562553, 1.1955069202184676, 1.1548994320631027, 1.0123932695388793, 1.3294808918237686, 1.3854897493124008, 1.6208887749910355, 1.3999764984846115, 1.176548539996147, 1.4959234017133713, 1.3533493566513062, 1.7876611977815628, 1.5103149563074112, 1.5368992513418198, 1.60579705119133, 1.9362131786346435, 1.658179081082344, 1.8906485867500304, 2.025610259771347, 2.1769059163331987, 2.046005663275719, 1.8538811165094375, 1.951258941888809, 2.6424269771575926, 2.3502522575855256, 2.2410239341855047, 2.54075834274292, 2.366244507431984, 2.3178112465143204, 2.508848489522934, 2.4958933740854263, 2.550662907361984, 2.3137718600034716, 2.112342141866684, 3.085254710316658, 3.413188658952713, 2.6807350474596023, 4.160570261478424, 2.42331977725029, 2.3303188598155975, 2.4925986385345458, 2.3922107273340227, 2.827016311883926, 2.7100242662429808, 3.0219530940055845, 2.9301237297058105, 3.0774211466312407, 2.8509217631816863, 3.1211752009391787, 3.0832035928964614, 2.9778926253318785, 4.079291543960571, 3.3329621946811674, 3.22228887796402, 4.913852571249008, 3.3168729376792907, 3.2624420028924943, 2.976661692261696, 2.8949757289886473, 3.059077390432358, 2.9843721735477446, 2.786351537704468, 3.192521792650223, 2.969011990427971, 3.412793691158295, 3.107943825721741, 2.8046850776672363, 3.379617311358452, 3.5555276107788085, 4.585164042711258, 2.7922812193632125, 3.488884012699127, 3.3261690974235534, 3.964934704899788, 3.890277097225189, 3.4827096474170687, 3.4651715636253355, 2.6553021842241287, 2.915135251879692, 2.874503327012062, 3.8560887932777406, 4.500701800584793, 2.6759974455833433, 2.6049743336439133, 3.2301808434724806, 3.4037044355273247, 2.6951934766769408, 4.058195278644562, 3.004033000469208, 2.922011979818344, 3.0313738548755644, 2.6725057524442675, 3.5467583918571473, 2.8936314445734026, 3.077948597073555, 3.575926110744476, 3.6924448013305664, 4.161509025096893, 3.034427012205124, 3.0785093307495117, 3.0824638748168947, 3.1238578116893767, 3.8285168910026552, 3.261104764342308, 3.3801813983917235, 4.4000283968448635, 3.6523747861385347, 3.0789931738376617, 2.9712538105249404, 3.019191648364067, 2.9417727035284043, 3.173971126079559, 3.383327816724777, 3.350972533226013, 2.857423716187477, 2.874759305715561, 3.593490183353424, 2.933196519613266, 5.500982456207275, 4.453025317192077, 3.7160610514879227, 2.849414704442024, 2.712977809906006, 2.437588351368904, 3.17714340865612, 2.659653109908104, 2.855189500451088, 2.6898334157466888, 2.9946425741910936, 3.0316884684562684, 3.19132570207119, 3.3732272350788115, 3.1927427506446837, 2.608775289654732, 3.28352213203907, 3.1034440165758133, 3.275129426121712, 3.6268987441062928, 3.2803062319755556, 4.058563883900643, 3.4796440225839613, 2.747582796216011, 2.2508871096372602, 2.538663942217827, 4.338563130497932, 4.951681317687035, 3.720784288644791, 2.9109705823659895, 2.9811625772714616, 2.550831083059311, 2.92061108648777, 3.355054332613945, 2.4401622450351717, 2.432175780236721, 7.402075785398483, 2.5458226561546327, 2.207527202963829, 2.6228031688928604, 2.325880422592163, 2.096630094051361, 1.829904637336731, 2.617920287847519, 2.3818098843097686, 2.2595525279641153, 3.0408760154247285, 2.4594542047381402, 3.4772269487380982, 3.0818867003917694, 3.123816465139389, 2.758868859708309, 2.22151048541069, 2.662650365829468, 2.512081950902939, 3.396563933491707, 2.4731156784296036, 2.4480670881271362, 2.374884999990463, 2.4534122171998023, 2.4276476055383682, 2.5514797204732895, 2.402080398797989, 2.133901995420456, 4.215477469563484, 2.4650937485694886, 2.8702365344762804, 2.7990011274814606, 2.948186432719231, 2.477657156586647, 2.2194678485393524, 2.023364771604538, 2.642362117767334, 2.353425348997116, 3.569927496910095, 2.840068439245224, 2.390060764551163, 2.2483005982637407, 3.0592349165678026, 2.6986678797006607, 2.529322131574154, 3.065756296515465, 3.37335756957531, 2.806480934023857, 3.2311084133386614, 3.472403678894043, 2.8487514233589173, 3.399729532599449, 2.206711927950382, 2.5367868405580523, 2.230058129429817, 3.4915549194812776, 3.6701356196403503, 4.158778294324875, 2.909829586148262, 2.61434240013361, 2.9801529318094255, 2.57338987082243, 2.6936982235312463, 2.9150374457240105, 3.323060312271118, 2.7637895476818084, 3.426000998020172, 2.5602312779426573, 3.280542911887169, 2.759095673263073, 2.827928621172905, 2.8018553763628007, 2.52632928609848, 6.803290942907333, 2.274206951856613, 2.2541037511825563, 2.293603717088699, 2.5659999108314513, 2.934655849337578, 2.4199783855676653, 2.6802247518301012, 3.75411080121994, 2.521928299665451, 3.7331542575359347, 2.8367992532253266, 3.425036420226097, 2.6263000893592836, 2.8569476318359377, 3.1184470081329345, 3.6235168343782425, 3.179482778310776, 2.5297332356870172, 2.786314702630043, 2.673478126525879, 3.0913361650705338, 2.6225679934024813, 3.261092452406883, 2.559222083687782, 3.083488321006298, 4.626244106292725, 4.41465392112732, 2.8642042750120162, 3.781429527103901, 3.4221651691198347, 4.164871864914894, 4.000184926092625, 2.667315162718296, 2.8581493562459945, 3.089300700724125, 3.502744247317314, 3.249381276369095, 2.8408989682793617, 2.95345276504755, 2.8111189556121827, 2.9683532720804213, 2.731120083332062, 2.753726609349251, 3.2282372730970383, 3.1508177137374878, 3.5705425333976746, 5.57170834839344, 3.0184034264087676, 3.033192831873894, 3.363648977279663, 2.6056901675462725, 3.415196272730827, 3.0652977168560027, 3.0517755162715914, 2.2672792732715608, 2.892802069783211, 2.84198950946331, 2.476552990376949, 2.8882739043235777, 2.6994104021787644, 2.7994682338833807, 2.1999249568581583, 2.383997545838356, 3.463196951150894, 3.0647825169563294, 3.4509193795919417, 3.9793867498636244, 3.0114996683597566, 3.1493518632650375, 2.838824372291565, 2.940125403404236, 3.2166244089603424, 2.945741634964943, 4.3729646652936935, 3.158526552915573, 2.6012723416090013, 3.3709450149536133, 3.224204723238945, 2.351670863032341, 3.280622924864292, 4.558592790961265, 3.255634865164757, 2.9852684623003007, 3.278712081313133, 4.042340775132179, 2.8567218440771103, 2.6528410226106645, 3.0059413477778434, 3.397128518521786, 2.553080266714096, 2.693608274459839, 4.541235163211822, 2.9045304214954375, 2.6284092229604723, 2.829008964896202, 2.936240066885948, 3.4073649951815606, 2.3657605996727944, 3.1010233050584795, 2.975745980143547, 2.9584370863437655, 4.897305071949959, 2.9178357487916946, 2.7552913922071456, 3.0258609446883202, 3.3563620698451997, 3.640711697936058, 3.6130908328294753, 4.441505373120308, 4.297437433600425, 2.6053202602267267, 3.02783510774374, 3.108002088665962, 4.499878042936325, 3.9439650642871857, 2.7789888432621956, 3.3107004392147066, 3.114880847930908, 2.8178194135427477, 3.4367257744073867, 4.235095593929291, 3.4900945910811423, 4.045730778574944, 3.751521898508072, 3.966665290594101, 5.306587059497833, 4.123783312439919, 3.28432159781456, 4.269495365023613, 4.491719692349434, 5.006364382505417, 4.583106358647346, 3.3338958156108855, 3.353437851071358, 3.5222967219352723, 2.517305136919022, 4.677770766615867, 4.3134349036216735, 4.659654084444046, 3.4978817668557167, 3.5774139338731765, 3.607846007347107, 3.5587845438718797, 3.8186429959535597, 4.676667231917381, 4.135398795604706, 4.734943237304687, 3.9623081564903258, 4.577375156879425, 3.9456454718112948, 3.577789722084999, 3.6440498089790343, 5.212875088453293, 3.985769247412682, 3.4307341176271438, 3.8315930768847464, 3.4831059277057648, 4.401251795887947, 4.068097371459007, 3.3720329195261, 3.537985484004021, 3.7547932851314543, 3.847834231853485, 3.787535402774811, 5.583035510778427, 3.168614528775215, 2.432115383148193, 3.9391478228569032, 4.347345989942551, 3.9408521068096163, 3.252036497294903, 3.224854154586792, 3.3117234641313553, 3.5612903708219528, 3.8222156769037245, 3.1592495429515837, 3.6172035938501357, 4.376354530453682, 3.551321502327919, 3.0666076597571372, 2.742564837038517, 4.182323959469795, 3.230525411963463, 3.741434800028801, 3.448039000034332, 3.4168443804979325, 2.7898260152339933, 2.828964682817459, 3.1057392704486846, 3.370259824246168, 5.651117774248124, 4.545715700387955, 3.657894516587257, 3.212041779756546, 4.279829089045524, 4.614326764047146, 3.6580611526966096, 3.393290142416954, 3.841327130794525, 3.578039952814579, 3.7440667551755906, 4.330555790662766, 3.283135694265366, 4.020979027152062, 3.5014309376478194, 6.806364444494247, 4.961633538007736, 3.915866805911064, 3.678588101565838, 4.693263397812843, 3.0760849329829214, 4.233430635929108, 4.976471263766289, 3.6171273481845856, 3.675006730556488, 4.209884042739868, 3.4235187262296676, 4.042965186834335, 4.013816065192223, 3.1782487177848817, 3.4206505358219146, 3.4657337856292725, 4.255062943696975, 4.098423618674278, 3.760348790884018, 3.7461698853969576, 3.536490720361471, 3.148512154221535, 3.5832661426067354, 4.203640790581703, 3.467394431233406, 4.163307237029076, 5.09829665184021, 3.2687964737415314, 3.616616111397743, 3.231479130983353, 3.8811226612329484, 2.982469639778137, 3.266016559898853, 4.10818595290184, 3.745228931903839, 4.242922351360321, 4.469626262187957, 4.8471914295852185, 4.838681880831718, 5.330423553287983, 4.922412650585175, 3.7342547565698623, 4.363848094344139, 4.095448544025421, 3.353864825963974, 2.8966720977425577, 4.113342418670654, 3.341676633954048, 3.7330408412218095, 3.9414751785993576, 3.9377583581209183, 3.690258581638336, 3.7794154143333434, 3.4187701758742333, 3.0522982880473135, 4.641738388538361, 3.1519954127073286, 4.012174715995789, 3.793009020090103, 5.5117409414052965, 4.014329115152359, 3.872429433465004, 3.2973262467980384, 3.4361106279492377, 4.225463818311692, 3.559115610718727, 3.9198419791460037, 4.982431501150131, 3.159399165511131, 3.8355789190530776, 4.360798507928848, 2.7378144383430483, 4.264856013357639, 4.556634427309036, 3.462357379198074, 3.2185852909088135, 3.7410889455676077, 3.941960116326809, 4.291332812309265, 3.8220304757356645, 4.120952786207199, 4.027810143828392, 4.7192208272218705, 4.422405121326446, 3.000148459970951, 3.6383616572618482, 3.774608874320984, 4.211756501793861, 4.337816362977028, 3.5135024571418763, 3.2241198030114173, 4.44841314047575, 4.643351054191589, 4.125433406233787, 3.05720439851284, 3.8334491834044457, 4.460379176139831, 4.702285159826278, 4.128739860057831, 5.623001039028168, 4.363921405225992, 4.018824525475502, 3.9815974336862565, 3.8017548125982286, 3.343543228507042, 5.137204318642616, 4.43878341794014, 4.548944245576859, 3.521387788057327, 3.909328822493553, 5.159749830365181, 4.988891109228134, 5.594498751759529, 4.319973739981651, 2.964843897819519, 3.747479942440987, 3.9268288791179655, 4.19513384193182, 3.265869391262531, 5.244147917032242, 4.035400334596634, 3.6785009664297106, 3.363449927866459, 3.0327567529678343, 3.553695249557495, 4.1008897817134855, 4.918469558954239, 6.045548053383827, 4.444690079689026, 4.037184176445007, 4.355579923391343, 3.700808237195015, 3.7831681686639786, 4.410805109143257, 4.258242343366146, 4.089078611135482, 4.559782605171204, 4.01100810110569, 4.022386393547058, 5.450464590787887, 5.220144373178482, 3.9577813851833343, 3.2624101224541664, 3.943005170226097, 3.3672955679893493, 4.087416672110558, 3.4136204820871354, 4.962059358358383, 4.62419888317585, 4.097840473651886, 4.093047991991043, 3.6170430785417556, 3.8057659110426902, 4.956942136287689, 3.44786671936512, 3.5073550489544867, 4.672591128349304, 4.583688099384307, 4.434320928454399, 4.026666236519813, 4.312986631393432, 4.73355082988739, 3.355439190864563, 4.250523030757904, 3.810680177807808, 4.638036109805107, 4.647584669291973, 4.218253144025803, 4.801204203963279, 3.98828382730484, 4.161220632195473, 4.849733281135559, 5.49480434179306, 5.400772475600243, 4.659676662683487, 4.568674615621567, 4.010346120595932, 4.9832366615533825, 4.085588710308075, 5.121023219227791, 4.829957877993584, 5.923584660291672, 6.512821640968323, 4.81118170440197, 4.228262195885182, 4.050198413729667, 5.574577277302742, 4.254756129980088, 4.283203612565995, 4.397813629508018, 4.137574557065964, 5.582584708929062, 3.4860087180137636, 4.83276535987854, 4.1156687939167025, 5.290699667930603, 4.580686529278755, 4.533933772444725, 4.099669086933136, 5.52913221001625, 5.333239820599556, 8.691931821107865, 6.378329705297947, 5.519461464881897, 3.7451424753665923, 5.6419442427158355, 4.808119990825653, 4.465938286781311, 4.511086212396622, 4.660971234440804, 5.109018808603286, 4.234358851313591, 5.333969340324402, 5.353599615097046, 5.244154259562492, 4.921048234701157, 3.967425202727318, 5.074799715280533, 5.14162466108799, 6.5883346521854405, 4.9784375917911525, 4.138031489551067, 4.794160580039025, 4.64112440943718, 5.210929110050201, 3.771790558695793, 4.107087016701699, 5.346507736444473, 4.505397329032421, 4.446828743815422, 7.114168286323547, 5.622684567570686, 4.465486571192741, 6.007796803712845, 4.9371695727109906, 5.092994328737259, 4.318867235183716, 4.951457701921463, 4.031553622484207, 4.507004266381264, 5.671765160560608, 4.366283249855042, 4.09561008632183, 5.3202273046970365, 4.365271356701851, 5.210191442370415, 4.593590935468674, 4.208704668879509, 6.28517569065094, 5.285097868442535, 6.100837768316269, 7.130809120535851, 5.684103354811668, 4.67508719265461, 3.651883835196495, 5.686420358419419, 4.23869543671608, 5.463167737722397, 5.439058830142021, 5.831205651760102, 4.982422362565995, 6.282898144721985, 5.808829832077026, 4.046312906146049, 5.6982176303863525, 5.90477812230587, 4.787070478796959, 6.635774927139282, 5.759065524935722, 4.824065624475479, 5.829225744605065, 5.203409080207348, 4.833238120377064, 4.501238203048706, 4.198415991663933, 5.207341820597649, 4.931052739620209, 4.852118085026741, 3.7931943088769913, 6.463853150606155, 4.293336764872074, 3.9053256839513777, 4.5383580327034, 3.448777809739113, 4.084021276831627, 3.9539316433668135, 4.017353744506836, 3.9665864780545235, 4.7463636380434036, 3.9170394003391267, 3.8655414319038393, 4.2866013425588605, 5.726114484071732, 7.424685879349709, 3.835086010694504, 4.189319244027137, 4.005056149363518, 4.180204050540924, 3.467811912000179, 3.4976036632061005, 3.9357811969518663, 6.222860909104347, 5.984321957230568, 3.6931977009773256, 4.063975034952164, 4.3991935485601426, 3.597660653591156, 3.734721309542656, 4.391821934282779, 5.614920554757118, 4.3234947937726975, 5.225775542855263, 3.6503772842884064, 4.224797566533089, 3.757935852408409, 3.9914107114076613, 6.04528623521328, 4.440605548024178, 5.008383091688156, 5.200544922351837, 3.51667474925518, 3.3675750517845153, 3.452620981931686, 3.9742455786466597, 6.143036390542984, 7.741869262456894, 4.674589042663574, 3.2172659239172936, 3.2360963761806487, 4.184286446273327, 5.021682681441307, 3.9050963011384012, 3.513842465877533, 3.397788373231888, 4.034884720444679, 4.109373979866505, 5.444904043078423, 4.391519908308982, 4.921824549436569, 4.462261686325073, 4.133854785561562, 5.909743886590004, 4.0260156524181365, 3.429776587486267, 4.274187303185463, 4.735724846124649, 3.7520180210471152, 4.616392031908036, 3.8238068240880967, 3.6628779968619347, 4.045379099845886, 4.629034818410873, 5.229470465183258, 3.6530314254760743, 5.526950522065163, 4.229863566160202, 3.027266253232956, 5.329982909560203, 4.899088715612888, 4.425833207964897, 4.120788793265819, 4.715162726640702, 4.278336044549942, 3.969084197282791, 5.69684001237154, 4.691445015072823, 4.543656025528907, 4.533632891774178, 6.037649142146111, 5.009618062973022, 5.017984918355942, 5.261952462792396, 4.2787797489762305, 5.212503852248192, 5.475714434385299, 4.236624585986138, 4.193807450532913, 3.716809754371643, 4.35805253893137, 3.5020567005872727, 3.301889231801033, 4.867127677202225, 3.816840936541557, 4.90799161195755, 4.64662390768528, 3.597952074408531, 3.345827599465847, 3.8717519497871398, 4.959692009091377, 4.2087285441160205, 7.443841192722321, 4.9605504214763645, 4.504375196099281, 4.803752372860909, 4.493123000264168, 3.8671338361501695, 4.598791416287423, 3.958061165809631, 4.323193613886833, 4.622581886053085, 5.0607082259655, 3.2738576167821885, 4.465187505483628, 4.976132128238678, 2.7382324248552323, 3.6794816184043886, 4.377030321955681, 5.56760487139225, 5.476196850538254, 3.329949001073837, 2.8745916324853895, 3.6701709324121476, 3.125055719614029, 3.1627348268032076, 2.7735107192397117, 3.931005834341049, 4.566083099842071, 2.6779700464010237, 2.801743871867657, 3.0655986297130586, 3.5047253876924516, 3.1012325209379195, 4.079663572609425, 2.899924308359623, 2.5398764476180076, 2.6521280163526537, 3.7642206281423567, 3.7098535960912704, 3.888378537297249, 3.589838977456093, 3.457716302573681, 4.480469624996186, 3.337720454633236, 3.3594256895780563, 2.846893219649792, 2.5074725645780562, 3.6539349120855333, 3.461575754284859, 2.8999115478992463, 3.522691248655319, 3.0332377910614015, 4.682043724954128, 3.6083601969480514, 4.225143073201179, 3.9771568632125853, 3.169608770608902, 2.989730861186981, 3.2229177522659302, 3.598082743883133, 4.256771389245987, 4.684752373695374, 3.903777703642845, 3.360730499327183, 2.6944617581367494, 2.710332350730896, 3.903278901576996, 4.633921374082565, 3.4117691743373872, 3.48729856967926, 3.1896406483650206, 2.6272050458192826, 3.211732425093651, 4.587359275817871, 4.2439407074451445, 4.88404842197895, 5.392184244394302, 4.219837055206299, 3.947611334323883, 4.293193557262421, 6.193361799120903, 4.310418850779533, 3.009324706196785, 3.6038409000635148, 5.316806629896164, 3.8768816423416137, 3.6515539413690568, 5.752215573787689, 5.278547052145004, 4.44027005314827, 3.758791629076004, 3.49185063123703, 3.941426858305931, 3.239989002943039, 3.330007193684578, 4.488611229658127, 4.384186664223671, 4.8004974687099455, 3.2637707448005675, 4.779713782072068, 3.5584570586681368, 4.2643142151832585, 3.6975024199485778, 3.342054934501648, 3.261574699282646, 5.812359938025475, 4.1381521755456925, 5.865431876182556, 3.638400105237961, 3.303403530716896, 4.349595093727112, 3.319675930738449, 2.7638387352228166, 3.4115284317731858, 3.940824107527733, 3.846165426373482], \"yaxis\": \"y\"}, {\"mode\": \"lines\", \"type\": \"scatter\", \"x\": [0, 1, 2, 3, 4, 5, 6, 7, 8, 9, 10, 11, 12, 13, 14, 15, 16, 17, 18, 19, 20, 21, 22, 23, 24, 25, 26, 27, 28, 29, 30, 31, 32, 33, 34, 35, 36, 37, 38, 39, 40, 41, 42, 43, 44, 45, 46, 47, 48, 49, 50, 51, 52, 53, 54, 55, 56, 57, 58, 59, 60, 61, 62, 63, 64, 65, 66, 67, 68, 69, 70, 71, 72, 73, 74, 75, 76, 77, 78, 79, 80, 81, 82, 83, 84, 85, 86, 87, 88, 89, 90, 91, 92, 93, 94, 95, 96, 97, 98, 99, 100, 101, 102, 103, 104, 105, 106, 107, 108, 109, 110, 111, 112, 113, 114, 115, 116, 117, 118, 119, 120, 121, 122, 123, 124, 125, 126, 127, 128, 129, 130, 131, 132, 133, 134, 135, 136, 137, 138, 139, 140, 141, 142, 143, 144, 145, 146, 147, 148, 149, 150, 151, 152, 153, 154, 155, 156, 157, 158, 159, 160, 161, 162, 163, 164, 165, 166, 167, 168, 169, 170, 171, 172, 173, 174, 175, 176, 177, 178, 179, 180, 181, 182, 183, 184, 185, 186, 187, 188, 189, 190, 191, 192, 193, 194, 195, 196, 197, 198, 199, 200, 201, 202, 203, 204, 205, 206, 207, 208, 209, 210, 211, 212, 213, 214, 215, 216, 217, 218, 219, 220, 221, 222, 223, 224, 225, 226, 227, 228, 229, 230, 231, 232, 233, 234, 235, 236, 237, 238, 239, 240, 241, 242, 243, 244, 245, 246, 247, 248, 249, 250, 251, 252, 253, 254, 255, 256, 257, 258, 259, 260, 261, 262, 263, 264, 265, 266, 267, 268, 269, 270, 271, 272, 273, 274, 275, 276, 277, 278, 279, 280, 281, 282, 283, 284, 285, 286, 287, 288, 289, 290, 291, 292, 293, 294, 295, 296, 297, 298, 299, 300, 301, 302, 303, 304, 305, 306, 307, 308, 309, 310, 311, 312, 313, 314, 315, 316, 317, 318, 319, 320, 321, 322, 323, 324, 325, 326, 327, 328, 329, 330, 331, 332, 333, 334, 335, 336, 337, 338, 339, 340, 341, 342, 343, 344, 345, 346, 347, 348, 349, 350, 351, 352, 353, 354, 355, 356, 357, 358, 359, 360, 361, 362, 363, 364, 365, 366, 367, 368, 369, 370, 371, 372, 373, 374, 375, 376, 377, 378, 379, 380, 381, 382, 383, 384, 385, 386, 387, 388, 389, 390, 391, 392, 393, 394, 395, 396, 397, 398, 399, 400, 401, 402, 403, 404, 405, 406, 407, 408, 409, 410, 411, 412, 413, 414, 415, 416, 417, 418, 419, 420, 421, 422, 423, 424, 425, 426, 427, 428, 429, 430, 431, 432, 433, 434, 435, 436, 437, 438, 439, 440, 441, 442, 443, 444, 445, 446, 447, 448, 449, 450, 451, 452, 453, 454, 455, 456, 457, 458, 459, 460, 461, 462, 463, 464, 465, 466, 467, 468, 469, 470, 471, 472, 473, 474, 475, 476, 477, 478, 479, 480, 481, 482, 483, 484, 485, 486, 487, 488, 489, 490, 491, 492, 493, 494, 495, 496, 497, 498, 499, 500, 501, 502, 503, 504, 505, 506, 507, 508, 509, 510, 511, 512, 513, 514, 515, 516, 517, 518, 519, 520, 521, 522, 523, 524, 525, 526, 527, 528, 529, 530, 531, 532, 533, 534, 535, 536, 537, 538, 539, 540, 541, 542, 543, 544, 545, 546, 547, 548, 549, 550, 551, 552, 553, 554, 555, 556, 557, 558, 559, 560, 561, 562, 563, 564, 565, 566, 567, 568, 569, 570, 571, 572, 573, 574, 575, 576, 577, 578, 579, 580, 581, 582, 583, 584, 585, 586, 587, 588, 589, 590, 591, 592, 593, 594, 595, 596, 597, 598, 599, 600, 601, 602, 603, 604, 605, 606, 607, 608, 609, 610, 611, 612, 613, 614, 615, 616, 617, 618, 619, 620, 621, 622, 623, 624, 625, 626, 627, 628, 629, 630, 631, 632, 633, 634, 635, 636, 637, 638, 639, 640, 641, 642, 643, 644, 645, 646, 647, 648, 649, 650, 651, 652, 653, 654, 655, 656, 657, 658, 659, 660, 661, 662, 663, 664, 665, 666, 667, 668, 669, 670, 671, 672, 673, 674, 675, 676, 677, 678, 679, 680, 681, 682, 683, 684, 685, 686, 687, 688, 689, 690, 691, 692, 693, 694, 695, 696, 697, 698, 699, 700, 701, 702, 703, 704, 705, 706, 707, 708, 709, 710, 711, 712, 713, 714, 715, 716, 717, 718, 719, 720, 721, 722, 723, 724, 725, 726, 727, 728, 729, 730, 731, 732, 733, 734, 735, 736, 737, 738, 739, 740, 741, 742, 743, 744, 745, 746, 747, 748, 749, 750, 751, 752, 753, 754, 755, 756, 757, 758, 759, 760, 761, 762, 763, 764, 765, 766, 767, 768, 769, 770, 771, 772, 773, 774, 775, 776, 777, 778, 779, 780, 781, 782, 783, 784, 785, 786, 787, 788, 789, 790, 791, 792, 793, 794, 795, 796, 797, 798, 799, 800, 801, 802, 803, 804, 805, 806, 807, 808, 809, 810, 811, 812, 813, 814, 815, 816, 817, 818, 819, 820, 821, 822, 823, 824, 825, 826, 827, 828, 829, 830, 831, 832, 833, 834, 835, 836, 837, 838, 839, 840, 841, 842, 843, 844, 845, 846, 847, 848, 849, 850, 851, 852, 853, 854, 855, 856, 857, 858, 859, 860, 861, 862, 863, 864, 865, 866, 867, 868, 869, 870, 871, 872, 873, 874, 875, 876, 877, 878, 879, 880, 881, 882, 883, 884, 885, 886, 887, 888, 889, 890, 891, 892, 893, 894, 895, 896, 897, 898, 899, 900, 901, 902, 903, 904, 905, 906, 907, 908, 909, 910, 911, 912, 913, 914, 915, 916, 917, 918, 919, 920, 921, 922, 923, 924, 925, 926, 927, 928, 929, 930, 931, 932, 933, 934, 935, 936, 937, 938, 939, 940, 941, 942, 943, 944, 945, 946, 947, 948, 949, 950, 951, 952, 953, 954, 955, 956, 957, 958, 959, 960, 961, 962, 963, 964, 965, 966, 967, 968, 969, 970, 971, 972, 973, 974, 975, 976, 977, 978, 979, 980, 981, 982, 983, 984, 985, 986, 987, 988, 989, 990, 991, 992, 993, 994, 995, 996, 997, 998, 999], \"xaxis\": \"x2\", \"y\": [4.927734682064814, 7.075711274147034, 8.766666736602783, 10.434728326797485, 12.185969438552856, 14.060707273483276, 15.688386135101318, 17.754107542037964, 18.96754758834839, 21.01208038330078, 23.029887523651123, 25.035595893859863, 27.020504760742188, 29.069338607788087, 31.37811569213867, 33.63593858718872, 35.06092531204224, 37.05930585861206, 39.08286979675293, 40.50232723236084, 41.58182380676269, 43.55928401947021, 44.953381843566895, 46.79573127746582, 47.678393592834475, 48.71500011444092, 50.0207640838623, 51.205216789245604, 52.07961124420166, 52.57134353637695, 53.84619693756103, 54.61703506469726, 55.91088291168213, 56.59693691253662, 57.52746788024902, 59.571359176635745, 59.90232925415039, 61.16844291687012, 61.457155075073246, 63.08803092956543, 63.079385414123536, 63.84244808197022, 63.78666072845459, 64.53690540313721, 64.52569190979004, 64.23893814086914, 65.40202182769775, 65.05579574584961, 64.7511470413208, 64.88472625732422, 64.70611614227295, 64.51595825195312, 65.93716472625732, 65.384052734375, 66.02037872314453, 65.92193614959717, 64.86953258514404, 65.0146908569336, 65.604365234375, 64.2846054840088, 65.48553073883056, 65.84633800506592, 65.76167400360107, 63.86869144439697, 64.3706946182251, 64.99868526458741, 62.70633026123047, 63.21691715240478, 63.70100894927978, 64.20935070037842, 63.074137115478514, 62.876939659118655, 61.367873420715334, 60.227674865722655, 62.66981048583985, 61.25374168395996, 60.983104858398434, 62.14299488067627, 60.94735248565674, 61.422521362304686, 61.11807525634766, 58.95171627044678, 58.396807746887205, 60.885022201538085, 59.873395385742185, 61.26063835144043, 57.98188278198242, 59.67234813690185, 59.83990692138672, 59.640659217834475, 59.71981071472168, 58.685946769714356, 59.31474231719971, 59.60324893951416, 58.73845806121826, 58.62146049499512, 58.04648281097412, 57.00472431182861, 57.99190858840942, 58.38027080535889, 57.70288486480713, 56.01113941192627, 56.6306241607666, 58.02165508270264, 57.343210258483886, 55.4956075668335, 55.261134490966796, 56.26498481750488, 54.2971496963501, 55.040227279663085, 54.65303985595703, 55.167013816833496, 53.4710870552063, 52.29168794631958, 53.66996799468994, 53.585159111022946, 52.64279140472412, 52.337682266235355, 53.347387104034425, 51.48707061767578, 51.590670051574705, 51.14461112976074, 50.93851140975952, 50.54649450302124, 49.882262020111085, 50.68694068908692, 48.89878555297852, 48.70539247512817, 50.80736064910889, 49.80738567352295, 47.78406644821167, 48.827866325378416, 47.82419605255127, 47.90461940765381, 47.75697784423828, 48.32434902191162, 47.190822467803955, 46.64265058517456, 47.55695108413696, 47.379327621459964, 47.26777294158936, 46.29032175064087, 45.84813045501709, 46.650430278778074, 44.699214172363284, 47.19459112167358, 44.55005357742309, 43.91058685302735, 44.191773376464845, 46.58850210189819, 44.030049343109134, 43.6601619720459, 41.97613531112671, 43.988397960662844, 42.98928707122803, 42.41558212280273, 42.71946620941162, 42.566333045959475, 42.639662227630616, 42.139594326019285, 42.450492191314694, 41.99541301727295, 42.253994388580324, 41.83199323654175, 42.00175527572632, 42.201956272125244, 41.42983047485352, 40.720595855712894, 40.05897912979126, 40.88402713775635, 40.14053535461426, 40.274737720489505, 41.94884572982788, 39.553563270568844, 39.97051668167114, 38.07813117980957, 40.741388912200925, 41.939631881713865, 40.198070983886716, 40.44592863082886, 39.00142164230347, 39.792456741333005, 38.63191953659057, 39.52083164215088, 40.49272680282593, 40.4830781173706, 39.86927629470825, 39.080667362213134, 39.017698783874515, 38.074216995239254, 38.440626831054686, 39.516188373565676, 37.58412867546082, 37.93836654663086, 38.06799083709717, 36.33343774795532, 37.78198429107666, 37.13358137130737, 37.034683799743654, 37.48732688903809, 39.02243741989136, 37.267856426239014, 37.843779201507566, 37.31741765975952, 36.57791730880737, 35.93763275146485, 36.69073532104492, 35.84197385787964, 35.45632898330688, 36.006867265701295, 36.68601095199585, 34.855265836715695, 34.85994430541992, 35.458965129852295, 35.112057056427005, 33.86181535720825, 34.04688291549682, 35.38039995193481, 36.16333271026611, 33.57067198753357, 34.969931507110594, 34.79009116172791, 35.53380590438843, 34.46709575653076, 34.18938669204712, 33.00814785003662, 33.6663960647583, 33.965677652359005, 32.68697183609009, 33.60594295501709, 32.879734630584714, 31.517922191619874, 32.40552495956421, 33.38473711013794, 33.73064086914062, 32.783767261505126, 32.38602569580078, 32.481369724273684, 34.35104787826538, 31.96285001754761, 32.89429315567017, 33.400886898040774, 32.77084833145142, 33.85779176712036, 32.117304134368894, 33.817659301757814, 32.39043351173401, 32.03379051208496, 32.51304061889648, 32.19011838912964, 31.47973714828491, 33.30913787841797, 32.94411856651306, 31.551583461761474, 32.69861002922058, 31.349243087768556, 31.57350049972534, 31.796811151504517, 30.96576817512512, 30.975546054840088, 30.607452096939088, 32.04193021774292, 31.504030208587647, 32.69382517814636, 31.496967582702638, 32.03055681228638, 30.843239011764528, 30.85936815261841, 31.318821334838866, 30.668902797698976, 30.668778266906738, 31.618410215377807, 30.57647846221924, 30.682667636871336, 30.564864530563355, 30.002467155456543, 30.141161422729493, 29.118045196533203, 29.24000910758972, 30.295731048583985, 30.74152688026428, 30.58183506965637, 30.829553909301758, 30.862210540771486, 28.950798196792604, 30.65787578582764, 30.32167489051819, 30.780876216888426, 30.22100196838379, 29.617205390930177, 29.085359716415404, 30.665164642333984, 31.3840881729126, 29.859721183776855, 29.44556806564331, 28.615240650177, 29.1575378036499, 28.310576105117796, 29.482544403076172, 29.018952989578246, 28.838265295028688, 28.484139614105224, 28.270029821395873, 27.758458585739135, 30.034442262649534, 27.542248067855834, 28.057788915634156, 28.640352764129638, 28.607190589904786, 28.596036558151244, 28.17118043899536, 27.417103958129882, 27.876200122833254, 28.02633786201477, 26.85188157081604, 27.441219272613527, 28.783313331604003, 28.335544528961183, 27.474955339431762, 27.2828248500824, 27.00874176979065, 28.451023397445677, 28.532149982452392, 27.58088541507721, 28.5190558052063, 27.404970111846925, 27.26891936302185, 28.64337773323059, 28.98270148277283, 29.435129661560058, 28.004503240585326, 28.35375503540039, 26.860433616638183, 27.72955228805542, 28.32949489593506, 26.7653071475029, 27.805021362304686, 27.525143308639528, 26.993559885025025, 26.803309154510497, 27.825276851654053, 26.987390642166137, 27.45450653076172, 27.10237467765808, 26.295887098312377, 27.612817459106445, 27.01710283279419, 26.596988372802734, 26.040127401351928, 26.6027042388916, 26.114246635437013, 24.667718801498413, 25.34927135467529, 27.238309631347658, 26.371434688568115, 26.3669247341156, 27.16165277481079, 26.214787864685057, 26.115180497169494, 26.20835503578186, 25.89690941810608, 25.470816650390624, 27.156406545639037, 26.237503967285157, 26.741355962753296, 26.736350736618043, 25.59102870941162, 26.586726093292235, 25.64703890800476, 25.539036512374878, 25.555377130508422, 25.49494867324829, 25.634173517227172, 25.472086009979247, 26.129849119186403, 25.313410177230836, 26.191778688430787, 26.41492380142212, 25.141258220672608, 25.574706411361696, 27.0194873046875, 25.73528624534607, 25.66631236076355, 25.785107846260072, 26.760247163772583, 25.897638540267945, 26.09165729522705, 27.461219968795778, 25.176049613952635, 25.72877742767334, 26.596683702468873, 25.85804361343384, 26.053890542984007, 25.621722717285156, 25.904162855148314, 26.710134716033934, 27.27877900123596, 26.180097932815553, 26.10478398323059, 26.1355651473999, 26.719795322418214, 25.156429271698, 26.009959526062012, 26.448603792190553, 25.803491039276125, 26.155526723861694, 25.892515544891356, 26.60023624420166, 26.66232353210449, 27.450150976181032, 25.916951327323915, 26.587179794311524, 27.238059310913087, 26.195499114990234, 26.3400838470459, 24.28303324699402, 25.478928480148316, 25.72361093521118, 25.239832162857056, 25.725129499435425, 24.744298000335693, 25.694905490875243, 25.978661336898803, 25.208244419097902, 25.50071277141571, 25.325214824676515, 26.33846315383911, 24.77409370422363, 25.56448028564453, 25.583770051002503, 26.719782180786133, 25.37491099357605, 25.702617387771607, 24.969120965003967, 24.910426893234252, 25.331095342636107, 25.75578579902649, 22.669294319152833, 25.814850215911864, 24.31442038536072, 24.58535249710083, 24.98892581939697, 24.98158076286316, 23.032555055618285, 24.96369529247284, 24.377851057052613, 23.35669602394104, 24.380593576431274, 25.22687135696411, 24.874607410430908, 23.807865352630614, 24.435925607681273, 24.051832056045534, 24.673611583709718, 25.091070194244384, 23.951526260375978, 23.137511868476867, 23.16263295173645, 24.523801527023316, 23.861163673400878, 23.734336853027344, 24.976987705230712, 23.398827648162843, 24.771236209869386, 23.322121934890745, 23.578954153060913, 23.164513626098632, 23.140383386611937, 23.0187393951416, 22.86854981660843, 23.449829683303832, 23.64891070365906, 23.59911111831665, 22.69297173500061, 22.16692509174347, 23.070057563781738, 23.415566863417624, 22.796921463012694, 24.465827927589416, 21.46868761062622, 24.335069241523744, 23.028253784179686, 22.2298704624176, 23.049676008224488, 22.495553884506226, 23.36369644641876, 23.13499093055725, 24.903096752166746, 22.675968952178955, 23.127368330955505, 22.699212894439697, 23.027203369140626, 23.365632581710816, 21.91034396648407, 22.693528356552125, 22.673699054718018, 23.946747527122497, 22.60935115337372, 22.950865507125854, 22.66657371520996, 23.346885805130004, 22.731826786994933, 22.683383212089538, 21.32740542411804, 23.82076963186264, 22.86484487533569, 21.80823228120804, 22.10156552553177, 22.858643016815186, 23.00859910964966, 21.962799339294435, 22.48370820045471, 23.2687713098526, 21.237948746681212, 22.84394642829895, 23.249413471221924, 23.18908923149109, 21.726090683937073, 22.83061227798462, 21.768868980407714, 22.06368748664856, 21.873642368316652, 21.800623400211336, 22.903479113578797, 23.394952135086058, 23.27006199836731, 22.61049934387207, 21.9878941822052, 21.30508205771446, 21.030108633041383, 22.197386450767517, 22.379509592056273, 21.617400732040405, 23.113634133338927, 21.456277961730958, 23.157961077690125, 21.698604388237, 21.366390447616578, 22.7166699886322, 22.360873613357544, 21.796393852233887, 22.067835738658903, 20.6800456905365, 23.1642075920105, 21.28221410036087, 22.16287679195404, 21.66202308654785, 23.1062233543396, 20.459227900505066, 20.394814009666444, 21.296774325370787, 22.073516917228698, 21.734960403442383, 22.14907244682312, 20.827217135429382, 22.0690283203125, 21.043436551094054, 20.96711449623108, 22.497935466766357, 21.639756302833558, 21.147665090560913, 22.159479598999024, 22.513259353637697, 21.28137523651123, 22.59948523521423, 22.570799784660338, 21.781460695266723, 21.46962097644806, 23.369358196258545, 21.60013113975525, 23.562274703979494, 21.975874705314638, 21.82919695854187, 22.195512952804567, 22.12094307422638, 21.913438143730165, 22.28715757369995, 22.011523509025572, 23.459882068634034, 21.976647691726683, 23.22604326248169, 22.56273572444916, 22.733924717903136, 23.470925488471984, 22.5081237411499, 22.688461894989015, 21.328500027656556, 23.188300485610963, 22.038600664138794, 22.07515220165253, 22.954798951148987, 23.020476068258287, 21.404056463241577, 22.091462087631225, 23.276608791351318, 22.577378358840942, 23.157784299850462, 23.418781442642214, 23.15939125061035, 23.69486846923828, 22.307334203720092, 22.12076868534088, 22.120157499313354, 23.44287841796875, 23.09013189315796, 23.086509981155395, 22.940599241256713, 24.141087255477906, 23.4316077375412, 22.99218710422516, 22.968635206222533, 23.58548776626587, 22.58927617788315, 22.902028632164, 23.785102157592775, 22.599902038574218, 23.785754137039184, 22.582889852523802, 22.493350076675416, 22.6106689119339, 22.058311886787415, 22.35974948167801, 23.32597961425781, 22.50207582473755, 22.724807891845703, 22.481244533061982, 22.17300843715668, 24.119991450309755, 22.264327044487, 23.46036961555481, 24.438718690872193, 22.139353432655334, 23.30985544204712, 22.606328582763673, 24.093128709793092, 21.354821248054506, 21.39659478664398, 22.069869017601015, 22.066753089427948, 22.420670318603516, 21.86081646323204, 22.77560779571533, 22.04482588291168, 21.093746027946473, 21.728195853233338, 22.656630878448485, 22.527802619934082, 20.06692714214325, 21.361350712776183, 21.05877812385559, 21.710790901184083, 21.866236810684203, 22.387073631286622, 22.00597638130188, 20.295928859710692, 20.782373690605162, 21.870553693771363, 21.128667521476746, 21.08835789680481, 21.62031915664673, 20.762392959594727, 21.260227661132813, 22.085673909187317, 21.04368292570114, 21.440461320877077, 19.50502367258072, 20.86085107803345, 20.80898486614227, 20.2767133808136, 20.3500883102417, 20.39635869026184, 19.960096945762633, 19.799986128807067, 20.497304697036743, 20.658549270629884, 20.40723468542099, 19.513159298896788, 19.462891583442687, 18.979389941692354, 18.585557646751404, 20.298066182136537, 19.336999115943907, 20.526526308059694, 19.410413999557495, 19.782279119491577, 19.8785049533844, 19.25291789531708, 19.071756992340088, 20.22351842403412, 19.415478324890138, 19.979098472595215, 20.227033953666687, 17.987339470386505, 19.706503863334657, 19.118619453907012, 20.03274240255356, 18.954029307365417, 19.2469632768631, 20.050087616443633, 18.920642144680023, 19.562288138866425, 19.837430186271668, 19.304002165794373, 19.376815528869628, 18.11044352054596, 17.368556113243102, 18.508479274511338, 17.162166938781738, 19.33955610513687, 17.88350393295288, 19.020520238876344, 18.6728759598732, 18.711884150505067, 18.43267989873886, 19.008765716552734, 18.327061593532562, 18.019579021930696, 18.154019113779068, 19.278572413921356, 16.744179364442825, 19.32327754020691, 17.596036534309388, 17.6947479224205, 17.46147620201111, 17.876500873565675, 17.59315456390381, 18.127528994083406, 17.584223432540895, 18.082757062911988, 17.560911803245546, 17.171636810302733, 17.72183565378189, 17.86475248813629, 16.643335082530974, 18.006898686885833, 17.101627507209777, 16.93540173649788, 15.833893191814422, 16.447200963497163, 16.934286062717437, 16.630190074443817, 15.626187732219696, 16.231541628837586, 16.70722241520882, 16.05080676317215, 15.580761709809304, 14.247744470834732, 14.992115063667297, 15.812404679059982, 14.510571836233138, 14.57029789686203, 14.650296957492829, 15.571625351905823, 14.601371026039123, 13.579913085699081, 15.257665500640869, 14.109942271709443, 15.350205562114716, 15.096852285265923, 13.879759275913239, 13.925615944266319, 14.752205703258515, 15.641659591197968, 14.793980004787445, 14.289315574169159, 13.651353850364686, 14.616198208332062, 14.397004617452621, 15.42798606991768, 15.76587988615036, 14.139677253961564, 14.719124186635018, 14.393005654811859, 13.690700970888138, 13.969917058944702, 14.252766093015671, 13.711932129859925, 14.558089106082916, 14.1579616522789, 14.019841198921204, 14.883989126682282, 12.760719457864761, 14.57534777879715, 13.110805958509445, 13.64000729560852, 13.55475523352623, 14.809624203443526, 13.094005922079086, 14.604382100105285, 13.807449359893798, 13.47363533616066, 14.118403455018997, 14.38015569448471, 11.753802571296692, 15.031698865890503, 13.642233004570008, 12.651329437494278, 13.924637855291367, 12.94130860209465, 13.00520871579647, 13.165580446720123, 13.863236122131347, 12.628617235422134, 13.12760674238205, 12.178412255048752, 13.23857633292675, 14.034639337658882, 13.207281379699706, 13.469456204175948, 13.288783290982247, 12.880796619653701, 12.852562338113785, 13.43150205373764, 14.79573373556137, 12.52872403383255, 11.95656811773777, 12.865510236024857, 14.383980323076248, 12.562630429267884, 13.471359496116639, 12.68074671268463, 13.690469772815705, 12.212180979847908, 12.669934998750687, 13.879360301494598, 11.843859522342681, 13.126099441051483, 13.541767647266388, 13.26581973195076, 13.095004875659942, 14.309877290725709, 12.833914444446563, 12.997353947758675, 13.429429274797439, 12.898860622644424, 12.760249361991882, 13.715853967666625, 12.674380466938018, 13.019170255661011, 12.688632805347442, 11.410481578111648, 12.770371626615525, 12.872347741127014, 13.455754299163818, 13.597902520895005, 13.024968478679657, 12.890976164340973, 13.084508978128433, 14.527325398325921, 13.907122399806976, 12.845809243917465, 12.916422137022018, 13.255189620256424, 13.870567392110825, 13.314209581613541, 14.561842229366302, 13.51585114479065, 15.3155572783947, 14.176896355152131, 12.696278122663498, 14.214206628799438, 13.273552161455154, 12.759393088817596, 13.513888009786605, 13.773770407438278, 13.396118167638779, 14.380869094133377, 13.686853523254394, 13.484913234114646, 13.860860677957534, 13.511668692827225, 13.95584261417389, 14.335599403381348, 13.31906096816063, 13.533839218616485, 13.258900382518767, 12.785332429409028, 11.058265199661255, 12.33958426475525, 13.643589293956756, 12.1632874584198, 12.758227319717408, 13.519773145914078, 12.16642292380333, 14.226890827417373, 12.840361568927765, 13.225624806284905, 11.790258992910385, 13.426363870501518, 12.436350650787354, 12.046202155351638, 12.837643333673476, 11.859505298137664, 11.943897919654846, 13.134157865047454, 12.906782330870628, 10.624012858271598, 12.70753194451332, 12.843630915880203, 11.839589294791221, 11.88635493516922, 12.206214294433593, 12.933823161721229, 12.394071821570396, 12.58531759262085, 13.060930386781692, 12.860506100654602, 11.81707826256752, 13.315069036483765, 11.573474165201187, 11.028777312636375, 11.315328855514526, 10.924381476044655, 11.59854852437973, 12.392953534126281, 11.288447526097297, 12.30478590965271, 12.586058235168457, 12.403289477825165, 12.30063424706459, 12.999877109527588, 11.787175254821777, 12.10152499318123, 11.095138471126557, 12.747111551761627, 11.38456912636757, 10.917775789499283, 12.172216235399246, 10.792824136018753, 12.364079642295838, 12.140789905786514, 11.861913142204285, 12.156668193340302, 11.323545726537704, 11.968630928993225, 12.710480190515518, 11.569442656338214, 11.515756715536117, 13.275366117954254, 11.622125107049943, 11.592153668403625, 12.859907035827638, 12.490894310474395, 13.181322094202041, 14.16882840871811, 11.607614710330964, 11.879490630626679, 11.906227881908416, 11.987200729846954, 13.084303946495057, 10.314995898008346, 12.180971093177796, 11.10458373427391, 13.167518961429597, 11.74262576341629, 10.61605009317398, 11.900388592481614, 11.087699469327926, 12.322697690725327, 12.31473491191864, 11.169506343603134, 12.054477305412293, 11.254138901233674, 11.429709739685059, 10.346670085191727, 12.2246968126297, 10.414522919654846, 10.939918563365936, 10.86749984383583, 10.25887768149376, 11.62828887462616, 10.874419980049133, 10.75953432381153, 11.054688236117363, 10.454748173952103, 9.435706182718278, 11.031235893964768, 11.165271036624908, 10.779931278824806, 10.64400305390358, 11.083131375312805, 11.666229900121689, 11.784754123687744, 9.915123331546784, 9.892455874681472, 9.566038781404496, 9.53465995490551, 9.594791339635849, 8.916754227876662, 10.231329050064087, 9.445420329570771, 10.689955044984817, 8.920595062971115, 8.904564487934113, 9.691852223873138, 9.868070929646493, 9.812609674930572, 9.48860757112503, 9.719304668307304, 7.718359036445618], \"yaxis\": \"y2\"}],\n",
              "                        {\"annotations\": [{\"font\": {\"size\": 16}, \"showarrow\": false, \"text\": \"Q Loss\", \"x\": 0.225, \"xanchor\": \"center\", \"xref\": \"paper\", \"y\": 1.0, \"yanchor\": \"bottom\", \"yref\": \"paper\"}, {\"font\": {\"size\": 16}, \"showarrow\": false, \"text\": \"Policy Loss\", \"x\": 0.775, \"xanchor\": \"center\", \"xref\": \"paper\", \"y\": 1.0, \"yanchor\": \"bottom\", \"yref\": \"paper\"}], \"template\": {\"data\": {\"bar\": [{\"error_x\": {\"color\": \"#2a3f5f\"}, \"error_y\": {\"color\": \"#2a3f5f\"}, \"marker\": {\"line\": {\"color\": \"#E5ECF6\", \"width\": 0.5}}, \"type\": \"bar\"}], \"barpolar\": [{\"marker\": {\"line\": {\"color\": \"#E5ECF6\", \"width\": 0.5}}, \"type\": \"barpolar\"}], \"carpet\": [{\"aaxis\": {\"endlinecolor\": \"#2a3f5f\", \"gridcolor\": \"white\", \"linecolor\": \"white\", \"minorgridcolor\": \"white\", \"startlinecolor\": \"#2a3f5f\"}, \"baxis\": {\"endlinecolor\": \"#2a3f5f\", \"gridcolor\": \"white\", \"linecolor\": \"white\", \"minorgridcolor\": \"white\", \"startlinecolor\": \"#2a3f5f\"}, \"type\": \"carpet\"}], \"choropleth\": [{\"colorbar\": {\"outlinewidth\": 0, \"ticks\": \"\"}, \"type\": \"choropleth\"}], \"contour\": [{\"colorbar\": {\"outlinewidth\": 0, \"ticks\": \"\"}, \"colorscale\": [[0.0, \"#0d0887\"], [0.1111111111111111, \"#46039f\"], [0.2222222222222222, \"#7201a8\"], [0.3333333333333333, \"#9c179e\"], [0.4444444444444444, \"#bd3786\"], [0.5555555555555556, \"#d8576b\"], [0.6666666666666666, \"#ed7953\"], [0.7777777777777778, \"#fb9f3a\"], [0.8888888888888888, \"#fdca26\"], [1.0, \"#f0f921\"]], \"type\": \"contour\"}], \"contourcarpet\": [{\"colorbar\": {\"outlinewidth\": 0, \"ticks\": \"\"}, \"type\": \"contourcarpet\"}], \"heatmap\": [{\"colorbar\": {\"outlinewidth\": 0, \"ticks\": \"\"}, \"colorscale\": [[0.0, \"#0d0887\"], [0.1111111111111111, \"#46039f\"], [0.2222222222222222, \"#7201a8\"], [0.3333333333333333, \"#9c179e\"], [0.4444444444444444, \"#bd3786\"], [0.5555555555555556, \"#d8576b\"], [0.6666666666666666, \"#ed7953\"], [0.7777777777777778, \"#fb9f3a\"], [0.8888888888888888, \"#fdca26\"], [1.0, \"#f0f921\"]], \"type\": \"heatmap\"}], \"heatmapgl\": [{\"colorbar\": {\"outlinewidth\": 0, \"ticks\": \"\"}, \"colorscale\": [[0.0, \"#0d0887\"], [0.1111111111111111, \"#46039f\"], [0.2222222222222222, \"#7201a8\"], [0.3333333333333333, \"#9c179e\"], [0.4444444444444444, \"#bd3786\"], [0.5555555555555556, \"#d8576b\"], [0.6666666666666666, \"#ed7953\"], [0.7777777777777778, \"#fb9f3a\"], [0.8888888888888888, \"#fdca26\"], [1.0, \"#f0f921\"]], \"type\": \"heatmapgl\"}], \"histogram\": [{\"marker\": {\"colorbar\": {\"outlinewidth\": 0, \"ticks\": \"\"}}, \"type\": \"histogram\"}], \"histogram2d\": [{\"colorbar\": {\"outlinewidth\": 0, \"ticks\": \"\"}, \"colorscale\": [[0.0, \"#0d0887\"], [0.1111111111111111, \"#46039f\"], [0.2222222222222222, \"#7201a8\"], [0.3333333333333333, \"#9c179e\"], [0.4444444444444444, \"#bd3786\"], [0.5555555555555556, \"#d8576b\"], [0.6666666666666666, \"#ed7953\"], [0.7777777777777778, \"#fb9f3a\"], [0.8888888888888888, \"#fdca26\"], [1.0, \"#f0f921\"]], \"type\": \"histogram2d\"}], \"histogram2dcontour\": [{\"colorbar\": {\"outlinewidth\": 0, \"ticks\": \"\"}, \"colorscale\": [[0.0, \"#0d0887\"], [0.1111111111111111, \"#46039f\"], [0.2222222222222222, \"#7201a8\"], [0.3333333333333333, \"#9c179e\"], [0.4444444444444444, \"#bd3786\"], [0.5555555555555556, \"#d8576b\"], [0.6666666666666666, \"#ed7953\"], [0.7777777777777778, \"#fb9f3a\"], [0.8888888888888888, \"#fdca26\"], [1.0, \"#f0f921\"]], \"type\": \"histogram2dcontour\"}], \"mesh3d\": [{\"colorbar\": {\"outlinewidth\": 0, \"ticks\": \"\"}, \"type\": \"mesh3d\"}], \"parcoords\": [{\"line\": {\"colorbar\": {\"outlinewidth\": 0, \"ticks\": \"\"}}, \"type\": \"parcoords\"}], \"pie\": [{\"automargin\": true, \"type\": \"pie\"}], \"scatter\": [{\"marker\": {\"colorbar\": {\"outlinewidth\": 0, \"ticks\": \"\"}}, \"type\": \"scatter\"}], \"scatter3d\": [{\"line\": {\"colorbar\": {\"outlinewidth\": 0, \"ticks\": \"\"}}, \"marker\": {\"colorbar\": {\"outlinewidth\": 0, \"ticks\": \"\"}}, \"type\": \"scatter3d\"}], \"scattercarpet\": [{\"marker\": {\"colorbar\": {\"outlinewidth\": 0, \"ticks\": \"\"}}, \"type\": \"scattercarpet\"}], \"scattergeo\": [{\"marker\": {\"colorbar\": {\"outlinewidth\": 0, \"ticks\": \"\"}}, \"type\": \"scattergeo\"}], \"scattergl\": [{\"marker\": {\"colorbar\": {\"outlinewidth\": 0, \"ticks\": \"\"}}, \"type\": \"scattergl\"}], \"scattermapbox\": [{\"marker\": {\"colorbar\": {\"outlinewidth\": 0, \"ticks\": \"\"}}, \"type\": \"scattermapbox\"}], \"scatterpolar\": [{\"marker\": {\"colorbar\": {\"outlinewidth\": 0, \"ticks\": \"\"}}, \"type\": \"scatterpolar\"}], \"scatterpolargl\": [{\"marker\": {\"colorbar\": {\"outlinewidth\": 0, \"ticks\": \"\"}}, \"type\": \"scatterpolargl\"}], \"scatterternary\": [{\"marker\": {\"colorbar\": {\"outlinewidth\": 0, \"ticks\": \"\"}}, \"type\": \"scatterternary\"}], \"surface\": [{\"colorbar\": {\"outlinewidth\": 0, \"ticks\": \"\"}, \"colorscale\": [[0.0, \"#0d0887\"], [0.1111111111111111, \"#46039f\"], [0.2222222222222222, \"#7201a8\"], [0.3333333333333333, \"#9c179e\"], [0.4444444444444444, \"#bd3786\"], [0.5555555555555556, \"#d8576b\"], [0.6666666666666666, \"#ed7953\"], [0.7777777777777778, \"#fb9f3a\"], [0.8888888888888888, \"#fdca26\"], [1.0, \"#f0f921\"]], \"type\": \"surface\"}], \"table\": [{\"cells\": {\"fill\": {\"color\": \"#EBF0F8\"}, \"line\": {\"color\": \"white\"}}, \"header\": {\"fill\": {\"color\": \"#C8D4E3\"}, \"line\": {\"color\": \"white\"}}, \"type\": \"table\"}]}, \"layout\": {\"annotationdefaults\": {\"arrowcolor\": \"#2a3f5f\", \"arrowhead\": 0, \"arrowwidth\": 1}, \"coloraxis\": {\"colorbar\": {\"outlinewidth\": 0, \"ticks\": \"\"}}, \"colorscale\": {\"diverging\": [[0, \"#8e0152\"], [0.1, \"#c51b7d\"], [0.2, \"#de77ae\"], [0.3, \"#f1b6da\"], [0.4, \"#fde0ef\"], [0.5, \"#f7f7f7\"], [0.6, \"#e6f5d0\"], [0.7, \"#b8e186\"], [0.8, \"#7fbc41\"], [0.9, \"#4d9221\"], [1, \"#276419\"]], \"sequential\": [[0.0, \"#0d0887\"], [0.1111111111111111, \"#46039f\"], [0.2222222222222222, \"#7201a8\"], [0.3333333333333333, \"#9c179e\"], [0.4444444444444444, \"#bd3786\"], [0.5555555555555556, \"#d8576b\"], [0.6666666666666666, \"#ed7953\"], [0.7777777777777778, \"#fb9f3a\"], [0.8888888888888888, \"#fdca26\"], [1.0, \"#f0f921\"]], \"sequentialminus\": [[0.0, \"#0d0887\"], [0.1111111111111111, \"#46039f\"], [0.2222222222222222, \"#7201a8\"], [0.3333333333333333, \"#9c179e\"], [0.4444444444444444, \"#bd3786\"], [0.5555555555555556, \"#d8576b\"], [0.6666666666666666, \"#ed7953\"], [0.7777777777777778, \"#fb9f3a\"], [0.8888888888888888, \"#fdca26\"], [1.0, \"#f0f921\"]]}, \"colorway\": [\"#636efa\", \"#EF553B\", \"#00cc96\", \"#ab63fa\", \"#FFA15A\", \"#19d3f3\", \"#FF6692\", \"#B6E880\", \"#FF97FF\", \"#FECB52\"], \"font\": {\"color\": \"#2a3f5f\"}, \"geo\": {\"bgcolor\": \"white\", \"lakecolor\": \"white\", \"landcolor\": \"#E5ECF6\", \"showlakes\": true, \"showland\": true, \"subunitcolor\": \"white\"}, \"hoverlabel\": {\"align\": \"left\"}, \"hovermode\": \"closest\", \"mapbox\": {\"style\": \"light\"}, \"paper_bgcolor\": \"white\", \"plot_bgcolor\": \"#E5ECF6\", \"polar\": {\"angularaxis\": {\"gridcolor\": \"white\", \"linecolor\": \"white\", \"ticks\": \"\"}, \"bgcolor\": \"#E5ECF6\", \"radialaxis\": {\"gridcolor\": \"white\", \"linecolor\": \"white\", \"ticks\": \"\"}}, \"scene\": {\"xaxis\": {\"backgroundcolor\": \"#E5ECF6\", \"gridcolor\": \"white\", \"gridwidth\": 2, \"linecolor\": \"white\", \"showbackground\": true, \"ticks\": \"\", \"zerolinecolor\": \"white\"}, \"yaxis\": {\"backgroundcolor\": \"#E5ECF6\", \"gridcolor\": \"white\", \"gridwidth\": 2, \"linecolor\": \"white\", \"showbackground\": true, \"ticks\": \"\", \"zerolinecolor\": \"white\"}, \"zaxis\": {\"backgroundcolor\": \"#E5ECF6\", \"gridcolor\": \"white\", \"gridwidth\": 2, \"linecolor\": \"white\", \"showbackground\": true, \"ticks\": \"\", \"zerolinecolor\": \"white\"}}, \"shapedefaults\": {\"line\": {\"color\": \"#2a3f5f\"}}, \"ternary\": {\"aaxis\": {\"gridcolor\": \"white\", \"linecolor\": \"white\", \"ticks\": \"\"}, \"baxis\": {\"gridcolor\": \"white\", \"linecolor\": \"white\", \"ticks\": \"\"}, \"bgcolor\": \"#E5ECF6\", \"caxis\": {\"gridcolor\": \"white\", \"linecolor\": \"white\", \"ticks\": \"\"}}, \"title\": {\"x\": 0.05}, \"xaxis\": {\"automargin\": true, \"gridcolor\": \"white\", \"linecolor\": \"white\", \"ticks\": \"\", \"title\": {\"standoff\": 15}, \"zerolinecolor\": \"white\", \"zerolinewidth\": 2}, \"yaxis\": {\"automargin\": true, \"gridcolor\": \"white\", \"linecolor\": \"white\", \"ticks\": \"\", \"title\": {\"standoff\": 15}, \"zerolinecolor\": \"white\", \"zerolinewidth\": 2}}}, \"title\": {\"text\": \"Loss curves for DDPG Agent on Pendulum-v0\"}, \"xaxis\": {\"anchor\": \"y\", \"domain\": [0.0, 0.45], \"title\": {\"text\": \"Episodes\"}}, \"xaxis2\": {\"anchor\": \"y2\", \"domain\": [0.55, 1.0], \"title\": {\"text\": \"Episodes\"}}, \"yaxis\": {\"anchor\": \"x\", \"domain\": [0.0, 1.0], \"title\": {\"text\": \"Loss\"}}, \"yaxis2\": {\"anchor\": \"x2\", \"domain\": [0.0, 1.0]}},\n",
              "                        {\"responsive\": true}\n",
              "                    ).then(function(){\n",
              "                            \n",
              "var gd = document.getElementById('4d472eae-53ba-47c8-873d-4117e602b818');\n",
              "var x = new MutationObserver(function (mutations, observer) {{\n",
              "        var display = window.getComputedStyle(gd).display;\n",
              "        if (!display || display === 'none') {{\n",
              "            console.log([gd, 'removed!']);\n",
              "            Plotly.purge(gd);\n",
              "            observer.disconnect();\n",
              "        }}\n",
              "}});\n",
              "\n",
              "// Listen for the removal of the full notebook cells\n",
              "var notebookContainer = gd.closest('#notebook-container');\n",
              "if (notebookContainer) {{\n",
              "    x.observe(notebookContainer, {childList: true});\n",
              "}}\n",
              "\n",
              "// Listen for the clearing of the current output cell\n",
              "var outputEl = gd.closest('.output');\n",
              "if (outputEl) {{\n",
              "    x.observe(outputEl, {childList: true});\n",
              "}}\n",
              "\n",
              "                        })\n",
              "                };\n",
              "                \n",
              "            </script>\n",
              "        </div>\n",
              "</body>\n",
              "</html>"
            ]
          },
          "metadata": {}
        }
      ]
    },
    {
      "cell_type": "code",
      "source": [
        "# save the rewards\n",
        "np.save('Rewards_DDPG', rewards)\n",
        "\n",
        "# The loss_files\n",
        "np.save('QLoss_DDPG', q_loss_list)\n",
        "np.save('PolicyLoss_DDPG', policy_loss_list)"
      ],
      "metadata": {
        "id": "_-tD6eK4Zrky"
      },
      "execution_count": null,
      "outputs": []
    }
  ]
}