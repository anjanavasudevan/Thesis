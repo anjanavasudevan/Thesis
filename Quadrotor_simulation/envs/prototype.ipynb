{
 "cells": [
  {
   "cell_type": "markdown",
   "metadata": {},
   "source": [
    "# Prototype the quadrotor and DL\n",
    "\n",
    "Playground for all code related stuff"
   ]
  },
  {
   "cell_type": "code",
   "execution_count": 1,
   "metadata": {},
   "outputs": [],
   "source": [
    "# Importing the dependencies\n",
    "import gym\n",
    "import numpy as np\n",
    "from gym import spaces\n",
    "from scipy.integrate import solve_ivp"
   ]
  },
  {
   "cell_type": "code",
   "execution_count": 2,
   "metadata": {},
   "outputs": [],
   "source": [
    "# 1. Set values for non linear model\n",
    "# a. Moment of inertia\n",
    "I_xx = 0.055\n",
    "I_yy = 0.055\n",
    "I_zz = 0.11\n",
    "\n",
    "# b. Force constants\n",
    "K_f = 0.119\n",
    "K_t = 0.0036\n",
    "\n",
    "# c. 3DOF body specifications\n",
    "m_hover = 2.85\n",
    "m_prop = m_hover / 4\n",
    "g = 9.81\n",
    "L = 7.75*0.0254 # Distance between pivot and motor\n",
    "\n",
    "# d. Torque related constants for linear model\n",
    "Kt_m = 0.0182 # Motor torque constant\n",
    "Jm = 1.91e-6 # Motor moment of inertia\n",
    "# i. Equivalent Moment of Inertia of each Propeller Section (kg.m^2)\n",
    "Jeq_prop = Jm + m_prop*(L**2)\n",
    "# ii. Equivalent Moment of Inertia about each Axis (kg.m^2)\n",
    "Jp = 2*Jeq_prop\n",
    "Jy = 4*Jeq_prop\n",
    "Jr = 2*Jeq_prop"
   ]
  },
  {
   "cell_type": "code",
   "execution_count": 3,
   "metadata": {},
   "outputs": [],
   "source": [
    "# 2. Linear model\n",
    "A_linear = np.array([[0, 0, 0, 1, 0, 0], [0, 0, 0, 0, 1, 0], [0, 0, 0, 0, 0, 1], \\\n",
    "                    [0, 0, 0, 0, 0, 0], [0, 0, 0, 0, 0, 0], [0, 0, 0, 0, 0, 0]])\n",
    "B_linear = np.array([[0, 0, 0, 0], [0, 0, 0, 0], [0, 0, 0, 0], \\\n",
    "                    [-K_t/Jy, -K_t/Jy, K_t/Jy, K_t/Jy], [L*K_f/Jp, -L*K_f/Jp, 0, 0], [0, 0, L*K_f/Jr, -L*K_f/Jr]])\n",
    "C_linear = np.eye(3)\n",
    "C_linear = np.hstack((C_linear, np.zeros_like(C_linear)))\n",
    "D_linear = np.zeros((3, 4))"
   ]
  },
  {
   "cell_type": "code",
   "execution_count": 4,
   "metadata": {},
   "outputs": [
    {
     "name": "stdout",
     "output_type": "stream",
     "text": [
      "Dimensions of A: (6, 6)\n",
      "Dimensions of B: (6, 4)\n",
      "Dimension of C: (3, 6)\n",
      "Dimensions of D: (3, 4)\n"
     ]
    }
   ],
   "source": [
    "print(f\"Dimensions of A: {A_linear.shape}\\nDimensions of B: {B_linear.shape}\\nDimension of C: {C_linear.shape}\\nDimensions of D: {D_linear.shape}\")"
   ]
  },
  {
   "cell_type": "code",
   "execution_count": 5,
   "metadata": {},
   "outputs": [
    {
     "data": {
      "text/plain": [
       "array([-4.        ,  5.        ,  6.        , -0.03259543, -0.42419606,\n",
       "       -1.69678426])"
      ]
     },
     "execution_count": 5,
     "metadata": {},
     "output_type": "execute_result"
    }
   ],
   "source": [
    "# check for dimension check\n",
    "u = np.array([4, 5, 2, 6])\n",
    "vec2 = B_linear@u\n",
    "\n",
    "x = np.array([-15, 6, 2, -4, 5, 6])\n",
    "vec1 = A_linear@x\n",
    "\n",
    "vec1 + vec2"
   ]
  },
  {
   "cell_type": "code",
   "execution_count": 6,
   "metadata": {},
   "outputs": [
    {
     "data": {
      "text/plain": [
       "array([[0.01, 0.  , 0.  , 0.  ],\n",
       "       [0.  , 0.01, 0.  , 0.  ],\n",
       "       [0.  , 0.  , 0.01, 0.  ],\n",
       "       [0.  , 0.  , 0.  , 0.01]])"
      ]
     },
     "execution_count": 6,
     "metadata": {},
     "output_type": "execute_result"
    }
   ],
   "source": [
    "# QR methods\n",
    "R = np.eye(4)*0.01\n",
    "R"
   ]
  },
  {
   "cell_type": "code",
   "execution_count": 10,
   "metadata": {},
   "outputs": [
    {
     "data": {
      "text/plain": [
       "(6, 6)"
      ]
     },
     "execution_count": 10,
     "metadata": {},
     "output_type": "execute_result"
    }
   ],
   "source": [
    "Q = np.array([[500, 0, 0, 0, 0, 0], [0, 350, 0, 0, 0, 0], [0, 0, 350, 0, 0, 0],\\\n",
    "                    [0, 0, 0, 0, 0, 0], [0, 0, 0, 0, 20, 0], [0, 0, 0, 0, 0, 20]])\n",
    "\n",
    "Q.shape"
   ]
  },
  {
   "cell_type": "markdown",
   "metadata": {},
   "source": [
    "## Check for integration methods"
   ]
  },
  {
   "cell_type": "code",
   "execution_count": 7,
   "metadata": {},
   "outputs": [],
   "source": [
    "# differential equation\n",
    "def linear_model(t, x, u1, u2, u3, u4):\n",
    "    \"\"\"\n",
    "    Evaluate linear model using the state space form\n",
    "    ẋ = Ax + Bu\n",
    "    \"\"\"\n",
    "    u = np.array([u1, u2, u3, u4])\n",
    "    dxdt = A_linear@x + B_linear@u\n",
    "    return dxdt"
   ]
  },
  {
   "cell_type": "code",
   "execution_count": 8,
   "metadata": {},
   "outputs": [
    {
     "data": {
      "text/plain": [
       "array([ 0.34941563,  0.26284319, -0.05166599,  0.17525002,  0.52020521,\n",
       "        0.34482389])"
      ]
     },
     "execution_count": 8,
     "metadata": {},
     "output_type": "execute_result"
    }
   ],
   "source": [
    "# Check for work\n",
    "timerange = (0.5, 0.502)\n",
    "\n",
    "# Specify the angles\n",
    "p = 15*np.pi/180\n",
    "r = -3*np.pi/180\n",
    "y = 20*np.pi/180\n",
    "pdot = 30*np.pi/180\n",
    "rdot = 20*np.pi/180\n",
    "ydot = 10*np.pi/180\n",
    "\n",
    "# Input voltages\n",
    "u = tuple(np.array([5, 9, 10, 15]))\n",
    "\n",
    "# state vector\n",
    "x = np.array([y, p, r, ydot, pdot, rdot])\n",
    "\n",
    "# get the solution\n",
    "solution = solve_ivp(linear_model, timerange, x, args=u)\n",
    "\n",
    "# Next state\n",
    "solution.y[:, -1]\n"
   ]
  },
  {
   "cell_type": "code",
   "execution_count": 9,
   "metadata": {},
   "outputs": [
    {
     "data": {
      "text/plain": [
       "5"
      ]
     },
     "execution_count": 9,
     "metadata": {},
     "output_type": "execute_result"
    }
   ],
   "source": [
    "u1, u2, u3, u4 = np.array([5, 9, 10, 15])\n",
    "u1"
   ]
  },
  {
   "cell_type": "code",
   "execution_count": 12,
   "metadata": {},
   "outputs": [],
   "source": [
    "u = np.array(u)"
   ]
  },
  {
   "cell_type": "code",
   "execution_count": 23,
   "metadata": {},
   "outputs": [
    {
     "data": {
      "text/plain": [
       "numpy.float64"
      ]
     },
     "execution_count": 23,
     "metadata": {},
     "output_type": "execute_result"
    }
   ],
   "source": [
    "# Check for rewards calculation\n",
    "\n",
    "reward = x.T@Q@x\n",
    "reward = reward + u.T@R@u\n",
    "type(reward)"
   ]
  },
  {
   "cell_type": "code",
   "execution_count": 14,
   "metadata": {},
   "outputs": [
    {
     "data": {
      "text/plain": [
       "array([False, False, False, False])"
      ]
     },
     "execution_count": 14,
     "metadata": {},
     "output_type": "execute_result"
    }
   ],
   "source": [
    "# Check for element wise comparison\n",
    "u <= np.array([2, 2, 2, 2])"
   ]
  },
  {
   "cell_type": "code",
   "execution_count": 17,
   "metadata": {},
   "outputs": [
    {
     "data": {
      "text/plain": [
       "array([False, False, False])"
      ]
     },
     "execution_count": 17,
     "metadata": {},
     "output_type": "execute_result"
    }
   ],
   "source": [
    "ang_rate_max = 60*np.pi/180\n",
    "p_max = 37.5*np.pi/180\n",
    "r_max = 37.5*np.pi/180\n",
    "y_min = 0\n",
    "y_max = 2*np.pi\n",
    "max_arr = np.array([p_max, r_max, y_max, ang_rate_max, ang_rate_max, ang_rate_max])\n",
    "x[3:] >= max_arr[3:]"
   ]
  },
  {
   "cell_type": "code",
   "execution_count": 21,
   "metadata": {},
   "outputs": [
    {
     "data": {
      "text/plain": [
       "False"
      ]
     },
     "execution_count": 21,
     "metadata": {},
     "output_type": "execute_result"
    }
   ],
   "source": [
    "done = np.any(u <= np.array([2, 2, 2, 2])) or np.any(x[3:] >= max_arr[3:])\n",
    "done"
   ]
  },
  {
   "cell_type": "code",
   "execution_count": 24,
   "metadata": {},
   "outputs": [
    {
     "data": {
      "text/plain": [
       "array([0., 0., 0., 0., 0., 0.])"
      ]
     },
     "execution_count": 24,
     "metadata": {},
     "output_type": "execute_result"
    }
   ],
   "source": [
    "rest = np.zeros_like(x)\n",
    "rest"
   ]
  },
  {
   "cell_type": "code",
   "execution_count": 27,
   "metadata": {},
   "outputs": [
    {
     "data": {
      "text/plain": [
       "array([ 0.34906585,  0.26179939, -0.05235988,  0.17453293,  0.52359878,\n",
       "        0.34906585])"
      ]
     },
     "execution_count": 27,
     "metadata": {},
     "output_type": "execute_result"
    }
   ],
   "source": [
    "x"
   ]
  },
  {
   "cell_type": "code",
   "execution_count": 28,
   "metadata": {},
   "outputs": [],
   "source": [
    "for angle in x[:3]:\n",
    "    if angle > np.pi:\n",
    "        angle -= 2*np.pi\n",
    "    if angle < -np.pi:\n",
    "        angle += 2*np.pi\n"
   ]
  },
  {
   "cell_type": "code",
   "execution_count": 30,
   "metadata": {},
   "outputs": [
    {
     "data": {
      "text/plain": [
       "array([ 0.34906585,  0.26179939, -0.05235988])"
      ]
     },
     "execution_count": 30,
     "metadata": {},
     "output_type": "execute_result"
    }
   ],
   "source": [
    "x[:3]"
   ]
  },
  {
   "cell_type": "code",
   "execution_count": 29,
   "metadata": {},
   "outputs": [
    {
     "data": {
      "text/plain": [
       "array([ 0.34906585,  0.26179939, -0.05235988,  0.17453293,  0.52359878,\n",
       "        0.34906585])"
      ]
     },
     "execution_count": 29,
     "metadata": {},
     "output_type": "execute_result"
    }
   ],
   "source": [
    "x"
   ]
  }
 ],
 "metadata": {
  "interpreter": {
   "hash": "8c700f0b48c3255c8c6a76c6439c69a12c6ed02807b3262f2002447c46f4b786"
  },
  "kernelspec": {
   "display_name": "Python 3.8.10 ('rl')",
   "language": "python",
   "name": "python3"
  },
  "language_info": {
   "codemirror_mode": {
    "name": "ipython",
    "version": 3
   },
   "file_extension": ".py",
   "mimetype": "text/x-python",
   "name": "python",
   "nbconvert_exporter": "python",
   "pygments_lexer": "ipython3",
   "version": "3.8.10"
  },
  "orig_nbformat": 4
 },
 "nbformat": 4,
 "nbformat_minor": 2
}
