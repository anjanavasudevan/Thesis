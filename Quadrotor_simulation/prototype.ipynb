{
 "cells": [
  {
   "cell_type": "markdown",
   "metadata": {},
   "source": [
    "# Prototype the quadrotor and DL\n",
    "\n",
    "Playground for all code related stuff"
   ]
  },
  {
   "cell_type": "code",
   "execution_count": 1,
   "metadata": {},
   "outputs": [],
   "source": [
    "# Importing the dependencies\n",
    "import gym\n",
    "import numpy as np\n",
    "from gym import spaces"
   ]
  },
  {
   "cell_type": "code",
   "execution_count": 2,
   "metadata": {},
   "outputs": [],
   "source": [
    "# 1. Set values for non linear model\n",
    "# a. Moment of inertia\n",
    "I_xx = 0.055\n",
    "I_yy = 0.055\n",
    "I_zz = 0.11\n",
    "\n",
    "# b. Force constants\n",
    "K_f = 0.119\n",
    "K_t = 0.0036\n",
    "\n",
    "# c. 3DOF body specifications\n",
    "m_hover = 2.85\n",
    "m_prop = m_hover / 4\n",
    "g = 9.81\n",
    "L = 7.75*0.0254 # Distance between pivot and motor\n",
    "\n",
    "# d. Torque related constants for linear model\n",
    "Kt_m = 0.0182 # Motor torque constant\n",
    "Jm = 1.91e-6 # Motor moment of inertia\n",
    "# i. Equivalent Moment of Inertia of each Propeller Section (kg.m^2)\n",
    "Jeq_prop = Jm + m_prop*(L**2)\n",
    "# ii. Equivalent Moment of Inertia about each Axis (kg.m^2)\n",
    "Jp = 2*Jeq_prop\n",
    "Jy = 4*Jeq_prop\n",
    "Jr = 2*Jeq_prop"
   ]
  },
  {
   "cell_type": "code",
   "execution_count": 3,
   "metadata": {},
   "outputs": [],
   "source": [
    "# 2. Linear model\n",
    "A_linear = np.array([[0, 0, 0, 1, 0, 0], [0, 0, 0, 0, 1, 0], [0, 0, 0, 0, 0, 1], \\\n",
    "                    [0, 0, 0, 0, 0, 0], [0, 0, 0, 0, 0, 0], [0, 0, 0, 0, 0, 0]])\n",
    "B_linear = np.array([[0, 0, 0, 0], [0, 0, 0, 0], [0, 0, 0, 0], \\\n",
    "                    [-K_t/Jy, -K_t/Jy, K_t/Jy, K_t/Jy], [L*K_f/Jp, -L*K_f/Jp, 0, 0], [0, 0, L*K_f/Jr, -L*K_f/Jr]])\n",
    "C_linear = np.eye(3)\n",
    "C_linear = np.hstack((C_linear, np.zeros_like(C_linear)))\n",
    "D_linear = np.zeros((3, 4))"
   ]
  },
  {
   "cell_type": "code",
   "execution_count": 4,
   "metadata": {},
   "outputs": [
    {
     "name": "stdout",
     "output_type": "stream",
     "text": [
      "Dimensions of A: (6, 6)\n",
      "Dimensions of B: (6, 4)\n",
      "Dimension of C: (3, 6)\n",
      "Dimensions of D: (3, 4)\n"
     ]
    }
   ],
   "source": [
    "print(f\"Dimensions of A: {A_linear.shape}\\nDimensions of B: {B_linear.shape}\\nDimension of C: {C_linear.shape}\\nDimensions of D: {D_linear.shape}\")"
   ]
  },
  {
   "cell_type": "code",
   "execution_count": 12,
   "metadata": {},
   "outputs": [
    {
     "data": {
      "text/plain": [
       "array([-4.        ,  5.        ,  6.        , -0.03259543, -0.42419606,\n",
       "       -1.69678426])"
      ]
     },
     "execution_count": 12,
     "metadata": {},
     "output_type": "execute_result"
    }
   ],
   "source": [
    "# check for dimension check\n",
    "u = np.array([4, 5, 2, 6])\n",
    "vec2 = B_linear@u\n",
    "\n",
    "x = np.array([-15, 6, 2, -4, 5, 6])\n",
    "vec1 = A_linear@x\n",
    "\n",
    "vec1 + vec2"
   ]
  }
 ],
 "metadata": {
  "interpreter": {
   "hash": "8c700f0b48c3255c8c6a76c6439c69a12c6ed02807b3262f2002447c46f4b786"
  },
  "kernelspec": {
   "display_name": "Python 3.8.10 ('rl')",
   "language": "python",
   "name": "python3"
  },
  "language_info": {
   "codemirror_mode": {
    "name": "ipython",
    "version": 3
   },
   "file_extension": ".py",
   "mimetype": "text/x-python",
   "name": "python",
   "nbconvert_exporter": "python",
   "pygments_lexer": "ipython3",
   "version": "3.8.10"
  },
  "orig_nbformat": 4
 },
 "nbformat": 4,
 "nbformat_minor": 2
}
