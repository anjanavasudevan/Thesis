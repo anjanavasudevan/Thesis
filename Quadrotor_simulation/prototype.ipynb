{
 "cells": [
  {
   "cell_type": "markdown",
   "metadata": {},
   "source": [
    "# Prototype the quadrotor and DL\n",
    "\n",
    "Playground for all code related stuff"
   ]
  },
  {
   "cell_type": "code",
   "execution_count": 1,
   "metadata": {},
   "outputs": [],
   "source": [
    "# Importing the dependencies\n",
    "import gym\n",
    "import numpy as np\n",
    "from gym import spaces\n",
    "from scipy.integrate import solve_ivp\n",
    "import control.matlab"
   ]
  },
  {
   "cell_type": "code",
   "execution_count": 2,
   "metadata": {},
   "outputs": [],
   "source": [
    "# 1. Set values for non linear model\n",
    "# a. Moment of inertia\n",
    "I_xx = 0.055\n",
    "I_yy = 0.055\n",
    "I_zz = 0.11\n",
    "\n",
    "# b. Force constants\n",
    "K_f = 0.119\n",
    "K_t = 0.0036\n",
    "\n",
    "# c. 3DOF body specifications\n",
    "m_hover = 2.85\n",
    "m_prop = m_hover / 4\n",
    "g = 9.81\n",
    "L = 7.75*0.0254 # Distance between pivot and motor\n",
    "\n",
    "# d. Torque related constants for linear model\n",
    "Kt_m = 0.0182 # Motor torque constant\n",
    "Jm = 1.91e-6 # Motor moment of inertia\n",
    "# i. Equivalent Moment of Inertia of each Propeller Section (kg.m^2)\n",
    "Jeq_prop = Jm + m_prop*(L**2)\n",
    "# ii. Equivalent Moment of Inertia about each Axis (kg.m^2)\n",
    "Jp = 2*Jeq_prop\n",
    "Jy = 4*Jeq_prop\n",
    "Jr = 2*Jeq_prop"
   ]
  },
  {
   "cell_type": "code",
   "execution_count": 3,
   "metadata": {},
   "outputs": [],
   "source": [
    "# 2. Linear model\n",
    "A_linear = np.array([[0, 0, 0, 1, 0, 0], [0, 0, 0, 0, 1, 0], [0, 0, 0, 0, 0, 1], \\\n",
    "                    [0, 0, 0, 0, 0, 0], [0, 0, 0, 0, 0, 0], [0, 0, 0, 0, 0, 0]])\n",
    "B_linear = np.array([[0, 0, 0, 0], [0, 0, 0, 0], [0, 0, 0, 0], \\\n",
    "                    [-K_t/Jy, -K_t/Jy, K_t/Jy, K_t/Jy], [L*K_f/Jp, -L*K_f/Jp, 0, 0], [0, 0, L*K_f/Jr, -L*K_f/Jr]])\n",
    "C_linear = np.eye(3)\n",
    "C_linear = np.hstack((C_linear, np.zeros_like(C_linear)))\n",
    "D_linear = np.zeros((3, 4))"
   ]
  },
  {
   "cell_type": "code",
   "execution_count": 4,
   "metadata": {},
   "outputs": [
    {
     "name": "stdout",
     "output_type": "stream",
     "text": [
      "Dimensions of A: (6, 6)\n",
      "Dimensions of B: (6, 4)\n",
      "Dimension of C: (3, 6)\n",
      "Dimensions of D: (3, 4)\n"
     ]
    }
   ],
   "source": [
    "print(f\"Dimensions of A: {A_linear.shape}\\nDimensions of B: {B_linear.shape}\\nDimension of C: {C_linear.shape}\\nDimensions of D: {D_linear.shape}\")"
   ]
  },
  {
   "cell_type": "code",
   "execution_count": 5,
   "metadata": {},
   "outputs": [
    {
     "data": {
      "text/plain": [
       "array([-4.        ,  5.        ,  6.        , -0.03259543, -0.42419606,\n",
       "       -1.69678426])"
      ]
     },
     "execution_count": 5,
     "metadata": {},
     "output_type": "execute_result"
    }
   ],
   "source": [
    "# check for dimension check\n",
    "u = np.array([4, 5, 2, 6])\n",
    "vec2 = B_linear@u\n",
    "\n",
    "x = np.array([-15, 6, 2, -4, 5, 6])\n",
    "vec1 = A_linear@x\n",
    "\n",
    "vec1 + vec2"
   ]
  },
  {
   "cell_type": "code",
   "execution_count": 6,
   "metadata": {},
   "outputs": [
    {
     "data": {
      "text/plain": [
       "array([[0.01, 0.  , 0.  , 0.  ],\n",
       "       [0.  , 0.01, 0.  , 0.  ],\n",
       "       [0.  , 0.  , 0.01, 0.  ],\n",
       "       [0.  , 0.  , 0.  , 0.01]])"
      ]
     },
     "execution_count": 6,
     "metadata": {},
     "output_type": "execute_result"
    }
   ],
   "source": [
    "# QR methods\n",
    "R = np.eye(4)*0.01\n",
    "R"
   ]
  },
  {
   "cell_type": "code",
   "execution_count": 7,
   "metadata": {},
   "outputs": [
    {
     "data": {
      "text/plain": [
       "(6, 6)"
      ]
     },
     "execution_count": 7,
     "metadata": {},
     "output_type": "execute_result"
    }
   ],
   "source": [
    "Q = np.array([[500, 0, 0, 0, 0, 0], [0, 350, 0, 0, 0, 0], [0, 0, 350, 0, 0, 0],\\\n",
    "                    [0, 0, 0, 0, 0, 0], [0, 0, 0, 0, 20, 0], [0, 0, 0, 0, 0, 20]])\n",
    "\n",
    "Q.shape"
   ]
  },
  {
   "cell_type": "markdown",
   "metadata": {},
   "source": [
    "## Check for integration methods"
   ]
  },
  {
   "cell_type": "code",
   "execution_count": 8,
   "metadata": {},
   "outputs": [],
   "source": [
    "# differential equation\n",
    "def linear_model(t, x, u1, u2, u3, u4):\n",
    "    \"\"\"\n",
    "    Evaluate linear model using the state space form\n",
    "    ẋ = Ax + Bu\n",
    "    \"\"\"\n",
    "    u = np.array([u1, u2, u3, u4])\n",
    "    dxdt = A_linear@x + B_linear@u\n",
    "    return dxdt"
   ]
  },
  {
   "cell_type": "code",
   "execution_count": 9,
   "metadata": {},
   "outputs": [
    {
     "data": {
      "text/plain": [
       "array([ 0.34941563,  0.26284319, -0.05166599,  0.17525002,  0.52020521,\n",
       "        0.34482389])"
      ]
     },
     "execution_count": 9,
     "metadata": {},
     "output_type": "execute_result"
    }
   ],
   "source": [
    "# Check for work\n",
    "timerange = (0.5, 0.502)\n",
    "\n",
    "# Specify the angles\n",
    "p = 15*np.pi/180\n",
    "r = -3*np.pi/180\n",
    "y = 20*np.pi/180\n",
    "pdot = 30*np.pi/180\n",
    "rdot = 20*np.pi/180\n",
    "ydot = 10*np.pi/180\n",
    "\n",
    "# Input voltages\n",
    "u = tuple(np.array([5, 9, 10, 15]))\n",
    "\n",
    "# state vector\n",
    "x = np.array([y, p, r, ydot, pdot, rdot])\n",
    "\n",
    "# get the solution\n",
    "solution = solve_ivp(linear_model, timerange, x, args=u)\n",
    "\n",
    "# Next state\n",
    "solution.y[:, -1]\n"
   ]
  },
  {
   "cell_type": "code",
   "execution_count": 10,
   "metadata": {},
   "outputs": [
    {
     "data": {
      "text/plain": [
       "True"
      ]
     },
     "execution_count": 10,
     "metadata": {},
     "output_type": "execute_result"
    }
   ],
   "source": [
    "state = np.array([ 0.88768525,  0.60692152, -4.8618012,   0.9140963,   0.66019708, -9.31921407])\n",
    "state[2] < -np.pi"
   ]
  },
  {
   "cell_type": "code",
   "execution_count": 11,
   "metadata": {},
   "outputs": [
    {
     "data": {
      "text/plain": [
       "array([ 0.88768525,  0.60692152,  1.42138411,  0.9140963 ,  0.66019708,\n",
       "       -9.31921407])"
      ]
     },
     "execution_count": 11,
     "metadata": {},
     "output_type": "execute_result"
    }
   ],
   "source": [
    "for i, ele in enumerate(state[:3]):\n",
    "    if  ele< -np.pi:\n",
    "        state[i] += 2*np.pi\n",
    "state"
   ]
  },
  {
   "cell_type": "code",
   "execution_count": 12,
   "metadata": {},
   "outputs": [
    {
     "data": {
      "text/plain": [
       "1.0471975511965976"
      ]
     },
     "execution_count": 12,
     "metadata": {},
     "output_type": "execute_result"
    }
   ],
   "source": [
    "60*np.pi/180"
   ]
  },
  {
   "cell_type": "code",
   "execution_count": 13,
   "metadata": {},
   "outputs": [
    {
     "data": {
      "text/plain": [
       "5"
      ]
     },
     "execution_count": 13,
     "metadata": {},
     "output_type": "execute_result"
    }
   ],
   "source": [
    "u1, u2, u3, u4 = np.array([5, 9, 10, 15])\n",
    "u1"
   ]
  },
  {
   "cell_type": "code",
   "execution_count": 14,
   "metadata": {},
   "outputs": [],
   "source": [
    "u = np.array(u)"
   ]
  },
  {
   "cell_type": "code",
   "execution_count": 15,
   "metadata": {},
   "outputs": [
    {
     "data": {
      "text/plain": [
       "numpy.float64"
      ]
     },
     "execution_count": 15,
     "metadata": {},
     "output_type": "execute_result"
    }
   ],
   "source": [
    "# Check for rewards calculation\n",
    "\n",
    "reward = x.T@Q@x\n",
    "reward = reward + u.T@R@u\n",
    "type(reward)"
   ]
  },
  {
   "cell_type": "code",
   "execution_count": 16,
   "metadata": {},
   "outputs": [
    {
     "data": {
      "text/plain": [
       "array([False, False, False, False])"
      ]
     },
     "execution_count": 16,
     "metadata": {},
     "output_type": "execute_result"
    }
   ],
   "source": [
    "# Check for element wise comparison\n",
    "u <= np.array([2, 2, 2, 2])"
   ]
  },
  {
   "cell_type": "code",
   "execution_count": 17,
   "metadata": {},
   "outputs": [
    {
     "data": {
      "text/plain": [
       "array([False, False, False])"
      ]
     },
     "execution_count": 17,
     "metadata": {},
     "output_type": "execute_result"
    }
   ],
   "source": [
    "ang_rate_max = 60*np.pi/180\n",
    "p_max = 37.5*np.pi/180\n",
    "r_max = 37.5*np.pi/180\n",
    "y_min = 0\n",
    "y_max = 2*np.pi\n",
    "max_arr = np.array([p_max, r_max, y_max, ang_rate_max, ang_rate_max, ang_rate_max])\n",
    "x[3:] >= max_arr[3:]"
   ]
  },
  {
   "cell_type": "code",
   "execution_count": 18,
   "metadata": {},
   "outputs": [
    {
     "data": {
      "text/plain": [
       "False"
      ]
     },
     "execution_count": 18,
     "metadata": {},
     "output_type": "execute_result"
    }
   ],
   "source": [
    "done = np.any(u <= np.array([2, 2, 2, 2])) or np.any(x[3:] >= max_arr[3:])\n",
    "done"
   ]
  },
  {
   "cell_type": "code",
   "execution_count": 19,
   "metadata": {},
   "outputs": [
    {
     "data": {
      "text/plain": [
       "array([0., 0., 0., 0., 0., 0.])"
      ]
     },
     "execution_count": 19,
     "metadata": {},
     "output_type": "execute_result"
    }
   ],
   "source": [
    "rest = np.zeros_like(x)\n",
    "rest"
   ]
  },
  {
   "cell_type": "code",
   "execution_count": 20,
   "metadata": {},
   "outputs": [
    {
     "data": {
      "text/plain": [
       "array([ 0.34906585,  0.26179939, -0.05235988,  0.17453293,  0.52359878,\n",
       "        0.34906585])"
      ]
     },
     "execution_count": 20,
     "metadata": {},
     "output_type": "execute_result"
    }
   ],
   "source": [
    "x"
   ]
  },
  {
   "cell_type": "code",
   "execution_count": 21,
   "metadata": {},
   "outputs": [],
   "source": [
    "for angle in x[:3]:\n",
    "    if angle > np.pi:\n",
    "        angle -= 2*np.pi\n",
    "    if angle < -np.pi:\n",
    "        angle += 2*np.pi\n"
   ]
  },
  {
   "cell_type": "code",
   "execution_count": 22,
   "metadata": {},
   "outputs": [
    {
     "data": {
      "text/plain": [
       "array([ 0.34906585,  0.26179939, -0.05235988])"
      ]
     },
     "execution_count": 22,
     "metadata": {},
     "output_type": "execute_result"
    }
   ],
   "source": [
    "x[:3]"
   ]
  },
  {
   "cell_type": "code",
   "execution_count": 23,
   "metadata": {},
   "outputs": [
    {
     "data": {
      "text/plain": [
       "array([ 0.34906585,  0.26179939, -0.05235988,  0.17453293,  0.52359878,\n",
       "        0.34906585])"
      ]
     },
     "execution_count": 23,
     "metadata": {},
     "output_type": "execute_result"
    }
   ],
   "source": [
    "x"
   ]
  },
  {
   "cell_type": "markdown",
   "metadata": {},
   "source": [
    "## Working with the LQR"
   ]
  },
  {
   "cell_type": "code",
   "execution_count": 24,
   "metadata": {},
   "outputs": [],
   "source": [
    "Q = np.array([[500, 0, 0, 0, 0, 0], [0, 350, 0, 0, 0, 0], [0, 0, 350, 0, 0, 0],\\\n",
    "                    [0, 0, 0, 0, 0, 0], [0, 0, 0, 0, 20, 0], [0, 0, 0, 0, 0, 20]])\n",
    "R = np.eye(4)*0.01"
   ]
  },
  {
   "cell_type": "code",
   "execution_count": 25,
   "metadata": {},
   "outputs": [
    {
     "data": {
      "text/plain": [
       "matrix([[-1.11803399e+02,  1.32287566e+02, -6.29181731e-13,\n",
       "         -4.14127553e+01,  3.62195357e+01, -3.26081873e-15],\n",
       "        [-1.11803399e+02, -1.32287566e+02,  6.29181731e-13,\n",
       "         -4.14127553e+01, -3.62195357e+01,  3.26081873e-15],\n",
       "        [ 1.11803399e+02, -1.39487408e-13,  1.32287566e+02,\n",
       "          4.14127553e+01, -3.26081873e-15,  3.62195357e+01],\n",
       "        [ 1.11803399e+02,  1.39487408e-13, -1.32287566e+02,\n",
       "          4.14127553e+01,  3.26081873e-15, -3.62195357e+01]])"
      ]
     },
     "execution_count": 25,
     "metadata": {},
     "output_type": "execute_result"
    }
   ],
   "source": [
    "import control\n",
    "K1, S1, _ = control.lqr(A_linear, B_linear, Q, R)\n",
    "K1"
   ]
  },
  {
   "cell_type": "code",
   "execution_count": 26,
   "metadata": {},
   "outputs": [
    {
     "data": {
      "text/plain": [
       "numpy.matrix"
      ]
     },
     "execution_count": 26,
     "metadata": {},
     "output_type": "execute_result"
    }
   ],
   "source": [
    "action_2 = K1@x\n",
    "type(action_2)"
   ]
  },
  {
   "cell_type": "markdown",
   "metadata": {},
   "source": [
    "## Check seeding for environment defaults"
   ]
  },
  {
   "cell_type": "code",
   "execution_count": 27,
   "metadata": {},
   "outputs": [],
   "source": [
    "seed = 0\n",
    "low_state = np.array([-np.pi, -37.5*np.pi/180, -37.5*np.pi/180, 0, 0, 0])\n",
    "high_state = np.array([np.pi, 37.5*np.pi/180, 37.5*np.pi/180, 60*np.pi/180, 60*np.pi/180, 60*np.pi/180])\n",
    "\n",
    "random_state = np.random.default_rng(seed)\n",
    "reference_state = random_state.uniform(low=low_state, high=high_state)"
   ]
  },
  {
   "cell_type": "code",
   "execution_count": 28,
   "metadata": {},
   "outputs": [
    {
     "data": {
      "text/plain": [
       "array([ 0.86055566, -0.30134849, -0.60086425,  0.0173077 ,  0.8516546 ,\n",
       "        0.95583541])"
      ]
     },
     "execution_count": 28,
     "metadata": {},
     "output_type": "execute_result"
    }
   ],
   "source": [
    "reference_state"
   ]
  },
  {
   "cell_type": "markdown",
   "metadata": {},
   "source": [
    "## For plotting"
   ]
  },
  {
   "cell_type": "code",
   "execution_count": 29,
   "metadata": {},
   "outputs": [],
   "source": [
    "import os\n",
    "import sys\n",
    "\n",
    "sys.path.insert(0, 'D:\\IITH_AI_Docs\\Thesis\\Thesis-work\\Thesis\\Quadrotor_simulation')\n",
    "from envs.hover_linear import hover_linear\n",
    "from controllers.lqr import LQR"
   ]
  },
  {
   "cell_type": "code",
   "execution_count": 35,
   "metadata": {},
   "outputs": [],
   "source": [
    "# Prototype Euler's method\n",
    "Q_mod = np.eye(6)\n",
    "x_divide = np.array([np.pi, 60*np.pi/180, 37.5*np.pi/180, 60*np.pi/180, 37.5*np.pi/180, 60*np.pi/180])"
   ]
  },
  {
   "cell_type": "code",
   "execution_count": 36,
   "metadata": {},
   "outputs": [
    {
     "data": {
      "text/plain": [
       "array([9.8696044 , 1.09662271, 0.42836825, 1.09662271, 0.42836825,\n",
       "       1.09662271])"
      ]
     },
     "execution_count": 36,
     "metadata": {},
     "output_type": "execute_result"
    }
   ],
   "source": [
    "np.square(x_divide)"
   ]
  },
  {
   "cell_type": "code",
   "execution_count": 32,
   "metadata": {},
   "outputs": [
    {
     "data": {
      "text/plain": [
       "array([1., 1., 1., 1., 1., 1.])"
      ]
     },
     "execution_count": 32,
     "metadata": {},
     "output_type": "execute_result"
    }
   ],
   "source": [
    "np.diagonal(Q_mod)"
   ]
  },
  {
   "cell_type": "code",
   "execution_count": 37,
   "metadata": {},
   "outputs": [
    {
     "data": {
      "text/plain": [
       "array([0.10132118, 0.91189065, 2.33444007, 0.91189065, 2.33444007,\n",
       "       0.91189065])"
      ]
     },
     "execution_count": 37,
     "metadata": {},
     "output_type": "execute_result"
    }
   ],
   "source": [
    "diag_q = np.diagonal(Q_mod)\n",
    "costs = np.divide(diag_q, np.square(x_divide))\n",
    "costs"
   ]
  },
  {
   "cell_type": "code",
   "execution_count": 38,
   "metadata": {},
   "outputs": [],
   "source": [
    "Q_mod[np.diag_indices_from(Q_mod)] = costs"
   ]
  },
  {
   "cell_type": "code",
   "execution_count": 39,
   "metadata": {},
   "outputs": [
    {
     "data": {
      "text/plain": [
       "array([[0.10132118, 0.        , 0.        , 0.        , 0.        ,\n",
       "        0.        ],\n",
       "       [0.        , 0.91189065, 0.        , 0.        , 0.        ,\n",
       "        0.        ],\n",
       "       [0.        , 0.        , 2.33444007, 0.        , 0.        ,\n",
       "        0.        ],\n",
       "       [0.        , 0.        , 0.        , 0.91189065, 0.        ,\n",
       "        0.        ],\n",
       "       [0.        , 0.        , 0.        , 0.        , 2.33444007,\n",
       "        0.        ],\n",
       "       [0.        , 0.        , 0.        , 0.        , 0.        ,\n",
       "        0.91189065]])"
      ]
     },
     "execution_count": 39,
     "metadata": {},
     "output_type": "execute_result"
    }
   ],
   "source": [
    "Q_mod"
   ]
  },
  {
   "cell_type": "code",
   "execution_count": 42,
   "metadata": {},
   "outputs": [
    {
     "data": {
      "text/plain": [
       "5522.088854933346"
      ]
     },
     "execution_count": 42,
     "metadata": {},
     "output_type": "execute_result"
    }
   ],
   "source": [
    "# Max cost\n",
    "R_mod = np.eye(4)*0.01\n",
    "u_m = np.array([24, 24, 24, 24])\n",
    "\n",
    "# Max cost\n",
    "x_divide.T@Q@x_divide + u_m.T@R_mod@u_m / Q_mod.coeffficients.sum()"
   ]
  },
  {
   "cell_type": "code",
   "execution_count": 48,
   "metadata": {},
   "outputs": [
    {
     "ename": "AttributeError",
     "evalue": "'numpy.ndarray' object has no attribute 'coeffficients'",
     "output_type": "error",
     "traceback": [
      "\u001b[1;31m---------------------------------------------------------------------------\u001b[0m",
      "\u001b[1;31mAttributeError\u001b[0m                            Traceback (most recent call last)",
      "\u001b[1;32md:\\IITH_AI_Docs\\Thesis\\Thesis-work\\Thesis\\Quadrotor_simulation\\prototype.ipynb Cell 42'\u001b[0m in \u001b[0;36m<cell line: 1>\u001b[1;34m()\u001b[0m\n\u001b[1;32m----> <a href='vscode-notebook-cell:/d%3A/IITH_AI_Docs/Thesis/Thesis-work/Thesis/Quadrotor_simulation/prototype.ipynb#ch0000045?line=0'>1</a>\u001b[0m Q_mod\u001b[39m.\u001b[39;49mcoeffficients\u001b[39m.\u001b[39msum()\n",
      "\u001b[1;31mAttributeError\u001b[0m: 'numpy.ndarray' object has no attribute 'coeffficients'"
     ]
    }
   ],
   "source": [
    "Q_mod.coeffficients.sum()"
   ]
  },
  {
   "cell_type": "code",
   "execution_count": 45,
   "metadata": {},
   "outputs": [
    {
     "data": {
      "text/plain": [
       "array([3.14159265, 0.65449847, 0.65449847])"
      ]
     },
     "execution_count": 45,
     "metadata": {},
     "output_type": "execute_result"
    }
   ],
   "source": [
    "# Select specific indices\n",
    "x_divide.take([0, 2, 4])"
   ]
  },
  {
   "cell_type": "code",
   "execution_count": 46,
   "metadata": {},
   "outputs": [],
   "source": [
    "x_divide[0] = 0"
   ]
  },
  {
   "cell_type": "code",
   "execution_count": 47,
   "metadata": {},
   "outputs": [
    {
     "data": {
      "text/plain": [
       "array([0.        , 1.04719755, 0.65449847, 1.04719755, 0.65449847,\n",
       "       1.04719755])"
      ]
     },
     "execution_count": 47,
     "metadata": {},
     "output_type": "execute_result"
    }
   ],
   "source": [
    "x_divide"
   ]
  },
  {
   "cell_type": "code",
   "execution_count": null,
   "metadata": {},
   "outputs": [],
   "source": []
  }
 ],
 "metadata": {
  "interpreter": {
   "hash": "8c700f0b48c3255c8c6a76c6439c69a12c6ed02807b3262f2002447c46f4b786"
  },
  "kernelspec": {
   "display_name": "Python 3.8.10 ('rl')",
   "language": "python",
   "name": "python3"
  },
  "language_info": {
   "codemirror_mode": {
    "name": "ipython",
    "version": 3
   },
   "file_extension": ".py",
   "mimetype": "text/x-python",
   "name": "python",
   "nbconvert_exporter": "python",
   "pygments_lexer": "ipython3",
   "version": "3.8.10"
  },
  "orig_nbformat": 4
 },
 "nbformat": 4,
 "nbformat_minor": 2
}
