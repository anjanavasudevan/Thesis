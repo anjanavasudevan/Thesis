{
  "cells": [
    {
      "cell_type": "markdown",
      "metadata": {
        "id": "view-in-github",
        "colab_type": "text"
      },
      "source": [
        "<a href=\"https://colab.research.google.com/github/anjanavasudevan/Thesis/blob/main/Quadrotor_simulation/controllers/DeepRL/DDPG_Hover.ipynb\" target=\"_parent\"><img src=\"https://colab.research.google.com/assets/colab-badge.svg\" alt=\"Open In Colab\"/></a>"
      ]
    },
    {
      "cell_type": "code",
      "execution_count": null,
      "metadata": {
        "colab": {
          "base_uri": "https://localhost:8080/"
        },
        "id": "Stl53e08rrpc",
        "outputId": "9e627e72-cb56-43a7-db28-4617c5e2d75b"
      },
      "outputs": [
        {
          "output_type": "stream",
          "name": "stdout",
          "text": [
            "Looking in indexes: https://pypi.org/simple, https://us-python.pkg.dev/colab-wheels/public/simple/\n",
            "Collecting wandb\n",
            "  Downloading wandb-0.12.18-py2.py3-none-any.whl (1.8 MB)\n",
            "\u001b[K     |████████████████████████████████| 1.8 MB 8.4 MB/s \n",
            "\u001b[?25hCollecting docker-pycreds>=0.4.0\n",
            "  Downloading docker_pycreds-0.4.0-py2.py3-none-any.whl (9.0 kB)\n",
            "Collecting GitPython>=1.0.0\n",
            "  Downloading GitPython-3.1.27-py3-none-any.whl (181 kB)\n",
            "\u001b[K     |████████████████████████████████| 181 kB 67.9 MB/s \n",
            "\u001b[?25hCollecting shortuuid>=0.5.0\n",
            "  Downloading shortuuid-1.0.9-py3-none-any.whl (9.4 kB)\n",
            "Requirement already satisfied: six>=1.13.0 in /usr/local/lib/python3.7/dist-packages (from wandb) (1.15.0)\n",
            "Requirement already satisfied: promise<3,>=2.0 in /usr/local/lib/python3.7/dist-packages (from wandb) (2.3)\n",
            "Requirement already satisfied: setuptools in /usr/local/lib/python3.7/dist-packages (from wandb) (57.4.0)\n",
            "Requirement already satisfied: psutil>=5.0.0 in /usr/local/lib/python3.7/dist-packages (from wandb) (5.4.8)\n",
            "Requirement already satisfied: protobuf<4.0dev,>=3.12.0 in /usr/local/lib/python3.7/dist-packages (from wandb) (3.17.3)\n",
            "Requirement already satisfied: PyYAML in /usr/local/lib/python3.7/dist-packages (from wandb) (3.13)\n",
            "Collecting pathtools\n",
            "  Downloading pathtools-0.1.2.tar.gz (11 kB)\n",
            "Collecting setproctitle\n",
            "  Downloading setproctitle-1.2.3-cp37-cp37m-manylinux_2_5_x86_64.manylinux1_x86_64.manylinux_2_17_x86_64.manylinux2014_x86_64.whl (29 kB)\n",
            "Requirement already satisfied: requests<3,>=2.0.0 in /usr/local/lib/python3.7/dist-packages (from wandb) (2.23.0)\n",
            "Requirement already satisfied: Click!=8.0.0,>=7.0 in /usr/local/lib/python3.7/dist-packages (from wandb) (7.1.2)\n",
            "Collecting sentry-sdk>=1.0.0\n",
            "  Downloading sentry_sdk-1.5.12-py2.py3-none-any.whl (145 kB)\n",
            "\u001b[K     |████████████████████████████████| 145 kB 69.3 MB/s \n",
            "\u001b[?25hRequirement already satisfied: typing-extensions>=3.7.4.3 in /usr/local/lib/python3.7/dist-packages (from GitPython>=1.0.0->wandb) (4.2.0)\n",
            "Collecting gitdb<5,>=4.0.1\n",
            "  Downloading gitdb-4.0.9-py3-none-any.whl (63 kB)\n",
            "\u001b[K     |████████████████████████████████| 63 kB 2.2 MB/s \n",
            "\u001b[?25hCollecting smmap<6,>=3.0.1\n",
            "  Downloading smmap-5.0.0-py3-none-any.whl (24 kB)\n",
            "Requirement already satisfied: certifi>=2017.4.17 in /usr/local/lib/python3.7/dist-packages (from requests<3,>=2.0.0->wandb) (2022.5.18.1)\n",
            "Requirement already satisfied: urllib3!=1.25.0,!=1.25.1,<1.26,>=1.21.1 in /usr/local/lib/python3.7/dist-packages (from requests<3,>=2.0.0->wandb) (1.24.3)\n",
            "Requirement already satisfied: idna<3,>=2.5 in /usr/local/lib/python3.7/dist-packages (from requests<3,>=2.0.0->wandb) (2.10)\n",
            "Requirement already satisfied: chardet<4,>=3.0.2 in /usr/local/lib/python3.7/dist-packages (from requests<3,>=2.0.0->wandb) (3.0.4)\n",
            "Building wheels for collected packages: pathtools\n",
            "  Building wheel for pathtools (setup.py) ... \u001b[?25l\u001b[?25hdone\n",
            "  Created wheel for pathtools: filename=pathtools-0.1.2-py3-none-any.whl size=8806 sha256=0834359926998e5ccfe3c81c54ae010cd89812adccbb84cc7361ce96970cf412\n",
            "  Stored in directory: /root/.cache/pip/wheels/3e/31/09/fa59cef12cdcfecc627b3d24273699f390e71828921b2cbba2\n",
            "Successfully built pathtools\n",
            "Installing collected packages: smmap, gitdb, shortuuid, setproctitle, sentry-sdk, pathtools, GitPython, docker-pycreds, wandb\n",
            "Successfully installed GitPython-3.1.27 docker-pycreds-0.4.0 gitdb-4.0.9 pathtools-0.1.2 sentry-sdk-1.5.12 setproctitle-1.2.3 shortuuid-1.0.9 smmap-5.0.0 wandb-0.12.18\n"
          ]
        }
      ],
      "source": [
        "!pip install wandb"
      ]
    },
    {
      "cell_type": "code",
      "execution_count": null,
      "metadata": {
        "colab": {
          "base_uri": "https://localhost:8080/"
        },
        "id": "pau3tTTS1YUL",
        "outputId": "ebcaa926-ac65-49a4-ccc1-02b67ede5fdc"
      },
      "outputs": [
        {
          "output_type": "stream",
          "name": "stdout",
          "text": [
            "Found existing installation: torch 1.11.0+cu113\n",
            "Uninstalling torch-1.11.0+cu113:\n",
            "  Would remove:\n",
            "    /usr/local/bin/convert-caffe2-to-onnx\n",
            "    /usr/local/bin/convert-onnx-to-caffe2\n",
            "    /usr/local/bin/torchrun\n",
            "    /usr/local/lib/python3.7/dist-packages/caffe2/*\n",
            "    /usr/local/lib/python3.7/dist-packages/torch-1.11.0+cu113.dist-info/*\n",
            "    /usr/local/lib/python3.7/dist-packages/torch/*\n",
            "Proceed (y/n)? y\n",
            "y\n",
            "  Successfully uninstalled torch-1.11.0+cu113\n"
          ]
        }
      ],
      "source": [
        "!pip uninstall torch"
      ]
    },
    {
      "cell_type": "code",
      "execution_count": null,
      "metadata": {
        "colab": {
          "base_uri": "https://localhost:8080/"
        },
        "id": "J5rW2tvQ1oCr",
        "outputId": "f0239e22-169f-4259-f323-7d5cc47e6fab"
      },
      "outputs": [
        {
          "output_type": "stream",
          "name": "stdout",
          "text": [
            "Looking in indexes: https://pypi.org/simple, https://us-python.pkg.dev/colab-wheels/public/simple/\n",
            "Collecting torch==1.5.0\n",
            "  Using cached torch-1.5.0-cp37-cp37m-manylinux1_x86_64.whl (752.0 MB)\n",
            "Requirement already satisfied: future in /usr/local/lib/python3.7/dist-packages (from torch==1.5.0) (0.16.0)\n",
            "Requirement already satisfied: numpy in /usr/local/lib/python3.7/dist-packages (from torch==1.5.0) (1.21.6)\n",
            "Installing collected packages: torch\n",
            "\u001b[31mERROR: pip's dependency resolver does not currently take into account all the packages that are installed. This behaviour is the source of the following dependency conflicts.\n",
            "torchvision 0.12.0+cu113 requires torch==1.11.0, but you have torch 1.5.0 which is incompatible.\n",
            "torchtext 0.12.0 requires torch==1.11.0, but you have torch 1.5.0 which is incompatible.\n",
            "torchaudio 0.11.0+cu113 requires torch==1.11.0, but you have torch 1.5.0 which is incompatible.\u001b[0m\n",
            "Successfully installed torch-1.5.0\n"
          ]
        }
      ],
      "source": [
        "!pip install torch==1.5.0 "
      ]
    },
    {
      "cell_type": "code",
      "execution_count": null,
      "metadata": {
        "colab": {
          "base_uri": "https://localhost:8080/",
          "height": 69
        },
        "id": "lWmIfm6UqudZ",
        "outputId": "013ff1a2-bd0f-44de-9361-eb0410a9e6a1"
      },
      "outputs": [
        {
          "output_type": "display_data",
          "data": {
            "text/plain": [
              "<IPython.core.display.Javascript object>"
            ],
            "application/javascript": [
              "\n",
              "        window._wandbApiKey = new Promise((resolve, reject) => {\n",
              "            function loadScript(url) {\n",
              "            return new Promise(function(resolve, reject) {\n",
              "                let newScript = document.createElement(\"script\");\n",
              "                newScript.onerror = reject;\n",
              "                newScript.onload = resolve;\n",
              "                document.body.appendChild(newScript);\n",
              "                newScript.src = url;\n",
              "            });\n",
              "            }\n",
              "            loadScript(\"https://cdn.jsdelivr.net/npm/postmate/build/postmate.min.js\").then(() => {\n",
              "            const iframe = document.createElement('iframe')\n",
              "            iframe.style.cssText = \"width:0;height:0;border:none\"\n",
              "            document.body.appendChild(iframe)\n",
              "            const handshake = new Postmate({\n",
              "                container: iframe,\n",
              "                url: 'https://wandb.ai/authorize'\n",
              "            });\n",
              "            const timeout = setTimeout(() => reject(\"Couldn't auto authenticate\"), 5000)\n",
              "            handshake.then(function(child) {\n",
              "                child.on('authorize', data => {\n",
              "                    clearTimeout(timeout)\n",
              "                    resolve(data)\n",
              "                });\n",
              "            });\n",
              "            })\n",
              "        });\n",
              "    "
            ]
          },
          "metadata": {}
        },
        {
          "output_type": "stream",
          "name": "stderr",
          "text": [
            "\u001b[34m\u001b[1mwandb\u001b[0m: Appending key for api.wandb.ai to your netrc file: /root/.netrc\n"
          ]
        },
        {
          "output_type": "execute_result",
          "data": {
            "text/plain": [
              "True"
            ]
          },
          "metadata": {},
          "execution_count": 2
        }
      ],
      "source": [
        "# Initialize wandb\n",
        "import wandb\n",
        "wandb.login()"
      ]
    },
    {
      "cell_type": "code",
      "execution_count": null,
      "metadata": {
        "colab": {
          "base_uri": "https://localhost:8080/"
        },
        "id": "0oPjEPWCrqMk",
        "outputId": "895a0645-a287-4416-f89b-6cd1f9fc590c"
      },
      "outputs": [
        {
          "output_type": "stream",
          "name": "stdout",
          "text": [
            "\u001b[34m\u001b[1mwandb\u001b[0m: Currently logged in as: \u001b[33manjanav24\u001b[0m. Use \u001b[1m`wandb login --relogin`\u001b[0m to force relogin\n"
          ]
        }
      ],
      "source": [
        "!wandb login"
      ]
    },
    {
      "cell_type": "code",
      "execution_count": null,
      "metadata": {
        "colab": {
          "base_uri": "https://localhost:8080/"
        },
        "id": "bP-2f82usEoK",
        "outputId": "c3188e64-ae4f-4069-f69b-39fcf9c51fc2"
      },
      "outputs": [
        {
          "output_type": "stream",
          "name": "stderr",
          "text": [
            "/usr/local/lib/python3.7/dist-packages/gym/logger.py:30: UserWarning: \u001b[33mWARN: Box bound precision lowered by casting to float32\u001b[0m\n",
            "  warnings.warn(colorize('%s: %s'%('WARN', msg % args), 'yellow'))\n"
          ]
        }
      ],
      "source": [
        "import os\n",
        "import sys\n",
        "sys.path.insert(0, '/content/')\n",
        "from hover_state_space import hover_state_space\n",
        "env = hover_state_space()"
      ]
    },
    {
      "cell_type": "code",
      "source": [
        "\"\"\"\n",
        "a = np.array([[1, 2, 3, 4]])\n",
        "a = torch.tensor(a)\n",
        "\n",
        "a = torch.squeeze(a)\n",
        "a\n",
        "\"\"\""
      ],
      "metadata": {
        "colab": {
          "base_uri": "https://localhost:8080/",
          "height": 35
        },
        "id": "K6wCZEWMsO4M",
        "outputId": "381853ba-21c1-4c84-a0ec-3b02365a7c61"
      },
      "execution_count": null,
      "outputs": [
        {
          "output_type": "execute_result",
          "data": {
            "text/plain": [
              "'\\na = np.array([[1, 2, 3, 4]])\\na = torch.tensor(a)\\n\\na = torch.squeeze(a)\\na\\n'"
            ],
            "application/vnd.google.colaboratory.intrinsic+json": {
              "type": "string"
            }
          },
          "metadata": {},
          "execution_count": 5
        }
      ]
    },
    {
      "cell_type": "markdown",
      "metadata": {
        "id": "w4iGhNkBvDeh"
      },
      "source": [
        "## DDPG using MLP"
      ]
    },
    {
      "cell_type": "code",
      "execution_count": null,
      "metadata": {
        "id": "aViAYpeGwVAv"
      },
      "outputs": [],
      "source": [
        "# All imports\n",
        "import torch\n",
        "import torch.nn as nn\n",
        "import torch.nn.functional as F\n",
        "import torch.optim as optim\n",
        "import torch.multiprocessing as mp\n",
        "from torch.distributions import Normal\n",
        "\n",
        "import math\n",
        "import random\n",
        "import numpy as np"
      ]
    },
    {
      "cell_type": "code",
      "execution_count": null,
      "metadata": {
        "id": "N2fBi1f4IQhz",
        "colab": {
          "base_uri": "https://localhost:8080/",
          "height": 35
        },
        "outputId": "40924424-b2c1-4e58-d5ca-79e14b25141d"
      },
      "outputs": [
        {
          "output_type": "execute_result",
          "data": {
            "text/plain": [
              "'1.11.0+cu113'"
            ],
            "application/vnd.google.colaboratory.intrinsic+json": {
              "type": "string"
            }
          },
          "metadata": {},
          "execution_count": 51
        }
      ],
      "source": [
        "torch.__version__"
      ]
    },
    {
      "cell_type": "code",
      "execution_count": null,
      "metadata": {
        "colab": {
          "base_uri": "https://localhost:8080/"
        },
        "id": "ZYY7mncOwdmX",
        "outputId": "c312fac8-0609-4e9c-e48f-7f91ae2f8d42"
      },
      "outputs": [
        {
          "output_type": "stream",
          "name": "stdout",
          "text": [
            "cuda:0\n"
          ]
        }
      ],
      "source": [
        "device = torch.device(\"cuda:0\" if torch.cuda.is_available() else \"cpu\")\n",
        "print(device)"
      ]
    },
    {
      "cell_type": "markdown",
      "metadata": {
        "id": "wXxH6pyEwtc6"
      },
      "source": [
        "## MLP Nets"
      ]
    },
    {
      "cell_type": "code",
      "execution_count": null,
      "metadata": {
        "id": "wqlo2k6BuQfA"
      },
      "outputs": [],
      "source": [
        "class ActorNetwork(nn.Module):\n",
        "    def __init__(self, input_dim, output_dim, hidden_dim, init_w=3e-3):\n",
        "        super(ActorNetwork, self).__init__()\n",
        "        self.action_dim=output_dim\n",
        "        \n",
        "        self.linear1 = nn.Linear(input_dim, hidden_dim)\n",
        "        self.linear2 = nn.Linear(hidden_dim, hidden_dim)\n",
        "        self.linear3 = nn.Linear(hidden_dim, output_dim) # output dim = dim of action\n",
        "\n",
        "        # weights initialization\n",
        "        self.linear3.weight.data.uniform_(-init_w, init_w)\n",
        "        self.linear3.bias.data.uniform_(-init_w, init_w)\n",
        "    \n",
        "\n",
        "    def forward(self, state):\n",
        "        activation=F.relu\n",
        "        x = activation(self.linear1(state)) \n",
        "        x = activation(self.linear2(x))\n",
        "        # x = F.tanh(self.linear3(x)).clone() # need clone to prevent in-place operation (which cause gradients not be drived)\n",
        "        x = self.linear3(x) # for simplicity, no restriction on action range\n",
        "        mu = torch.tanh(x)\n",
        "        return mu\n",
        "\n",
        "    def select_action(self, state, noise_scale=1.0):\n",
        "        '''\n",
        "        select action for sampling, no gradients flow, noisy action, return .cpu\n",
        "        '''\n",
        "        state = torch.FloatTensor(state).unsqueeze(0).to(device) # state dim: (N, dim of state)\n",
        "        normal = Normal(0, 1)\n",
        "        action = self.forward(state)\n",
        "        noise = noise_scale * normal.sample(action.shape).to(device)\n",
        "        action+=noise\n",
        "\n",
        "        # Allow only positive voltages\n",
        "        action = torch.clamp(torch.abs(action), min=2, max=24)\n",
        "        action = torch.squeeze(action)\n",
        "        return action.detach().cpu().numpy()\n",
        "\n",
        "    def sample_action(self, action_range=1.):\n",
        "        normal = Normal(0, 1)\n",
        "        random_action=action_range*normal.sample( (self.action_dim,) )\n",
        "        random_action = torch.clamp(torch.abs(random_action), min=2, max=24)\n",
        "        random_action = torch.squeeze(random_action)\n",
        "        return random_action.cpu().numpy()\n",
        "\n",
        "\n",
        "    def evaluate_action(self, state, noise_scale=0.0):\n",
        "        '''\n",
        "        evaluate action within GPU graph, for gradients flowing through it, noise_scale controllable\n",
        "        '''\n",
        "        normal = Normal(0, 1)\n",
        "        action = self.forward(state)\n",
        "        # action = torch.tanh(action)\n",
        "        noise = noise_scale * normal.sample(action.shape).to(device)\n",
        "        action = torch.clamp(torch.abs(action), min=2, max=24)\n",
        "        action = torch.squeeze(action)\n",
        "        action+=noise\n",
        "        return action"
      ]
    },
    {
      "cell_type": "code",
      "execution_count": null,
      "metadata": {
        "id": "mt9Ue4mDwy6v"
      },
      "outputs": [],
      "source": [
        "class QNetwork(nn.Module):\n",
        "    def __init__(self, input_dim, hidden_dim, init_w=3e-3):\n",
        "        super(QNetwork, self).__init__()\n",
        "        \n",
        "        self.linear1 = nn.Linear(input_dim, hidden_dim)\n",
        "        self.linear2 = nn.Linear(hidden_dim, hidden_dim)\n",
        "        self.linear3 = nn.Linear(hidden_dim, 1)\n",
        "        self.out = nn.Sigmoid()\n",
        "        \n",
        "        self.linear3.weight.data.uniform_(-init_w, init_w)\n",
        "        self.linear3.bias.data.uniform_(-init_w, init_w)\n",
        "        \n",
        "    def forward(self, state, action):\n",
        "        x = torch.cat([state, action], 1) # the dim 0 is number of samples\n",
        "        x = F.relu(self.linear1(x))\n",
        "        x = F.relu(self.linear2(x))\n",
        "        x = self.linear3(x)\n",
        "        x = self.out(x)\n",
        "        return x"
      ]
    },
    {
      "cell_type": "code",
      "execution_count": null,
      "metadata": {
        "id": "2jY8iRS_xRM9"
      },
      "outputs": [],
      "source": [
        "class DDPG():\n",
        "    def __init__(self, replay_buffer, state_dim, action_dim, hidden_dim):\n",
        "        self.replay_buffer = replay_buffer\n",
        "        self.qnet = QNetwork(state_dim+action_dim, hidden_dim).to(device)\n",
        "        self.target_qnet = QNetwork(state_dim+action_dim, hidden_dim).to(device)\n",
        "        self.policy_net = ActorNetwork(state_dim, action_dim, hidden_dim).to(device)\n",
        "        self.target_policy_net = ActorNetwork(state_dim, action_dim, hidden_dim).to(device)\n",
        "\n",
        "        print('Q network: ', self.qnet)\n",
        "        print('Policy network: ', self.policy_net)\n",
        "\n",
        "        for target_param, param in zip(self.target_qnet.parameters(), self.qnet.parameters()):\n",
        "            target_param.data.copy_(param.data)\n",
        "        self.q_criterion = nn.MSELoss()\n",
        "        q_lr=1e-3\n",
        "        policy_lr = 1e-4\n",
        "        self.update_cnt=0\n",
        "\n",
        "        self.q_optimizer = optim.Adam(self.qnet.parameters(), lr=q_lr)\n",
        "        self.policy_optimizer = optim.Adam(self.policy_net.parameters(), lr=policy_lr)\n",
        "    \n",
        "    def target_soft_update(self, net, target_net, soft_tau):\n",
        "    # Soft update the target net\n",
        "        for target_param, param in zip(target_net.parameters(), net.parameters()):\n",
        "            target_param.data.copy_(  # copy data value into target parameters\n",
        "                target_param.data * (1.0 - soft_tau) + param.data * soft_tau\n",
        "            )\n",
        "\n",
        "        return target_net\n",
        "\n",
        "    def update(self, batch_size, reward_scale=10.0, gamma=0.99, soft_tau=1e-2, policy_up_itr=10, target_update_delay=3, warmup=True):\n",
        "        self.update_cnt+=1\n",
        "        experiences = self.replay_buffer.sample(batch_size, False)\n",
        "        state, action, reward, next_state, done = zip(*experiences)\n",
        "        #state, action, reward, next_state, done = self.replay_buffer.sample(batch_size)\n",
        "        # print('sample:', state, action,  reward, done)\n",
        "        #print(reward)\n",
        "        #print(done)\n",
        "\n",
        "        state      = torch.FloatTensor(state).to(device)\n",
        "        next_state = torch.FloatTensor(next_state).to(device)\n",
        "        action     = torch.FloatTensor(action).to(device)\n",
        "        # Use view instead of unsqueeze\n",
        "        reward = torch.FloatTensor(reward).reshape(-1, 1).to(device)\n",
        "        done = torch.FloatTensor(np.float32(done)).reshape(-1, 1).to(device)\n",
        "        #reward     = torch.FloatTensor(reward).unsqueeze(1).to(device)  \n",
        "        #done       = torch.FloatTensor(np.float32(done)).unsqueeze(1).to(device)\n",
        "\n",
        "        #print(reward)\n",
        "        #print(done)\n",
        "\n",
        "        predict_q = self.qnet(state, action) # for q \n",
        "        new_next_action = self.target_policy_net.evaluate_action(next_state)  # for q\n",
        "        new_action = self.policy_net.evaluate_action(state) # for policy\n",
        "        self.qnet(state, new_action) # for policy\n",
        "        target_q = reward+(1-done)*gamma*self.target_qnet(next_state, new_next_action)  # for q\n",
        "        # reward = reward_scale * (reward - reward.mean(dim=0)) /reward.std(dim=0) # normalize with batch mean and std\n",
        "\n",
        "        # train qnet\n",
        "        q_loss = self.q_criterion(predict_q, target_q)\n",
        "        self.q_optimizer.zero_grad()\n",
        "        q_loss.backward()\n",
        "        self.q_optimizer.step()\n",
        "\n",
        "        # train policy_net\n",
        "        policy_loss = -torch.mean(self.qnet(state, action))\n",
        "        self.policy_optimizer.zero_grad()\n",
        "        policy_loss.backward()\n",
        "        self.policy_optimizer.step()\n",
        "\n",
        "            \n",
        "        # update the target_qnet\n",
        "        if self.update_cnt%target_update_delay==0:\n",
        "            self.target_qnet=self.target_soft_update(self.qnet, self.target_qnet, soft_tau)\n",
        "            self.target_policy_net=self.target_soft_update(self.policy_net, self.target_policy_net, soft_tau)\n",
        "\n",
        "        return q_loss.detach().cpu().numpy(), policy_loss.detach().cpu().numpy()"
      ]
    },
    {
      "cell_type": "code",
      "execution_count": null,
      "metadata": {
        "id": "CufwCZT04r0I"
      },
      "outputs": [],
      "source": [
        "from collections import deque\n",
        "class ReplayBuffer(object):\n",
        "    def __init__(self, memory_size: int) -> None:\n",
        "        self.memory_size = memory_size\n",
        "        self.buffer = deque(maxlen=self.memory_size)\n",
        "\n",
        "    def add(self, experience) -> None:\n",
        "        self.buffer.append(experience)\n",
        "\n",
        "    def size(self):\n",
        "        return len(self.buffer)\n",
        "\n",
        "    def sample(self, batch_size: int, continuous: bool = True):\n",
        "        if batch_size > len(self.buffer):\n",
        "            batch_size = len(self.buffer)\n",
        "        if continuous:\n",
        "            rand = random.randint(0, len(self.buffer) - batch_size)\n",
        "            return [self.buffer[i] for i in range(rand, rand + batch_size)]\n",
        "        else:\n",
        "            indexes = np.random.choice(np.arange(len(self.buffer)), size=batch_size, replace=False)\n",
        "            return [self.buffer[i] for i in indexes]\n",
        "\n",
        "    def clear(self):\n",
        "        self.buffer.clear()"
      ]
    },
    {
      "cell_type": "code",
      "execution_count": null,
      "metadata": {
        "colab": {
          "base_uri": "https://localhost:8080/"
        },
        "id": "ezkwg2RfxXll",
        "outputId": "f4ff30fa-602d-4691-9dfb-6a9d8336c6a3"
      },
      "outputs": [
        {
          "output_type": "stream",
          "name": "stdout",
          "text": [
            "Q network:  QNetwork(\n",
            "  (linear1): Linear(in_features=10, out_features=128, bias=True)\n",
            "  (linear2): Linear(in_features=128, out_features=128, bias=True)\n",
            "  (linear3): Linear(in_features=128, out_features=1, bias=True)\n",
            "  (out): Sigmoid()\n",
            ")\n",
            "Policy network:  ActorNetwork(\n",
            "  (linear1): Linear(in_features=6, out_features=128, bias=True)\n",
            "  (linear2): Linear(in_features=128, out_features=128, bias=True)\n",
            "  (linear3): Linear(in_features=128, out_features=4, bias=True)\n",
            ")\n"
          ]
        }
      ],
      "source": [
        "action_dim = env.action_space.shape[0]\n",
        "state_dim  = env.observation_space.shape[0]\n",
        "hidden_dim = 128\n",
        "explore_steps = 0  # for random exploration\n",
        "batch_size = 100\n",
        "\n",
        "replay_buffer_size=1000000\n",
        "replay_buffer = ReplayBuffer(replay_buffer_size)\n",
        "\n",
        "torch.autograd.set_detect_anomaly(True)\n",
        "alg = DDPG(replay_buffer, state_dim, action_dim, hidden_dim)\n",
        "\n",
        "q_loss_list = []\n",
        "policy_loss_list = []"
      ]
    },
    {
      "cell_type": "code",
      "execution_count": null,
      "metadata": {
        "colab": {
          "base_uri": "https://localhost:8080/",
          "height": 194,
          "referenced_widgets": [
            "dfba2546bba44e5484b7e9b97c33bcbe",
            "2f450bff034b472793003005d935025b",
            "94da8a1522384be09308b3971a5aabeb",
            "c1f3a4ccfaf04bfaafbdeca6544bbc63",
            "5a6881db397a4f17b01eef8668c90e94",
            "da69ca532bce43bfa574a879ffe7a73b",
            "b99153444e224fd68375e0a0190cc23e",
            "2eed9ce59db24163b7eed16755d71300"
          ]
        },
        "id": "gz4qZUShzKsc",
        "outputId": "69369a7f-f01a-43e7-a838-96e515e6d27f"
      },
      "outputs": [
        {
          "output_type": "display_data",
          "data": {
            "text/plain": [
              "<IPython.core.display.HTML object>"
            ],
            "text/html": [
              "Finishing last run (ID:16smj97u) before initializing another..."
            ]
          },
          "metadata": {}
        },
        {
          "output_type": "display_data",
          "data": {
            "text/plain": [
              "<IPython.core.display.HTML object>"
            ],
            "text/html": [
              "Waiting for W&B process to finish... <strong style=\"color:green\">(success).</strong>"
            ]
          },
          "metadata": {}
        },
        {
          "output_type": "display_data",
          "data": {
            "text/plain": [
              "VBox(children=(Label(value='0.001 MB of 0.001 MB uploaded (0.000 MB deduped)\\r'), FloatProgress(value=1.0, max…"
            ],
            "application/vnd.jupyter.widget-view+json": {
              "version_major": 2,
              "version_minor": 0,
              "model_id": "dfba2546bba44e5484b7e9b97c33bcbe"
            }
          },
          "metadata": {}
        },
        {
          "output_type": "display_data",
          "data": {
            "text/plain": [
              "<IPython.core.display.HTML object>"
            ],
            "text/html": [
              "Synced <strong style=\"color:#cdcd00\">celestial-sunset-41</strong>: <a href=\"https://wandb.ai/anjanav24/Deep-RL-for-Hover/runs/16smj97u\" target=\"_blank\">https://wandb.ai/anjanav24/Deep-RL-for-Hover/runs/16smj97u</a><br/>Synced 5 W&B file(s), 0 media file(s), 0 artifact file(s) and 0 other file(s)"
            ]
          },
          "metadata": {}
        },
        {
          "output_type": "display_data",
          "data": {
            "text/plain": [
              "<IPython.core.display.HTML object>"
            ],
            "text/html": [
              "Find logs at: <code>./wandb/run-20220612_065342-16smj97u/logs</code>"
            ]
          },
          "metadata": {}
        },
        {
          "output_type": "display_data",
          "data": {
            "text/plain": [
              "<IPython.core.display.HTML object>"
            ],
            "text/html": [
              "Successfully finished last run (ID:16smj97u). Initializing new run:<br/>"
            ]
          },
          "metadata": {}
        },
        {
          "output_type": "display_data",
          "data": {
            "text/plain": [
              "<IPython.core.display.HTML object>"
            ],
            "text/html": [
              "Tracking run with wandb version 0.12.18"
            ]
          },
          "metadata": {}
        },
        {
          "output_type": "display_data",
          "data": {
            "text/plain": [
              "<IPython.core.display.HTML object>"
            ],
            "text/html": [
              "Run data is saved locally in <code>/content/wandb/run-20220612_065434-42q5q4hr</code>"
            ]
          },
          "metadata": {}
        },
        {
          "output_type": "display_data",
          "data": {
            "text/plain": [
              "<IPython.core.display.HTML object>"
            ],
            "text/html": [
              "Syncing run <strong><a href=\"https://wandb.ai/anjanav24/Deep-RL-for-Hover/runs/42q5q4hr\" target=\"_blank\">fluent-galaxy-42</a></strong> to <a href=\"https://wandb.ai/anjanav24/Deep-RL-for-Hover\" target=\"_blank\">Weights & Biases</a> (<a href=\"https://wandb.me/run\" target=\"_blank\">docs</a>)<br/>"
            ]
          },
          "metadata": {}
        },
        {
          "output_type": "execute_result",
          "data": {
            "text/html": [
              "<button onClick=\"this.nextSibling.style.display='block';this.style.display='none';\">Display W&B run</button><iframe src=\"https://wandb.ai/anjanav24/Deep-RL-for-Hover/runs/42q5q4hr?jupyter=true\" style=\"border:none;width:100%;height:420px;display:none;\"></iframe>"
            ],
            "text/plain": [
              "<wandb.sdk.wandb_run.Run at 0x7efed2c5ec10>"
            ]
          },
          "metadata": {},
          "execution_count": 58
        }
      ],
      "source": [
        "# Initialize\n",
        "wandb.init(project=\"Deep-RL-for-Hover\", entity=\"anjanav24\")"
      ]
    },
    {
      "cell_type": "code",
      "source": [
        "replay_buffer.size()"
      ],
      "metadata": {
        "colab": {
          "base_uri": "https://localhost:8080/"
        },
        "id": "Q_D9WmeveObe",
        "outputId": "1531cdd5-8c25-4b0b-9b83-5e3a719fe1b1"
      },
      "execution_count": null,
      "outputs": [
        {
          "output_type": "execute_result",
          "data": {
            "text/plain": [
              "0"
            ]
          },
          "metadata": {},
          "execution_count": 59
        }
      ]
    },
    {
      "cell_type": "code",
      "execution_count": null,
      "metadata": {
        "colab": {
          "base_uri": "https://localhost:8080/",
          "height": 1000
        },
        "id": "ghDKapH7xps2",
        "outputId": "f9c9df92-595b-404b-adc2-8bcc46a95e2e"
      },
      "outputs": [
        {
          "output_type": "stream",
          "name": "stderr",
          "text": [
            "/usr/local/lib/python3.7/dist-packages/numpy/lib/function_base.py:380: RuntimeWarning: Mean of empty slice.\n",
            "  avg = a.mean(axis)\n",
            "/usr/local/lib/python3.7/dist-packages/numpy/core/_methods.py:189: RuntimeWarning: invalid value encountered in double_scalars\n",
            "  ret = ret.dtype.type(ret / rcount)\n"
          ]
        },
        {
          "output_type": "stream",
          "name": "stdout",
          "text": [
            "Eps:  0 | Reward:  -4079.417339993814 | Loss:  nan nan\n",
            "Eps:  10 | Reward:  -4281.383000752698 | Loss:  2291.4321981811527 -0.007920745875079335\n",
            "Eps:  20 | Reward:  -2162.0655644368267 | Loss:  2369.5236833801273 -0.0039603729391149865\n",
            "Eps:  30 | Reward:  -3690.584239225853 | Loss:  2452.8937950642908 -0.0026402486264217244\n",
            "Eps:  40 | Reward:  -2609.1114393419457 | Loss:  2475.3452344970706 -0.0019801864699217097\n",
            "Eps:  50 | Reward:  -1092.861513259345 | Loss:  2468.5967152221683 -0.0015841491759829409\n",
            "Eps:  60 | Reward:  -8548.009706582385 | Loss:  2436.1814618733724 -0.0013201243133463892\n",
            "Eps:  70 | Reward:  -9412.56151825689 | Loss:  2395.4573385009767 -0.0011315351257396773\n",
            "Eps:  80 | Reward:  -8845.496385840455 | Loss:  2374.9719752731326 -0.00099009323503036\n",
            "Eps:  90 | Reward:  -8122.147154250256 | Loss:  2356.417836107042 -0.0008800828755878198\n",
            "Eps:  100 | Reward:  -15509.873660121802 | Loss:  2338.7462810485845 -0.000792074588032625\n",
            "Eps:  110 | Reward:  -7498.064582145689 | Loss:  2325.2839785877577 -0.0007200678073050124\n",
            "Eps:  120 | Reward:  -6550.499383032435 | Loss:  2315.7273449707036 -0.00066006215669825\n",
            "Eps:  130 | Reward:  -3957.5186801043624 | Loss:  2306.679190701998 -0.0006092881446463192\n",
            "Eps:  140 | Reward:  -10023.452889928401 | Loss:  2299.6083969334195 -0.0005657675628872701\n",
            "Eps:  150 | Reward:  -3938.259699984478 | Loss:  2293.1732488647463 -0.0005280497253626301\n",
            "Eps:  160 | Reward:  -3621.1543756607234 | Loss:  2285.80243712616 -0.0004950466175284351\n",
            "Eps:  170 | Reward:  -17991.549178004807 | Loss:  2277.719520640654 -0.0004659262282628268\n",
            "Eps:  180 | Reward:  -1562.644518264314 | Loss:  2271.4030304972334 -0.0004400414378044166\n",
            "Eps:  190 | Reward:  -8320.758076311156 | Loss:  2266.438273565995 -0.0004168813621310073\n",
            "Eps:  200 | Reward:  -2483.945113401078 | Loss:  2261.1652082122805 -0.0003960372940248793\n",
            "Eps:  210 | Reward:  -1645.377504615869 | Loss:  2256.7637055983773 -0.0003771783752621312\n",
            "Eps:  220 | Reward:  -6190.83052289026 | Loss:  2253.5762677085186 -0.0003600339036595875\n",
            "Eps:  230 | Reward:  -19992.945923790234 | Loss:  2249.0954648437496 -0.00034438025567462056\n",
            "Eps:  240 | Reward:  -2031.8336047146877 | Loss:  2246.9417412439984 -0.00033003107835504375\n",
            "Eps:  250 | Reward:  -1987.285696468382 | Loss:  2246.081590981445 -0.00031682983522101683\n",
            "Eps:  260 | Reward:  -9084.003621816455 | Loss:  2244.170765075684 -0.00030464407232805123\n",
            "Eps:  270 | Reward:  -3325.419538293129 | Loss:  2242.6158185085724 -0.00029336095853825945\n",
            "Eps:  280 | Reward:  -18633.771758043662 | Loss:  2240.887825847081 -0.0002828837814477294\n",
            "Eps:  290 | Reward:  -2602.8139037184537 | Loss:  2240.25476484838 -0.00027312916829446717\n",
            "Eps:  300 | Reward:  -1284.5186905913445 | Loss:  2239.2340756286617 -0.00026402486268474956\n",
            "Eps:  310 | Reward:  -716.0699169299446 | Loss:  2238.720746595813 -0.00025550793163049457\n",
            "Eps:  320 | Reward:  -1559.1891635330073 | Loss:  2237.140845653534 -0.00024752330876712584\n",
            "Eps:  330 | Reward:  -10763.494023566123 | Loss:  2235.7265097138375 -0.00024002260244092682\n",
            "Eps:  340 | Reward:  -7713.167159907675 | Loss:  2233.939563194724 -0.00023296311413391376\n",
            "Eps:  350 | Reward:  -998.0405538603281 | Loss:  2231.8901297154016 -0.00022630702515872493\n",
            "Eps:  360 | Reward:  -3853.1512347176226 | Loss:  2229.5600336914063 -0.00022002071890437635\n",
            "Eps:  370 | Reward:  -5667.99238258342 | Loss:  2227.1852683451884 -0.00021407421298809862\n",
            "Eps:  380 | Reward:  -10638.034476355318 | Loss:  2224.5747610184517 -0.000208440681067412\n",
            "Eps:  390 | Reward:  -15096.611952434254 | Loss:  2222.8096196257766 -0.00020309604821957855\n",
            "Eps:  400 | Reward:  -4153.488441617663 | Loss:  2221.4919565979003 -0.0001980186470141347\n",
            "Eps:  410 | Reward:  -8261.57210532735 | Loss:  2220.881691187417 -0.00019318892391627192\n",
            "Eps:  420 | Reward:  -3382.0096067197483 | Loss:  2220.174176379976 -0.00018858918763259186\n",
            "Eps:  430 | Reward:  -10510.267950568614 | Loss:  2219.4858507463323 -0.0001842033925714069\n"
          ]
        },
        {
          "output_type": "error",
          "ename": "KeyboardInterrupt",
          "evalue": "ignored",
          "traceback": [
            "\u001b[0;31m---------------------------------------------------------------------------\u001b[0m",
            "\u001b[0;31mKeyboardInterrupt\u001b[0m                         Traceback (most recent call last)",
            "\u001b[0;32m<ipython-input-60-6685ab9bbf8f>\u001b[0m in \u001b[0;36m<module>\u001b[0;34m()\u001b[0m\n\u001b[1;32m     27\u001b[0m \u001b[0;34m\u001b[0m\u001b[0m\n\u001b[1;32m     28\u001b[0m     \u001b[0;32mif\u001b[0m \u001b[0mreplay_buffer\u001b[0m\u001b[0;34m.\u001b[0m\u001b[0msize\u001b[0m\u001b[0;34m(\u001b[0m\u001b[0;34m)\u001b[0m \u001b[0;34m>\u001b[0m \u001b[0mbatch_size\u001b[0m\u001b[0;34m:\u001b[0m\u001b[0;34m\u001b[0m\u001b[0;34m\u001b[0m\u001b[0m\n\u001b[0;32m---> 29\u001b[0;31m       \u001b[0mq_loss\u001b[0m\u001b[0;34m,\u001b[0m \u001b[0mpolicy_loss\u001b[0m \u001b[0;34m=\u001b[0m \u001b[0malg\u001b[0m\u001b[0;34m.\u001b[0m\u001b[0mupdate\u001b[0m\u001b[0;34m(\u001b[0m\u001b[0mbatch_size\u001b[0m\u001b[0;34m)\u001b[0m\u001b[0;34m\u001b[0m\u001b[0;34m\u001b[0m\u001b[0m\n\u001b[0m\u001b[1;32m     30\u001b[0m       \u001b[0mepisode_q_loss\u001b[0m\u001b[0;34m.\u001b[0m\u001b[0mappend\u001b[0m\u001b[0;34m(\u001b[0m\u001b[0mfloat\u001b[0m\u001b[0;34m(\u001b[0m\u001b[0mq_loss\u001b[0m\u001b[0;34m)\u001b[0m\u001b[0;34m)\u001b[0m\u001b[0;34m\u001b[0m\u001b[0;34m\u001b[0m\u001b[0m\n\u001b[1;32m     31\u001b[0m       \u001b[0mepisode_policy_loss\u001b[0m\u001b[0;34m.\u001b[0m\u001b[0mappend\u001b[0m\u001b[0;34m(\u001b[0m\u001b[0mfloat\u001b[0m\u001b[0;34m(\u001b[0m\u001b[0mpolicy_loss\u001b[0m\u001b[0;34m)\u001b[0m\u001b[0;34m)\u001b[0m\u001b[0;34m\u001b[0m\u001b[0;34m\u001b[0m\u001b[0m\n",
            "\u001b[0;32m<ipython-input-55-395fb1de91e1>\u001b[0m in \u001b[0;36mupdate\u001b[0;34m(self, batch_size, reward_scale, gamma, soft_tau, policy_up_itr, target_update_delay, warmup)\u001b[0m\n\u001b[1;32m     64\u001b[0m \u001b[0;34m\u001b[0m\u001b[0m\n\u001b[1;32m     65\u001b[0m         \u001b[0;31m# train policy_net\u001b[0m\u001b[0;34m\u001b[0m\u001b[0;34m\u001b[0m\u001b[0;34m\u001b[0m\u001b[0m\n\u001b[0;32m---> 66\u001b[0;31m         \u001b[0mpolicy_loss\u001b[0m \u001b[0;34m=\u001b[0m \u001b[0;34m-\u001b[0m\u001b[0mtorch\u001b[0m\u001b[0;34m.\u001b[0m\u001b[0mmean\u001b[0m\u001b[0;34m(\u001b[0m\u001b[0mself\u001b[0m\u001b[0;34m.\u001b[0m\u001b[0mqnet\u001b[0m\u001b[0;34m(\u001b[0m\u001b[0mstate\u001b[0m\u001b[0;34m,\u001b[0m \u001b[0maction\u001b[0m\u001b[0;34m)\u001b[0m\u001b[0;34m)\u001b[0m\u001b[0;34m\u001b[0m\u001b[0;34m\u001b[0m\u001b[0m\n\u001b[0m\u001b[1;32m     67\u001b[0m         \u001b[0mself\u001b[0m\u001b[0;34m.\u001b[0m\u001b[0mpolicy_optimizer\u001b[0m\u001b[0;34m.\u001b[0m\u001b[0mzero_grad\u001b[0m\u001b[0;34m(\u001b[0m\u001b[0;34m)\u001b[0m\u001b[0;34m\u001b[0m\u001b[0;34m\u001b[0m\u001b[0m\n\u001b[1;32m     68\u001b[0m         \u001b[0mpolicy_loss\u001b[0m\u001b[0;34m.\u001b[0m\u001b[0mbackward\u001b[0m\u001b[0;34m(\u001b[0m\u001b[0;34m)\u001b[0m\u001b[0;34m\u001b[0m\u001b[0;34m\u001b[0m\u001b[0m\n",
            "\u001b[0;32m/usr/local/lib/python3.7/dist-packages/torch/nn/modules/module.py\u001b[0m in \u001b[0;36m_call_impl\u001b[0;34m(self, *input, **kwargs)\u001b[0m\n\u001b[1;32m   1108\u001b[0m         if not (self._backward_hooks or self._forward_hooks or self._forward_pre_hooks or _global_backward_hooks\n\u001b[1;32m   1109\u001b[0m                 or _global_forward_hooks or _global_forward_pre_hooks):\n\u001b[0;32m-> 1110\u001b[0;31m             \u001b[0;32mreturn\u001b[0m \u001b[0mforward_call\u001b[0m\u001b[0;34m(\u001b[0m\u001b[0;34m*\u001b[0m\u001b[0minput\u001b[0m\u001b[0;34m,\u001b[0m \u001b[0;34m**\u001b[0m\u001b[0mkwargs\u001b[0m\u001b[0;34m)\u001b[0m\u001b[0;34m\u001b[0m\u001b[0;34m\u001b[0m\u001b[0m\n\u001b[0m\u001b[1;32m   1111\u001b[0m         \u001b[0;31m# Do not call functions when jit is used\u001b[0m\u001b[0;34m\u001b[0m\u001b[0;34m\u001b[0m\u001b[0;34m\u001b[0m\u001b[0m\n\u001b[1;32m   1112\u001b[0m         \u001b[0mfull_backward_hooks\u001b[0m\u001b[0;34m,\u001b[0m \u001b[0mnon_full_backward_hooks\u001b[0m \u001b[0;34m=\u001b[0m \u001b[0;34m[\u001b[0m\u001b[0;34m]\u001b[0m\u001b[0;34m,\u001b[0m \u001b[0;34m[\u001b[0m\u001b[0;34m]\u001b[0m\u001b[0;34m\u001b[0m\u001b[0;34m\u001b[0m\u001b[0m\n",
            "\u001b[0;32m<ipython-input-54-362b2b781f3a>\u001b[0m in \u001b[0;36mforward\u001b[0;34m(self, state, action)\u001b[0m\n\u001b[1;32m     14\u001b[0m         \u001b[0mx\u001b[0m \u001b[0;34m=\u001b[0m \u001b[0mtorch\u001b[0m\u001b[0;34m.\u001b[0m\u001b[0mcat\u001b[0m\u001b[0;34m(\u001b[0m\u001b[0;34m[\u001b[0m\u001b[0mstate\u001b[0m\u001b[0;34m,\u001b[0m \u001b[0maction\u001b[0m\u001b[0;34m]\u001b[0m\u001b[0;34m,\u001b[0m \u001b[0;36m1\u001b[0m\u001b[0;34m)\u001b[0m \u001b[0;31m# the dim 0 is number of samples\u001b[0m\u001b[0;34m\u001b[0m\u001b[0;34m\u001b[0m\u001b[0m\n\u001b[1;32m     15\u001b[0m         \u001b[0mx\u001b[0m \u001b[0;34m=\u001b[0m \u001b[0mF\u001b[0m\u001b[0;34m.\u001b[0m\u001b[0mrelu\u001b[0m\u001b[0;34m(\u001b[0m\u001b[0mself\u001b[0m\u001b[0;34m.\u001b[0m\u001b[0mlinear1\u001b[0m\u001b[0;34m(\u001b[0m\u001b[0mx\u001b[0m\u001b[0;34m)\u001b[0m\u001b[0;34m)\u001b[0m\u001b[0;34m\u001b[0m\u001b[0;34m\u001b[0m\u001b[0m\n\u001b[0;32m---> 16\u001b[0;31m         \u001b[0mx\u001b[0m \u001b[0;34m=\u001b[0m \u001b[0mF\u001b[0m\u001b[0;34m.\u001b[0m\u001b[0mrelu\u001b[0m\u001b[0;34m(\u001b[0m\u001b[0mself\u001b[0m\u001b[0;34m.\u001b[0m\u001b[0mlinear2\u001b[0m\u001b[0;34m(\u001b[0m\u001b[0mx\u001b[0m\u001b[0;34m)\u001b[0m\u001b[0;34m)\u001b[0m\u001b[0;34m\u001b[0m\u001b[0;34m\u001b[0m\u001b[0m\n\u001b[0m\u001b[1;32m     17\u001b[0m         \u001b[0mx\u001b[0m \u001b[0;34m=\u001b[0m \u001b[0mself\u001b[0m\u001b[0;34m.\u001b[0m\u001b[0mlinear3\u001b[0m\u001b[0;34m(\u001b[0m\u001b[0mx\u001b[0m\u001b[0;34m)\u001b[0m\u001b[0;34m\u001b[0m\u001b[0;34m\u001b[0m\u001b[0m\n\u001b[1;32m     18\u001b[0m         \u001b[0mx\u001b[0m \u001b[0;34m=\u001b[0m \u001b[0mself\u001b[0m\u001b[0;34m.\u001b[0m\u001b[0mout\u001b[0m\u001b[0;34m(\u001b[0m\u001b[0mx\u001b[0m\u001b[0;34m)\u001b[0m\u001b[0;34m\u001b[0m\u001b[0;34m\u001b[0m\u001b[0m\n",
            "\u001b[0;32m/usr/local/lib/python3.7/dist-packages/torch/nn/modules/module.py\u001b[0m in \u001b[0;36m_call_impl\u001b[0;34m(self, *input, **kwargs)\u001b[0m\n\u001b[1;32m   1108\u001b[0m         if not (self._backward_hooks or self._forward_hooks or self._forward_pre_hooks or _global_backward_hooks\n\u001b[1;32m   1109\u001b[0m                 or _global_forward_hooks or _global_forward_pre_hooks):\n\u001b[0;32m-> 1110\u001b[0;31m             \u001b[0;32mreturn\u001b[0m \u001b[0mforward_call\u001b[0m\u001b[0;34m(\u001b[0m\u001b[0;34m*\u001b[0m\u001b[0minput\u001b[0m\u001b[0;34m,\u001b[0m \u001b[0;34m**\u001b[0m\u001b[0mkwargs\u001b[0m\u001b[0;34m)\u001b[0m\u001b[0;34m\u001b[0m\u001b[0;34m\u001b[0m\u001b[0m\n\u001b[0m\u001b[1;32m   1111\u001b[0m         \u001b[0;31m# Do not call functions when jit is used\u001b[0m\u001b[0;34m\u001b[0m\u001b[0;34m\u001b[0m\u001b[0;34m\u001b[0m\u001b[0m\n\u001b[1;32m   1112\u001b[0m         \u001b[0mfull_backward_hooks\u001b[0m\u001b[0;34m,\u001b[0m \u001b[0mnon_full_backward_hooks\u001b[0m \u001b[0;34m=\u001b[0m \u001b[0;34m[\u001b[0m\u001b[0;34m]\u001b[0m\u001b[0;34m,\u001b[0m \u001b[0;34m[\u001b[0m\u001b[0;34m]\u001b[0m\u001b[0;34m\u001b[0m\u001b[0;34m\u001b[0m\u001b[0m\n",
            "\u001b[0;32m/usr/local/lib/python3.7/dist-packages/torch/nn/modules/linear.py\u001b[0m in \u001b[0;36mforward\u001b[0;34m(self, input)\u001b[0m\n\u001b[1;32m    101\u001b[0m \u001b[0;34m\u001b[0m\u001b[0m\n\u001b[1;32m    102\u001b[0m     \u001b[0;32mdef\u001b[0m \u001b[0mforward\u001b[0m\u001b[0;34m(\u001b[0m\u001b[0mself\u001b[0m\u001b[0;34m,\u001b[0m \u001b[0minput\u001b[0m\u001b[0;34m:\u001b[0m \u001b[0mTensor\u001b[0m\u001b[0;34m)\u001b[0m \u001b[0;34m->\u001b[0m \u001b[0mTensor\u001b[0m\u001b[0;34m:\u001b[0m\u001b[0;34m\u001b[0m\u001b[0;34m\u001b[0m\u001b[0m\n\u001b[0;32m--> 103\u001b[0;31m         \u001b[0;32mreturn\u001b[0m \u001b[0mF\u001b[0m\u001b[0;34m.\u001b[0m\u001b[0mlinear\u001b[0m\u001b[0;34m(\u001b[0m\u001b[0minput\u001b[0m\u001b[0;34m,\u001b[0m \u001b[0mself\u001b[0m\u001b[0;34m.\u001b[0m\u001b[0mweight\u001b[0m\u001b[0;34m,\u001b[0m \u001b[0mself\u001b[0m\u001b[0;34m.\u001b[0m\u001b[0mbias\u001b[0m\u001b[0;34m)\u001b[0m\u001b[0;34m\u001b[0m\u001b[0;34m\u001b[0m\u001b[0m\n\u001b[0m\u001b[1;32m    104\u001b[0m \u001b[0;34m\u001b[0m\u001b[0m\n\u001b[1;32m    105\u001b[0m     \u001b[0;32mdef\u001b[0m \u001b[0mextra_repr\u001b[0m\u001b[0;34m(\u001b[0m\u001b[0mself\u001b[0m\u001b[0;34m)\u001b[0m \u001b[0;34m->\u001b[0m \u001b[0mstr\u001b[0m\u001b[0;34m:\u001b[0m\u001b[0;34m\u001b[0m\u001b[0;34m\u001b[0m\u001b[0m\n",
            "\u001b[0;32m/usr/lib/python3.7/traceback.py\u001b[0m in \u001b[0;36mformat_stack\u001b[0;34m(f, limit)\u001b[0m\n\u001b[1;32m    195\u001b[0m     \u001b[0;32mif\u001b[0m \u001b[0mf\u001b[0m \u001b[0;32mis\u001b[0m \u001b[0;32mNone\u001b[0m\u001b[0;34m:\u001b[0m\u001b[0;34m\u001b[0m\u001b[0;34m\u001b[0m\u001b[0m\n\u001b[1;32m    196\u001b[0m         \u001b[0mf\u001b[0m \u001b[0;34m=\u001b[0m \u001b[0msys\u001b[0m\u001b[0;34m.\u001b[0m\u001b[0m_getframe\u001b[0m\u001b[0;34m(\u001b[0m\u001b[0;34m)\u001b[0m\u001b[0;34m.\u001b[0m\u001b[0mf_back\u001b[0m\u001b[0;34m\u001b[0m\u001b[0;34m\u001b[0m\u001b[0m\n\u001b[0;32m--> 197\u001b[0;31m     \u001b[0;32mreturn\u001b[0m \u001b[0mformat_list\u001b[0m\u001b[0;34m(\u001b[0m\u001b[0mextract_stack\u001b[0m\u001b[0;34m(\u001b[0m\u001b[0mf\u001b[0m\u001b[0;34m,\u001b[0m \u001b[0mlimit\u001b[0m\u001b[0;34m=\u001b[0m\u001b[0mlimit\u001b[0m\u001b[0;34m)\u001b[0m\u001b[0;34m)\u001b[0m\u001b[0;34m\u001b[0m\u001b[0;34m\u001b[0m\u001b[0m\n\u001b[0m\u001b[1;32m    198\u001b[0m \u001b[0;34m\u001b[0m\u001b[0m\n\u001b[1;32m    199\u001b[0m \u001b[0;34m\u001b[0m\u001b[0m\n",
            "\u001b[0;32m/usr/lib/python3.7/traceback.py\u001b[0m in \u001b[0;36mformat_list\u001b[0;34m(extracted_list)\u001b[0m\n\u001b[1;32m     37\u001b[0m     \u001b[0mwhose\u001b[0m \u001b[0msource\u001b[0m \u001b[0mtext\u001b[0m \u001b[0mline\u001b[0m \u001b[0;32mis\u001b[0m \u001b[0;32mnot\u001b[0m \u001b[0;32mNone\u001b[0m\u001b[0;34m.\u001b[0m\u001b[0;34m\u001b[0m\u001b[0;34m\u001b[0m\u001b[0m\n\u001b[1;32m     38\u001b[0m     \"\"\"\n\u001b[0;32m---> 39\u001b[0;31m     \u001b[0;32mreturn\u001b[0m \u001b[0mStackSummary\u001b[0m\u001b[0;34m.\u001b[0m\u001b[0mfrom_list\u001b[0m\u001b[0;34m(\u001b[0m\u001b[0mextracted_list\u001b[0m\u001b[0;34m)\u001b[0m\u001b[0;34m.\u001b[0m\u001b[0mformat\u001b[0m\u001b[0;34m(\u001b[0m\u001b[0;34m)\u001b[0m\u001b[0;34m\u001b[0m\u001b[0;34m\u001b[0m\u001b[0m\n\u001b[0m\u001b[1;32m     40\u001b[0m \u001b[0;34m\u001b[0m\u001b[0m\n\u001b[1;32m     41\u001b[0m \u001b[0;31m#\u001b[0m\u001b[0;34m\u001b[0m\u001b[0;34m\u001b[0m\u001b[0;34m\u001b[0m\u001b[0m\n",
            "\u001b[0;32m/usr/lib/python3.7/traceback.py\u001b[0m in \u001b[0;36mformat\u001b[0;34m(self)\u001b[0m\n\u001b[1;32m    425\u001b[0m                 \u001b[0;32mfor\u001b[0m \u001b[0mname\u001b[0m\u001b[0;34m,\u001b[0m \u001b[0mvalue\u001b[0m \u001b[0;32min\u001b[0m \u001b[0msorted\u001b[0m\u001b[0;34m(\u001b[0m\u001b[0mframe\u001b[0m\u001b[0;34m.\u001b[0m\u001b[0mlocals\u001b[0m\u001b[0;34m.\u001b[0m\u001b[0mitems\u001b[0m\u001b[0;34m(\u001b[0m\u001b[0;34m)\u001b[0m\u001b[0;34m)\u001b[0m\u001b[0;34m:\u001b[0m\u001b[0;34m\u001b[0m\u001b[0;34m\u001b[0m\u001b[0m\n\u001b[1;32m    426\u001b[0m                     \u001b[0mrow\u001b[0m\u001b[0;34m.\u001b[0m\u001b[0mappend\u001b[0m\u001b[0;34m(\u001b[0m\u001b[0;34m'    {name} = {value}\\n'\u001b[0m\u001b[0;34m.\u001b[0m\u001b[0mformat\u001b[0m\u001b[0;34m(\u001b[0m\u001b[0mname\u001b[0m\u001b[0;34m=\u001b[0m\u001b[0mname\u001b[0m\u001b[0;34m,\u001b[0m \u001b[0mvalue\u001b[0m\u001b[0;34m=\u001b[0m\u001b[0mvalue\u001b[0m\u001b[0;34m)\u001b[0m\u001b[0;34m)\u001b[0m\u001b[0;34m\u001b[0m\u001b[0;34m\u001b[0m\u001b[0m\n\u001b[0;32m--> 427\u001b[0;31m             \u001b[0mresult\u001b[0m\u001b[0;34m.\u001b[0m\u001b[0mappend\u001b[0m\u001b[0;34m(\u001b[0m\u001b[0;34m''\u001b[0m\u001b[0;34m.\u001b[0m\u001b[0mjoin\u001b[0m\u001b[0;34m(\u001b[0m\u001b[0mrow\u001b[0m\u001b[0;34m)\u001b[0m\u001b[0;34m)\u001b[0m\u001b[0;34m\u001b[0m\u001b[0;34m\u001b[0m\u001b[0m\n\u001b[0m\u001b[1;32m    428\u001b[0m         \u001b[0;32mif\u001b[0m \u001b[0mcount\u001b[0m \u001b[0;34m>\u001b[0m \u001b[0m_RECURSIVE_CUTOFF\u001b[0m\u001b[0;34m:\u001b[0m\u001b[0;34m\u001b[0m\u001b[0;34m\u001b[0m\u001b[0m\n\u001b[1;32m    429\u001b[0m             \u001b[0mcount\u001b[0m \u001b[0;34m-=\u001b[0m \u001b[0m_RECURSIVE_CUTOFF\u001b[0m\u001b[0;34m\u001b[0m\u001b[0;34m\u001b[0m\u001b[0m\n",
            "\u001b[0;31mKeyboardInterrupt\u001b[0m: "
          ]
        }
      ],
      "source": [
        "# hyper-parameters\n",
        "max_episodes  = 1000\n",
        "max_steps   = 200\n",
        "frame_idx   = 0\n",
        "rewards=[]\n",
        "\n",
        "for i_episode in range (max_episodes):\n",
        "  episode_q_loss=[]\n",
        "  episode_policy_loss=[]\n",
        "  state = env.reset()\n",
        "  episode_reward = 0\n",
        "\n",
        "  for step in range(max_steps):\n",
        "    if frame_idx > explore_steps:\n",
        "      action = alg.policy_net.sample_action(action_range=1.)\n",
        "      #if i_episode % 100 == 0:\n",
        "        #print(action)\n",
        "    else:\n",
        "      action = alg.policy_net.select_action(state)\n",
        "    next_state, reward, done = env.step(action)\n",
        "    state = next_state\n",
        "    replay_buffer.add((state, action, reward, next_state, done))\n",
        "                \n",
        "    state = next_state\n",
        "    episode_reward += reward\n",
        "    frame_idx += 1\n",
        "                \n",
        "    if replay_buffer.size() > batch_size:\n",
        "      q_loss, policy_loss = alg.update(batch_size)\n",
        "      episode_q_loss.append(float(q_loss))\n",
        "      episode_policy_loss.append(float(policy_loss))\n",
        "                \n",
        "    if done:\n",
        "      break\n",
        "  if i_episode % 10 == 0:\n",
        "    print('Eps: ', i_episode, '| Reward: ', episode_reward, '| Loss: ', np.average(q_loss_list), np.average(policy_loss_list))\n",
        "  \n",
        "  wandb.log({\"Epoch\": i_episode, \"Rewards\": rewards, \"Policy loss\": np.mean(episode_policy_loss),\\\n",
        "             \"Critic loss\": np.mean(episode_q_loss)})\n",
        "  \n",
        "  q_loss_list.append(np.mean(episode_q_loss))\n",
        "  policy_loss_list.append(np.mean(episode_policy_loss))\n",
        "  rewards.append(episode_reward)\n",
        "  \"\"\"         \n",
        "  rewards.append(episode_reward)\n",
        "  writer.add_scalar('Rewards', episode_reward, i_episode)\n",
        "  q_loss_list.append(np.mean(episode_q_loss))\n",
        "  writer.add_scalar('Q_Loss', np.mean(episode_q_loss), i_episode)\n",
        "  policy_loss_list.append(np.mean(episode_policy_loss))\n",
        "  writer.add_scalar('Policy_loss', np.mean(episode_policy_loss), i_episode)\n",
        "  \"\"\""
      ]
    },
    {
      "cell_type": "code",
      "execution_count": null,
      "metadata": {
        "id": "HVElrOxt1Llj"
      },
      "outputs": [],
      "source": [
        "with torch.no_grad():\n",
        "  torch.cuda.empty_cache()"
      ]
    },
    {
      "cell_type": "code",
      "source": [
        "r_list = (-776.1269321698996, -324.75605204451875, -757.7996585856293, -577.2818708567689, -670.9547046865756, -562.7877284903376, -998.8091632949915, -446.72304146472084, -281.3922753703698, -348.13214960718676, -304.2603775518396, -892.7985533067416, -1136.5630061299491, -976.9681860943682, -374.3555467707023, -813.7397621429006, -534.7577265619346, -332.22637826114914, -638.4527163373602, -872.5547141135515, -622.6808635649825, -356.5538657670496, -722.1033942215479, -317.6049431874237, -435.4265792530769, -687.684840263413, -913.3618201014184, -592.0954408246869, -521.2218669999633, -1160.6399765409785, -1043.4494005006975, -393.43489268625785, -470.27544785375795, -271.8728948103557, -654.5439967112245, -482.5308539229683, -1089.36734811235, -1066.2486605057804, -365.29499815488816, -403.45368998599906, -340.0319071751851, -852.6303025218479, -458.3389199043405, -286.63050624977785, -424.4495332694086, -548.6130137253928, -292.19783290278235, -833.0253185316311, -1112.805463320406, -276.4730715572291, -383.73551161449217, -739.7918126028453, -1020.9695680971013, -298.06692077335055, -495.10843068048, -267.5917451297497, -413.79190351371597, -704.7344034417372, -310.773051689864, -607.2284383940914, -934.2445144975819, -508.0054350394783, -955.4466364952317, -794.7736333556569)"
      ],
      "metadata": {
        "id": "pl2qgouz46Gt"
      },
      "execution_count": null,
      "outputs": []
    },
    {
      "cell_type": "code",
      "source": [
        "r = torch.Tensor(r_list)"
      ],
      "metadata": {
        "id": "GP26BbAA1M6N"
      },
      "execution_count": null,
      "outputs": []
    },
    {
      "cell_type": "code",
      "source": [
        "r_unsqueezed = r.unsqueeze(1)\n",
        "r_unsqueezed.shape"
      ],
      "metadata": {
        "id": "PpI3e9_V1O89"
      },
      "execution_count": null,
      "outputs": []
    },
    {
      "cell_type": "code",
      "source": [
        "r_view = r.view(r.shape[0], -1)\n",
        "r_view.shape"
      ],
      "metadata": {
        "id": "w--E0nYm1bsN"
      },
      "execution_count": null,
      "outputs": []
    },
    {
      "cell_type": "code",
      "source": [
        "r_reshape = r.reshape(-1, 1)\n",
        "r_reshape.shape"
      ],
      "metadata": {
        "id": "CqqLY_bV2tit"
      },
      "execution_count": null,
      "outputs": []
    },
    {
      "cell_type": "code",
      "source": [
        "import matplotlib.pyplot as plt\n",
        "%matplotlib inline\n",
        "\n",
        "plt.subplot(1, 3, 1)\n",
        "plt.plot(rewards)\n",
        "\n",
        "plt.subplot(1, 3, 2)\n",
        "plt.plot(q_loss_list)\n",
        "\n",
        "plt.subplot(1, 3, 3)\n",
        "plt.plot(policy_loss_list)\n",
        "plt.show()"
      ],
      "metadata": {
        "colab": {
          "base_uri": "https://localhost:8080/",
          "height": 265
        },
        "id": "Ttd_9mVpmMWl",
        "outputId": "3bf2cc3a-af83-4479-9e24-f0339b0b0945"
      },
      "execution_count": null,
      "outputs": [
        {
          "output_type": "display_data",
          "data": {
            "text/plain": [
              "<Figure size 432x288 with 3 Axes>"
            ],
            "image/png": "[encoded data removed]"
          },
          "metadata": {
            "needs_background": "light"
          }
        }
      ]
    },
    {
      "cell_type": "code",
      "source": [
        "plt.plot(rewards)"
      ],
      "metadata": {
        "colab": {
          "base_uri": "https://localhost:8080/",
          "height": 282
        },
        "id": "ZVME71Wk26bG",
        "outputId": "b5ad153b-954c-4e01-907b-b056afa412aa"
      },
      "execution_count": null,
      "outputs": [
        {
          "output_type": "execute_result",
          "data": {
            "text/plain": [
              "[<matplotlib.lines.Line2D at 0x7eff04bf3350>]"
            ]
          },
          "metadata": {},
          "execution_count": 62
        },
        {
          "output_type": "display_data",
          "data": {
            "text/plain": [
              "<Figure size 432x288 with 1 Axes>"
            ],
            "image/png": "[encoded data removed]"
          },
          "metadata": {
            "needs_background": "light"
          }
        }
      ]
    },
    {
      "cell_type": "code",
      "source": [
        ""
      ],
      "metadata": {
        "id": "V33b2ZRx27-m"
      },
      "execution_count": null,
      "outputs": []
    }
  ],
  "metadata": {
    "accelerator": "GPU",
    "colab": {
      "name": "DDPG-Hover.ipynb",
      "provenance": [],
      "authorship_tag": "ABX9TyOg2dzOq45kcN4J85vjBYr8",
      "include_colab_link": true
    },
    "kernelspec": {
      "display_name": "Python 3",
      "name": "python3"
    },
    "language_info": {
      "name": "python"
    },
    "widgets": {
      "application/vnd.jupyter.widget-state+json": {
        "dfba2546bba44e5484b7e9b97c33bcbe": {
          "model_module": "@jupyter-widgets/controls",
          "model_name": "VBoxModel",
          "model_module_version": "1.5.0",
          "state": {
            "_dom_classes": [],
            "_model_module": "@jupyter-widgets/controls",
            "_model_module_version": "1.5.0",
            "_model_name": "VBoxModel",
            "_view_count": null,
            "_view_module": "@jupyter-widgets/controls",
            "_view_module_version": "1.5.0",
            "_view_name": "VBoxView",
            "box_style": "",
            "children": [
              "IPY_MODEL_2f450bff034b472793003005d935025b",
              "IPY_MODEL_94da8a1522384be09308b3971a5aabeb"
            ],
            "layout": "IPY_MODEL_c1f3a4ccfaf04bfaafbdeca6544bbc63"
          }
        },
        "2f450bff034b472793003005d935025b": {
          "model_module": "@jupyter-widgets/controls",
          "model_name": "LabelModel",
          "model_module_version": "1.5.0",
          "state": {
            "_dom_classes": [],
            "_model_module": "@jupyter-widgets/controls",
            "_model_module_version": "1.5.0",
            "_model_name": "LabelModel",
            "_view_count": null,
            "_view_module": "@jupyter-widgets/controls",
            "_view_module_version": "1.5.0",
            "_view_name": "LabelView",
            "description": "",
            "description_tooltip": null,
            "layout": "IPY_MODEL_5a6881db397a4f17b01eef8668c90e94",
            "placeholder": "​",
            "style": "IPY_MODEL_da69ca532bce43bfa574a879ffe7a73b",
            "value": "0.008 MB of 0.008 MB uploaded (0.000 MB deduped)\r"
          }
        },
        "94da8a1522384be09308b3971a5aabeb": {
          "model_module": "@jupyter-widgets/controls",
          "model_name": "FloatProgressModel",
          "model_module_version": "1.5.0",
          "state": {
            "_dom_classes": [],
            "_model_module": "@jupyter-widgets/controls",
            "_model_module_version": "1.5.0",
            "_model_name": "FloatProgressModel",
            "_view_count": null,
            "_view_module": "@jupyter-widgets/controls",
            "_view_module_version": "1.5.0",
            "_view_name": "ProgressView",
            "bar_style": "",
            "description": "",
            "description_tooltip": null,
            "layout": "IPY_MODEL_b99153444e224fd68375e0a0190cc23e",
            "max": 1,
            "min": 0,
            "orientation": "horizontal",
            "style": "IPY_MODEL_2eed9ce59db24163b7eed16755d71300",
            "value": 1
          }
        },
        "c1f3a4ccfaf04bfaafbdeca6544bbc63": {
          "model_module": "@jupyter-widgets/base",
          "model_name": "LayoutModel",
          "model_module_version": "1.2.0",
          "state": {
            "_model_module": "@jupyter-widgets/base",
            "_model_module_version": "1.2.0",
            "_model_name": "LayoutModel",
            "_view_count": null,
            "_view_module": "@jupyter-widgets/base",
            "_view_module_version": "1.2.0",
            "_view_name": "LayoutView",
            "align_content": null,
            "align_items": null,
            "align_self": null,
            "border": null,
            "bottom": null,
            "display": null,
            "flex": null,
            "flex_flow": null,
            "grid_area": null,
            "grid_auto_columns": null,
            "grid_auto_flow": null,
            "grid_auto_rows": null,
            "grid_column": null,
            "grid_gap": null,
            "grid_row": null,
            "grid_template_areas": null,
            "grid_template_columns": null,
            "grid_template_rows": null,
            "height": null,
            "justify_content": null,
            "justify_items": null,
            "left": null,
            "margin": null,
            "max_height": null,
            "max_width": null,
            "min_height": null,
            "min_width": null,
            "object_fit": null,
            "object_position": null,
            "order": null,
            "overflow": null,
            "overflow_x": null,
            "overflow_y": null,
            "padding": null,
            "right": null,
            "top": null,
            "visibility": null,
            "width": null
          }
        },
        "5a6881db397a4f17b01eef8668c90e94": {
          "model_module": "@jupyter-widgets/base",
          "model_name": "LayoutModel",
          "model_module_version": "1.2.0",
          "state": {
            "_model_module": "@jupyter-widgets/base",
            "_model_module_version": "1.2.0",
            "_model_name": "LayoutModel",
            "_view_count": null,
            "_view_module": "@jupyter-widgets/base",
            "_view_module_version": "1.2.0",
            "_view_name": "LayoutView",
            "align_content": null,
            "align_items": null,
            "align_self": null,
            "border": null,
            "bottom": null,
            "display": null,
            "flex": null,
            "flex_flow": null,
            "grid_area": null,
            "grid_auto_columns": null,
            "grid_auto_flow": null,
            "grid_auto_rows": null,
            "grid_column": null,
            "grid_gap": null,
            "grid_row": null,
            "grid_template_areas": null,
            "grid_template_columns": null,
            "grid_template_rows": null,
            "height": null,
            "justify_content": null,
            "justify_items": null,
            "left": null,
            "margin": null,
            "max_height": null,
            "max_width": null,
            "min_height": null,
            "min_width": null,
            "object_fit": null,
            "object_position": null,
            "order": null,
            "overflow": null,
            "overflow_x": null,
            "overflow_y": null,
            "padding": null,
            "right": null,
            "top": null,
            "visibility": null,
            "width": null
          }
        },
        "da69ca532bce43bfa574a879ffe7a73b": {
          "model_module": "@jupyter-widgets/controls",
          "model_name": "DescriptionStyleModel",
          "model_module_version": "1.5.0",
          "state": {
            "_model_module": "@jupyter-widgets/controls",
            "_model_module_version": "1.5.0",
            "_model_name": "DescriptionStyleModel",
            "_view_count": null,
            "_view_module": "@jupyter-widgets/base",
            "_view_module_version": "1.2.0",
            "_view_name": "StyleView",
            "description_width": ""
          }
        },
        "b99153444e224fd68375e0a0190cc23e": {
          "model_module": "@jupyter-widgets/base",
          "model_name": "LayoutModel",
          "model_module_version": "1.2.0",
          "state": {
            "_model_module": "@jupyter-widgets/base",
            "_model_module_version": "1.2.0",
            "_model_name": "LayoutModel",
            "_view_count": null,
            "_view_module": "@jupyter-widgets/base",
            "_view_module_version": "1.2.0",
            "_view_name": "LayoutView",
            "align_content": null,
            "align_items": null,
            "align_self": null,
            "border": null,
            "bottom": null,
            "display": null,
            "flex": null,
            "flex_flow": null,
            "grid_area": null,
            "grid_auto_columns": null,
            "grid_auto_flow": null,
            "grid_auto_rows": null,
            "grid_column": null,
            "grid_gap": null,
            "grid_row": null,
            "grid_template_areas": null,
            "grid_template_columns": null,
            "grid_template_rows": null,
            "height": null,
            "justify_content": null,
            "justify_items": null,
            "left": null,
            "margin": null,
            "max_height": null,
            "max_width": null,
            "min_height": null,
            "min_width": null,
            "object_fit": null,
            "object_position": null,
            "order": null,
            "overflow": null,
            "overflow_x": null,
            "overflow_y": null,
            "padding": null,
            "right": null,
            "top": null,
            "visibility": null,
            "width": null
          }
        },
        "2eed9ce59db24163b7eed16755d71300": {
          "model_module": "@jupyter-widgets/controls",
          "model_name": "ProgressStyleModel",
          "model_module_version": "1.5.0",
          "state": {
            "_model_module": "@jupyter-widgets/controls",
            "_model_module_version": "1.5.0",
            "_model_name": "ProgressStyleModel",
            "_view_count": null,
            "_view_module": "@jupyter-widgets/base",
            "_view_module_version": "1.2.0",
            "_view_name": "StyleView",
            "bar_color": null,
            "description_width": ""
          }
        }
      }
    }
  },
  "nbformat": 4,
  "nbformat_minor": 0
}