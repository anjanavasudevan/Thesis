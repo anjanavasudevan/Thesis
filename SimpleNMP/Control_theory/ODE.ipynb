{
 "cells": [
  {
   "cell_type": "markdown",
   "metadata": {},
   "source": [
    "# Ordinary differential equations with Python\n"
   ]
  },
  {
   "cell_type": "markdown",
   "metadata": {},
   "source": [
    "## Example 1 - Simple ODE\n",
    "\n",
    "$$\n",
    "\\dot{x} = Ax\n",
    "$$\n",
    "\n",
    "where $\\dot{x} = \\frac{dx}{dt}, A = \\frac{-1}{T}$\n",
    "\n",
    "The solution is:\n",
    "$$\n",
    "x = e^{-At}x_0\n",
    "$$"
   ]
  },
  {
   "cell_type": "code",
   "execution_count": 1,
   "metadata": {},
   "outputs": [],
   "source": [
    "# import the dependencies\n",
    "import numpy as np\n",
    "import matplotlib.pyplot as plt\n",
    "import math \n",
    "\n",
    "from scipy.integrate import odeint\n",
    "\n",
    "# Plotting\n",
    "import matplotlib.pyplot as plt\n",
    "%matplotlib inline\n"
   ]
  },
  {
   "cell_type": "code",
   "execution_count": 2,
   "metadata": {},
   "outputs": [
    {
     "name": "stdout",
     "output_type": "stream",
     "text": [
      "[[1.        ]\n",
      " [0.81873077]\n",
      " [0.67032006]\n",
      " [0.54881165]\n",
      " [0.44932898]\n",
      " [0.36787947]\n",
      " [0.30119421]\n",
      " [0.24659696]\n",
      " [0.20189652]\n",
      " [0.16529888]\n",
      " [0.13533527]\n",
      " [0.11080315]\n",
      " [0.09071794]\n",
      " [0.07427357]\n",
      " [0.06081005]\n",
      " [0.04978706]\n",
      " [0.0407622 ]\n",
      " [0.03337327]\n",
      " [0.02732372]\n",
      " [0.02237077]\n",
      " [0.01831564]\n",
      " [0.01499558]\n",
      " [0.01227734]\n",
      " [0.01005184]\n",
      " [0.00822975]]\n"
     ]
    },
    {
     "data": {
      "text/plain": [
       "[<matplotlib.lines.Line2D at 0x27e924d29a0>]"
      ]
     },
     "execution_count": 2,
     "metadata": {},
     "output_type": "execute_result"
    },
    {
     "data": {
      "image/png": "[encoded data removed]",
      "text/plain": [
       "<Figure size 432x288 with 1 Axes>"
      ]
     },
     "metadata": {
      "needs_background": "light"
     },
     "output_type": "display_data"
    }
   ],
   "source": [
    "# Example 1\n",
    "\n",
    "# Parameters\n",
    "T = 5\n",
    "A = -1/T\n",
    "\n",
    "x0 = 1\n",
    "tstart = 0\n",
    "tend = 25\n",
    "t = np.arange(tstart, tend, 1)\n",
    "x0 = 1\n",
    "\n",
    "# Return the differential\n",
    "def derivative_p1(x, t, a):\n",
    "    dx_dt = a*x\n",
    "    return dx_dt\n",
    "\n",
    "# Solve the ODE\n",
    "x = odeint(derivative_p1, x0, t, args=(A,))\n",
    "print(x)\n",
    "\n",
    "# Plot the ODE\n",
    "plt.plot(t, x)"
   ]
  },
  {
   "cell_type": "markdown",
   "metadata": {},
   "source": [
    "## Multiple order equations\n",
    "\n",
    "Given the equations:\n",
    "\n",
    "$$\n",
    "\\frac{dx}{dt} = -y \\\\\n",
    "\\frac{dy}{dt} = x\n",
    "$$\n",
    "\n",
    "With initial conditions\n",
    "$$\n",
    "x(0) = 1, y(0) = 1\n",
    "$$"
   ]
  },
  {
   "cell_type": "code",
   "execution_count": 6,
   "metadata": {},
   "outputs": [
    {
     "name": "stdout",
     "output_type": "stream",
     "text": [
      "[[ 1.          1.        ]\n",
      " [ 0.89517069  1.09483755]\n",
      " [ 0.78139719  1.17873587]\n",
      " [ 0.65981621  1.25085666]\n",
      " [ 0.5316426   1.31047928]\n",
      " [ 0.39815697  1.35700803]\n",
      " [ 0.2606931   1.38997801]\n",
      " [ 0.12062446  1.40905978]\n",
      " [-0.02064941  1.41406269]\n",
      " [-0.16171695  1.40493678]\n",
      " [-0.30116868  1.3817732 ]\n",
      " [-0.43761122  1.34480339]\n",
      " [-0.5696813   1.29439676]\n",
      " [-0.69605932  1.23105693]\n",
      " [-0.81548254  1.1554168 ]\n",
      " [-0.92675772  1.06823212]\n",
      " [-1.02877306  0.97037402]\n",
      " [-1.12050923  0.86282027]\n",
      " [-1.20104964  0.7466455 ]\n",
      " [-1.26958956  0.62301049]\n",
      " [-1.32544417  0.49315057]\n",
      " [-1.36805537  0.35836326]\n",
      " [-1.39699742  0.2199953 ]\n",
      " [-1.41198113  0.07942922]\n",
      " [-1.4128568  -0.0619305 ]\n",
      " [-1.39961568 -0.20267143]\n",
      " [-1.37239005 -0.34138733]\n",
      " [-1.33145196 -0.47669221]\n",
      " [-1.27721043 -0.60723413]\n",
      " [-1.21020744 -0.73170877]\n",
      " [-1.13111246 -0.84887242]\n",
      " [-1.04071578 -0.95755442]\n",
      " [-0.93992061 -1.05666885]\n",
      " [-0.82973406 -1.14522539]\n",
      " [-0.71125708 -1.22233922]\n",
      " [-0.58567346 -1.28723984]\n",
      " [-0.45423798 -1.33927879]\n",
      " [-0.31826391 -1.3779361 ]\n",
      " [-0.17910984 -1.40282554]\n",
      " [-0.03816617 -1.4136984 ]\n",
      " [ 0.10315884 -1.41044606]\n",
      " [ 0.24345312 -1.393101  ]\n",
      " [ 0.3813149  -1.36183655]\n",
      " [ 0.51536671 -1.31696507]\n",
      " [ 0.64426915 -1.25893491]\n",
      " [ 0.76673426 -1.18832589]\n",
      " [ 0.88153841 -1.10584351]\n",
      " [ 0.98753453 -1.01231191]\n",
      " [ 1.08366352 -0.90866562]\n",
      " [ 1.16896491 -0.79594025]\n",
      " [ 1.24258639 -0.6752621 ]\n",
      " [ 1.30379235 -0.54783696]\n",
      " [ 1.35197125 -0.41493802]\n",
      " [ 1.38664171 -0.27789315]\n",
      " [ 1.40745731 -0.13807166]\n",
      " [ 1.41421005  0.0031294 ]\n",
      " [ 1.40683247  0.14429919]\n",
      " [ 1.38539829  0.28402718]\n",
      " [ 1.35012167  0.42091728]\n",
      " [ 1.30135507  0.5536017 ]\n",
      " [ 1.23958577  0.68075472]\n",
      " [ 1.16543094  0.80110587]\n",
      " [ 1.0796315   0.91345263]\n",
      " [ 0.98304475  1.01667247]\n",
      " [ 0.87663573  1.10973406]\n",
      " [ 0.76146766  1.19170755]\n",
      " [ 0.63869126  1.2617739 ]\n",
      " [ 0.50953327  1.31923302]\n",
      " [ 0.37528419  1.3635108 ]\n",
      " [ 0.23728539  1.39416484]\n",
      " [ 0.09691572  1.41088884]\n",
      " [-0.04442231  1.4135157 ]\n",
      " [-0.18531648  1.40201918]\n",
      " [-0.32435904  1.37651416]\n",
      " [-0.4601607   1.33725545]\n",
      " [-0.5913646   1.28463534]\n",
      " [-0.71665977  1.21917957]\n",
      " [-0.83479432  1.14154216]\n",
      " [-0.94458788  1.05249884]\n",
      " [-1.04494344  0.9529393 ]\n",
      " [-1.13485826  0.8438583 ]\n",
      " [-1.21343396  0.72634576]\n",
      " [-1.27988542  0.6015758 ]\n",
      " [-1.3335487   0.47079509]\n",
      " [-1.3738876   0.33531036]\n",
      " [-1.40049907  0.19647531]\n",
      " [-1.41311721  0.05567715]\n",
      " [-1.41161596 -0.08567732]\n",
      " [-1.3960103  -0.22617573]\n",
      " [-1.36645617 -0.36441428]\n",
      " [-1.32324886 -0.49901171]\n",
      " [-1.26682008 -0.62862318]\n",
      " [-1.19773366 -0.75195366]\n",
      " [-1.11667987 -0.86777087]\n",
      " [-1.0244686  -0.9749176 ]\n",
      " [-0.92202117 -1.07232327]\n",
      " [-0.8103612  -1.15901464]\n",
      " [-0.69060438 -1.23412553]\n",
      " [-0.56394727 -1.29690543]\n",
      " [-0.43165538 -1.34672709]\n",
      " [-0.29505054 -1.3830927 ]\n",
      " [-0.15549764 -1.4056389 ]\n",
      " [-0.01439107 -1.41414043]\n",
      " [ 0.12685929 -1.40851233]\n",
      " [ 0.26684212 -1.38881084]\n",
      " [ 0.40415876 -1.35523282]\n",
      " [ 0.53743717 -1.30811375]\n",
      " [ 0.66534569 -1.24792445]\n",
      " [ 0.78660629 -1.17526629]\n",
      " [ 0.90000739 -1.09086527]]\n"
     ]
    }
   ],
   "source": [
    "# The intial conditions - in form of [x, y]\n",
    "z0 = [1, 1]\n",
    "tstart = -5\n",
    "tend = 5\n",
    "step = 0.1\n",
    "t = np.arange(tstart, tend+1, step)\n",
    "\n",
    "# The differential\n",
    "def multiorder_diff(z, t):\n",
    "    # x wrt t\n",
    "    dxdt = -z[-1]\n",
    "\n",
    "    # y wrt t\n",
    "    dydt = z[0]\n",
    "\n",
    "    dzdt = [dxdt, dydt]\n",
    "    return dzdt\n",
    "\n",
    "# Solve the equation\n",
    "z = odeint(multiorder_diff, z0, t)\n",
    "print(z)"
   ]
  },
  {
   "cell_type": "code",
   "execution_count": 4,
   "metadata": {},
   "outputs": [],
   "source": [
    "import plotly.graph_objs as go\n",
    "import plotly.offline as py"
   ]
  },
  {
   "cell_type": "code",
   "execution_count": 7,
   "metadata": {},
   "outputs": [
    {
     "data": {
      "application/vnd.plotly.v1+json": {
       "config": {
        "linkText": "Export to plot.ly",
        "plotlyServerURL": "https://plot.ly",
        "showLink": false
       },
       "data": [
        {
         "name": "x(t)",
         "type": "scatter",
         "x": [
          -5,
          -4.9,
          -4.800000000000001,
          -4.700000000000001,
          -4.600000000000001,
          -4.500000000000002,
          -4.400000000000002,
          -4.3000000000000025,
          -4.200000000000003,
          -4.100000000000003,
          -4.0000000000000036,
          -3.900000000000004,
          -3.8000000000000043,
          -3.7000000000000046,
          -3.600000000000005,
          -3.5000000000000053,
          -3.4000000000000057,
          -3.300000000000006,
          -3.2000000000000064,
          -3.1000000000000068,
          -3.000000000000007,
          -2.9000000000000075,
          -2.800000000000008,
          -2.700000000000008,
          -2.6000000000000085,
          -2.500000000000009,
          -2.4000000000000092,
          -2.3000000000000096,
          -2.20000000000001,
          -2.1000000000000103,
          -2.0000000000000107,
          -1.900000000000011,
          -1.8000000000000114,
          -1.7000000000000117,
          -1.600000000000012,
          -1.5000000000000124,
          -1.4000000000000128,
          -1.3000000000000131,
          -1.2000000000000135,
          -1.1000000000000139,
          -1.0000000000000142,
          -0.9000000000000146,
          -0.8000000000000149,
          -0.7000000000000153,
          -0.6000000000000156,
          -0.500000000000016,
          -0.40000000000001634,
          -0.3000000000000167,
          -0.20000000000001705,
          -0.10000000000001741,
          -1.7763568394002505e-14,
          0.09999999999998188,
          0.19999999999998153,
          0.29999999999998117,
          0.3999999999999808,
          0.49999999999998046,
          0.5999999999999801,
          0.6999999999999797,
          0.7999999999999794,
          0.899999999999979,
          0.9999999999999787,
          1.0999999999999783,
          1.199999999999978,
          1.2999999999999776,
          1.3999999999999773,
          1.499999999999977,
          1.5999999999999766,
          1.6999999999999762,
          1.7999999999999758,
          1.8999999999999755,
          1.9999999999999751,
          2.0999999999999748,
          2.1999999999999744,
          2.299999999999974,
          2.3999999999999737,
          2.4999999999999734,
          2.599999999999973,
          2.6999999999999726,
          2.7999999999999723,
          2.899999999999972,
          2.9999999999999716,
          3.0999999999999712,
          3.199999999999971,
          3.2999999999999705,
          3.39999999999997,
          3.49999999999997,
          3.5999999999999694,
          3.699999999999969,
          3.7999999999999687,
          3.8999999999999684,
          3.999999999999968,
          4.099999999999968,
          4.199999999999967,
          4.299999999999967,
          4.399999999999967,
          4.499999999999966,
          4.599999999999966,
          4.6999999999999655,
          4.799999999999965,
          4.899999999999965,
          4.9999999999999645,
          5.099999999999964,
          5.199999999999964,
          5.299999999999963,
          5.399999999999963,
          5.499999999999963,
          5.599999999999962,
          5.699999999999962,
          5.799999999999962,
          5.899999999999961
         ],
         "y": [
          1,
          0.8951706926856712,
          0.7813971863532359,
          0.6598162057291739,
          0.5316425951980354,
          0.39815697324319277,
          0.2606930975082237,
          0.12062446249940835,
          -0.02064940934988531,
          -0.1617169516489682,
          -0.30116867531002234,
          -0.43761122224776444,
          -0.5696813036520658,
          -0.6960593175075658,
          -0.8154825371419041,
          -0.9267577244685243,
          -1.0287730555835757,
          -1.120509226797732,
          -1.2010496407676834,
          -1.2695895642385955,
          -1.3254441689873087,
          -1.3680553742788635,
          -1.396997422308892,
          -1.411981132567677,
          -1.4128568042657066,
          -1.399615675037059,
          -1.3723900498345332,
          -1.331451956930571,
          -1.2772104326201612,
          -1.2102074439072812,
          -1.1311124635703573,
          -1.040715780098829,
          -0.9399206083234604,
          -0.8297340609174404,
          -0.7112570830669286,
          -0.5856734604558006,
          -0.45423798155916717,
          -0.31826390667149834,
          -0.1791098442796823,
          -0.03816617496033652,
          0.10315883824166752,
          0.24345312261552196,
          0.3813149040750565,
          0.5153667132911427,
          0.6442691487706121,
          0.7667342590780182,
          0.8815384131075796,
          0.9875345265083193,
          1.0836635215764143,
          1.1689649092924392,
          1.2425863864317548,
          1.3037923507007971,
          1.351971252718352,
          1.3866417126105621,
          1.4074573053165214,
          1.4142100491701632,
          1.4068324732343072,
          1.385398291084201,
          1.3501216676669914,
          1.3013550741620497,
          1.2395857710331646,
          1.16543093698246,
          1.0796315019745142,
          0.9830447455665634,
          0.8766357309877466,
          0.7614676620256823,
          0.6386912629777829,
          0.5095332700567734,
          0.3752841900339908,
          0.23728539262449672,
          0.0969157178064705,
          -0.044422308090944974,
          -0.1853164824226564,
          -0.32435903584903414,
          -0.46016070303802387,
          -0.591364597297466,
          -0.7166597732195022,
          -0.8347943225137331,
          -0.9445878841304759,
          -1.0449434372616195,
          -1.1348582609450262,
          -1.2134339585267662,
          -1.279885424746544,
          -1.3335486996887442,
          -1.373887599310651,
          -1.4004990663044503,
          -1.4131172120141782,
          -1.4116159578965153,
          -1.396010300263069,
          -1.366456165643542,
          -1.3232488567893677,
          -1.2668200795343278,
          -1.197733656443803,
          -1.1166798737601873,
          -1.0244685953736588,
          -0.9220211650619478,
          -0.8103612041072401,
          -0.6906043818227849,
          -0.5639472687762311,
          -0.43165538100194795,
          -0.29505053536705417,
          -0.15549764380980974,
          -0.014391069831737963,
          0.12685929481368508,
          0.26684212392330575,
          0.4041587558954409,
          0.5374371679476674,
          0.6653456862842975,
          0.786606291090082,
          0.900007387286101
         ]
        },
        {
         "name": "y(t)",
         "type": "scatter",
         "x": [
          -5,
          -4.9,
          -4.800000000000001,
          -4.700000000000001,
          -4.600000000000001,
          -4.500000000000002,
          -4.400000000000002,
          -4.3000000000000025,
          -4.200000000000003,
          -4.100000000000003,
          -4.0000000000000036,
          -3.900000000000004,
          -3.8000000000000043,
          -3.7000000000000046,
          -3.600000000000005,
          -3.5000000000000053,
          -3.4000000000000057,
          -3.300000000000006,
          -3.2000000000000064,
          -3.1000000000000068,
          -3.000000000000007,
          -2.9000000000000075,
          -2.800000000000008,
          -2.700000000000008,
          -2.6000000000000085,
          -2.500000000000009,
          -2.4000000000000092,
          -2.3000000000000096,
          -2.20000000000001,
          -2.1000000000000103,
          -2.0000000000000107,
          -1.900000000000011,
          -1.8000000000000114,
          -1.7000000000000117,
          -1.600000000000012,
          -1.5000000000000124,
          -1.4000000000000128,
          -1.3000000000000131,
          -1.2000000000000135,
          -1.1000000000000139,
          -1.0000000000000142,
          -0.9000000000000146,
          -0.8000000000000149,
          -0.7000000000000153,
          -0.6000000000000156,
          -0.500000000000016,
          -0.40000000000001634,
          -0.3000000000000167,
          -0.20000000000001705,
          -0.10000000000001741,
          -1.7763568394002505e-14,
          0.09999999999998188,
          0.19999999999998153,
          0.29999999999998117,
          0.3999999999999808,
          0.49999999999998046,
          0.5999999999999801,
          0.6999999999999797,
          0.7999999999999794,
          0.899999999999979,
          0.9999999999999787,
          1.0999999999999783,
          1.199999999999978,
          1.2999999999999776,
          1.3999999999999773,
          1.499999999999977,
          1.5999999999999766,
          1.6999999999999762,
          1.7999999999999758,
          1.8999999999999755,
          1.9999999999999751,
          2.0999999999999748,
          2.1999999999999744,
          2.299999999999974,
          2.3999999999999737,
          2.4999999999999734,
          2.599999999999973,
          2.6999999999999726,
          2.7999999999999723,
          2.899999999999972,
          2.9999999999999716,
          3.0999999999999712,
          3.199999999999971,
          3.2999999999999705,
          3.39999999999997,
          3.49999999999997,
          3.5999999999999694,
          3.699999999999969,
          3.7999999999999687,
          3.8999999999999684,
          3.999999999999968,
          4.099999999999968,
          4.199999999999967,
          4.299999999999967,
          4.399999999999967,
          4.499999999999966,
          4.599999999999966,
          4.6999999999999655,
          4.799999999999965,
          4.899999999999965,
          4.9999999999999645,
          5.099999999999964,
          5.199999999999964,
          5.299999999999963,
          5.399999999999963,
          5.499999999999963,
          5.599999999999962,
          5.699999999999962,
          5.799999999999962,
          5.899999999999961
         ],
         "y": [
          1,
          1.0948375522360685,
          1.178735867839727,
          1.2508566602645688,
          1.3104792778323293,
          1.3570080304314869,
          1.389978009713489,
          1.4090597824987157,
          1.4140626937702265,
          1.404936781703071,
          1.3817732006122392,
          1.3448033939829571,
          1.2943967553201896,
          1.2310569333252381,
          1.1554167977567742,
          1.0682321203167993,
          0.9703740211953648,
          0.8628202661285125,
          0.7466454966131917,
          0.6230104925093456,
          0.49315057387908445,
          0.3583632580674072,
          0.21999529725256697,
          0.07942922297637811,
          -0.06193049708187873,
          -0.20267142742218824,
          -0.34138733457312037,
          -0.4766922107564378,
          -0.6072341336836431,
          -0.7317087738577366,
          -0.8488724228542496,
          -0.9575544192227075,
          -1.056668848525653,
          -1.145225392529747,
          -1.2223392224755254,
          -1.2872398433382721,
          -1.3392787891821243,
          -1.377936104220956,
          -1.4028255374574663,
          -1.4136984017494878,
          -1.4104460586971979,
          -1.3931010049555905,
          -1.361836546673262,
          -1.3169650679025096,
          -1.258934908710943,
          -1.1883258887368624,
          -1.10584350949197,
          -1.0123119079508338,
          -0.9086656208746305,
          -0.7959402477125405,
          -0.6752621030850852,
          -0.5478369643281008,
          -0.41493802152483855,
          -0.2778931479280203,
          -0.1380716575960849,
          0.00312939863639905,
          0.14429918651894935,
          0.28402718382650544,
          0.42091727593346356,
          0.5536017018841946,
          0.6807547228161294,
          0.801105867847048,
          0.9134526281937454,
          1.0166724718936548,
          1.1097340605508712,
          1.19170755369905,
          1.2617739019345837,
          1.3192330219529924,
          1.3635108045776356,
          1.394164836717655,
          1.4108888359651446,
          1.4135157021681117,
          1.4020191844999033,
          1.3765141574034918,
          1.3372554548723192,
          1.2846353372340449,
          1.2191795704177624,
          1.1415421611163763,
          1.052498841391208,
          0.9529393011223272,
          0.8438583040484068,
          0.7263457556290766,
          0.6015757978373324,
          0.4707950932699536,
          0.33531036007613346,
          0.19647531389673706,
          0.055677151676319314,
          -0.08567731970096783,
          -0.22617573353753873,
          -0.36441427541014554,
          -0.4990117089096488,
          -0.6286231840838937,
          -0.7519536629840969,
          -0.8677708704612584,
          -0.974917597633454,
          -1.0723232709127142,
          -1.159014644384409,
          -1.2341255267571731,
          -1.2969054348830589,
          -1.3467270926115185,
          -1.3830926986701182,
          -1.4056389029924266,
          -1.414140426863228,
          -1.4085123289178099,
          -1.3888108421600744,
          -1.3552328150341166,
          -1.3081137513923842,
          -1.247924446864492,
          -1.1752662929418554,
          -1.0908652683815634
         ]
        }
       ],
       "layout": {
        "template": {
         "data": {
          "bar": [
           {
            "error_x": {
             "color": "#2a3f5f"
            },
            "error_y": {
             "color": "#2a3f5f"
            },
            "marker": {
             "line": {
              "color": "#E5ECF6",
              "width": 0.5
             },
             "pattern": {
              "fillmode": "overlay",
              "size": 10,
              "solidity": 0.2
             }
            },
            "type": "bar"
           }
          ],
          "barpolar": [
           {
            "marker": {
             "line": {
              "color": "#E5ECF6",
              "width": 0.5
             },
             "pattern": {
              "fillmode": "overlay",
              "size": 10,
              "solidity": 0.2
             }
            },
            "type": "barpolar"
           }
          ],
          "carpet": [
           {
            "aaxis": {
             "endlinecolor": "#2a3f5f",
             "gridcolor": "white",
             "linecolor": "white",
             "minorgridcolor": "white",
             "startlinecolor": "#2a3f5f"
            },
            "baxis": {
             "endlinecolor": "#2a3f5f",
             "gridcolor": "white",
             "linecolor": "white",
             "minorgridcolor": "white",
             "startlinecolor": "#2a3f5f"
            },
            "type": "carpet"
           }
          ],
          "choropleth": [
           {
            "colorbar": {
             "outlinewidth": 0,
             "ticks": ""
            },
            "type": "choropleth"
           }
          ],
          "contour": [
           {
            "colorbar": {
             "outlinewidth": 0,
             "ticks": ""
            },
            "colorscale": [
             [
              0,
              "#0d0887"
             ],
             [
              0.1111111111111111,
              "#46039f"
             ],
             [
              0.2222222222222222,
              "#7201a8"
             ],
             [
              0.3333333333333333,
              "#9c179e"
             ],
             [
              0.4444444444444444,
              "#bd3786"
             ],
             [
              0.5555555555555556,
              "#d8576b"
             ],
             [
              0.6666666666666666,
              "#ed7953"
             ],
             [
              0.7777777777777778,
              "#fb9f3a"
             ],
             [
              0.8888888888888888,
              "#fdca26"
             ],
             [
              1,
              "#f0f921"
             ]
            ],
            "type": "contour"
           }
          ],
          "contourcarpet": [
           {
            "colorbar": {
             "outlinewidth": 0,
             "ticks": ""
            },
            "type": "contourcarpet"
           }
          ],
          "heatmap": [
           {
            "colorbar": {
             "outlinewidth": 0,
             "ticks": ""
            },
            "colorscale": [
             [
              0,
              "#0d0887"
             ],
             [
              0.1111111111111111,
              "#46039f"
             ],
             [
              0.2222222222222222,
              "#7201a8"
             ],
             [
              0.3333333333333333,
              "#9c179e"
             ],
             [
              0.4444444444444444,
              "#bd3786"
             ],
             [
              0.5555555555555556,
              "#d8576b"
             ],
             [
              0.6666666666666666,
              "#ed7953"
             ],
             [
              0.7777777777777778,
              "#fb9f3a"
             ],
             [
              0.8888888888888888,
              "#fdca26"
             ],
             [
              1,
              "#f0f921"
             ]
            ],
            "type": "heatmap"
           }
          ],
          "heatmapgl": [
           {
            "colorbar": {
             "outlinewidth": 0,
             "ticks": ""
            },
            "colorscale": [
             [
              0,
              "#0d0887"
             ],
             [
              0.1111111111111111,
              "#46039f"
             ],
             [
              0.2222222222222222,
              "#7201a8"
             ],
             [
              0.3333333333333333,
              "#9c179e"
             ],
             [
              0.4444444444444444,
              "#bd3786"
             ],
             [
              0.5555555555555556,
              "#d8576b"
             ],
             [
              0.6666666666666666,
              "#ed7953"
             ],
             [
              0.7777777777777778,
              "#fb9f3a"
             ],
             [
              0.8888888888888888,
              "#fdca26"
             ],
             [
              1,
              "#f0f921"
             ]
            ],
            "type": "heatmapgl"
           }
          ],
          "histogram": [
           {
            "marker": {
             "pattern": {
              "fillmode": "overlay",
              "size": 10,
              "solidity": 0.2
             }
            },
            "type": "histogram"
           }
          ],
          "histogram2d": [
           {
            "colorbar": {
             "outlinewidth": 0,
             "ticks": ""
            },
            "colorscale": [
             [
              0,
              "#0d0887"
             ],
             [
              0.1111111111111111,
              "#46039f"
             ],
             [
              0.2222222222222222,
              "#7201a8"
             ],
             [
              0.3333333333333333,
              "#9c179e"
             ],
             [
              0.4444444444444444,
              "#bd3786"
             ],
             [
              0.5555555555555556,
              "#d8576b"
             ],
             [
              0.6666666666666666,
              "#ed7953"
             ],
             [
              0.7777777777777778,
              "#fb9f3a"
             ],
             [
              0.8888888888888888,
              "#fdca26"
             ],
             [
              1,
              "#f0f921"
             ]
            ],
            "type": "histogram2d"
           }
          ],
          "histogram2dcontour": [
           {
            "colorbar": {
             "outlinewidth": 0,
             "ticks": ""
            },
            "colorscale": [
             [
              0,
              "#0d0887"
             ],
             [
              0.1111111111111111,
              "#46039f"
             ],
             [
              0.2222222222222222,
              "#7201a8"
             ],
             [
              0.3333333333333333,
              "#9c179e"
             ],
             [
              0.4444444444444444,
              "#bd3786"
             ],
             [
              0.5555555555555556,
              "#d8576b"
             ],
             [
              0.6666666666666666,
              "#ed7953"
             ],
             [
              0.7777777777777778,
              "#fb9f3a"
             ],
             [
              0.8888888888888888,
              "#fdca26"
             ],
             [
              1,
              "#f0f921"
             ]
            ],
            "type": "histogram2dcontour"
           }
          ],
          "mesh3d": [
           {
            "colorbar": {
             "outlinewidth": 0,
             "ticks": ""
            },
            "type": "mesh3d"
           }
          ],
          "parcoords": [
           {
            "line": {
             "colorbar": {
              "outlinewidth": 0,
              "ticks": ""
             }
            },
            "type": "parcoords"
           }
          ],
          "pie": [
           {
            "automargin": true,
            "type": "pie"
           }
          ],
          "scatter": [
           {
            "marker": {
             "colorbar": {
              "outlinewidth": 0,
              "ticks": ""
             }
            },
            "type": "scatter"
           }
          ],
          "scatter3d": [
           {
            "line": {
             "colorbar": {
              "outlinewidth": 0,
              "ticks": ""
             }
            },
            "marker": {
             "colorbar": {
              "outlinewidth": 0,
              "ticks": ""
             }
            },
            "type": "scatter3d"
           }
          ],
          "scattercarpet": [
           {
            "marker": {
             "colorbar": {
              "outlinewidth": 0,
              "ticks": ""
             }
            },
            "type": "scattercarpet"
           }
          ],
          "scattergeo": [
           {
            "marker": {
             "colorbar": {
              "outlinewidth": 0,
              "ticks": ""
             }
            },
            "type": "scattergeo"
           }
          ],
          "scattergl": [
           {
            "marker": {
             "colorbar": {
              "outlinewidth": 0,
              "ticks": ""
             }
            },
            "type": "scattergl"
           }
          ],
          "scattermapbox": [
           {
            "marker": {
             "colorbar": {
              "outlinewidth": 0,
              "ticks": ""
             }
            },
            "type": "scattermapbox"
           }
          ],
          "scatterpolar": [
           {
            "marker": {
             "colorbar": {
              "outlinewidth": 0,
              "ticks": ""
             }
            },
            "type": "scatterpolar"
           }
          ],
          "scatterpolargl": [
           {
            "marker": {
             "colorbar": {
              "outlinewidth": 0,
              "ticks": ""
             }
            },
            "type": "scatterpolargl"
           }
          ],
          "scatterternary": [
           {
            "marker": {
             "colorbar": {
              "outlinewidth": 0,
              "ticks": ""
             }
            },
            "type": "scatterternary"
           }
          ],
          "surface": [
           {
            "colorbar": {
             "outlinewidth": 0,
             "ticks": ""
            },
            "colorscale": [
             [
              0,
              "#0d0887"
             ],
             [
              0.1111111111111111,
              "#46039f"
             ],
             [
              0.2222222222222222,
              "#7201a8"
             ],
             [
              0.3333333333333333,
              "#9c179e"
             ],
             [
              0.4444444444444444,
              "#bd3786"
             ],
             [
              0.5555555555555556,
              "#d8576b"
             ],
             [
              0.6666666666666666,
              "#ed7953"
             ],
             [
              0.7777777777777778,
              "#fb9f3a"
             ],
             [
              0.8888888888888888,
              "#fdca26"
             ],
             [
              1,
              "#f0f921"
             ]
            ],
            "type": "surface"
           }
          ],
          "table": [
           {
            "cells": {
             "fill": {
              "color": "#EBF0F8"
             },
             "line": {
              "color": "white"
             }
            },
            "header": {
             "fill": {
              "color": "#C8D4E3"
             },
             "line": {
              "color": "white"
             }
            },
            "type": "table"
           }
          ]
         },
         "layout": {
          "annotationdefaults": {
           "arrowcolor": "#2a3f5f",
           "arrowhead": 0,
           "arrowwidth": 1
          },
          "autotypenumbers": "strict",
          "coloraxis": {
           "colorbar": {
            "outlinewidth": 0,
            "ticks": ""
           }
          },
          "colorscale": {
           "diverging": [
            [
             0,
             "#8e0152"
            ],
            [
             0.1,
             "#c51b7d"
            ],
            [
             0.2,
             "#de77ae"
            ],
            [
             0.3,
             "#f1b6da"
            ],
            [
             0.4,
             "#fde0ef"
            ],
            [
             0.5,
             "#f7f7f7"
            ],
            [
             0.6,
             "#e6f5d0"
            ],
            [
             0.7,
             "#b8e186"
            ],
            [
             0.8,
             "#7fbc41"
            ],
            [
             0.9,
             "#4d9221"
            ],
            [
             1,
             "#276419"
            ]
           ],
           "sequential": [
            [
             0,
             "#0d0887"
            ],
            [
             0.1111111111111111,
             "#46039f"
            ],
            [
             0.2222222222222222,
             "#7201a8"
            ],
            [
             0.3333333333333333,
             "#9c179e"
            ],
            [
             0.4444444444444444,
             "#bd3786"
            ],
            [
             0.5555555555555556,
             "#d8576b"
            ],
            [
             0.6666666666666666,
             "#ed7953"
            ],
            [
             0.7777777777777778,
             "#fb9f3a"
            ],
            [
             0.8888888888888888,
             "#fdca26"
            ],
            [
             1,
             "#f0f921"
            ]
           ],
           "sequentialminus": [
            [
             0,
             "#0d0887"
            ],
            [
             0.1111111111111111,
             "#46039f"
            ],
            [
             0.2222222222222222,
             "#7201a8"
            ],
            [
             0.3333333333333333,
             "#9c179e"
            ],
            [
             0.4444444444444444,
             "#bd3786"
            ],
            [
             0.5555555555555556,
             "#d8576b"
            ],
            [
             0.6666666666666666,
             "#ed7953"
            ],
            [
             0.7777777777777778,
             "#fb9f3a"
            ],
            [
             0.8888888888888888,
             "#fdca26"
            ],
            [
             1,
             "#f0f921"
            ]
           ]
          },
          "colorway": [
           "#636efa",
           "#EF553B",
           "#00cc96",
           "#ab63fa",
           "#FFA15A",
           "#19d3f3",
           "#FF6692",
           "#B6E880",
           "#FF97FF",
           "#FECB52"
          ],
          "font": {
           "color": "#2a3f5f"
          },
          "geo": {
           "bgcolor": "white",
           "lakecolor": "white",
           "landcolor": "#E5ECF6",
           "showlakes": true,
           "showland": true,
           "subunitcolor": "white"
          },
          "hoverlabel": {
           "align": "left"
          },
          "hovermode": "closest",
          "mapbox": {
           "style": "light"
          },
          "paper_bgcolor": "white",
          "plot_bgcolor": "#E5ECF6",
          "polar": {
           "angularaxis": {
            "gridcolor": "white",
            "linecolor": "white",
            "ticks": ""
           },
           "bgcolor": "#E5ECF6",
           "radialaxis": {
            "gridcolor": "white",
            "linecolor": "white",
            "ticks": ""
           }
          },
          "scene": {
           "xaxis": {
            "backgroundcolor": "#E5ECF6",
            "gridcolor": "white",
            "gridwidth": 2,
            "linecolor": "white",
            "showbackground": true,
            "ticks": "",
            "zerolinecolor": "white"
           },
           "yaxis": {
            "backgroundcolor": "#E5ECF6",
            "gridcolor": "white",
            "gridwidth": 2,
            "linecolor": "white",
            "showbackground": true,
            "ticks": "",
            "zerolinecolor": "white"
           },
           "zaxis": {
            "backgroundcolor": "#E5ECF6",
            "gridcolor": "white",
            "gridwidth": 2,
            "linecolor": "white",
            "showbackground": true,
            "ticks": "",
            "zerolinecolor": "white"
           }
          },
          "shapedefaults": {
           "line": {
            "color": "#2a3f5f"
           }
          },
          "ternary": {
           "aaxis": {
            "gridcolor": "white",
            "linecolor": "white",
            "ticks": ""
           },
           "baxis": {
            "gridcolor": "white",
            "linecolor": "white",
            "ticks": ""
           },
           "bgcolor": "#E5ECF6",
           "caxis": {
            "gridcolor": "white",
            "linecolor": "white",
            "ticks": ""
           }
          },
          "title": {
           "x": 0.05
          },
          "xaxis": {
           "automargin": true,
           "gridcolor": "white",
           "linecolor": "white",
           "ticks": "",
           "title": {
            "standoff": 15
           },
           "zerolinecolor": "white",
           "zerolinewidth": 2
          },
          "yaxis": {
           "automargin": true,
           "gridcolor": "white",
           "linecolor": "white",
           "ticks": "",
           "title": {
            "standoff": 15
           },
           "zerolinecolor": "white",
           "zerolinewidth": 2
          }
         }
        },
        "title": {
         "text": "Solution to the set of differential equations"
        },
        "xaxis": {
         "title": {
          "text": "t"
         }
        },
        "yaxis": {
         "title": {
          "text": "z(t)"
         }
        }
       }
      }
     },
     "metadata": {},
     "output_type": "display_data"
    }
   ],
   "source": [
    "# Plot the data:\n",
    "x_data = z[:, 0]\n",
    "y_data = z[:, 1]\n",
    "\n",
    "# Plot\n",
    "trace1 = go.Scatter(x=t, y=x_data, name='x(t)')\n",
    "trace2 = go.Scatter(x=t, y=y_data, name='y(t)')\n",
    "\n",
    "data = [trace1, trace2]\n",
    "\n",
    "layout = go.Layout(title='Solution to the set of differential equations', xaxis_title = 't', yaxis_title = 'z(t)')\n",
    "figure = go.Figure(data=data, layout=layout)\n",
    "py.iplot(figure)"
   ]
  },
  {
   "cell_type": "markdown",
   "metadata": {},
   "source": [
    "## Solving higher order differential equations\n",
    "\n",
    "To solve:\n",
    "\n",
    "$$\n",
    "(1+t^2)w''+2tw'+3w = 2\n",
    "$$\n",
    "\n",
    "With initial conditions: $w(t_0) = 0, w'(t_0) = 1$\n",
    "\n",
    "Rewrite in terms of the highest derivative:\n",
    "$$\n",
    "w'' = \\frac{2 - 3w - 2tw'}{1+t^2}\n",
    "$$\n",
    "\n",
    "For solving using ODE, we must supply the equation into systems of first order. Let $w = x_1, and w' = x_2$\n",
    "\n",
    "This results in:\n",
    "$$\n",
    "\\dot{x_1}=x_2 \\\\\n",
    "\\dot{x_2} = \\frac{2-3x_1-2tx_2}{1+t^2}\n",
    "$$\n",
    "\n",
    "The code can now be implemented as follows:"
   ]
  },
  {
   "cell_type": "code",
   "execution_count": 8,
   "metadata": {},
   "outputs": [
    {
     "name": "stdout",
     "output_type": "stream",
     "text": [
      "[[ 0.          1.        ]\n",
      " [ 0.10927935  1.17788681]\n",
      " [ 0.23388103  1.30510208]\n",
      " [ 0.36844573  1.37691523]\n",
      " [ 0.5074666   1.39497232]\n",
      " [ 0.6458654   1.36588005]\n",
      " [ 0.77938549  1.29909945]\n",
      " [ 0.90477298  1.20492542]\n",
      " [ 1.01978093  1.09301113]\n",
      " [ 1.12305875  0.9715432 ]\n",
      " [ 1.21398735  0.84695145]\n",
      " [ 1.29250417  0.72396457]\n",
      " [ 1.35894373  0.6058427 ]\n",
      " [ 1.4139053   0.4946692 ]\n",
      " [ 1.45814958  0.39163453]\n",
      " [ 1.49252208  0.29728094]\n",
      " [ 1.51789849  0.21169891]\n",
      " [ 1.53514742  0.13467745]\n",
      " [ 1.54510606  0.06581494]\n",
      " [ 1.54856534  0.00459876]\n",
      " [ 1.54626177 -0.04953925]\n",
      " [ 1.5388739  -0.09718495]\n",
      " [ 1.52702188 -0.1389171 ]\n",
      " [ 1.51126903 -0.17529168]\n",
      " [ 1.49212462 -0.20683258]\n",
      " [ 1.47004736 -0.23402675]\n",
      " [ 1.44544918 -0.25732235]\n",
      " [ 1.41869916 -0.27712874]\n",
      " [ 1.39012731 -0.29381781]\n",
      " [ 1.36002826 -0.30772598]\n",
      " [ 1.32866466 -0.31915661]\n",
      " [ 1.29627039 -0.32838262]\n",
      " [ 1.26305343 -0.3356491 ]\n",
      " [ 1.22919854 -0.34117582]\n",
      " [ 1.19486967 -0.34515969]\n",
      " [ 1.16021213 -0.34777699]\n",
      " [ 1.12535455 -0.34918548]\n",
      " [ 1.09041061 -0.34952625]\n",
      " [ 1.05548067 -0.34892549]\n",
      " [ 1.02065312 -0.34749605]\n",
      " [ 0.98600571 -0.34533882]\n",
      " [ 0.95160661 -0.34254401]\n",
      " [ 0.91751547 -0.33919229]\n",
      " [ 0.8837843  -0.33535577]\n",
      " [ 0.85045832 -0.33109893]\n",
      " [ 0.8175766  -0.32647943]\n",
      " [ 0.7851728  -0.32154879]\n",
      " [ 0.75327568 -0.31635308]\n",
      " [ 0.72190965 -0.3109335 ]\n",
      " [ 0.69109522 -0.3053268 ]]\n"
     ]
    }
   ],
   "source": [
    "# Initialization:\n",
    "tstart = 0\n",
    "tend = 5\n",
    "step = 0.1\n",
    "\n",
    "# Initializing the condition in form: [x, x']\n",
    "x_0 = [0, 1]\n",
    "\n",
    "# the range of values\n",
    "t = np.arange(tstart, tend, step)\n",
    "\n",
    "# Return dx/dt\n",
    "def differential(x, t):\n",
    "    dx1dt = x[1]\n",
    "    dx2dt = (2-3*x[0]-t*x[1]) / (1 + t**2)\n",
    "    dxdt = [dx1dt, dx2dt]\n",
    "\n",
    "    return dxdt\n",
    "\n",
    "# Solve the equation\n",
    "x = odeint(differential, x_0, t)\n",
    "print(x)\n",
    "\n"
   ]
  },
  {
   "cell_type": "code",
   "execution_count": 10,
   "metadata": {},
   "outputs": [
    {
     "data": {
      "application/vnd.plotly.v1+json": {
       "config": {
        "linkText": "Export to plot.ly",
        "plotlyServerURL": "https://plot.ly",
        "showLink": false
       },
       "data": [
        {
         "name": "x1(t)",
         "type": "scatter",
         "x": [
          0,
          0.1,
          0.2,
          0.30000000000000004,
          0.4,
          0.5,
          0.6000000000000001,
          0.7000000000000001,
          0.8,
          0.9,
          1,
          1.1,
          1.2000000000000002,
          1.3,
          1.4000000000000001,
          1.5,
          1.6,
          1.7000000000000002,
          1.8,
          1.9000000000000001,
          2,
          2.1,
          2.2,
          2.3000000000000003,
          2.4000000000000004,
          2.5,
          2.6,
          2.7,
          2.8000000000000003,
          2.9000000000000004,
          3,
          3.1,
          3.2,
          3.3000000000000003,
          3.4000000000000004,
          3.5,
          3.6,
          3.7,
          3.8000000000000003,
          3.9000000000000004,
          4,
          4.1000000000000005,
          4.2,
          4.3,
          4.4,
          4.5,
          4.6000000000000005,
          4.7,
          4.800000000000001,
          4.9
         ],
         "y": [
          0,
          0.1092793492733021,
          0.23388102993452267,
          0.36844573457578905,
          0.5074666006167731,
          0.6458654002315818,
          0.7793854875101718,
          0.9047729813353922,
          1.0197809307253798,
          1.1230587460909405,
          1.2139873503251613,
          1.2925041661885348,
          1.3589437348499773,
          1.41390530390061,
          1.4581495834094182,
          1.4925220757876885,
          1.5178984862994185,
          1.535147417796159,
          1.5451060608785463,
          1.5485653421124075,
          1.5462617703222135,
          1.5388738972576166,
          1.5270218772714437,
          1.511269029602395,
          1.4921246246328606,
          1.470047363321158,
          1.4454491848972806,
          1.418699159399844,
          1.3901273087215247,
          1.3600282581227485,
          1.3286646645106839,
          1.2962703929889388,
          1.263053429997912,
          1.2291985399497547,
          1.1948696719949146,
          1.1602121338962577,
          1.1253545486180516,
          1.0904106120159387,
          1.0554806687413458,
          1.0206531245357526,
          0.9860057099323217,
          0.9516066064398889,
          0.9175154654499776,
          0.8837843042998641,
          0.8504583177984609,
          0.8175766030862952,
          0.7851728012470932,
          0.7532756788194639,
          0.7219096475291218,
          0.6910952150878518
         ]
        },
        {
         "name": "x2(t)",
         "type": "scatter",
         "x": [
          0,
          0.1,
          0.2,
          0.30000000000000004,
          0.4,
          0.5,
          0.6000000000000001,
          0.7000000000000001,
          0.8,
          0.9,
          1,
          1.1,
          1.2000000000000002,
          1.3,
          1.4000000000000001,
          1.5,
          1.6,
          1.7000000000000002,
          1.8,
          1.9000000000000001,
          2,
          2.1,
          2.2,
          2.3000000000000003,
          2.4000000000000004,
          2.5,
          2.6,
          2.7,
          2.8000000000000003,
          2.9000000000000004,
          3,
          3.1,
          3.2,
          3.3000000000000003,
          3.4000000000000004,
          3.5,
          3.6,
          3.7,
          3.8000000000000003,
          3.9000000000000004,
          4,
          4.1000000000000005,
          4.2,
          4.3,
          4.4,
          4.5,
          4.6000000000000005,
          4.7,
          4.800000000000001,
          4.9
         ],
         "y": [
          1,
          1.1778868061602128,
          1.30510207537669,
          1.3769152267219136,
          1.39497231860953,
          1.365880052499591,
          1.2990994504747961,
          1.2049254233101065,
          1.0930111257136106,
          0.9715431975635567,
          0.8469514466410986,
          0.7239645715621574,
          0.6058426976404201,
          0.49466920174304135,
          0.39163452734098714,
          0.29728093519512516,
          0.2116989123713812,
          0.13467744542321675,
          0.06581494036591587,
          0.004598755003537165,
          -0.049539247828019564,
          -0.09718494656109329,
          -0.13891710362931653,
          -0.17529168209173612,
          -0.20683257646074732,
          -0.23402675175545307,
          -0.2573223498559173,
          -0.27712874174793584,
          -0.29381781219079467,
          -0.30772597849612454,
          -0.3191566099621125,
          -0.32838262396476364,
          -0.3356490983491226,
          -0.34117581768123784,
          -0.3451596883958909,
          -0.34777699492160796,
          -0.34918548017955625,
          -0.34952624998586024,
          -0.34892549296598474,
          -0.347496052066554,
          -0.3453388221112009,
          -0.34254401494476483,
          -0.33919229233105863,
          -0.3353557718574132,
          -0.33109893270636026,
          -0.32647942537872976,
          -0.32154878653466357,
          -0.3163530845414726,
          -0.31093349516822705,
          -0.305326798522757
         ]
        }
       ],
       "layout": {
        "template": {
         "data": {
          "bar": [
           {
            "error_x": {
             "color": "#2a3f5f"
            },
            "error_y": {
             "color": "#2a3f5f"
            },
            "marker": {
             "line": {
              "color": "#E5ECF6",
              "width": 0.5
             },
             "pattern": {
              "fillmode": "overlay",
              "size": 10,
              "solidity": 0.2
             }
            },
            "type": "bar"
           }
          ],
          "barpolar": [
           {
            "marker": {
             "line": {
              "color": "#E5ECF6",
              "width": 0.5
             },
             "pattern": {
              "fillmode": "overlay",
              "size": 10,
              "solidity": 0.2
             }
            },
            "type": "barpolar"
           }
          ],
          "carpet": [
           {
            "aaxis": {
             "endlinecolor": "#2a3f5f",
             "gridcolor": "white",
             "linecolor": "white",
             "minorgridcolor": "white",
             "startlinecolor": "#2a3f5f"
            },
            "baxis": {
             "endlinecolor": "#2a3f5f",
             "gridcolor": "white",
             "linecolor": "white",
             "minorgridcolor": "white",
             "startlinecolor": "#2a3f5f"
            },
            "type": "carpet"
           }
          ],
          "choropleth": [
           {
            "colorbar": {
             "outlinewidth": 0,
             "ticks": ""
            },
            "type": "choropleth"
           }
          ],
          "contour": [
           {
            "colorbar": {
             "outlinewidth": 0,
             "ticks": ""
            },
            "colorscale": [
             [
              0,
              "#0d0887"
             ],
             [
              0.1111111111111111,
              "#46039f"
             ],
             [
              0.2222222222222222,
              "#7201a8"
             ],
             [
              0.3333333333333333,
              "#9c179e"
             ],
             [
              0.4444444444444444,
              "#bd3786"
             ],
             [
              0.5555555555555556,
              "#d8576b"
             ],
             [
              0.6666666666666666,
              "#ed7953"
             ],
             [
              0.7777777777777778,
              "#fb9f3a"
             ],
             [
              0.8888888888888888,
              "#fdca26"
             ],
             [
              1,
              "#f0f921"
             ]
            ],
            "type": "contour"
           }
          ],
          "contourcarpet": [
           {
            "colorbar": {
             "outlinewidth": 0,
             "ticks": ""
            },
            "type": "contourcarpet"
           }
          ],
          "heatmap": [
           {
            "colorbar": {
             "outlinewidth": 0,
             "ticks": ""
            },
            "colorscale": [
             [
              0,
              "#0d0887"
             ],
             [
              0.1111111111111111,
              "#46039f"
             ],
             [
              0.2222222222222222,
              "#7201a8"
             ],
             [
              0.3333333333333333,
              "#9c179e"
             ],
             [
              0.4444444444444444,
              "#bd3786"
             ],
             [
              0.5555555555555556,
              "#d8576b"
             ],
             [
              0.6666666666666666,
              "#ed7953"
             ],
             [
              0.7777777777777778,
              "#fb9f3a"
             ],
             [
              0.8888888888888888,
              "#fdca26"
             ],
             [
              1,
              "#f0f921"
             ]
            ],
            "type": "heatmap"
           }
          ],
          "heatmapgl": [
           {
            "colorbar": {
             "outlinewidth": 0,
             "ticks": ""
            },
            "colorscale": [
             [
              0,
              "#0d0887"
             ],
             [
              0.1111111111111111,
              "#46039f"
             ],
             [
              0.2222222222222222,
              "#7201a8"
             ],
             [
              0.3333333333333333,
              "#9c179e"
             ],
             [
              0.4444444444444444,
              "#bd3786"
             ],
             [
              0.5555555555555556,
              "#d8576b"
             ],
             [
              0.6666666666666666,
              "#ed7953"
             ],
             [
              0.7777777777777778,
              "#fb9f3a"
             ],
             [
              0.8888888888888888,
              "#fdca26"
             ],
             [
              1,
              "#f0f921"
             ]
            ],
            "type": "heatmapgl"
           }
          ],
          "histogram": [
           {
            "marker": {
             "pattern": {
              "fillmode": "overlay",
              "size": 10,
              "solidity": 0.2
             }
            },
            "type": "histogram"
           }
          ],
          "histogram2d": [
           {
            "colorbar": {
             "outlinewidth": 0,
             "ticks": ""
            },
            "colorscale": [
             [
              0,
              "#0d0887"
             ],
             [
              0.1111111111111111,
              "#46039f"
             ],
             [
              0.2222222222222222,
              "#7201a8"
             ],
             [
              0.3333333333333333,
              "#9c179e"
             ],
             [
              0.4444444444444444,
              "#bd3786"
             ],
             [
              0.5555555555555556,
              "#d8576b"
             ],
             [
              0.6666666666666666,
              "#ed7953"
             ],
             [
              0.7777777777777778,
              "#fb9f3a"
             ],
             [
              0.8888888888888888,
              "#fdca26"
             ],
             [
              1,
              "#f0f921"
             ]
            ],
            "type": "histogram2d"
           }
          ],
          "histogram2dcontour": [
           {
            "colorbar": {
             "outlinewidth": 0,
             "ticks": ""
            },
            "colorscale": [
             [
              0,
              "#0d0887"
             ],
             [
              0.1111111111111111,
              "#46039f"
             ],
             [
              0.2222222222222222,
              "#7201a8"
             ],
             [
              0.3333333333333333,
              "#9c179e"
             ],
             [
              0.4444444444444444,
              "#bd3786"
             ],
             [
              0.5555555555555556,
              "#d8576b"
             ],
             [
              0.6666666666666666,
              "#ed7953"
             ],
             [
              0.7777777777777778,
              "#fb9f3a"
             ],
             [
              0.8888888888888888,
              "#fdca26"
             ],
             [
              1,
              "#f0f921"
             ]
            ],
            "type": "histogram2dcontour"
           }
          ],
          "mesh3d": [
           {
            "colorbar": {
             "outlinewidth": 0,
             "ticks": ""
            },
            "type": "mesh3d"
           }
          ],
          "parcoords": [
           {
            "line": {
             "colorbar": {
              "outlinewidth": 0,
              "ticks": ""
             }
            },
            "type": "parcoords"
           }
          ],
          "pie": [
           {
            "automargin": true,
            "type": "pie"
           }
          ],
          "scatter": [
           {
            "marker": {
             "colorbar": {
              "outlinewidth": 0,
              "ticks": ""
             }
            },
            "type": "scatter"
           }
          ],
          "scatter3d": [
           {
            "line": {
             "colorbar": {
              "outlinewidth": 0,
              "ticks": ""
             }
            },
            "marker": {
             "colorbar": {
              "outlinewidth": 0,
              "ticks": ""
             }
            },
            "type": "scatter3d"
           }
          ],
          "scattercarpet": [
           {
            "marker": {
             "colorbar": {
              "outlinewidth": 0,
              "ticks": ""
             }
            },
            "type": "scattercarpet"
           }
          ],
          "scattergeo": [
           {
            "marker": {
             "colorbar": {
              "outlinewidth": 0,
              "ticks": ""
             }
            },
            "type": "scattergeo"
           }
          ],
          "scattergl": [
           {
            "marker": {
             "colorbar": {
              "outlinewidth": 0,
              "ticks": ""
             }
            },
            "type": "scattergl"
           }
          ],
          "scattermapbox": [
           {
            "marker": {
             "colorbar": {
              "outlinewidth": 0,
              "ticks": ""
             }
            },
            "type": "scattermapbox"
           }
          ],
          "scatterpolar": [
           {
            "marker": {
             "colorbar": {
              "outlinewidth": 0,
              "ticks": ""
             }
            },
            "type": "scatterpolar"
           }
          ],
          "scatterpolargl": [
           {
            "marker": {
             "colorbar": {
              "outlinewidth": 0,
              "ticks": ""
             }
            },
            "type": "scatterpolargl"
           }
          ],
          "scatterternary": [
           {
            "marker": {
             "colorbar": {
              "outlinewidth": 0,
              "ticks": ""
             }
            },
            "type": "scatterternary"
           }
          ],
          "surface": [
           {
            "colorbar": {
             "outlinewidth": 0,
             "ticks": ""
            },
            "colorscale": [
             [
              0,
              "#0d0887"
             ],
             [
              0.1111111111111111,
              "#46039f"
             ],
             [
              0.2222222222222222,
              "#7201a8"
             ],
             [
              0.3333333333333333,
              "#9c179e"
             ],
             [
              0.4444444444444444,
              "#bd3786"
             ],
             [
              0.5555555555555556,
              "#d8576b"
             ],
             [
              0.6666666666666666,
              "#ed7953"
             ],
             [
              0.7777777777777778,
              "#fb9f3a"
             ],
             [
              0.8888888888888888,
              "#fdca26"
             ],
             [
              1,
              "#f0f921"
             ]
            ],
            "type": "surface"
           }
          ],
          "table": [
           {
            "cells": {
             "fill": {
              "color": "#EBF0F8"
             },
             "line": {
              "color": "white"
             }
            },
            "header": {
             "fill": {
              "color": "#C8D4E3"
             },
             "line": {
              "color": "white"
             }
            },
            "type": "table"
           }
          ]
         },
         "layout": {
          "annotationdefaults": {
           "arrowcolor": "#2a3f5f",
           "arrowhead": 0,
           "arrowwidth": 1
          },
          "autotypenumbers": "strict",
          "coloraxis": {
           "colorbar": {
            "outlinewidth": 0,
            "ticks": ""
           }
          },
          "colorscale": {
           "diverging": [
            [
             0,
             "#8e0152"
            ],
            [
             0.1,
             "#c51b7d"
            ],
            [
             0.2,
             "#de77ae"
            ],
            [
             0.3,
             "#f1b6da"
            ],
            [
             0.4,
             "#fde0ef"
            ],
            [
             0.5,
             "#f7f7f7"
            ],
            [
             0.6,
             "#e6f5d0"
            ],
            [
             0.7,
             "#b8e186"
            ],
            [
             0.8,
             "#7fbc41"
            ],
            [
             0.9,
             "#4d9221"
            ],
            [
             1,
             "#276419"
            ]
           ],
           "sequential": [
            [
             0,
             "#0d0887"
            ],
            [
             0.1111111111111111,
             "#46039f"
            ],
            [
             0.2222222222222222,
             "#7201a8"
            ],
            [
             0.3333333333333333,
             "#9c179e"
            ],
            [
             0.4444444444444444,
             "#bd3786"
            ],
            [
             0.5555555555555556,
             "#d8576b"
            ],
            [
             0.6666666666666666,
             "#ed7953"
            ],
            [
             0.7777777777777778,
             "#fb9f3a"
            ],
            [
             0.8888888888888888,
             "#fdca26"
            ],
            [
             1,
             "#f0f921"
            ]
           ],
           "sequentialminus": [
            [
             0,
             "#0d0887"
            ],
            [
             0.1111111111111111,
             "#46039f"
            ],
            [
             0.2222222222222222,
             "#7201a8"
            ],
            [
             0.3333333333333333,
             "#9c179e"
            ],
            [
             0.4444444444444444,
             "#bd3786"
            ],
            [
             0.5555555555555556,
             "#d8576b"
            ],
            [
             0.6666666666666666,
             "#ed7953"
            ],
            [
             0.7777777777777778,
             "#fb9f3a"
            ],
            [
             0.8888888888888888,
             "#fdca26"
            ],
            [
             1,
             "#f0f921"
            ]
           ]
          },
          "colorway": [
           "#636efa",
           "#EF553B",
           "#00cc96",
           "#ab63fa",
           "#FFA15A",
           "#19d3f3",
           "#FF6692",
           "#B6E880",
           "#FF97FF",
           "#FECB52"
          ],
          "font": {
           "color": "#2a3f5f"
          },
          "geo": {
           "bgcolor": "white",
           "lakecolor": "white",
           "landcolor": "#E5ECF6",
           "showlakes": true,
           "showland": true,
           "subunitcolor": "white"
          },
          "hoverlabel": {
           "align": "left"
          },
          "hovermode": "closest",
          "mapbox": {
           "style": "light"
          },
          "paper_bgcolor": "white",
          "plot_bgcolor": "#E5ECF6",
          "polar": {
           "angularaxis": {
            "gridcolor": "white",
            "linecolor": "white",
            "ticks": ""
           },
           "bgcolor": "#E5ECF6",
           "radialaxis": {
            "gridcolor": "white",
            "linecolor": "white",
            "ticks": ""
           }
          },
          "scene": {
           "xaxis": {
            "backgroundcolor": "#E5ECF6",
            "gridcolor": "white",
            "gridwidth": 2,
            "linecolor": "white",
            "showbackground": true,
            "ticks": "",
            "zerolinecolor": "white"
           },
           "yaxis": {
            "backgroundcolor": "#E5ECF6",
            "gridcolor": "white",
            "gridwidth": 2,
            "linecolor": "white",
            "showbackground": true,
            "ticks": "",
            "zerolinecolor": "white"
           },
           "zaxis": {
            "backgroundcolor": "#E5ECF6",
            "gridcolor": "white",
            "gridwidth": 2,
            "linecolor": "white",
            "showbackground": true,
            "ticks": "",
            "zerolinecolor": "white"
           }
          },
          "shapedefaults": {
           "line": {
            "color": "#2a3f5f"
           }
          },
          "ternary": {
           "aaxis": {
            "gridcolor": "white",
            "linecolor": "white",
            "ticks": ""
           },
           "baxis": {
            "gridcolor": "white",
            "linecolor": "white",
            "ticks": ""
           },
           "bgcolor": "#E5ECF6",
           "caxis": {
            "gridcolor": "white",
            "linecolor": "white",
            "ticks": ""
           }
          },
          "title": {
           "x": 0.05
          },
          "xaxis": {
           "automargin": true,
           "gridcolor": "white",
           "linecolor": "white",
           "ticks": "",
           "title": {
            "standoff": 15
           },
           "zerolinecolor": "white",
           "zerolinewidth": 2
          },
          "yaxis": {
           "automargin": true,
           "gridcolor": "white",
           "linecolor": "white",
           "ticks": "",
           "title": {
            "standoff": 15
           },
           "zerolinecolor": "white",
           "zerolinewidth": 2
          }
         }
        },
        "title": {
         "text": "Solution to the higher order differential equation"
        },
        "xaxis": {
         "title": {
          "text": "t"
         }
        },
        "yaxis": {
         "title": {
          "text": "x(t)"
         }
        }
       }
      }
     },
     "metadata": {},
     "output_type": "display_data"
    }
   ],
   "source": [
    "# Split up\n",
    "x1 = x[:, 0]\n",
    "x2 = x[:, 1]\n",
    "\n",
    "# Plot the curve\n",
    "trace1 = go.Scatter(x=t, y=x1, name='x1(t)')\n",
    "trace2 = go.Scatter(x=t, y=x2, name='x2(t)')\n",
    "\n",
    "data = [trace1, trace2]\n",
    "\n",
    "layout = go.Layout(title='Solution to the higher order differential equation',\n",
    "                   xaxis_title='t', yaxis_title='x(t)')\n",
    "figure = go.Figure(data=data, layout=layout)\n",
    "py.iplot(figure)"
   ]
  }
 ],
 "metadata": {
  "interpreter": {
   "hash": "c7eb9a86253bbd4d23c13a0227d914c126dc3315e454ce3bc071d1b1b0a46f01"
  },
  "kernelspec": {
   "display_name": "Python 3.8.10 64-bit ('rl': conda)",
   "language": "python",
   "name": "python3"
  },
  "language_info": {
   "codemirror_mode": {
    "name": "ipython",
    "version": 3
   },
   "file_extension": ".py",
   "mimetype": "text/x-python",
   "name": "python",
   "nbconvert_exporter": "python",
   "pygments_lexer": "ipython3",
   "version": "3.8.10"
  },
  "orig_nbformat": 4
 },
 "nbformat": 4,
 "nbformat_minor": 2
}
