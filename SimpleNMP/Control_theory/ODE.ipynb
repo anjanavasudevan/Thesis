{
 "cells": [
  {
   "cell_type": "markdown",
   "metadata": {},
   "source": [
    "# Ordinary differential equations with Python\n"
   ]
  },
  {
   "cell_type": "markdown",
   "metadata": {},
   "source": [
    "## Example 1 - Simple ODE\n",
    "\n",
    "$$\n",
    "\\dot{x} = Ax\n",
    "$$\n",
    "\n",
    "where $\\dot{x} = \\frac{dx}{dt}, A = \\frac{-1}{T}$\n",
    "\n",
    "The solution is:\n",
    "$$\n",
    "x = e^{-At}x_0\n",
    "$$"
   ]
  },
  {
   "cell_type": "code",
   "execution_count": 4,
   "metadata": {},
   "outputs": [],
   "source": [
    "# import the dependencies\n",
    "import numpy as np\n",
    "import matplotlib.pyplot as plt\n",
    "import math "
   ]
  },
  {
   "cell_type": "code",
   "execution_count": 1,
   "metadata": {},
   "outputs": [],
   "source": [
    "from scipy.integrate import odeint"
   ]
  },
  {
   "cell_type": "code",
   "execution_count": 2,
   "metadata": {},
   "outputs": [],
   "source": [
    "import matplotlib.pyplot as plt\n",
    "%matplotlib inline"
   ]
  },
  {
   "cell_type": "code",
   "execution_count": 5,
   "metadata": {},
   "outputs": [
    {
     "name": "stdout",
     "output_type": "stream",
     "text": [
      "[[1.        ]\n",
      " [0.81873077]\n",
      " [0.67032006]\n",
      " [0.54881165]\n",
      " [0.44932898]\n",
      " [0.36787947]\n",
      " [0.30119421]\n",
      " [0.24659696]\n",
      " [0.20189652]\n",
      " [0.16529888]\n",
      " [0.13533527]\n",
      " [0.11080315]\n",
      " [0.09071794]\n",
      " [0.07427357]\n",
      " [0.06081005]\n",
      " [0.04978706]\n",
      " [0.0407622 ]\n",
      " [0.03337327]\n",
      " [0.02732372]\n",
      " [0.02237077]\n",
      " [0.01831564]\n",
      " [0.01499558]\n",
      " [0.01227734]\n",
      " [0.01005184]\n",
      " [0.00822975]]\n"
     ]
    },
    {
     "data": {
      "text/plain": [
       "[<matplotlib.lines.Line2D at 0x223cc2921c0>]"
      ]
     },
     "execution_count": 5,
     "metadata": {},
     "output_type": "execute_result"
    },
    {
     "data": {
      "image/png": "[encoded data removed]",
      "text/plain": [
       "<Figure size 432x288 with 1 Axes>"
      ]
     },
     "metadata": {
      "needs_background": "light"
     },
     "output_type": "display_data"
    }
   ],
   "source": [
    "# Example 1\n",
    "\n",
    "# Parameters\n",
    "T = 5\n",
    "A = -1/T\n",
    "\n",
    "x0 = 1\n",
    "tstart = 0\n",
    "tend = 25\n",
    "t = np.arange(tstart, tend, 1)\n",
    "x0 = 1\n",
    "\n",
    "# Return the differential\n",
    "def derivative_p1(x, t, a):\n",
    "    dx_dt = a*x\n",
    "    return dx_dt\n",
    "\n",
    "# Solve the ODE\n",
    "x = odeint(derivative_p1, x0, t, args=(A,))\n",
    "print(x)\n",
    "\n",
    "# Plot the ODE\n",
    "plt.plot(t, x)"
   ]
  },
  {
   "cell_type": "code",
   "execution_count": null,
   "metadata": {},
   "outputs": [],
   "source": []
  }
 ],
 "metadata": {
  "interpreter": {
   "hash": "c7eb9a86253bbd4d23c13a0227d914c126dc3315e454ce3bc071d1b1b0a46f01"
  },
  "kernelspec": {
   "display_name": "Python 3.8.10 64-bit ('rl': conda)",
   "language": "python",
   "name": "python3"
  },
  "language_info": {
   "codemirror_mode": {
    "name": "ipython",
    "version": 3
   },
   "file_extension": ".py",
   "mimetype": "text/x-python",
   "name": "python",
   "nbconvert_exporter": "python",
   "pygments_lexer": "ipython3",
   "version": "3.8.12"
  },
  "orig_nbformat": 4
 },
 "nbformat": 4,
 "nbformat_minor": 2
}
