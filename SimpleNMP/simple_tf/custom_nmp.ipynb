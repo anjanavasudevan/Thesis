{
 "cells": [
  {
   "cell_type": "markdown",
   "metadata": {},
   "source": [
    "# Custom NMP environment"
   ]
  },
  {
   "cell_type": "code",
   "execution_count": 1,
   "metadata": {},
   "outputs": [],
   "source": [
    "# Importing the dependencies\n",
    "from scipy.integrate import odeint\n",
    "import numpy as np\n",
    "import random\n",
    "import matplotlib.pyplot as plt"
   ]
  },
  {
   "cell_type": "markdown",
   "metadata": {},
   "source": [
    "## Initialize the state space model"
   ]
  },
  {
   "cell_type": "code",
   "execution_count": 2,
   "metadata": {},
   "outputs": [],
   "source": [
    "A = np.array([[-2, -3], [1, 0]])\n",
    "# A@x_init\n",
    "B = np.array([1, 0])\n",
    "C = np.array([-1, 2])\n",
    "D = np.array([0])\n"
   ]
  },
  {
   "cell_type": "code",
   "execution_count": 3,
   "metadata": {},
   "outputs": [
    {
     "data": {
      "text/plain": [
       "(2,)"
      ]
     },
     "execution_count": 3,
     "metadata": {},
     "output_type": "execute_result"
    }
   ],
   "source": [
    "# Set the inputs\n",
    "u0 = np.array([1])\n",
    "x_init = np.array([0, 1])\n",
    "x_init.shape"
   ]
  },
  {
   "cell_type": "markdown",
   "metadata": {},
   "source": [
    "## Verify working using odeint"
   ]
  },
  {
   "cell_type": "code",
   "execution_count": 21,
   "metadata": {},
   "outputs": [],
   "source": [
    "dxdt = A@x_init + B*u0"
   ]
  },
  {
   "cell_type": "code",
   "execution_count": 22,
   "metadata": {},
   "outputs": [],
   "source": [
    "y = C@x_init + D*u0"
   ]
  },
  {
   "cell_type": "code",
   "execution_count": 27,
   "metadata": {},
   "outputs": [],
   "source": [
    "# Defining the differential\n",
    "def differential(x, t, A, B, u):\n",
    "    \"\"\"\n",
    "    Gives the differential output\n",
    "    Output: array of size (2, 1)\n",
    "    \"\"\"\n",
    "    dxdt = A@x + B*u\n",
    "    return dxdt\n"
   ]
  },
  {
   "cell_type": "code",
   "execution_count": 33,
   "metadata": {},
   "outputs": [
    {
     "data": {
      "text/plain": [
       "[<matplotlib.lines.Line2D at 0x21c14438af0>]"
      ]
     },
     "execution_count": 33,
     "metadata": {},
     "output_type": "execute_result"
    },
    {
     "data": {
      "image/png": "[encoded data removed]",
      "text/plain": [
       "<Figure size 432x288 with 1 Axes>"
      ]
     },
     "metadata": {
      "needs_background": "light"
     },
     "output_type": "display_data"
    }
   ],
   "source": [
    "# Verify the response:\n",
    "t = np.arange(0, 25, 0.05)\n",
    "x = odeint(differential, x_init, t, args=(A, B, u0,))\n",
    "y = C@x.T + D*u0\n",
    "plt.plot(t, y)"
   ]
  },
  {
   "cell_type": "code",
   "execution_count": 41,
   "metadata": {},
   "outputs": [
    {
     "name": "stdout",
     "output_type": "stream",
     "text": [
      "Input: 1\n",
      "State: [[0. 1.]]\n",
      "Output: [2.]\n"
     ]
    }
   ],
   "source": [
    "# At a particular time step:\n",
    "t = np.array([0.5])\n",
    "u = 1\n",
    "x = odeint(differential, x_init, t, args=(A, B, u, ))\n",
    "y = C@x.T + D*u\n",
    "print(f\"Input: {u}\\nState: {x}\\nOutput: {y}\")"
   ]
  },
  {
   "cell_type": "code",
   "execution_count": 45,
   "metadata": {},
   "outputs": [
    {
     "data": {
      "text/plain": [
       "2.0"
      ]
     },
     "execution_count": 45,
     "metadata": {},
     "output_type": "execute_result"
    }
   ],
   "source": [
    "y[0]"
   ]
  },
  {
   "cell_type": "markdown",
   "metadata": {},
   "source": [
    "## Rewards\n",
    "\n",
    "Setpoint: 2\n",
    "Termination:\n",
    "1. Output = setpoint for atleast 20 timesteps\n",
    "2. Episode completion\n",
    "3. Large error between output and setpoint\n",
    "\n",
    "Penalty:\n",
    "1. For high error: -5"
   ]
  },
  {
   "cell_type": "code",
   "execution_count": 4,
   "metadata": {},
   "outputs": [],
   "source": [
    "def rewards(out, sp, track, tstep, nsteps):\n",
    "    # Calcualte rewards:\n",
    "    if(out == sp and track == 20):\n",
    "        done = True\n",
    "        reward = 5\n",
    "        return done, reward\n",
    "    elif(abs(out - sp) > 0.5):\n",
    "        done = True\n",
    "        reward = -5\n",
    "        return done, reward\n",
    "    elif(tstep == nsteps):\n",
    "        done = True\n",
    "        reward = 1\n",
    "        return done, reward\n",
    "    else:\n",
    "        done = False\n",
    "        reward = 0\n",
    "        return done, reward\n"
   ]
  },
  {
   "cell_type": "code",
   "execution_count": 6,
   "metadata": {},
   "outputs": [],
   "source": [
    "# Euler's method:\n",
    "# Define prototype for reward function:\n",
    "done = False\n",
    "score = 0\n",
    "\n",
    "t0 = 0\n",
    "tend = 25\n",
    "dt = 0.05\n",
    "nsteps = int(tend / dt)\n",
    "tstep = 0\n",
    "\n",
    "track = 0\n",
    "sp = 1\n",
    "xc = x_init\n",
    "while not done:\n",
    "    # Send an input:\n",
    "    u = np.array([1])\n",
    "    t = tstep * dt \n",
    "\n",
    "    # Calculate x using Euler's method\n",
    "    dxdt = A@xc + B*u\n",
    "    x_next = xc + dxdt*dt\n",
    "\n",
    "    y = C@x_next.T + D*u \n",
    "    out = y[0]\n",
    "\n",
    "    if(out == sp):\n",
    "        track += 1\n",
    "    \n",
    "    # Rewards\n",
    "    done, reward = rewards(out, sp, track, tstep, nsteps)\n",
    "\n",
    "    # Update\n",
    "    score += reward\n",
    "    xc = x_next[0]\n",
    "    tstep += 1\n"
   ]
  },
  {
   "cell_type": "code",
   "execution_count": 7,
   "metadata": {},
   "outputs": [
    {
     "data": {
      "text/plain": [
       "-5"
      ]
     },
     "execution_count": 7,
     "metadata": {},
     "output_type": "execute_result"
    }
   ],
   "source": [
    "score"
   ]
  }
 ],
 "metadata": {
  "interpreter": {
   "hash": "c7eb9a86253bbd4d23c13a0227d914c126dc3315e454ce3bc071d1b1b0a46f01"
  },
  "kernelspec": {
   "display_name": "Python 3.8.10 64-bit ('rl': conda)",
   "language": "python",
   "name": "python3"
  },
  "language_info": {
   "codemirror_mode": {
    "name": "ipython",
    "version": 3
   },
   "file_extension": ".py",
   "mimetype": "text/x-python",
   "name": "python",
   "nbconvert_exporter": "python",
   "pygments_lexer": "ipython3",
   "version": "3.8.10"
  },
  "orig_nbformat": 4
 },
 "nbformat": 4,
 "nbformat_minor": 2
}
