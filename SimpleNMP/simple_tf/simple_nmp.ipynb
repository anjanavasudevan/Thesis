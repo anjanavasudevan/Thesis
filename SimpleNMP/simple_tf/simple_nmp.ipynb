{
 "cells": [
  {
   "cell_type": "markdown",
   "metadata": {},
   "source": [
    "# Simple NMP\n"
   ]
  },
  {
   "cell_type": "code",
   "execution_count": 1,
   "metadata": {},
   "outputs": [],
   "source": [
    "# import the dependencies\n",
    "import numpy as np\n",
    "import matplotlib.pyplot as plt\n",
    "import math\n",
    "\n",
    "from scipy.integrate import odeint\n",
    "\n",
    "# Plotting\n",
    "import plotly.graph_objs as go\n",
    "import plotly.offline as py\n",
    "import matplotlib.pyplot as plt\n",
    "%matplotlib inline\n",
    "\n",
    "# Control system library\n",
    "import control"
   ]
  },
  {
   "cell_type": "markdown",
   "metadata": {},
   "source": [
    "## Transfer function\n",
    "\n",
    "Simple transfer function\n",
    "$$\n",
    "\\frac{-s+2}{s^2+3s+1}\n",
    "$$"
   ]
  },
  {
   "cell_type": "code",
   "execution_count": 3,
   "metadata": {},
   "outputs": [
    {
     "name": "stdout",
     "output_type": "stream",
     "text": [
      "\n",
      "   -s + 2\n",
      "-------------\n",
      "s^2 + 3 s + 1\n",
      "\n"
     ]
    },
    {
     "data": {
      "text/plain": [
       "[<matplotlib.lines.Line2D at 0x2494534cf70>]"
      ]
     },
     "execution_count": 3,
     "metadata": {},
     "output_type": "execute_result"
    },
    {
     "data": {
      "image/png": "[encoded data removed]",
      "text/plain": [
       "<Figure size 432x288 with 1 Axes>"
      ]
     },
     "metadata": {
      "needs_background": "light"
     },
     "output_type": "display_data"
    }
   ],
   "source": [
    "# numerator\n",
    "num = np.array([-1, 2])\n",
    "den = np.array([1, 3, 1])\n",
    "\n",
    "# transfer function\n",
    "H = control.tf(num, den)\n",
    "print(H)\n",
    "\n",
    "# step response:\n",
    "t, y = control.step_response(H)\n",
    "plt.plot(t, y)"
   ]
  },
  {
   "cell_type": "code",
   "execution_count": 13,
   "metadata": {},
   "outputs": [
    {
     "name": "stdout",
     "output_type": "stream",
     "text": [
      "Poles: [-2.61803399 -0.38196601]\n"
     ]
    },
    {
     "data": {
      "image/png": "[encoded data removed]",
      "text/plain": [
       "<Figure size 432x288 with 1 Axes>"
      ]
     },
     "metadata": {
      "needs_background": "light"
     },
     "output_type": "display_data"
    }
   ],
   "source": [
    "# Generating the pole zero map\n",
    "control.pzmap(H)\n",
    "\n",
    "# Poles:\n",
    "p = control.pole(H)\n",
    "z = control.zero(H)\n",
    "\n",
    "print(f\"Poles: {p}\")"
   ]
  },
  {
   "cell_type": "code",
   "execution_count": 4,
   "metadata": {},
   "outputs": [
    {
     "name": "stdout",
     "output_type": "stream",
     "text": [
      "System: sys[0]\n",
      "Inputs (1): u[0], \n",
      "Outputs (1): y[0], \n",
      "States (2): x[0], x[1], \n"
     ]
    }
   ],
   "source": [
    "# Checking the input output:\n",
    "io = control.tf2io(H)\n",
    "print(io)"
   ]
  },
  {
   "cell_type": "code",
   "execution_count": 6,
   "metadata": {},
   "outputs": [
    {
     "name": "stdout",
     "output_type": "stream",
     "text": [
      "A = [[-3. -1.]\n",
      "     [ 1.  0.]]\n",
      "\n",
      "B = [[1.]\n",
      "     [0.]]\n",
      "\n",
      "C = [[-1.  2.]]\n",
      "\n",
      "D = [[0.]]\n",
      "\n"
     ]
    }
   ],
   "source": [
    "# Check the state space\n",
    "st_space = control.tf2ss(H)\n",
    "print(st_space)"
   ]
  },
  {
   "cell_type": "code",
   "execution_count": 17,
   "metadata": {},
   "outputs": [
    {
     "name": "stdout",
     "output_type": "stream",
     "text": [
      "\n",
      "  -s + 0.5\n",
      "-------------\n",
      "s^2 + 5 s + 1\n",
      "\n",
      "[ 0.         -0.02664671 -0.04930867 ...  0.49925004  0.49925454\n",
      "  0.49925901]\n"
     ]
    },
    {
     "data": {
      "image/png": "[encoded data removed]",
      "text/plain": [
       "<Figure size 432x288 with 1 Axes>"
      ]
     },
     "metadata": {
      "needs_background": "light"
     },
     "output_type": "display_data"
    }
   ],
   "source": [
    "# numerator\n",
    "num = np.array([-1, 0.5])\n",
    "den = np.array([1, 5, 1])\n",
    "\n",
    "# transfer function\n",
    "H2 = control.tf(num, den)\n",
    "print(H2)\n",
    "\n",
    "# step response:\n",
    "t, y = control.step_response(H2)\n",
    "plt.plot(t, y)\n",
    "\n",
    "print(y)\n"
   ]
  }
 ],
 "metadata": {
  "interpreter": {
   "hash": "c7eb9a86253bbd4d23c13a0227d914c126dc3315e454ce3bc071d1b1b0a46f01"
  },
  "kernelspec": {
   "display_name": "Python 3.8.10 64-bit ('rl': conda)",
   "language": "python",
   "name": "python3"
  },
  "language_info": {
   "codemirror_mode": {
    "name": "ipython",
    "version": 3
   },
   "file_extension": ".py",
   "mimetype": "text/x-python",
   "name": "python",
   "nbconvert_exporter": "python",
   "pygments_lexer": "ipython3",
   "version": "3.8.10"
  },
  "orig_nbformat": 4
 },
 "nbformat": 4,
 "nbformat_minor": 2
}
