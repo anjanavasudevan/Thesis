{
 "cells": [
  {
   "cell_type": "markdown",
   "metadata": {},
   "source": [
    "# Simple NMP\n"
   ]
  },
  {
   "cell_type": "code",
   "execution_count": 1,
   "metadata": {},
   "outputs": [],
   "source": [
    "# import the dependencies\n",
    "import numpy as np\n",
    "import matplotlib.pyplot as plt\n",
    "import math\n",
    "\n",
    "from scipy.integrate import odeint\n",
    "\n",
    "# Plotting\n",
    "import plotly.graph_objs as go\n",
    "import plotly.offline as py\n",
    "import matplotlib.pyplot as plt\n",
    "%matplotlib inline\n",
    "\n",
    "# Control system library\n",
    "import control"
   ]
  },
  {
   "cell_type": "code",
   "execution_count": 2,
   "metadata": {},
   "outputs": [
    {
     "data": {
      "text/plain": [
       "'1.19.2'"
      ]
     },
     "execution_count": 2,
     "metadata": {},
     "output_type": "execute_result"
    }
   ],
   "source": [
    "np.version.version"
   ]
  },
  {
   "cell_type": "markdown",
   "metadata": {},
   "source": [
    "## Transfer function\n",
    "\n",
    "Simple transfer function\n",
    "$$\n",
    "\\frac{-s+2}{s^2+3s+1}\n",
    "$$"
   ]
  },
  {
   "cell_type": "code",
   "execution_count": 3,
   "metadata": {},
   "outputs": [
    {
     "name": "stdout",
     "output_type": "stream",
     "text": [
      "\n",
      "   -s + 2\n",
      "-------------\n",
      "s^2 + 3 s + 1\n",
      "\n"
     ]
    },
    {
     "data": {
      "text/plain": [
       "[<matplotlib.lines.Line2D at 0x1b50898dee0>]"
      ]
     },
     "execution_count": 3,
     "metadata": {},
     "output_type": "execute_result"
    },
    {
     "data": {
      "image/png": "[encoded data removed]",
      "text/plain": [
       "<Figure size 432x288 with 1 Axes>"
      ]
     },
     "metadata": {
      "needs_background": "light"
     },
     "output_type": "display_data"
    }
   ],
   "source": [
    "# numerator\n",
    "num = np.array([-1, 2])\n",
    "den = np.array([1, 3, 1])\n",
    "\n",
    "# transfer function\n",
    "H = control.tf(num, den)\n",
    "print(H)\n",
    "\n",
    "# step response:\n",
    "t, y = control.step_response(H)\n",
    "plt.plot(t, y)"
   ]
  },
  {
   "cell_type": "code",
   "execution_count": 4,
   "metadata": {},
   "outputs": [
    {
     "name": "stdout",
     "output_type": "stream",
     "text": [
      "Poles: [-2.61803399 -0.38196601]\n",
      "Zeros: [2.]\n"
     ]
    },
    {
     "data": {
      "image/png": "[encoded data removed]",
      "text/plain": [
       "<Figure size 432x288 with 1 Axes>"
      ]
     },
     "metadata": {
      "needs_background": "light"
     },
     "output_type": "display_data"
    }
   ],
   "source": [
    "# Generating the pole zero map\n",
    "control.pzmap(H)\n",
    "\n",
    "# Poles:\n",
    "p = control.pole(H)\n",
    "z = control.zero(H)\n",
    "\n",
    "print(f\"Poles: {p}\")\n",
    "print(f\"Zeros: {z}\")"
   ]
  },
  {
   "cell_type": "code",
   "execution_count": 21,
   "metadata": {},
   "outputs": [
    {
     "data": {
      "text/latex": [
       "$$\\frac{-s + 2}{s^2 + 2 s + 3}$$"
      ],
      "text/plain": [
       "TransferFunction(array([-1,  2]), array([1, 2, 3]))"
      ]
     },
     "execution_count": 21,
     "metadata": {},
     "output_type": "execute_result"
    }
   ],
   "source": [
    "# Feedback control\n",
    "feedback = control.feedback(H, 1)\n",
    "feedback"
   ]
  },
  {
   "cell_type": "code",
   "execution_count": 43,
   "metadata": {},
   "outputs": [
    {
     "data": {
      "text/plain": [
       "[<matplotlib.lines.Line2D at 0x1b50a9cec40>]"
      ]
     },
     "execution_count": 43,
     "metadata": {},
     "output_type": "execute_result"
    },
    {
     "data": {
      "image/png": "[encoded data removed]",
      "text/plain": [
       "<Figure size 432x288 with 1 Axes>"
      ]
     },
     "metadata": {
      "needs_background": "light"
     },
     "output_type": "display_data"
    }
   ],
   "source": [
    "t, y = control.step_response(feedback)\n",
    "plt.plot(t, y)"
   ]
  },
  {
   "cell_type": "code",
   "execution_count": 23,
   "metadata": {},
   "outputs": [
    {
     "name": "stdout",
     "output_type": "stream",
     "text": [
      "A = [[-2. -3.]\n",
      "     [ 1.  0.]]\n",
      "\n",
      "B = [[1.]\n",
      "     [0.]]\n",
      "\n",
      "C = [[-1.  2.]]\n",
      "\n",
      "D = [[0.]]\n",
      "\n"
     ]
    }
   ],
   "source": [
    "# Create state space for this feedback system\n",
    "plant = control.tf2ss(feedback)\n",
    "print(plant)"
   ]
  },
  {
   "cell_type": "code",
   "execution_count": 48,
   "metadata": {},
   "outputs": [],
   "source": [
    "# Check the forced response for the system\\\n",
    "# Time:\n",
    "dt = 0.05\n",
    "tn = 25\n",
    "t0 = 0\n",
    "t = np.arange(0, 25, 0.05)\n",
    "\n",
    "x_init = np.array([0, 1])\n",
    "sp = np.ones(int(tn/dt))\n",
    "t, y, x = control.forced_response(plant, t, sp, x_init, return_x=True)\n",
    "\n",
    "\n"
   ]
  },
  {
   "cell_type": "code",
   "execution_count": 49,
   "metadata": {},
   "outputs": [
    {
     "data": {
      "text/plain": [
       "[<matplotlib.lines.Line2D at 0x1b50acabbe0>]"
      ]
     },
     "execution_count": 49,
     "metadata": {},
     "output_type": "execute_result"
    },
    {
     "data": {
      "image/png": "[encoded data removed]",
      "text/plain": [
       "<Figure size 432x288 with 1 Axes>"
      ]
     },
     "metadata": {
      "needs_background": "light"
     },
     "output_type": "display_data"
    }
   ],
   "source": [
    "# Plot the states\n",
    "plt.plot(t, x[0])\n",
    "plt.plot(t, x[1])"
   ]
  },
  {
   "cell_type": "code",
   "execution_count": 50,
   "metadata": {},
   "outputs": [
    {
     "data": {
      "text/plain": [
       "[<matplotlib.lines.Line2D at 0x1b50ad17df0>]"
      ]
     },
     "execution_count": 50,
     "metadata": {},
     "output_type": "execute_result"
    },
    {
     "data": {
      "image/png": "[encoded data removed]",
      "text/plain": [
       "<Figure size 432x288 with 1 Axes>"
      ]
     },
     "metadata": {
      "needs_background": "light"
     },
     "output_type": "display_data"
    }
   ],
   "source": [
    "plt.plot(t, y)"
   ]
  },
  {
   "cell_type": "code",
   "execution_count": 24,
   "metadata": {},
   "outputs": [
    {
     "data": {
      "text/plain": [
       "(500,)"
      ]
     },
     "execution_count": 24,
     "metadata": {},
     "output_type": "execute_result"
    }
   ],
   "source": [
    "t = np.arange(0, 25, 0.05)\n",
    "t.shape"
   ]
  },
  {
   "cell_type": "code",
   "execution_count": 27,
   "metadata": {},
   "outputs": [
    {
     "data": {
      "text/plain": [
       "(500,)"
      ]
     },
     "execution_count": 27,
     "metadata": {},
     "output_type": "execute_result"
    }
   ],
   "source": [
    "forced_response = 2*np.ones(int(25/0.05))\n",
    "forced_response.shape"
   ]
  },
  {
   "cell_type": "code",
   "execution_count": 6,
   "metadata": {},
   "outputs": [
    {
     "name": "stdout",
     "output_type": "stream",
     "text": [
      "A = [[-3. -1.]\n",
      "     [ 1.  0.]]\n",
      "\n",
      "B = [[1.]\n",
      "     [0.]]\n",
      "\n",
      "C = [[-1.  2.]]\n",
      "\n",
      "D = [[0.]]\n",
      "\n"
     ]
    }
   ],
   "source": [
    "# Check the state space\n",
    "st_space = control.tf2ss(H)\n",
    "print(st_space)"
   ]
  },
  {
   "cell_type": "code",
   "execution_count": 7,
   "metadata": {},
   "outputs": [
    {
     "name": "stdout",
     "output_type": "stream",
     "text": [
      "\n",
      " -2 s + 0.5\n",
      "-------------\n",
      "s^2 + 5 s + 1\n",
      "\n",
      "[ 0.         -0.05349158 -0.09937389 ...  0.49902918  0.499035\n",
      "  0.49904079]\n"
     ]
    },
    {
     "data": {
      "image/png": "[encoded data removed]",
      "text/plain": [
       "<Figure size 432x288 with 1 Axes>"
      ]
     },
     "metadata": {
      "needs_background": "light"
     },
     "output_type": "display_data"
    }
   ],
   "source": [
    "# numerator\n",
    "num = np.array([-2, 0.5])\n",
    "den = np.array([1, 5, 1])\n",
    "\n",
    "# transfer function\n",
    "H2 = control.tf(num, den)\n",
    "print(H2)\n",
    "\n",
    "# step response:\n",
    "t, y = control.step_response(H2)\n",
    "plt.plot(t, y)\n",
    "\n",
    "print(y)\n"
   ]
  },
  {
   "cell_type": "code",
   "execution_count": 8,
   "metadata": {},
   "outputs": [
    {
     "name": "stdout",
     "output_type": "stream",
     "text": [
      "Zeros: [0.25]\n"
     ]
    },
    {
     "data": {
      "text/plain": [
       "array([0.25])"
      ]
     },
     "execution_count": 8,
     "metadata": {},
     "output_type": "execute_result"
    },
    {
     "data": {
      "image/png": "[encoded data removed]",
      "text/plain": [
       "<Figure size 432x288 with 1 Axes>"
      ]
     },
     "metadata": {
      "needs_background": "light"
     },
     "output_type": "display_data"
    }
   ],
   "source": [
    "# Pole zero plot\n",
    "control.pzmap(H2)\n",
    "print(f\"Zeros: {control.zero(H2)}\")\n",
    "control.zero(H2)"
   ]
  },
  {
   "cell_type": "markdown",
   "metadata": {},
   "source": [
    "## Coding the above as a process"
   ]
  },
  {
   "cell_type": "code",
   "execution_count": 9,
   "metadata": {},
   "outputs": [
    {
     "name": "stdout",
     "output_type": "stream",
     "text": [
      "A = [[-5. -1.]\n",
      "     [ 1.  0.]]\n",
      "\n",
      "B = [[1.]\n",
      "     [0.]]\n",
      "\n",
      "C = [[-2.   0.5]]\n",
      "\n",
      "D = [[0.]]\n",
      "\n",
      "System: sys[1]\n",
      "Inputs (1): u[0], \n",
      "Outputs (1): y[0], \n",
      "States (2): x[0], x[1], \n"
     ]
    }
   ],
   "source": [
    "state_space = control.tf2ss(H2)\n",
    "print(state_space)\n",
    "\n",
    "io_space = control.tf2io(H2)\n",
    "print(io_space)"
   ]
  },
  {
   "cell_type": "code",
   "execution_count": 10,
   "metadata": {},
   "outputs": [
    {
     "data": {
      "text/plain": [
       "control.iosys.LinearIOSystem"
      ]
     },
     "execution_count": 10,
     "metadata": {},
     "output_type": "execute_result"
    }
   ],
   "source": [
    "type(io_space)"
   ]
  },
  {
   "cell_type": "code",
   "execution_count": 11,
   "metadata": {},
   "outputs": [],
   "source": [
    "# Convert into differential eqns:\n",
    "def differential(x, t, A, B, u):\n",
    "    dxdt = A@x + B*u\n",
    "    return dxdt\n",
    "\n",
    "\n",
    "# Initial conditions\n",
    "x_init_1 = np.array([1, 1])\n",
    "x_init_2 = np.array([-1, -1])\n",
    "x_init_3 = np.array([0, 0])\n",
    "x_init_4 = np.array([0, 1])\n",
    "\n",
    "\n",
    "# Define a function:\n",
    "def solve(x_init):\n",
    "\n",
    "    # Define the parameters\n",
    "    # State space parameters\n",
    "    A = np.array([[-5, -1], [1, 0]])\n",
    "    # A@x_init\n",
    "    B = np.array([1, 0])\n",
    "    u = np.array([2])\n",
    "    C = np.array([-2, 0.25])\n",
    "    D = np.array([0])\n",
    "\n",
    "    # Set time step\n",
    "    t = np.arange(0, 25, 0.05)\n",
    "\n",
    "    # Solve the process:\n",
    "    x = odeint(differential, x_init, t, args=(A, B, u,))\n",
    "\n",
    "    # Get the output\n",
    "    y = C@x.T + D*u\n",
    "\n",
    "    return x, y, t\n",
    "\n"
   ]
  },
  {
   "cell_type": "code",
   "execution_count": 12,
   "metadata": {},
   "outputs": [
    {
     "data": {
      "text/plain": [
       "[<matplotlib.lines.Line2D at 0x1b509bd9670>]"
      ]
     },
     "execution_count": 12,
     "metadata": {},
     "output_type": "execute_result"
    },
    {
     "data": {
      "image/png": "[encoded data removed]",
      "text/plain": [
       "<Figure size 432x288 with 1 Axes>"
      ]
     },
     "metadata": {
      "needs_background": "light"
     },
     "output_type": "display_data"
    }
   ],
   "source": [
    "x1, y1, t1 = solve(x_init_1)\n",
    "x2, y2, t2 = solve(x_init_2)\n",
    "x3, y3, t3 = solve(x_init_3)\n",
    "x4, y4, t4 = solve(x_init_4)\n",
    "\n",
    "# Plot the graph\n",
    "plt.plot(t1, y1)\n",
    "plt.plot(t2, y2)\n",
    "#plt.plot(t3, y3)\n",
    "plt.plot(t4, y4)\n"
   ]
  },
  {
   "cell_type": "code",
   "execution_count": 13,
   "metadata": {},
   "outputs": [
    {
     "data": {
      "text/plain": [
       "(500,)"
      ]
     },
     "execution_count": 13,
     "metadata": {},
     "output_type": "execute_result"
    }
   ],
   "source": [
    "x1.shape\n",
    "t1.shape"
   ]
  },
  {
   "cell_type": "code",
   "execution_count": 14,
   "metadata": {},
   "outputs": [
    {
     "data": {
      "text/plain": [
       "array([-2.75000000e+00, -2.20454417e+00, -1.77376157e+00, -1.43323918e+00,\n",
       "       -1.16376469e+00, -9.50218234e-01, -7.80700893e-01, -6.45848352e-01,\n",
       "       -5.38290992e-01, -4.52229029e-01, -3.83098021e-01, -3.27305741e-01,\n",
       "       -2.82025059e-01, -2.45030956e-01, -2.14572287e-01, -1.89270734e-01,\n",
       "       -1.68041519e-01, -1.50030792e-01, -1.34566464e-01, -1.21119467e-01,\n",
       "       -1.09273310e-01, -9.87000863e-02, -8.91416071e-02, -8.03945504e-02,\n",
       "       -7.22987748e-02, -6.47281213e-02, -5.75831776e-02, -5.07855749e-02,\n",
       "       -4.42735140e-02, -3.79982393e-02, -3.19212509e-02, -2.60121269e-02,\n",
       "       -2.02468043e-02, -1.46062241e-02, -9.07526786e-03, -3.64191874e-03,\n",
       "        1.70339940e-03,  6.96833347e-03,  1.21590220e-02,  1.72804107e-02,\n",
       "        2.23365036e-02,  2.73305604e-02,  3.22652597e-02,  3.71428169e-02,\n",
       "        4.19650853e-02,  4.67336320e-02,  5.14497942e-02,  5.61147272e-02,\n",
       "        6.07294463e-02,  6.52948548e-02,  6.98117630e-02,  7.42809088e-02,\n",
       "        7.87029740e-02,  8.30785939e-02,  8.74083683e-02,  9.16928589e-02,\n",
       "        9.59326063e-02,  1.00128131e-01,  1.04279937e-01,  1.08388518e-01,\n",
       "        1.12454342e-01,  1.16477880e-01,  1.20459583e-01,  1.24399902e-01,\n",
       "        1.28299276e-01,  1.32158140e-01,  1.35976922e-01,  1.39756039e-01,\n",
       "        1.43495911e-01,  1.47196944e-01,  1.50859548e-01,  1.54484121e-01,\n",
       "        1.58071061e-01,  1.61620759e-01,  1.65133603e-01,  1.68609975e-01,\n",
       "        1.72050257e-01,  1.75454822e-01,  1.78824042e-01,  1.82158284e-01,\n",
       "        1.85457912e-01,  1.88723285e-01,  1.91954759e-01,  1.95152687e-01,\n",
       "        1.98317418e-01,  2.01449293e-01,  2.04548651e-01,  2.07615832e-01,\n",
       "        2.10651171e-01,  2.13655000e-01,  2.16627645e-01,  2.19569430e-01,\n",
       "        2.22480676e-01,  2.25361701e-01,  2.28212818e-01,  2.31034337e-01,\n",
       "        2.33826605e-01,  2.36589822e-01,  2.39324369e-01,  2.42030535e-01,\n",
       "        2.44708608e-01,  2.47358876e-01,  2.49981628e-01,  2.52577152e-01,\n",
       "        2.55145730e-01,  2.57687640e-01,  2.60203165e-01,  2.62692576e-01,\n",
       "        2.65156142e-01,  2.67594136e-01,  2.70006819e-01,  2.72394454e-01,\n",
       "        2.74757305e-01,  2.77095624e-01,  2.79409666e-01,  2.81699688e-01,\n",
       "        2.83965936e-01,  2.86208656e-01,  2.88428096e-01,  2.90624494e-01,\n",
       "        2.92798089e-01,  2.94949115e-01,  2.97077823e-01,  2.99184425e-01,\n",
       "        3.01269159e-01,  3.03332252e-01,  3.05373926e-01,  3.07394407e-01,\n",
       "        3.09393914e-01,  3.11372664e-01,  3.13330871e-01,  3.15268748e-01,\n",
       "        3.17186511e-01,  3.19084367e-01,  3.20962522e-01,  3.22821179e-01,\n",
       "        3.24660537e-01,  3.26480797e-01,  3.28282161e-01,  3.30064824e-01,\n",
       "        3.31828982e-01,  3.33574825e-01,  3.35302544e-01,  3.37012327e-01,\n",
       "        3.38704360e-01,  3.40378828e-01,  3.42035913e-01,  3.43675795e-01,\n",
       "        3.45298653e-01,  3.46904662e-01,  3.48493998e-01,  3.50066834e-01,\n",
       "        3.51623342e-01,  3.53163692e-01,  3.54688049e-01,  3.56196581e-01,\n",
       "        3.57689452e-01,  3.59166825e-01,  3.60628861e-01,  3.62075720e-01,\n",
       "        3.63507559e-01,  3.64924533e-01,  3.66326797e-01,  3.67714502e-01,\n",
       "        3.69087802e-01,  3.70446846e-01,  3.71791783e-01,  3.73122759e-01,\n",
       "        3.74439919e-01,  3.75743407e-01,  3.77033363e-01,  3.78309928e-01,\n",
       "        3.79573239e-01,  3.80823433e-01,  3.82060647e-01,  3.83285016e-01,\n",
       "        3.84496676e-01,  3.85695757e-01,  3.86882390e-01,  3.88056703e-01,\n",
       "        3.89218825e-01,  3.90368883e-01,  3.91507002e-01,  3.92633305e-01,\n",
       "        3.93747916e-01,  3.94850955e-01,  3.95942544e-01,  3.97022799e-01,\n",
       "        3.98091839e-01,  3.99149782e-01,  4.00196742e-01,  4.01232832e-01,\n",
       "        4.02258167e-01,  4.03272858e-01,  4.04277014e-01,  4.05270743e-01,\n",
       "        4.06254162e-01,  4.07227368e-01,  4.08190472e-01,  4.09143578e-01,\n",
       "        4.10086789e-01,  4.11020208e-01,  4.11943938e-01,  4.12858079e-01,\n",
       "        4.13762731e-01,  4.14657991e-01,  4.15543956e-01,  4.16420726e-01,\n",
       "        4.17288395e-01,  4.18147058e-01,  4.18996808e-01,  4.19837735e-01,\n",
       "        4.20669931e-01,  4.21493485e-01,  4.22308489e-01,  4.23115032e-01,\n",
       "        4.23913202e-01,  4.24703086e-01,  4.25484771e-01,  4.26258340e-01,\n",
       "        4.27023878e-01,  4.27781468e-01,  4.28531194e-01,  4.29273137e-01,\n",
       "        4.30007377e-01,  4.30733996e-01,  4.31453071e-01,  4.32164681e-01,\n",
       "        4.32868901e-01,  4.33565813e-01,  4.34255490e-01,  4.34938007e-01,\n",
       "        4.35613439e-01,  4.36281859e-01,  4.36943340e-01,  4.37597953e-01,\n",
       "        4.38245771e-01,  4.38886864e-01,  4.39521304e-01,  4.40149158e-01,\n",
       "        4.40770494e-01,  4.41385381e-01,  4.41993886e-01,  4.42596074e-01,\n",
       "        4.43192011e-01,  4.43781761e-01,  4.44365389e-01,  4.44942959e-01,\n",
       "        4.45514532e-01,  4.46080171e-01,  4.46639937e-01,  4.47193890e-01,\n",
       "        4.47742088e-01,  4.48284590e-01,  4.48821455e-01,  4.49352745e-01,\n",
       "        4.49878521e-01,  4.50398843e-01,  4.50913766e-01,  4.51423349e-01,\n",
       "        4.51927648e-01,  4.52426715e-01,  4.52920601e-01,  4.53409355e-01,\n",
       "        4.53893024e-01,  4.54371666e-01,  4.54845334e-01,  4.55314086e-01,\n",
       "        4.55777973e-01,  4.56237050e-01,  4.56691371e-01,  4.57140988e-01,\n",
       "        4.57585933e-01,  4.58026247e-01,  4.58461990e-01,  4.58893211e-01,\n",
       "        4.59319958e-01,  4.59742273e-01,  4.60160202e-01,  4.60573793e-01,\n",
       "        4.60983090e-01,  4.61388139e-01,  4.61788982e-01,  4.62185665e-01,\n",
       "        4.62578228e-01,  4.62966716e-01,  4.63351171e-01,  4.63731635e-01,\n",
       "        4.64108149e-01,  4.64480754e-01,  4.64849492e-01,  4.65214401e-01,\n",
       "        4.65575522e-01,  4.65932895e-01,  4.66286557e-01,  4.66636547e-01,\n",
       "        4.66982905e-01,  4.67325666e-01,  4.67664869e-01,  4.68000551e-01,\n",
       "        4.68332748e-01,  4.68661496e-01,  4.68986832e-01,  4.69308790e-01,\n",
       "        4.69627406e-01,  4.69942715e-01,  4.70254751e-01,  4.70563548e-01,\n",
       "        4.70869139e-01,  4.71171559e-01,  4.71470840e-01,  4.71767014e-01,\n",
       "        4.72060112e-01,  4.72350167e-01,  4.72637210e-01,  4.72921272e-01,\n",
       "        4.73202386e-01,  4.73480581e-01,  4.73755888e-01,  4.74028337e-01,\n",
       "        4.74297957e-01,  4.74564778e-01,  4.74828829e-01,  4.75090138e-01,\n",
       "        4.75348734e-01,  4.75604646e-01,  4.75857902e-01,  4.76108528e-01,\n",
       "        4.76356553e-01,  4.76602002e-01,  4.76844904e-01,  4.77085335e-01,\n",
       "        4.77323199e-01,  4.77558601e-01,  4.77791565e-01,  4.78022114e-01,\n",
       "        4.78250273e-01,  4.78476065e-01,  4.78699515e-01,  4.78920645e-01,\n",
       "        4.79139481e-01,  4.79356043e-01,  4.79570357e-01,  4.79782446e-01,\n",
       "        4.79992334e-01,  4.80200042e-01,  4.80405592e-01,  4.80609008e-01,\n",
       "        4.80810311e-01,  4.81009523e-01,  4.81206668e-01,  4.81401765e-01,\n",
       "        4.81594835e-01,  4.81785901e-01,  4.81974984e-01,  4.82162106e-01,\n",
       "        4.82347284e-01,  4.82530541e-01,  4.82711895e-01,  4.82891368e-01,\n",
       "        4.83068981e-01,  4.83244749e-01,  4.83418693e-01,  4.83590830e-01,\n",
       "        4.83761180e-01,  4.83929761e-01,  4.84096592e-01,  4.84261711e-01,\n",
       "        4.84425078e-01,  4.84586765e-01,  4.84746781e-01,  4.84905134e-01,\n",
       "        4.85061846e-01,  4.85216915e-01,  4.85370402e-01,  4.85522280e-01,\n",
       "        4.85672572e-01,  4.85821298e-01,  4.85968478e-01,  4.86114130e-01,\n",
       "        4.86258274e-01,  4.86400929e-01,  4.86542105e-01,  4.86681815e-01,\n",
       "        4.86820074e-01,  4.86956897e-01,  4.87092300e-01,  4.87226299e-01,\n",
       "        4.87358907e-01,  4.87490138e-01,  4.87620005e-01,  4.87748524e-01,\n",
       "        4.87875709e-01,  4.88001567e-01,  4.88126130e-01,  4.88249398e-01,\n",
       "        4.88371384e-01,  4.88492103e-01,  4.88611569e-01,  4.88729795e-01,\n",
       "        4.88846795e-01,  4.88962580e-01,  4.89077163e-01,  4.89190556e-01,\n",
       "        4.89302773e-01,  4.89413826e-01,  4.89523725e-01,  4.89632484e-01,\n",
       "        4.89740114e-01,  4.89846626e-01,  4.89952032e-01,  4.90056344e-01,\n",
       "        4.90159573e-01,  4.90261731e-01,  4.90362829e-01,  4.90462878e-01,\n",
       "        4.90561889e-01,  4.90659872e-01,  4.90756837e-01,  4.90852796e-01,\n",
       "        4.90947758e-01,  4.91041733e-01,  4.91134732e-01,  4.91226766e-01,\n",
       "        4.91317845e-01,  4.91407979e-01,  4.91497177e-01,  4.91585450e-01,\n",
       "        4.91672807e-01,  4.91759257e-01,  4.91844809e-01,  4.91929474e-01,\n",
       "        4.92013261e-01,  4.92096176e-01,  4.92178229e-01,  4.92259428e-01,\n",
       "        4.92339781e-01,  4.92419301e-01,  4.92497996e-01,  4.92575876e-01,\n",
       "        4.92652949e-01,  4.92729222e-01,  4.92804704e-01,  4.92879401e-01,\n",
       "        4.92953321e-01,  4.93026474e-01,  4.93098867e-01,  4.93170509e-01,\n",
       "        4.93241409e-01,  4.93311572e-01,  4.93381007e-01,  4.93449722e-01,\n",
       "        4.93517728e-01,  4.93585017e-01,  4.93651613e-01,  4.93717520e-01,\n",
       "        4.93782742e-01,  4.93847288e-01,  4.93911162e-01,  4.93974375e-01,\n",
       "        4.94036927e-01,  4.94098826e-01,  4.94160082e-01,  4.94220701e-01,\n",
       "        4.94280691e-01,  4.94340059e-01,  4.94398813e-01,  4.94456961e-01,\n",
       "        4.94514504e-01,  4.94571450e-01,  4.94627804e-01,  4.94683573e-01,\n",
       "        4.94738763e-01,  4.94793380e-01,  4.94847432e-01,  4.94900922e-01,\n",
       "        4.94953857e-01,  4.95006242e-01,  4.95058082e-01,  4.95109384e-01,\n",
       "        4.95160154e-01,  4.95210397e-01,  4.95260113e-01,  4.95309322e-01,\n",
       "        4.95358019e-01,  4.95406208e-01,  4.95453897e-01,  4.95501091e-01,\n",
       "        4.95547794e-01,  4.95594013e-01,  4.95639753e-01,  4.95685018e-01,\n",
       "        4.95729813e-01,  4.95774143e-01,  4.95818014e-01,  4.95861428e-01,\n",
       "        4.95904393e-01,  4.95946911e-01,  4.95988988e-01,  4.96030629e-01])"
      ]
     },
     "execution_count": 14,
     "metadata": {},
     "output_type": "execute_result"
    },
    {
     "data": {
      "image/png": "[encoded data removed]",
      "text/plain": [
       "<Figure size 432x288 with 1 Axes>"
      ]
     },
     "metadata": {
      "needs_background": "light"
     },
     "output_type": "display_data"
    }
   ],
   "source": [
    "error = (y1 - x1[:, 0])\n",
    "plt.plot(t1, error)\n",
    "plt.plot(t1, y1)\n",
    "error"
   ]
  },
  {
   "cell_type": "code",
   "execution_count": 15,
   "metadata": {},
   "outputs": [],
   "source": [
    "dummy = np.array([1, 0])\n",
    "B = np.vstack(dummy)"
   ]
  },
  {
   "cell_type": "code",
   "execution_count": 16,
   "metadata": {},
   "outputs": [],
   "source": [
    "x1_minmax = np.array([x1.min(), x1.max()])"
   ]
  },
  {
   "cell_type": "markdown",
   "metadata": {},
   "source": [
    "## Prototype custom cls \n",
    "\n",
    "Environment 1: Track undershoot "
   ]
  },
  {
   "cell_type": "code",
   "execution_count": null,
   "metadata": {},
   "outputs": [],
   "source": [
    "\n",
    "# Import dependencies\n",
    "from gym import Env\n",
    "from gym.spaces import Discrete, Box\n",
    "import numpy as np\n",
    "import random\n",
    "import matplotlib.pyplot as plt\n",
    "from scipy.integrate import odeint\n",
    "\n",
    "\n",
    "class SISO_nmp(Env):\n",
    "    \"\"\"\n",
    "    Class environment for custom NMP.\n",
    "    State space representation:\n",
    "    ẋ = Ax + Bu\n",
    "    y = Cx + D\n",
    "    \"\"\"\n",
    "\n",
    "    def __init__(self):\n",
    "        \"\"\"\n",
    "        Initialize the system parameters\n",
    "        \"\"\"\n",
    "        # State space parameters:\n",
    "        self.A = np.array([[-5, -1], [1, 0]])\n",
    "        self.B = np.array([1, 0])\n",
    "        self.C = np.array([-2, 0.25])\n",
    "        self.D = np.array([0])\n",
    "\n",
    "        # State matrix:\n",
    "        self.x = [0, 1]\n",
    "        self.step_size = 0.05\n",
    "        self.time = 25\n",
    "        self.n = int(self.time / self.step_size)\n",
    "\n",
    "        # Counter to count the no. of steps\n",
    "        self.tstep = 0\n",
    "\n",
    "        # Track no. of steps for undershoot (Cap at 20 steps)\n",
    "        self.track = 0\n",
    "\n",
    "        # Action space (either negative input, positive input or zero input)\n",
    "        self.action_space = Box(low=np.float32(np.array([0])),\n",
    "                                high=np.float32(np.array([1])))\n",
    "\n",
    "        # State (the current value of u signal)\n",
    "        self.state = np.array([random.uniform(-5, 5)])\n",
    "        self.cpos = None\n",
    "\n",
    "        # Observation space (the output y)\n",
    "        self.observation_space = Box(low=np.float32(np.array([-10])),\n",
    "                                     high=np.float(np.array([10])))\n",
    "\n",
    "        # Set point\n",
    "        self.setpoint = -3\n",
    "\n",
    "        # Output matrix:\n",
    "        self.output = [0]\n",
    "\n",
    "        # Rewards:\n",
    "        self.reward = None\n",
    "\n",
    "    # Make the methods static:\n",
    "    @staticmethod\n",
    "    def process(x, t, A, B, u):\n",
    "        \"\"\"\n",
    "        State space equation for solving: ẋ = Ax + Bu\n",
    "        \"\"\"\n",
    "        dxdt = A@x + B*u\n",
    "        return dxdt\n",
    "    \n",
    "    @staticmethod\n",
    "    def get_val(u, x, C, D):\n",
    "        \"\"\"\n",
    "        Calculate the output: y = Cx + D\n",
    "        \"\"\"\n",
    "        y = C@x.T + D*u\n",
    "        return y\n",
    "\n",
    "    def step(self, action, done):\n",
    "        \"\"\"\n",
    "        Predict the output.\n",
    "        Rewards:\n",
    "        For all steps (including termination): +1\n",
    "        For undershoot: -5\n",
    "        For opposite response: -5\n",
    "        \"\"\"\n",
    "        # Assert the action is valid:\n",
    "        error_msg = f\"{action} is not a valid action.\"\n",
    "        assert self.action_space.contains(action), error_msg\n",
    "\n",
    "        # If action valid, get our control signal\n",
    "        # Generate -ve or +ve input\n",
    "        self.cpos = action*self.state\n",
    "\n",
    "        # Get the state and output\n",
    "        x_next = odeint(self.process, self.x, [self.tstep*self.step_size],\n",
    "                        args=(self.A, self.B, self.cpos, ))\n",
    "        y = self.get_val(self.cpos, self.x, self.C, self.D)\n",
    "        self.output.append(y)\n",
    "\n",
    "        # Model the problem:\n",
    "        if(self.output[self.tstep] < self.setpoint):\n",
    "            # Output goes below zero\n",
    "            done = True\n",
    "            reward = -5\n",
    "        elif(self.output[self.tstep] < self.output[self.tstep - 1] and self.track == 30):\n",
    "            # Opposite response\n",
    "            done = True\n",
    "            reward = -5\n",
    "        elif(self.tstep == self.n):\n",
    "            done = True\n",
    "            reward = 1\n",
    "        else:\n",
    "            reward = 1\n",
    "\n",
    "        return reward, done, x_next\n",
    "\n",
    "    def render(self):\n",
    "        \"\"\"\n",
    "        Render the environment\n",
    "        \"\"\"\n",
    "        pass\n",
    "\n",
    "    def reset(self):\n",
    "        \"\"\"\n",
    "        Reset the environment back to defaults\n",
    "        \"\"\"\n",
    "        # Reset the state\n",
    "        self.state = np.array([random.uniform(-5, 5)])\n",
    "        self.x = np.array([0, 1])\n",
    "\n",
    "        self.tstep = 0\n",
    "        self.track = 0\n",
    "\n",
    "        self.output = [0]\n",
    "\n",
    "        return self\n"
   ]
  },
  {
   "cell_type": "code",
   "execution_count": null,
   "metadata": {},
   "outputs": [
    {
     "name": "stdout",
     "output_type": "stream",
     "text": [
      "State Dim: (1,)\n",
      " Action Dim: (1,)\n",
      " Action Bound: 1.0\n"
     ]
    }
   ],
   "source": [
    "# Check if environment works:\n",
    "env = SISO_nmp()\n",
    "state_dim = env.observation_space.shape\n",
    "action_dim = env.action_space.shape\n",
    "action_bound = env.action_space.high[0]\n",
    "print(\"State Dim: {0}\\n Action Dim: {1}\\n Action Bound: {2}\"\n",
    "      .format(state_dim, action_dim, action_bound))\n"
   ]
  },
  {
   "cell_type": "code",
   "execution_count": null,
   "metadata": {},
   "outputs": [],
   "source": [
    "# Loop for one episode\n",
    "score = 0\n",
    "while not done:\n",
    "    action = env.action_space.sample()\n",
    "    reward, done, next = env.step(action, done)\n",
    "\n",
    "    # Log the undershoot:\n",
    "    if (env.output[env.tstep] < env.output[env.tstep - 1]):\n",
    "        env.track += 1\n",
    "\n",
    "    # Updates\n",
    "    score += reward\n",
    "    env.x = np.hstack(next)\n",
    "    env.tstep += 1\n",
    "\n",
    "    \n"
   ]
  },
  {
   "cell_type": "code",
   "execution_count": null,
   "metadata": {},
   "outputs": [],
   "source": [
    "# Loop for 10 episodes:\n",
    "scores = []\n",
    "for i in range(10):\n",
    "    done = False\n",
    "    env = env.reset()\n",
    "    score = 0\n",
    "\n",
    "    while not done:\n",
    "        action = env.action_space.sample()\n",
    "        reward, done, next = env.step(action, done)\n",
    "\n",
    "        # Log the undershoot:\n",
    "        if (env.output[env.tstep] < env.output[env.tstep - 1]):\n",
    "            env.track += 1\n",
    "\n",
    "        # If not done:\n",
    "        score += reward\n",
    "        env.x = np.hstack(next)\n",
    "        env.tstep += 1\n",
    "        \n",
    "    scores.append(score)\n"
   ]
  },
  {
   "cell_type": "code",
   "execution_count": null,
   "metadata": {},
   "outputs": [
    {
     "data": {
      "text/plain": [
       "[501, 501, 501, 501, 501, 501, 501, 501, 501, 501]"
      ]
     },
     "execution_count": 133,
     "metadata": {},
     "output_type": "execute_result"
    }
   ],
   "source": [
    "scores"
   ]
  },
  {
   "cell_type": "markdown",
   "metadata": {},
   "source": [
    "## CLS 2\n",
    "\n",
    "Modify system parameters"
   ]
  },
  {
   "cell_type": "code",
   "execution_count": null,
   "metadata": {},
   "outputs": [],
   "source": [
    "# Import dependencies\n",
    "from gym import Env\n",
    "from gym.spaces import Discrete, Box\n",
    "import numpy as np\n",
    "import random\n",
    "import matplotlib.pyplot as plt\n",
    "from scipy.integrate import odeint\n",
    "\n",
    "\n",
    "class SISO_nmp_modified(Env):\n",
    "    \"\"\"\n",
    "    Class environment for custom NMP.\n",
    "    State space representation:\n",
    "    ẋ = Ax + Bu\n",
    "    y = Cx + D\n",
    "    \"\"\"\n",
    "\n",
    "    def __init__(self):\n",
    "        \"\"\"\n",
    "        Initialize the system parameters\n",
    "        \"\"\"\n",
    "        # State space parameters:\n",
    "        self.A = np.array([[-5, -1], [1, 0]])\n",
    "        self.B = np.array([1, 0])\n",
    "        self.C = np.array([-2, 0.25])\n",
    "        self.D = np.array([0])\n",
    "\n",
    "        # State matrix:\n",
    "        self.x = [0, 1]\n",
    "        self.step_size = 0.05\n",
    "        self.time = 25\n",
    "        self.n = int(self.time / self.step_size)\n",
    "\n",
    "        # Counter to count the no. of steps\n",
    "        self.tstep = 0\n",
    "\n",
    "        # Action space (either negative input, positive input or zero input)\n",
    "        self.action_space = Box(low=np.float32(np.array([0])),\n",
    "                                high=np.float32(np.array([1])))\n",
    "\n",
    "        # State (the current value of u signal)\n",
    "        self.state = np.array([random.uniform(-5, 5)])\n",
    "        self.cpos = None\n",
    "\n",
    "        # Observation space (the output y)\n",
    "        self.observation_space = Box(low=np.float32(np.array([-10])),\n",
    "                                     high=np.float(np.array([10])))\n",
    "\n",
    "        # Set point\n",
    "        self.setpoint = -3\n",
    "        self.thres = -2\n",
    "\n",
    "        # Output matrix:\n",
    "        self.output = [0]\n",
    "\n",
    "        # Rewards:\n",
    "        self.reward = None\n",
    "\n",
    "    # Make the methods static:\n",
    "    @staticmethod\n",
    "    def process(x, t, A, B, u):\n",
    "        \"\"\"\n",
    "        State space equation for solving: ẋ = Ax + Bu\n",
    "        \"\"\"\n",
    "        dxdt = A@x + B*u\n",
    "        return dxdt\n",
    "\n",
    "    @staticmethod\n",
    "    def get_val(u, x, C, D):\n",
    "        \"\"\"\n",
    "        Calculate the output: y = Cx + D\n",
    "        \"\"\"\n",
    "        y = C@x.T + D*u\n",
    "        return y\n",
    "\n",
    "    def step(self, action, done):\n",
    "        \"\"\"\n",
    "        Predict the output.\n",
    "        Rewards:\n",
    "        For all steps (including termination): +1\n",
    "        For undershoot: -5\n",
    "        For opposite response: -5\n",
    "        \"\"\"\n",
    "        # Assert the action is valid:\n",
    "        error_msg = f\"{action} is not a valid action.\"\n",
    "        assert self.action_space.contains(action), error_msg\n",
    "\n",
    "        # If action valid, get our control signal\n",
    "        # Generate -ve or +ve input\n",
    "        self.cpos = action*self.state\n",
    "\n",
    "        # Get the state and output\n",
    "        x_next = odeint(self.process, self.x, [self.tstep*self.step_size],\n",
    "                        args=(self.A, self.B, self.cpos, ))\n",
    "        y = self.get_val(self.cpos, self.x, self.C, self.D)\n",
    "        self.output.append(y)\n",
    "\n",
    "        # Model the problem:\n",
    "        if(self.output[self.tstep] < self.setpoint):\n",
    "            # Output goes below zero\n",
    "            done = True\n",
    "            reward = -5\n",
    "        elif(self.output[self.tstep] - self.output[self.tstep-1] < -self.thres):\n",
    "            # Opposite response\n",
    "            done = True\n",
    "            reward = -5\n",
    "        elif(self.tstep == self.n):\n",
    "            done = True\n",
    "            reward = 1\n",
    "        else:\n",
    "            reward = 1\n",
    "\n",
    "        return reward, done, x_next\n",
    "\n",
    "    def render(self):\n",
    "        \"\"\"\n",
    "        Render the environment\n",
    "        \"\"\"\n",
    "        pass\n",
    "\n",
    "    def reset(self):\n",
    "        \"\"\"\n",
    "        Reset the environment back to defaults\n",
    "        \"\"\"\n",
    "        # Reset the state\n",
    "        self.state = np.array([random.uniform(-5, 5)])\n",
    "        self.x = np.array([0, 1])\n",
    "\n",
    "        self.tstep = 0\n",
    "        self.track = 0\n",
    "\n",
    "        self.output = [0]\n",
    "\n",
    "        return self\n"
   ]
  },
  {
   "cell_type": "code",
   "execution_count": null,
   "metadata": {},
   "outputs": [],
   "source": [
    "env = SISO_nmp_modified()"
   ]
  },
  {
   "cell_type": "code",
   "execution_count": null,
   "metadata": {},
   "outputs": [],
   "source": [
    "# Loop for 10 episodes:\n",
    "scores = []\n",
    "for i in range(10):\n",
    "    done = False\n",
    "    env = env.reset()\n",
    "    score = 0\n",
    "\n",
    "    while not done:\n",
    "        action = env.action_space.sample()\n",
    "        reward, done, next = env.step(action, done)\n",
    "\n",
    "        # If not done:\n",
    "        score += reward\n",
    "        env.x = np.hstack(next)\n",
    "        env.tstep += 1\n",
    "\n",
    "    scores.append(score)\n"
   ]
  },
  {
   "cell_type": "code",
   "execution_count": null,
   "metadata": {},
   "outputs": [
    {
     "data": {
      "text/plain": [
       "'3.8.10 (default, May 19 2021, 13:12:57) [MSC v.1916 64 bit (AMD64)]'"
      ]
     },
     "execution_count": 20,
     "metadata": {},
     "output_type": "execute_result"
    }
   ],
   "source": [
    "import sys\n",
    "sys.version"
   ]
  }
 ],
 "metadata": {
  "interpreter": {
   "hash": "c7eb9a86253bbd4d23c13a0227d914c126dc3315e454ce3bc071d1b1b0a46f01"
  },
  "kernelspec": {
   "display_name": "Python 3.8.10 64-bit ('rl': conda)",
   "language": "python",
   "name": "python3"
  },
  "language_info": {
   "codemirror_mode": {
    "name": "ipython",
    "version": 3
   },
   "file_extension": ".py",
   "mimetype": "text/x-python",
   "name": "python",
   "nbconvert_exporter": "python",
   "pygments_lexer": "ipython3",
   "version": "3.8.10"
  },
  "orig_nbformat": 4
 },
 "nbformat": 4,
 "nbformat_minor": 2
}
